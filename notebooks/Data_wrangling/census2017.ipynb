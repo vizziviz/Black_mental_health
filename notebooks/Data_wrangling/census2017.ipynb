{
 "cells": [
  {
   "cell_type": "markdown",
   "metadata": {},
   "source": [
    "# Importing Modules and Checking Directory "
   ]
  },
  {
   "cell_type": "code",
   "execution_count": 20,
   "metadata": {},
   "outputs": [],
   "source": [
    "import os\n",
    "import pandas as pd\n",
    "import datetime\n",
    "import seaborn as sns\n",
    "import matplotlib.pyplot as plt\n",
    "import numpy as np\n",
    "%matplotlib inline"
   ]
  },
  {
   "cell_type": "code",
   "execution_count": 21,
   "metadata": {},
   "outputs": [
    {
     "data": {
      "text/plain": [
       "'1.1.5'"
      ]
     },
     "execution_count": 21,
     "metadata": {},
     "output_type": "execute_result"
    }
   ],
   "source": [
    "pd.__version__"
   ]
  },
  {
   "cell_type": "code",
   "execution_count": 22,
   "metadata": {},
   "outputs": [
    {
     "data": {
      "text/plain": [
       "'/Users/Livi/Projects/Black_mental_health/notebooks/Data_wrangling'"
      ]
     },
     "execution_count": 22,
     "metadata": {},
     "output_type": "execute_result"
    }
   ],
   "source": [
    "os.getcwd()\n"
   ]
  },
  {
   "cell_type": "markdown",
   "metadata": {},
   "source": [
    "# Uploading Data "
   ]
  },
  {
   "cell_type": "code",
   "execution_count": 23,
   "metadata": {},
   "outputs": [],
   "source": [
    "census = pd.read_csv('../../data/raw/2017acs.csv')"
   ]
  },
  {
   "cell_type": "code",
   "execution_count": 24,
   "metadata": {},
   "outputs": [
    {
     "data": {
      "text/html": [
       "<div>\n",
       "<style scoped>\n",
       "    .dataframe tbody tr th:only-of-type {\n",
       "        vertical-align: middle;\n",
       "    }\n",
       "\n",
       "    .dataframe tbody tr th {\n",
       "        vertical-align: top;\n",
       "    }\n",
       "\n",
       "    .dataframe thead th {\n",
       "        text-align: right;\n",
       "    }\n",
       "</style>\n",
       "<table border=\"1\" class=\"dataframe\">\n",
       "  <thead>\n",
       "    <tr style=\"text-align: right;\">\n",
       "      <th></th>\n",
       "      <th>geo_id</th>\n",
       "      <th>nonfamily_households</th>\n",
       "      <th>family_households</th>\n",
       "      <th>median_year_structure_built</th>\n",
       "      <th>rent_burden_not_computed</th>\n",
       "      <th>rent_over_50_percent</th>\n",
       "      <th>rent_40_to_50_percent</th>\n",
       "      <th>rent_35_to_40_percent</th>\n",
       "      <th>rent_30_to_35_percent</th>\n",
       "      <th>rent_25_to_30_percent</th>\n",
       "      <th>...</th>\n",
       "      <th>speak_only_english_at_home</th>\n",
       "      <th>speak_spanish_at_home</th>\n",
       "      <th>speak_spanish_at_home_low_english</th>\n",
       "      <th>pop_15_and_over</th>\n",
       "      <th>pop_never_married</th>\n",
       "      <th>pop_now_married</th>\n",
       "      <th>pop_separated</th>\n",
       "      <th>pop_widowed</th>\n",
       "      <th>pop_divorced</th>\n",
       "      <th>do_date</th>\n",
       "    </tr>\n",
       "  </thead>\n",
       "  <tbody>\n",
       "    <tr>\n",
       "      <th>0</th>\n",
       "      <td>55111</td>\n",
       "      <td>13</td>\n",
       "      <td>0</td>\n",
       "      <td>2016.0</td>\n",
       "      <td>4</td>\n",
       "      <td>5</td>\n",
       "      <td>0</td>\n",
       "      <td>0</td>\n",
       "      <td>4</td>\n",
       "      <td>0</td>\n",
       "      <td>...</td>\n",
       "      <td>NaN</td>\n",
       "      <td>NaN</td>\n",
       "      <td>NaN</td>\n",
       "      <td>NaN</td>\n",
       "      <td>NaN</td>\n",
       "      <td>NaN</td>\n",
       "      <td>NaN</td>\n",
       "      <td>NaN</td>\n",
       "      <td>NaN</td>\n",
       "      <td>20132017</td>\n",
       "    </tr>\n",
       "    <tr>\n",
       "      <th>1</th>\n",
       "      <td>61112</td>\n",
       "      <td>93</td>\n",
       "      <td>7</td>\n",
       "      <td>2001.0</td>\n",
       "      <td>0</td>\n",
       "      <td>57</td>\n",
       "      <td>15</td>\n",
       "      <td>0</td>\n",
       "      <td>0</td>\n",
       "      <td>0</td>\n",
       "      <td>...</td>\n",
       "      <td>NaN</td>\n",
       "      <td>NaN</td>\n",
       "      <td>NaN</td>\n",
       "      <td>NaN</td>\n",
       "      <td>NaN</td>\n",
       "      <td>NaN</td>\n",
       "      <td>NaN</td>\n",
       "      <td>NaN</td>\n",
       "      <td>NaN</td>\n",
       "      <td>20132017</td>\n",
       "    </tr>\n",
       "    <tr>\n",
       "      <th>2</th>\n",
       "      <td>33856</td>\n",
       "      <td>189</td>\n",
       "      <td>84</td>\n",
       "      <td>1966.0</td>\n",
       "      <td>0</td>\n",
       "      <td>0</td>\n",
       "      <td>59</td>\n",
       "      <td>18</td>\n",
       "      <td>7</td>\n",
       "      <td>62</td>\n",
       "      <td>...</td>\n",
       "      <td>NaN</td>\n",
       "      <td>NaN</td>\n",
       "      <td>NaN</td>\n",
       "      <td>NaN</td>\n",
       "      <td>NaN</td>\n",
       "      <td>NaN</td>\n",
       "      <td>NaN</td>\n",
       "      <td>NaN</td>\n",
       "      <td>NaN</td>\n",
       "      <td>20132017</td>\n",
       "    </tr>\n",
       "    <tr>\n",
       "      <th>3</th>\n",
       "      <td>32079</td>\n",
       "      <td>151</td>\n",
       "      <td>69</td>\n",
       "      <td>1970.0</td>\n",
       "      <td>74</td>\n",
       "      <td>49</td>\n",
       "      <td>3</td>\n",
       "      <td>8</td>\n",
       "      <td>17</td>\n",
       "      <td>20</td>\n",
       "      <td>...</td>\n",
       "      <td>NaN</td>\n",
       "      <td>NaN</td>\n",
       "      <td>NaN</td>\n",
       "      <td>NaN</td>\n",
       "      <td>NaN</td>\n",
       "      <td>NaN</td>\n",
       "      <td>NaN</td>\n",
       "      <td>NaN</td>\n",
       "      <td>NaN</td>\n",
       "      <td>20132017</td>\n",
       "    </tr>\n",
       "    <tr>\n",
       "      <th>4</th>\n",
       "      <td>85633</td>\n",
       "      <td>12</td>\n",
       "      <td>4</td>\n",
       "      <td>1939.0</td>\n",
       "      <td>2</td>\n",
       "      <td>0</td>\n",
       "      <td>0</td>\n",
       "      <td>3</td>\n",
       "      <td>0</td>\n",
       "      <td>0</td>\n",
       "      <td>...</td>\n",
       "      <td>NaN</td>\n",
       "      <td>NaN</td>\n",
       "      <td>NaN</td>\n",
       "      <td>NaN</td>\n",
       "      <td>NaN</td>\n",
       "      <td>NaN</td>\n",
       "      <td>NaN</td>\n",
       "      <td>NaN</td>\n",
       "      <td>NaN</td>\n",
       "      <td>20132017</td>\n",
       "    </tr>\n",
       "  </tbody>\n",
       "</table>\n",
       "<p>5 rows × 252 columns</p>\n",
       "</div>"
      ],
      "text/plain": [
       "   geo_id  nonfamily_households  family_households  \\\n",
       "0   55111                    13                  0   \n",
       "1   61112                    93                  7   \n",
       "2   33856                   189                 84   \n",
       "3   32079                   151                 69   \n",
       "4   85633                    12                  4   \n",
       "\n",
       "   median_year_structure_built  rent_burden_not_computed  \\\n",
       "0                       2016.0                         4   \n",
       "1                       2001.0                         0   \n",
       "2                       1966.0                         0   \n",
       "3                       1970.0                        74   \n",
       "4                       1939.0                         2   \n",
       "\n",
       "   rent_over_50_percent  rent_40_to_50_percent  rent_35_to_40_percent  \\\n",
       "0                     5                      0                      0   \n",
       "1                    57                     15                      0   \n",
       "2                     0                     59                     18   \n",
       "3                    49                      3                      8   \n",
       "4                     0                      0                      3   \n",
       "\n",
       "   rent_30_to_35_percent  rent_25_to_30_percent  ...  \\\n",
       "0                      4                      0  ...   \n",
       "1                      0                      0  ...   \n",
       "2                      7                     62  ...   \n",
       "3                     17                     20  ...   \n",
       "4                      0                      0  ...   \n",
       "\n",
       "   speak_only_english_at_home  speak_spanish_at_home  \\\n",
       "0                         NaN                    NaN   \n",
       "1                         NaN                    NaN   \n",
       "2                         NaN                    NaN   \n",
       "3                         NaN                    NaN   \n",
       "4                         NaN                    NaN   \n",
       "\n",
       "   speak_spanish_at_home_low_english  pop_15_and_over  pop_never_married  \\\n",
       "0                                NaN              NaN                NaN   \n",
       "1                                NaN              NaN                NaN   \n",
       "2                                NaN              NaN                NaN   \n",
       "3                                NaN              NaN                NaN   \n",
       "4                                NaN              NaN                NaN   \n",
       "\n",
       "   pop_now_married  pop_separated  pop_widowed  pop_divorced   do_date  \n",
       "0              NaN            NaN          NaN           NaN  20132017  \n",
       "1              NaN            NaN          NaN           NaN  20132017  \n",
       "2              NaN            NaN          NaN           NaN  20132017  \n",
       "3              NaN            NaN          NaN           NaN  20132017  \n",
       "4              NaN            NaN          NaN           NaN  20132017  \n",
       "\n",
       "[5 rows x 252 columns]"
      ]
     },
     "execution_count": 24,
     "metadata": {},
     "output_type": "execute_result"
    }
   ],
   "source": [
    "census.head()"
   ]
  },
  {
   "cell_type": "markdown",
   "metadata": {},
   "source": [
    "checkpoint2"
   ]
  },
  {
   "cell_type": "code",
   "execution_count": 25,
   "metadata": {},
   "outputs": [],
   "source": [
    "checkpoint2 = census.copy()"
   ]
  },
  {
   "cell_type": "code",
   "execution_count": 26,
   "metadata": {},
   "outputs": [
    {
     "data": {
      "text/plain": [
       "['total_pop',\n",
       " 'male_pop',\n",
       " 'female_pop',\n",
       " 'white_pop',\n",
       " 'black_pop',\n",
       " 'asian_pop',\n",
       " 'hispanic_pop',\n",
       " 'amerindian_pop',\n",
       " 'other_race_pop',\n",
       " 'two_or_more_races_pop',\n",
       " 'not_hispanic_pop',\n",
       " 'employed_pop',\n",
       " 'unemployed_pop',\n",
       " 'pop_16_over',\n",
       " 'pop_in_labor_force',\n",
       " 'not_us_citizen_pop',\n",
       " 'pop_25_64',\n",
       " 'pop_determined_poverty_status',\n",
       " 'population_1_year_and_over',\n",
       " 'population_3_years_over',\n",
       " 'pop_25_years_over',\n",
       " 'pop_5_years_over',\n",
       " 'pop_15_and_over',\n",
       " 'pop_never_married',\n",
       " 'pop_now_married',\n",
       " 'pop_separated',\n",
       " 'pop_widowed',\n",
       " 'pop_divorced']"
      ]
     },
     "execution_count": 26,
     "metadata": {},
     "output_type": "execute_result"
    }
   ],
   "source": [
    "list(census.columns[census.columns.str.contains('pop')])"
   ]
  },
  {
   "cell_type": "code",
   "execution_count": 27,
   "metadata": {},
   "outputs": [
    {
     "data": {
      "text/plain": [
       "['rent_burden_not_computed',\n",
       " 'rent_over_50_percent',\n",
       " 'rent_40_to_50_percent',\n",
       " 'rent_35_to_40_percent',\n",
       " 'rent_30_to_35_percent',\n",
       " 'rent_25_to_30_percent',\n",
       " 'rent_20_to_25_percent',\n",
       " 'rent_15_to_20_percent',\n",
       " 'rent_10_to_15_percent',\n",
       " 'rent_under_10_percent',\n",
       " 'median_income',\n",
       " 'income_per_capita',\n",
       " 'vacant_housing_units_for_rent',\n",
       " 'median_rent',\n",
       " 'percent_income_spent_on_rent',\n",
       " 'two_parent_families_with_young_children',\n",
       " 'two_parents_in_labor_force_families_with_young_children',\n",
       " 'two_parents_father_in_labor_force_families_with_young_children',\n",
       " 'two_parents_mother_in_labor_force_families_with_young_children',\n",
       " 'two_parents_not_in_labor_force_families_with_young_children',\n",
       " 'one_parent_families_with_young_children',\n",
       " 'father_one_parent_families_with_young_children',\n",
       " 'father_in_labor_force_one_parent_families_with_young_children',\n",
       " 'income_less_10000',\n",
       " 'income_10000_14999',\n",
       " 'income_15000_19999',\n",
       " 'income_20000_24999',\n",
       " 'income_25000_29999',\n",
       " 'income_30000_34999',\n",
       " 'income_35000_39999',\n",
       " 'income_40000_44999',\n",
       " 'income_45000_49999',\n",
       " 'income_50000_59999',\n",
       " 'income_60000_74999',\n",
       " 'income_75000_99999',\n",
       " 'income_100000_124999',\n",
       " 'income_125000_149999',\n",
       " 'income_150000_199999',\n",
       " 'income_200000_or_more',\n",
       " 'renter_occupied_housing_units_paying_cash_median_gross_rent',\n",
       " 'housing_units_renter_occupied',\n",
       " 'households_retirement_income',\n",
       " 'different_house_year_ago_different_city',\n",
       " 'different_house_year_ago_same_city']"
      ]
     },
     "execution_count": 27,
     "metadata": {},
     "output_type": "execute_result"
    }
   ],
   "source": [
    "list(census.columns[census.columns.str.contains('rent|income', regex=True)])"
   ]
  },
  {
   "cell_type": "markdown",
   "metadata": {},
   "source": [
    "How many zips are missing aggregate information on income or rent that could help determine the cost of living per zip?"
   ]
  },
  {
   "cell_type": "code",
   "execution_count": 28,
   "metadata": {},
   "outputs": [
    {
     "data": {
      "text/plain": [
       "median_income        2164\n",
       "income_per_capita     642\n",
       "median_rent          6102\n",
       "dtype: int64"
      ]
     },
     "execution_count": 28,
     "metadata": {},
     "output_type": "execute_result"
    }
   ],
   "source": [
    "cols = ['median_income', 'income_per_capita',\n",
    " 'median_rent',]\n",
    "census[cols].isnull().sum()"
   ]
  },
  {
   "cell_type": "markdown",
   "metadata": {},
   "source": [
    "642 is a low number of zip codes (out of 30,000) but it would skew my data of providers to have to remove all providers in these 642 zips. A future version of this project could impute income_per_capita in these zips to include income data in my models"
   ]
  },
  {
   "cell_type": "code",
   "execution_count": 29,
   "metadata": {},
   "outputs": [],
   "source": [
    "cols =['geo_id','total_pop',\n",
    " 'white_pop',\n",
    " 'black_pop',\n",
    " 'asian_pop',\n",
    " 'hispanic_pop',\n",
    " 'amerindian_pop',\n",
    " 'other_race_pop',\n",
    " 'two_or_more_races_pop','do_date']"
   ]
  },
  {
   "cell_type": "code",
   "execution_count": 30,
   "metadata": {},
   "outputs": [],
   "source": [
    "census = census[cols]"
   ]
  },
  {
   "cell_type": "code",
   "execution_count": 31,
   "metadata": {},
   "outputs": [
    {
     "data": {
      "text/html": [
       "<div>\n",
       "<style scoped>\n",
       "    .dataframe tbody tr th:only-of-type {\n",
       "        vertical-align: middle;\n",
       "    }\n",
       "\n",
       "    .dataframe tbody tr th {\n",
       "        vertical-align: top;\n",
       "    }\n",
       "\n",
       "    .dataframe thead th {\n",
       "        text-align: right;\n",
       "    }\n",
       "</style>\n",
       "<table border=\"1\" class=\"dataframe\">\n",
       "  <thead>\n",
       "    <tr style=\"text-align: right;\">\n",
       "      <th></th>\n",
       "      <th>data type</th>\n",
       "      <th>non-null values</th>\n",
       "      <th>unique values</th>\n",
       "      <th>null values</th>\n",
       "    </tr>\n",
       "  </thead>\n",
       "  <tbody>\n",
       "    <tr>\n",
       "      <th>geo_id</th>\n",
       "      <td>int64</td>\n",
       "      <td>33120</td>\n",
       "      <td>33120</td>\n",
       "      <td>0</td>\n",
       "    </tr>\n",
       "    <tr>\n",
       "      <th>total_pop</th>\n",
       "      <td>int64</td>\n",
       "      <td>33120</td>\n",
       "      <td>15566</td>\n",
       "      <td>0</td>\n",
       "    </tr>\n",
       "    <tr>\n",
       "      <th>white_pop</th>\n",
       "      <td>int64</td>\n",
       "      <td>33120</td>\n",
       "      <td>13181</td>\n",
       "      <td>0</td>\n",
       "    </tr>\n",
       "    <tr>\n",
       "      <th>black_pop</th>\n",
       "      <td>int64</td>\n",
       "      <td>33120</td>\n",
       "      <td>5320</td>\n",
       "      <td>0</td>\n",
       "    </tr>\n",
       "    <tr>\n",
       "      <th>asian_pop</th>\n",
       "      <td>int64</td>\n",
       "      <td>33120</td>\n",
       "      <td>3489</td>\n",
       "      <td>0</td>\n",
       "    </tr>\n",
       "    <tr>\n",
       "      <th>hispanic_pop</th>\n",
       "      <td>int64</td>\n",
       "      <td>33120</td>\n",
       "      <td>6095</td>\n",
       "      <td>0</td>\n",
       "    </tr>\n",
       "    <tr>\n",
       "      <th>amerindian_pop</th>\n",
       "      <td>int64</td>\n",
       "      <td>33120</td>\n",
       "      <td>1063</td>\n",
       "      <td>0</td>\n",
       "    </tr>\n",
       "    <tr>\n",
       "      <th>other_race_pop</th>\n",
       "      <td>int64</td>\n",
       "      <td>33120</td>\n",
       "      <td>536</td>\n",
       "      <td>0</td>\n",
       "    </tr>\n",
       "    <tr>\n",
       "      <th>two_or_more_races_pop</th>\n",
       "      <td>int64</td>\n",
       "      <td>33120</td>\n",
       "      <td>2050</td>\n",
       "      <td>0</td>\n",
       "    </tr>\n",
       "    <tr>\n",
       "      <th>do_date</th>\n",
       "      <td>int64</td>\n",
       "      <td>33120</td>\n",
       "      <td>1</td>\n",
       "      <td>0</td>\n",
       "    </tr>\n",
       "  </tbody>\n",
       "</table>\n",
       "</div>"
      ],
      "text/plain": [
       "                      data type  non-null values  unique values  null values\n",
       "geo_id                    int64            33120          33120            0\n",
       "total_pop                 int64            33120          15566            0\n",
       "white_pop                 int64            33120          13181            0\n",
       "black_pop                 int64            33120           5320            0\n",
       "asian_pop                 int64            33120           3489            0\n",
       "hispanic_pop              int64            33120           6095            0\n",
       "amerindian_pop            int64            33120           1063            0\n",
       "other_race_pop            int64            33120            536            0\n",
       "two_or_more_races_pop     int64            33120           2050            0\n",
       "do_date                   int64            33120              1            0"
      ]
     },
     "execution_count": 31,
     "metadata": {},
     "output_type": "execute_result"
    }
   ],
   "source": [
    "info = pd.DataFrame(index=census.columns.values,\n",
    "                    data={'data type': census.dtypes, \\\n",
    "                          'non-null values': census.notnull().sum(),\n",
    "                          'unique values': census.nunique(), \\\n",
    "                          'null values': census.isnull().sum()})\n",
    "info.sort_values('non-null values').head(30)"
   ]
  },
  {
   "cell_type": "markdown",
   "metadata": {},
   "source": [
    "# Checking Data Types"
   ]
  },
  {
   "cell_type": "markdown",
   "metadata": {},
   "source": [
    "All columns in Census besides Geo_id should be 'int' or 'float.' I want to see what is listed as object."
   ]
  },
  {
   "cell_type": "code",
   "execution_count": 32,
   "metadata": {},
   "outputs": [
    {
     "data": {
      "text/html": [
       "<div>\n",
       "<style scoped>\n",
       "    .dataframe tbody tr th:only-of-type {\n",
       "        vertical-align: middle;\n",
       "    }\n",
       "\n",
       "    .dataframe tbody tr th {\n",
       "        vertical-align: top;\n",
       "    }\n",
       "\n",
       "    .dataframe thead th {\n",
       "        text-align: right;\n",
       "    }\n",
       "</style>\n",
       "<table border=\"1\" class=\"dataframe\">\n",
       "  <thead>\n",
       "    <tr style=\"text-align: right;\">\n",
       "      <th></th>\n",
       "    </tr>\n",
       "  </thead>\n",
       "  <tbody>\n",
       "    <tr>\n",
       "      <th>0</th>\n",
       "    </tr>\n",
       "  </tbody>\n",
       "</table>\n",
       "</div>"
      ],
      "text/plain": [
       "Empty DataFrame\n",
       "Columns: []\n",
       "Index: [0]"
      ]
     },
     "execution_count": 32,
     "metadata": {},
     "output_type": "execute_result"
    }
   ],
   "source": [
    "census.select_dtypes('object').head(1)"
   ]
  },
  {
   "cell_type": "code",
   "execution_count": 33,
   "metadata": {},
   "outputs": [
    {
     "data": {
      "text/plain": [
       "0        20132017\n",
       "1        20132017\n",
       "2        20132017\n",
       "3        20132017\n",
       "4        20132017\n",
       "           ...   \n",
       "33115    20132017\n",
       "33116    20132017\n",
       "33117    20132017\n",
       "33118    20132017\n",
       "33119    20132017\n",
       "Name: do_date, Length: 33120, dtype: int64"
      ]
     },
     "execution_count": 33,
     "metadata": {},
     "output_type": "execute_result"
    }
   ],
   "source": [
    "census.do_date"
   ]
  },
  {
   "cell_type": "markdown",
   "metadata": {},
   "source": [
    "There's a column called do_date that includes the years used to make the estimate Census measures. I'm going to keep that last four digits which represent the year being estimated."
   ]
  },
  {
   "cell_type": "code",
   "execution_count": 34,
   "metadata": {},
   "outputs": [
    {
     "data": {
      "text/plain": [
       "0       2017-01-01\n",
       "1       2017-01-01\n",
       "2       2017-01-01\n",
       "3       2017-01-01\n",
       "4       2017-01-01\n",
       "           ...    \n",
       "33115   2017-01-01\n",
       "33116   2017-01-01\n",
       "33117   2017-01-01\n",
       "33118   2017-01-01\n",
       "33119   2017-01-01\n",
       "Name: do_date, Length: 33120, dtype: datetime64[ns]"
      ]
     },
     "execution_count": 34,
     "metadata": {},
     "output_type": "execute_result"
    }
   ],
   "source": [
    "census.do_date = census.do_date.apply(lambda x: str(x)[-4:])\n",
    "census.do_date = pd.to_datetime(census.do_date, format='%Y')\n",
    "census.do_date"
   ]
  },
  {
   "cell_type": "code",
   "execution_count": 35,
   "metadata": {},
   "outputs": [],
   "source": [
    "census.to_csv('../../data/processed/2017pops.csv')"
   ]
  },
  {
   "cell_type": "code",
   "execution_count": null,
   "metadata": {},
   "outputs": [],
   "source": []
  }
 ],
 "metadata": {
  "kernelspec": {
   "display_name": "Python 3",
   "language": "python",
   "name": "python3"
  },
  "language_info": {
   "codemirror_mode": {
    "name": "ipython",
    "version": 3
   },
   "file_extension": ".py",
   "mimetype": "text/x-python",
   "name": "python",
   "nbconvert_exporter": "python",
   "pygments_lexer": "ipython3",
   "version": "3.7.7"
  }
 },
 "nbformat": 4,
 "nbformat_minor": 4
}
