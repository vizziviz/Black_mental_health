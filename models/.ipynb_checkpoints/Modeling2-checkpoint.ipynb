{
 "cells": [
  {
   "cell_type": "markdown",
   "metadata": {},
   "source": [
    "After all, the fundamental reason we build predictive machine learning models is typically to model what would happen under a particular set of circumstances which have either not yet occurred or have occurred but for which we do not know the actual result.\n",
    "\n",
    "\tHyperparameter tuning?\n",
    "\tShould I do BOTH data_with_paymentcols and data_without_paymentcols?\n",
    "\tLook at feature importances:\n",
    "        barchart for top x features or all features with coefficient > y. \n",
    "        How can I find the p-value for features? Is that only in regression?\n",
    "\tDo Ridge Regression and Lasso Regression.\n",
    "\t\tBarchart for top features\n",
    "\tMake DataFrame with top features for my model, Lasso Regression, and Ridge Regression (or model and Ridge)\n",
    "\tMake inferences: \n",
    "\t\tDoes race show up in these features? Where?\n",
    "\t\tHow do I interpret differences in RATES distinct from differences in CHARGES? A city doctor should CHARGE more, but should his rate b higher?\n",
    "        Or should a rural (lowpop) doctor have higher rates bc he might charge less?\n",
    "        Or might city doctors be cheap Public Health providers /Flu shots, thus paid in full?\n",
    "\n",
    "    Look at extreme mistakes:\n",
    "    Providers marked low but actually v high. Providers marked v high but actually low: barcharts of types of providers, racial majority, regions, subregions, histogram of submitted charges OR medicare payments, histogram of payment/service, histogram of payment/person. Boxplots of percent black / white / hispanic / asian for false very-highs and for false-lows\n",
    "\n"
   ]
  },
  {
   "cell_type": "markdown",
   "metadata": {},
   "source": [
    "# Importing Modules and Checking Directory "
   ]
  },
  {
   "cell_type": "code",
   "execution_count": 1,
   "metadata": {},
   "outputs": [],
   "source": [
    "import os\n",
    "import pandas as pd\n",
    "import datetime\n",
    "import seaborn as sns\n",
    "import matplotlib.pyplot as plt\n",
    "import numpy as np\n",
    "%matplotlib inline"
   ]
  },
  {
   "cell_type": "code",
   "execution_count": 2,
   "metadata": {},
   "outputs": [
    {
     "data": {
      "text/plain": [
       "'1.1.5'"
      ]
     },
     "execution_count": 2,
     "metadata": {},
     "output_type": "execute_result"
    }
   ],
   "source": [
    "pd.__version__"
   ]
  },
  {
   "cell_type": "code",
   "execution_count": 3,
   "metadata": {},
   "outputs": [
    {
     "data": {
      "text/plain": [
       "'/Users/Livi/Projects/Black_mental_health/models'"
      ]
     },
     "execution_count": 3,
     "metadata": {},
     "output_type": "execute_result"
    }
   ],
   "source": [
    "os.getcwd()\n"
   ]
  },
  {
   "cell_type": "code",
   "execution_count": 4,
   "metadata": {},
   "outputs": [
    {
     "name": "stderr",
     "output_type": "stream",
     "text": [
      "/Users/Livi/opt/anaconda3/envs/springboard/lib/python3.7/site-packages/numpy/lib/arraysetops.py:569: FutureWarning: elementwise comparison failed; returning scalar instead, but in the future will perform elementwise comparison\n",
      "  mask |= (ar1 == a)\n"
     ]
    },
    {
     "data": {
      "text/html": [
       "<div>\n",
       "<style scoped>\n",
       "    .dataframe tbody tr th:only-of-type {\n",
       "        vertical-align: middle;\n",
       "    }\n",
       "\n",
       "    .dataframe tbody tr th {\n",
       "        vertical-align: top;\n",
       "    }\n",
       "\n",
       "    .dataframe thead th {\n",
       "        text-align: right;\n",
       "    }\n",
       "</style>\n",
       "<table border=\"1\" class=\"dataframe\">\n",
       "  <thead>\n",
       "    <tr style=\"text-align: right;\">\n",
       "      <th></th>\n",
       "      <th>number_of_hcpcs</th>\n",
       "      <th>number_of_services</th>\n",
       "      <th>total_beneficiaries</th>\n",
       "      <th>total_submitted_charges</th>\n",
       "      <th>total_allowed_payment</th>\n",
       "      <th>avg_beneficiary_age</th>\n",
       "      <th>avg_hcc_risk_score</th>\n",
       "      <th>submitted_charges_per_person</th>\n",
       "      <th>services_per_person</th>\n",
       "      <th>submitted_charges_per_service</th>\n",
       "      <th>...</th>\n",
       "      <th>subregion_Pacific</th>\n",
       "      <th>subregion_South Atlantic</th>\n",
       "      <th>subregion_West North Central</th>\n",
       "      <th>subregion_West South Central</th>\n",
       "      <th>majority_asian</th>\n",
       "      <th>majority_black</th>\n",
       "      <th>majority_hispanic</th>\n",
       "      <th>majority_native_amer</th>\n",
       "      <th>majority_white</th>\n",
       "      <th>no_majority</th>\n",
       "    </tr>\n",
       "  </thead>\n",
       "  <tbody>\n",
       "    <tr>\n",
       "      <th>0</th>\n",
       "      <td>-0.003948</td>\n",
       "      <td>0.540055</td>\n",
       "      <td>0.851671</td>\n",
       "      <td>1.196155</td>\n",
       "      <td>0.809928</td>\n",
       "      <td>0.998501</td>\n",
       "      <td>1.105662</td>\n",
       "      <td>0.871076</td>\n",
       "      <td>-0.119979</td>\n",
       "      <td>1.063762</td>\n",
       "      <td>...</td>\n",
       "      <td>-0.378901</td>\n",
       "      <td>2.036056</td>\n",
       "      <td>-0.285347</td>\n",
       "      <td>-0.331112</td>\n",
       "      <td>-0.0744</td>\n",
       "      <td>-0.225179</td>\n",
       "      <td>-0.234267</td>\n",
       "      <td>-0.033669</td>\n",
       "      <td>0.585053</td>\n",
       "      <td>-0.416918</td>\n",
       "    </tr>\n",
       "    <tr>\n",
       "      <th>1</th>\n",
       "      <td>-0.170174</td>\n",
       "      <td>0.576787</td>\n",
       "      <td>1.015528</td>\n",
       "      <td>0.573919</td>\n",
       "      <td>0.880436</td>\n",
       "      <td>2.139463</td>\n",
       "      <td>0.994263</td>\n",
       "      <td>-0.276118</td>\n",
       "      <td>-0.317600</td>\n",
       "      <td>0.179416</td>\n",
       "      <td>...</td>\n",
       "      <td>-0.378901</td>\n",
       "      <td>2.036056</td>\n",
       "      <td>-0.285347</td>\n",
       "      <td>-0.331112</td>\n",
       "      <td>-0.0744</td>\n",
       "      <td>-0.225179</td>\n",
       "      <td>-0.234267</td>\n",
       "      <td>-0.033669</td>\n",
       "      <td>0.585053</td>\n",
       "      <td>-0.416918</td>\n",
       "    </tr>\n",
       "    <tr>\n",
       "      <th>2</th>\n",
       "      <td>-1.402499</td>\n",
       "      <td>-1.478753</td>\n",
       "      <td>-2.032970</td>\n",
       "      <td>-2.079729</td>\n",
       "      <td>-2.198979</td>\n",
       "      <td>-1.181247</td>\n",
       "      <td>-1.398919</td>\n",
       "      <td>-1.041626</td>\n",
       "      <td>0.565058</td>\n",
       "      <td>-1.326987</td>\n",
       "      <td>...</td>\n",
       "      <td>-0.378901</td>\n",
       "      <td>2.036056</td>\n",
       "      <td>-0.285347</td>\n",
       "      <td>-0.331112</td>\n",
       "      <td>-0.0744</td>\n",
       "      <td>4.440915</td>\n",
       "      <td>-0.234267</td>\n",
       "      <td>-0.033669</td>\n",
       "      <td>-1.709248</td>\n",
       "      <td>-0.416918</td>\n",
       "    </tr>\n",
       "    <tr>\n",
       "      <th>3</th>\n",
       "      <td>0.447350</td>\n",
       "      <td>1.158778</td>\n",
       "      <td>1.311877</td>\n",
       "      <td>1.152199</td>\n",
       "      <td>1.518093</td>\n",
       "      <td>1.833739</td>\n",
       "      <td>-0.416924</td>\n",
       "      <td>0.242840</td>\n",
       "      <td>0.442297</td>\n",
       "      <td>0.106138</td>\n",
       "      <td>...</td>\n",
       "      <td>-0.378901</td>\n",
       "      <td>2.036056</td>\n",
       "      <td>-0.285347</td>\n",
       "      <td>-0.331112</td>\n",
       "      <td>-0.0744</td>\n",
       "      <td>-0.225179</td>\n",
       "      <td>-0.234267</td>\n",
       "      <td>-0.033669</td>\n",
       "      <td>-1.709248</td>\n",
       "      <td>2.398553</td>\n",
       "    </tr>\n",
       "    <tr>\n",
       "      <th>4</th>\n",
       "      <td>0.139490</td>\n",
       "      <td>-0.443103</td>\n",
       "      <td>-0.613947</td>\n",
       "      <td>-0.657554</td>\n",
       "      <td>-0.357803</td>\n",
       "      <td>-0.706375</td>\n",
       "      <td>1.649911</td>\n",
       "      <td>-0.268393</td>\n",
       "      <td>0.241994</td>\n",
       "      <td>-0.223406</td>\n",
       "      <td>...</td>\n",
       "      <td>-0.378901</td>\n",
       "      <td>2.036056</td>\n",
       "      <td>-0.285347</td>\n",
       "      <td>-0.331112</td>\n",
       "      <td>-0.0744</td>\n",
       "      <td>-0.225179</td>\n",
       "      <td>-0.234267</td>\n",
       "      <td>-0.033669</td>\n",
       "      <td>-1.709248</td>\n",
       "      <td>2.398553</td>\n",
       "    </tr>\n",
       "  </tbody>\n",
       "</table>\n",
       "<p>5 rows × 191 columns</p>\n",
       "</div>"
      ],
      "text/plain": [
       "   number_of_hcpcs  number_of_services  total_beneficiaries  \\\n",
       "0        -0.003948            0.540055             0.851671   \n",
       "1        -0.170174            0.576787             1.015528   \n",
       "2        -1.402499           -1.478753            -2.032970   \n",
       "3         0.447350            1.158778             1.311877   \n",
       "4         0.139490           -0.443103            -0.613947   \n",
       "\n",
       "   total_submitted_charges  total_allowed_payment  avg_beneficiary_age  \\\n",
       "0                 1.196155               0.809928             0.998501   \n",
       "1                 0.573919               0.880436             2.139463   \n",
       "2                -2.079729              -2.198979            -1.181247   \n",
       "3                 1.152199               1.518093             1.833739   \n",
       "4                -0.657554              -0.357803            -0.706375   \n",
       "\n",
       "   avg_hcc_risk_score  submitted_charges_per_person  services_per_person  \\\n",
       "0            1.105662                      0.871076            -0.119979   \n",
       "1            0.994263                     -0.276118            -0.317600   \n",
       "2           -1.398919                     -1.041626             0.565058   \n",
       "3           -0.416924                      0.242840             0.442297   \n",
       "4            1.649911                     -0.268393             0.241994   \n",
       "\n",
       "   submitted_charges_per_service  ...  subregion_Pacific  \\\n",
       "0                       1.063762  ...          -0.378901   \n",
       "1                       0.179416  ...          -0.378901   \n",
       "2                      -1.326987  ...          -0.378901   \n",
       "3                       0.106138  ...          -0.378901   \n",
       "4                      -0.223406  ...          -0.378901   \n",
       "\n",
       "   subregion_South Atlantic  subregion_West North Central  \\\n",
       "0                  2.036056                     -0.285347   \n",
       "1                  2.036056                     -0.285347   \n",
       "2                  2.036056                     -0.285347   \n",
       "3                  2.036056                     -0.285347   \n",
       "4                  2.036056                     -0.285347   \n",
       "\n",
       "   subregion_West South Central  majority_asian  majority_black  \\\n",
       "0                     -0.331112         -0.0744       -0.225179   \n",
       "1                     -0.331112         -0.0744       -0.225179   \n",
       "2                     -0.331112         -0.0744        4.440915   \n",
       "3                     -0.331112         -0.0744       -0.225179   \n",
       "4                     -0.331112         -0.0744       -0.225179   \n",
       "\n",
       "   majority_hispanic  majority_native_amer  majority_white  no_majority  \n",
       "0          -0.234267             -0.033669        0.585053    -0.416918  \n",
       "1          -0.234267             -0.033669        0.585053    -0.416918  \n",
       "2          -0.234267             -0.033669       -1.709248    -0.416918  \n",
       "3          -0.234267             -0.033669       -1.709248     2.398553  \n",
       "4          -0.234267             -0.033669       -1.709248     2.398553  \n",
       "\n",
       "[5 rows x 191 columns]"
      ]
     },
     "execution_count": 4,
     "metadata": {},
     "output_type": "execute_result"
    }
   ],
   "source": [
    "X = pd.read_csv('../data/processed/feature_matrix_scaled_PT.csv', index_col=0)\n",
    "X.head()"
   ]
  },
  {
   "cell_type": "code",
   "execution_count": 5,
   "metadata": {},
   "outputs": [
    {
     "name": "stderr",
     "output_type": "stream",
     "text": [
      "/Users/Livi/opt/anaconda3/envs/springboard/lib/python3.7/site-packages/numpy/lib/arraysetops.py:569: FutureWarning: elementwise comparison failed; returning scalar instead, but in the future will perform elementwise comparison\n",
      "  mask |= (ar1 == a)\n"
     ]
    },
    {
     "data": {
      "text/html": [
       "<div>\n",
       "<style scoped>\n",
       "    .dataframe tbody tr th:only-of-type {\n",
       "        vertical-align: middle;\n",
       "    }\n",
       "\n",
       "    .dataframe tbody tr th {\n",
       "        vertical-align: top;\n",
       "    }\n",
       "\n",
       "    .dataframe thead th {\n",
       "        text-align: right;\n",
       "    }\n",
       "</style>\n",
       "<table border=\"1\" class=\"dataframe\">\n",
       "  <thead>\n",
       "    <tr style=\"text-align: right;\">\n",
       "      <th></th>\n",
       "      <th>payrate_level</th>\n",
       "    </tr>\n",
       "  </thead>\n",
       "  <tbody>\n",
       "    <tr>\n",
       "      <th>0</th>\n",
       "      <td>low</td>\n",
       "    </tr>\n",
       "    <tr>\n",
       "      <th>1</th>\n",
       "      <td>high</td>\n",
       "    </tr>\n",
       "    <tr>\n",
       "      <th>2</th>\n",
       "      <td>medium</td>\n",
       "    </tr>\n",
       "    <tr>\n",
       "      <th>3</th>\n",
       "      <td>medium</td>\n",
       "    </tr>\n",
       "    <tr>\n",
       "      <th>4</th>\n",
       "      <td>high</td>\n",
       "    </tr>\n",
       "  </tbody>\n",
       "</table>\n",
       "</div>"
      ],
      "text/plain": [
       "  payrate_level\n",
       "0           low\n",
       "1          high\n",
       "2        medium\n",
       "3        medium\n",
       "4          high"
      ]
     },
     "execution_count": 5,
     "metadata": {},
     "output_type": "execute_result"
    }
   ],
   "source": [
    "y = pd.read_csv('../data/processed/target_array.csv', index_col=0)\n",
    "y.head()"
   ]
  },
  {
   "cell_type": "code",
   "execution_count": 6,
   "metadata": {},
   "outputs": [
    {
     "data": {
      "text/plain": [
       "((1072142, 191), (1072142, 1))"
      ]
     },
     "execution_count": 6,
     "metadata": {},
     "output_type": "execute_result"
    }
   ],
   "source": [
    "X.shape, y.shape"
   ]
  },
  {
   "cell_type": "markdown",
   "metadata": {},
   "source": [
    "    The best performing models in my Preprocessing step were SVM (only when data was scaled) and Logistic Regression (a little better performance also when data was scaled).\n",
    "    I'll be including both of these in this Modeling notebook to compare the important features."
   ]
  },
  {
   "cell_type": "code",
   "execution_count": 7,
   "metadata": {},
   "outputs": [],
   "source": [
    "from sklearn.model_selection import train_test_split\n",
    "\n",
    "X_train, X_test, y_train, y_test = train_test_split(X.values[:100000], y.values.ravel()[:100000], test_size = 0.2, random_state=2)"
   ]
  },
  {
   "cell_type": "code",
   "execution_count": 8,
   "metadata": {},
   "outputs": [
    {
     "data": {
      "text/plain": [
       "((80000, 191), (80000,))"
      ]
     },
     "execution_count": 8,
     "metadata": {},
     "output_type": "execute_result"
    }
   ],
   "source": [
    "X_train.shape, y_train.shape"
   ]
  },
  {
   "cell_type": "code",
   "execution_count": 9,
   "metadata": {},
   "outputs": [],
   "source": [
    "import time\n",
    "from sklearn.model_selection import cross_val_score\n",
    "from sklearn.metrics import f1_score, make_scorer, precision_score, recall_score\n"
   ]
  },
  {
   "cell_type": "markdown",
   "metadata": {},
   "source": [
    "SVC"
   ]
  },
  {
   "cell_type": "code",
   "execution_count": 10,
   "metadata": {},
   "outputs": [
    {
     "name": "stdout",
     "output_type": "stream",
     "text": [
      "Time: 11.375024648507436 minutes\n"
     ]
    }
   ],
   "source": [
    "from sklearn.svm import SVC\n",
    "#from sklearn.ensemble import BaggingClassifier\n",
    "#n_estimators = 10\n",
    "#svc = BaggingClassifier(SVC(kernel='linear'), max_samples = 1.0/n_estimators, n_estimators=n_estimators, n_jobs=-1, bootstrap=False)\n",
    "\n",
    "start =  time.time()\n",
    "\n",
    "svc = SVC(kernel='linear')\n",
    "\n",
    "svc.fit(X_train, y_train)\n",
    "end = time.time()\n",
    "\n",
    "print('Time:', (end-start)/60, 'minutes')"
   ]
  },
  {
   "cell_type": "code",
   "execution_count": 11,
   "metadata": {},
   "outputs": [
    {
     "name": "stdout",
     "output_type": "stream",
     "text": [
      "Time: 1.0247686386108399 minutes\n"
     ]
    }
   ],
   "source": [
    "start =  time.time()\n",
    "\n",
    "ypred_svc = svc.predict(X_test)\n",
    "\n",
    "end = time.time()\n",
    "print('Time:', (end-start)/60, 'minutes')"
   ]
  },
  {
   "cell_type": "code",
   "execution_count": 12,
   "metadata": {},
   "outputs": [],
   "source": [
    "f1_svc = f1_score(y_test, ypred_svc, average='weighted')\n",
    "recall_svc = recall_score(y_test, ypred_svc, average='weighted')\n",
    "precision_svc = precision_score(y_test, ypred_svc, average='weighted')"
   ]
  },
  {
   "cell_type": "code",
   "execution_count": 13,
   "metadata": {},
   "outputs": [
    {
     "name": "stdout",
     "output_type": "stream",
     "text": [
      "Time: 1.0160921136538188 minutes\n"
     ]
    },
    {
     "data": {
      "text/plain": [
       "<Figure size 1440x1440 with 0 Axes>"
      ]
     },
     "metadata": {},
     "output_type": "display_data"
    },
    {
     "data": {
      "image/png": "[encoded data removed]",
      "text/plain": [
       "<Figure size 432x288 with 2 Axes>"
      ]
     },
     "metadata": {
      "needs_background": "light"
     },
     "output_type": "display_data"
    }
   ],
   "source": [
    "from sklearn.metrics import plot_confusion_matrix\n",
    "\n",
    "start = time.time()\n",
    "\n",
    "plt.figure(figsize=(20,20))\n",
    "\n",
    "plot_confusion_matrix(svc, X_test, y_test)\n",
    "\n",
    "end=time.time()\n",
    "print('Time:', (end-start)/60, 'minutes')"
   ]
  },
  {
   "cell_type": "markdown",
   "metadata": {},
   "source": [
    "Logistic Regression, using solver='sag' to improve speed"
   ]
  },
  {
   "cell_type": "code",
   "execution_count": 19,
   "metadata": {},
   "outputs": [
    {
     "name": "stdout",
     "output_type": "stream",
     "text": [
      "Time: 0.3455272833506266 minutes\n"
     ]
    }
   ],
   "source": [
    "from sklearn.linear_model import LogisticRegression\n",
    "\n",
    "start =  time.time()\n",
    "\n",
    "lr = LogisticRegression(n_jobs=-1)\n",
    "\n",
    "lr.fit(X_train, y_train)\n",
    "end = time.time()\n",
    "\n",
    "print('Time:', (end-start)/60, 'minutes')"
   ]
  },
  {
   "cell_type": "code",
   "execution_count": 20,
   "metadata": {},
   "outputs": [
    {
     "name": "stdout",
     "output_type": "stream",
     "text": [
      "Time: 0.000811314582824707 minutes\n"
     ]
    }
   ],
   "source": [
    "start =  time.time()\n",
    "\n",
    "ypred_lr = lr.predict(X_test)\n",
    "\n",
    "end = time.time()\n",
    "print('Time:', (end-start)/60, 'minutes')"
   ]
  },
  {
   "cell_type": "code",
   "execution_count": 21,
   "metadata": {},
   "outputs": [
    {
     "name": "stdout",
     "output_type": "stream",
     "text": [
      "0.9336442100605981 0.93375 0.9339985518636946\n"
     ]
    }
   ],
   "source": [
    "f1_lr = f1_score(y_test, ypred_lr, average='weighted')\n",
    "recall_lr = recall_score(y_test, ypred_lr, average='weighted')\n",
    "precision_lr = precision_score(y_test, ypred_lr, average='weighted')\n",
    "print(f1_lr, recall_lr, precision_lr)"
   ]
  },
  {
   "cell_type": "code",
   "execution_count": 22,
   "metadata": {},
   "outputs": [
    {
     "name": "stdout",
     "output_type": "stream",
     "text": [
      "Time: 0.002735030651092529 minutes\n"
     ]
    },
    {
     "data": {
      "text/plain": [
       "<Figure size 1440x1440 with 0 Axes>"
      ]
     },
     "metadata": {},
     "output_type": "display_data"
    },
    {
     "data": {
      "image/png": "[encoded data removed]",
      "text/plain": [
       "<Figure size 432x288 with 2 Axes>"
      ]
     },
     "metadata": {
      "needs_background": "light"
     },
     "output_type": "display_data"
    }
   ],
   "source": [
    "from sklearn.metrics import plot_confusion_matrix\n",
    "\n",
    "start = time.time()\n",
    "\n",
    "plt.figure(figsize=(20,20))\n",
    "\n",
    "plot_confusion_matrix(lr, X_test, y_test)\n",
    "\n",
    "end=time.time()\n",
    "print('Time:', (end-start)/60, 'minutes')"
   ]
  },
  {
   "cell_type": "code",
   "execution_count": 23,
   "metadata": {},
   "outputs": [
    {
     "data": {
      "text/html": [
       "<div>\n",
       "<style scoped>\n",
       "    .dataframe tbody tr th:only-of-type {\n",
       "        vertical-align: middle;\n",
       "    }\n",
       "\n",
       "    .dataframe tbody tr th {\n",
       "        vertical-align: top;\n",
       "    }\n",
       "\n",
       "    .dataframe thead th {\n",
       "        text-align: right;\n",
       "    }\n",
       "</style>\n",
       "<table border=\"1\" class=\"dataframe\">\n",
       "  <thead>\n",
       "    <tr style=\"text-align: right;\">\n",
       "      <th></th>\n",
       "      <th>models</th>\n",
       "      <th>F1 Scores</th>\n",
       "      <th>Recall Scores</th>\n",
       "      <th>Precision Scores</th>\n",
       "    </tr>\n",
       "  </thead>\n",
       "  <tbody>\n",
       "    <tr>\n",
       "      <th>0</th>\n",
       "      <td>SVC</td>\n",
       "      <td>0.944278</td>\n",
       "      <td>0.94425</td>\n",
       "      <td>0.944455</td>\n",
       "    </tr>\n",
       "    <tr>\n",
       "      <th>1</th>\n",
       "      <td>Logistic Regression</td>\n",
       "      <td>0.933644</td>\n",
       "      <td>0.93375</td>\n",
       "      <td>0.933999</td>\n",
       "    </tr>\n",
       "  </tbody>\n",
       "</table>\n",
       "</div>"
      ],
      "text/plain": [
       "                models  F1 Scores  Recall Scores  Precision Scores\n",
       "0                  SVC   0.944278        0.94425          0.944455\n",
       "1  Logistic Regression   0.933644        0.93375          0.933999"
      ]
     },
     "execution_count": 23,
     "metadata": {},
     "output_type": "execute_result"
    }
   ],
   "source": [
    "scores = pd.DataFrame({'models':['SVC', 'Logistic Regression'],\n",
    "             'F1 Scores': [f1_svc, f1_lr],\n",
    "             'Recall Scores': [recall_svc, recall_lr],\n",
    "             'Precision Scores':[precision_svc, precision_lr]})\n",
    "scores"
   ]
  },
  {
   "cell_type": "code",
   "execution_count": 34,
   "metadata": {},
   "outputs": [
    {
     "data": {
      "text/plain": [
       "(80000, 191)"
      ]
     },
     "execution_count": 34,
     "metadata": {},
     "output_type": "execute_result"
    }
   ],
   "source": [
    "X_train.shape"
   ]
  },
  {
   "cell_type": "code",
   "execution_count": 33,
   "metadata": {},
   "outputs": [
    {
     "data": {
      "text/plain": [
       "(6, 191)"
      ]
     },
     "execution_count": 33,
     "metadata": {},
     "output_type": "execute_result"
    }
   ],
   "source": [
    "svc.coef_.shape"
   ]
  },
  {
   "cell_type": "code",
   "execution_count": 32,
   "metadata": {},
   "outputs": [
    {
     "data": {
      "text/plain": [
       "(4, 191)"
      ]
     },
     "execution_count": 32,
     "metadata": {},
     "output_type": "execute_result"
    }
   ],
   "source": [
    "lr.coef_.shape"
   ]
  },
  {
   "cell_type": "code",
   "execution_count": null,
   "metadata": {},
   "outputs": [],
   "source": [
    "lr."
   ]
  },
  {
   "cell_type": "code",
   "execution_count": 31,
   "metadata": {},
   "outputs": [
    {
     "ename": "Exception",
     "evalue": "Data must be 1-dimensional",
     "output_type": "error",
     "traceback": [
      "\u001b[0;31m---------------------------------------------------------------------------\u001b[0m",
      "\u001b[0;31mException\u001b[0m                                 Traceback (most recent call last)",
      "\u001b[0;32m<ipython-input-31-c2aaaba77101>\u001b[0m in \u001b[0;36m<module>\u001b[0;34m\u001b[0m\n\u001b[1;32m      6\u001b[0m              \u001b[0;34m'lr coefficents'\u001b[0m\u001b[0;34m:\u001b[0m \u001b[0mabs\u001b[0m\u001b[0;34m(\u001b[0m\u001b[0mlr\u001b[0m\u001b[0;34m.\u001b[0m\u001b[0mcoef_\u001b[0m\u001b[0;34m)\u001b[0m\u001b[0;34m,\u001b[0m\u001b[0;34m\u001b[0m\u001b[0;34m\u001b[0m\u001b[0m\n\u001b[1;32m      7\u001b[0m            \u001b[0;31m#  'svc is positive?': svc.coef_ > 1,\u001b[0m\u001b[0;34m\u001b[0m\u001b[0;34m\u001b[0m\u001b[0;34m\u001b[0m\u001b[0m\n\u001b[0;32m----> 8\u001b[0;31m              'lr is positive?': lr.coef_ > 1})\n\u001b[0m",
      "\u001b[0;32m~/opt/anaconda3/envs/springboard/lib/python3.7/site-packages/pandas/core/frame.py\u001b[0m in \u001b[0;36m__init__\u001b[0;34m(self, data, index, columns, dtype, copy)\u001b[0m\n\u001b[1;32m    466\u001b[0m \u001b[0;34m\u001b[0m\u001b[0m\n\u001b[1;32m    467\u001b[0m         \u001b[0;32melif\u001b[0m \u001b[0misinstance\u001b[0m\u001b[0;34m(\u001b[0m\u001b[0mdata\u001b[0m\u001b[0;34m,\u001b[0m \u001b[0mdict\u001b[0m\u001b[0;34m)\u001b[0m\u001b[0;34m:\u001b[0m\u001b[0;34m\u001b[0m\u001b[0;34m\u001b[0m\u001b[0m\n\u001b[0;32m--> 468\u001b[0;31m             \u001b[0mmgr\u001b[0m \u001b[0;34m=\u001b[0m \u001b[0minit_dict\u001b[0m\u001b[0;34m(\u001b[0m\u001b[0mdata\u001b[0m\u001b[0;34m,\u001b[0m \u001b[0mindex\u001b[0m\u001b[0;34m,\u001b[0m \u001b[0mcolumns\u001b[0m\u001b[0;34m,\u001b[0m \u001b[0mdtype\u001b[0m\u001b[0;34m=\u001b[0m\u001b[0mdtype\u001b[0m\u001b[0;34m)\u001b[0m\u001b[0;34m\u001b[0m\u001b[0;34m\u001b[0m\u001b[0m\n\u001b[0m\u001b[1;32m    469\u001b[0m         \u001b[0;32melif\u001b[0m \u001b[0misinstance\u001b[0m\u001b[0;34m(\u001b[0m\u001b[0mdata\u001b[0m\u001b[0;34m,\u001b[0m \u001b[0mma\u001b[0m\u001b[0;34m.\u001b[0m\u001b[0mMaskedArray\u001b[0m\u001b[0;34m)\u001b[0m\u001b[0;34m:\u001b[0m\u001b[0;34m\u001b[0m\u001b[0;34m\u001b[0m\u001b[0m\n\u001b[1;32m    470\u001b[0m             \u001b[0;32mimport\u001b[0m \u001b[0mnumpy\u001b[0m\u001b[0;34m.\u001b[0m\u001b[0mma\u001b[0m\u001b[0;34m.\u001b[0m\u001b[0mmrecords\u001b[0m \u001b[0;32mas\u001b[0m \u001b[0mmrecords\u001b[0m\u001b[0;34m\u001b[0m\u001b[0;34m\u001b[0m\u001b[0m\n",
      "\u001b[0;32m~/opt/anaconda3/envs/springboard/lib/python3.7/site-packages/pandas/core/internals/construction.py\u001b[0m in \u001b[0;36minit_dict\u001b[0;34m(data, index, columns, dtype)\u001b[0m\n\u001b[1;32m    281\u001b[0m             \u001b[0marr\u001b[0m \u001b[0;32mif\u001b[0m \u001b[0;32mnot\u001b[0m \u001b[0mis_datetime64tz_dtype\u001b[0m\u001b[0;34m(\u001b[0m\u001b[0marr\u001b[0m\u001b[0;34m)\u001b[0m \u001b[0;32melse\u001b[0m \u001b[0marr\u001b[0m\u001b[0;34m.\u001b[0m\u001b[0mcopy\u001b[0m\u001b[0;34m(\u001b[0m\u001b[0;34m)\u001b[0m \u001b[0;32mfor\u001b[0m \u001b[0marr\u001b[0m \u001b[0;32min\u001b[0m \u001b[0marrays\u001b[0m\u001b[0;34m\u001b[0m\u001b[0;34m\u001b[0m\u001b[0m\n\u001b[1;32m    282\u001b[0m         ]\n\u001b[0;32m--> 283\u001b[0;31m     \u001b[0;32mreturn\u001b[0m \u001b[0marrays_to_mgr\u001b[0m\u001b[0;34m(\u001b[0m\u001b[0marrays\u001b[0m\u001b[0;34m,\u001b[0m \u001b[0mdata_names\u001b[0m\u001b[0;34m,\u001b[0m \u001b[0mindex\u001b[0m\u001b[0;34m,\u001b[0m \u001b[0mcolumns\u001b[0m\u001b[0;34m,\u001b[0m \u001b[0mdtype\u001b[0m\u001b[0;34m=\u001b[0m\u001b[0mdtype\u001b[0m\u001b[0;34m)\u001b[0m\u001b[0;34m\u001b[0m\u001b[0;34m\u001b[0m\u001b[0m\n\u001b[0m\u001b[1;32m    284\u001b[0m \u001b[0;34m\u001b[0m\u001b[0m\n\u001b[1;32m    285\u001b[0m \u001b[0;34m\u001b[0m\u001b[0m\n",
      "\u001b[0;32m~/opt/anaconda3/envs/springboard/lib/python3.7/site-packages/pandas/core/internals/construction.py\u001b[0m in \u001b[0;36marrays_to_mgr\u001b[0;34m(arrays, arr_names, index, columns, dtype, verify_integrity)\u001b[0m\n\u001b[1;32m     81\u001b[0m \u001b[0;34m\u001b[0m\u001b[0m\n\u001b[1;32m     82\u001b[0m         \u001b[0;31m# don't force copy because getting jammed in an ndarray anyway\u001b[0m\u001b[0;34m\u001b[0m\u001b[0;34m\u001b[0m\u001b[0;34m\u001b[0m\u001b[0m\n\u001b[0;32m---> 83\u001b[0;31m         \u001b[0marrays\u001b[0m \u001b[0;34m=\u001b[0m \u001b[0m_homogenize\u001b[0m\u001b[0;34m(\u001b[0m\u001b[0marrays\u001b[0m\u001b[0;34m,\u001b[0m \u001b[0mindex\u001b[0m\u001b[0;34m,\u001b[0m \u001b[0mdtype\u001b[0m\u001b[0;34m)\u001b[0m\u001b[0;34m\u001b[0m\u001b[0;34m\u001b[0m\u001b[0m\n\u001b[0m\u001b[1;32m     84\u001b[0m \u001b[0;34m\u001b[0m\u001b[0m\n\u001b[1;32m     85\u001b[0m         \u001b[0mcolumns\u001b[0m \u001b[0;34m=\u001b[0m \u001b[0mensure_index\u001b[0m\u001b[0;34m(\u001b[0m\u001b[0mcolumns\u001b[0m\u001b[0;34m)\u001b[0m\u001b[0;34m\u001b[0m\u001b[0;34m\u001b[0m\u001b[0m\n",
      "\u001b[0;32m~/opt/anaconda3/envs/springboard/lib/python3.7/site-packages/pandas/core/internals/construction.py\u001b[0m in \u001b[0;36m_homogenize\u001b[0;34m(data, index, dtype)\u001b[0m\n\u001b[1;32m    350\u001b[0m                 \u001b[0mval\u001b[0m \u001b[0;34m=\u001b[0m \u001b[0mlib\u001b[0m\u001b[0;34m.\u001b[0m\u001b[0mfast_multiget\u001b[0m\u001b[0;34m(\u001b[0m\u001b[0mval\u001b[0m\u001b[0;34m,\u001b[0m \u001b[0moindex\u001b[0m\u001b[0;34m.\u001b[0m\u001b[0m_values\u001b[0m\u001b[0;34m,\u001b[0m \u001b[0mdefault\u001b[0m\u001b[0;34m=\u001b[0m\u001b[0mnp\u001b[0m\u001b[0;34m.\u001b[0m\u001b[0mnan\u001b[0m\u001b[0;34m)\u001b[0m\u001b[0;34m\u001b[0m\u001b[0;34m\u001b[0m\u001b[0m\n\u001b[1;32m    351\u001b[0m             val = sanitize_array(\n\u001b[0;32m--> 352\u001b[0;31m                 \u001b[0mval\u001b[0m\u001b[0;34m,\u001b[0m \u001b[0mindex\u001b[0m\u001b[0;34m,\u001b[0m \u001b[0mdtype\u001b[0m\u001b[0;34m=\u001b[0m\u001b[0mdtype\u001b[0m\u001b[0;34m,\u001b[0m \u001b[0mcopy\u001b[0m\u001b[0;34m=\u001b[0m\u001b[0;32mFalse\u001b[0m\u001b[0;34m,\u001b[0m \u001b[0mraise_cast_failure\u001b[0m\u001b[0;34m=\u001b[0m\u001b[0;32mFalse\u001b[0m\u001b[0;34m\u001b[0m\u001b[0;34m\u001b[0m\u001b[0m\n\u001b[0m\u001b[1;32m    353\u001b[0m             )\n\u001b[1;32m    354\u001b[0m \u001b[0;34m\u001b[0m\u001b[0m\n",
      "\u001b[0;32m~/opt/anaconda3/envs/springboard/lib/python3.7/site-packages/pandas/core/construction.py\u001b[0m in \u001b[0;36msanitize_array\u001b[0;34m(data, index, dtype, copy, raise_cast_failure)\u001b[0m\n\u001b[1;32m    494\u001b[0m     \u001b[0;32melif\u001b[0m \u001b[0msubarr\u001b[0m\u001b[0;34m.\u001b[0m\u001b[0mndim\u001b[0m \u001b[0;34m>\u001b[0m \u001b[0;36m1\u001b[0m\u001b[0;34m:\u001b[0m\u001b[0;34m\u001b[0m\u001b[0;34m\u001b[0m\u001b[0m\n\u001b[1;32m    495\u001b[0m         \u001b[0;32mif\u001b[0m \u001b[0misinstance\u001b[0m\u001b[0;34m(\u001b[0m\u001b[0mdata\u001b[0m\u001b[0;34m,\u001b[0m \u001b[0mnp\u001b[0m\u001b[0;34m.\u001b[0m\u001b[0mndarray\u001b[0m\u001b[0;34m)\u001b[0m\u001b[0;34m:\u001b[0m\u001b[0;34m\u001b[0m\u001b[0;34m\u001b[0m\u001b[0m\n\u001b[0;32m--> 496\u001b[0;31m             \u001b[0;32mraise\u001b[0m \u001b[0mException\u001b[0m\u001b[0;34m(\u001b[0m\u001b[0;34m\"Data must be 1-dimensional\"\u001b[0m\u001b[0;34m)\u001b[0m\u001b[0;34m\u001b[0m\u001b[0;34m\u001b[0m\u001b[0m\n\u001b[0m\u001b[1;32m    497\u001b[0m         \u001b[0;32melse\u001b[0m\u001b[0;34m:\u001b[0m\u001b[0;34m\u001b[0m\u001b[0;34m\u001b[0m\u001b[0m\n\u001b[1;32m    498\u001b[0m             \u001b[0msubarr\u001b[0m \u001b[0;34m=\u001b[0m \u001b[0mcom\u001b[0m\u001b[0;34m.\u001b[0m\u001b[0masarray_tuplesafe\u001b[0m\u001b[0;34m(\u001b[0m\u001b[0mdata\u001b[0m\u001b[0;34m,\u001b[0m \u001b[0mdtype\u001b[0m\u001b[0;34m=\u001b[0m\u001b[0mdtype\u001b[0m\u001b[0;34m)\u001b[0m\u001b[0;34m\u001b[0m\u001b[0;34m\u001b[0m\u001b[0m\n",
      "\u001b[0;31mException\u001b[0m: Data must be 1-dimensional"
     ]
    }
   ],
   "source": [
    "#descending_idx_svc = svc.coef_.argsort()[::-1]\n",
    "#descending_idx_lr = lr.coef_.argsort()[::-1]\n",
    "\n",
    "pd.DataFrame({'features': X.columns, \n",
    "            # 'svc coefficients': abs(svc.coef_),\n",
    "             'lr coefficents': abs(lr.coef_),\n",
    "           #  'svc is positive?': svc.coef_ > 1,\n",
    "             'lr is positive?': lr.coef_ > 1})"
   ]
  },
  {
   "cell_type": "markdown",
   "metadata": {},
   "source": [
    "Without any hyperparameter tuning my best model was the Logistic Regression with 90%. In another preprocessing notebook, the Logistic Regression model also performed best with addition Medicare-Payment columns (which I left out here because of possible collinearity) at 99%. \n",
    "\n",
    "Because the ratio of Medicare payment to Submitted charges actually tells whether the client is low rate, medium rate or high rate, I prefer to leave these out. I'm not sure if the models can \"figure out\" that relationship or not. \n",
    "\n",
    "My goal is actually to have a pretty good model that has a few mistakes because these mistakes are just as telling as the ability of the model to correctly identify classes. \n",
    "\n",
    "On that note, I am interested in the F1 Score particularly for the \"very high\" class and \"low\" class because I want to know whether the model falsely labels high-rate providers as low or vice versa. That said, maybe I don't want to optimize for \"low\" class F1 Score but rather the OVERALL F1 score. If a model is generally very accurate but still mislabels some outliers, those outliers may be worth re-examining. \n",
    "\n",
    "Overall, my modeling notebook will focus most heavily of feature importances and tables that contain the extreme outliers: low rate providers labeled as 'very high' and very high rate providers labeled as very low. I want to see if these providers show a pattern. \n",
    "\n",
    "If they do seem fishy, a final iteration of modeling may be one that labels these outliers as \"wrongly compensated\" and trains on the data to look for other potential \"wrongly compensated\" providers. "
   ]
  },
  {
   "cell_type": "markdown",
   "metadata": {},
   "source": [
    "I didn't scale my date before modeling here, both because I may want to say that for the \"modeling\" stage since my initial performances were good and because the combination of binary and continuous variables may complicate that process. "
   ]
  },
  {
   "cell_type": "code",
   "execution_count": null,
   "metadata": {},
   "outputs": [],
   "source": []
  }
 ],
 "metadata": {
  "kernelspec": {
   "display_name": "Python 3",
   "language": "python",
   "name": "python3"
  },
  "language_info": {
   "codemirror_mode": {
    "name": "ipython",
    "version": 3
   },
   "file_extension": ".py",
   "mimetype": "text/x-python",
   "name": "python",
   "nbconvert_exporter": "python",
   "pygments_lexer": "ipython3",
   "version": "3.7.7"
  }
 },
 "nbformat": 4,
 "nbformat_minor": 4
}
