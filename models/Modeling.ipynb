{
 "cells": [
  {
   "cell_type": "markdown",
   "metadata": {},
   "source": [
    "# Importing Modules and Checking Directory "
   ]
  },
  {
   "cell_type": "code",
   "execution_count": 1,
   "metadata": {},
   "outputs": [],
   "source": [
    "import os\n",
    "import pandas as pd\n",
    "import datetime\n",
    "import seaborn as sns\n",
    "import matplotlib.pyplot as plt\n",
    "import numpy as np\n",
    "%matplotlib inline"
   ]
  },
  {
   "cell_type": "code",
   "execution_count": 2,
   "metadata": {},
   "outputs": [
    {
     "data": {
      "text/plain": [
       "'1.1.5'"
      ]
     },
     "execution_count": 2,
     "metadata": {},
     "output_type": "execute_result"
    }
   ],
   "source": [
    "pd.__version__"
   ]
  },
  {
   "cell_type": "code",
   "execution_count": 3,
   "metadata": {},
   "outputs": [
    {
     "data": {
      "text/plain": [
       "'/Users/Livi/Projects/Black_mental_health/models'"
      ]
     },
     "execution_count": 3,
     "metadata": {},
     "output_type": "execute_result"
    }
   ],
   "source": [
    "os.getcwd()\n"
   ]
  },
  {
   "cell_type": "markdown",
   "metadata": {},
   "source": [
    "### Loading data, making dummy columns"
   ]
  },
  {
   "cell_type": "code",
   "execution_count": 4,
   "metadata": {},
   "outputs": [
    {
     "name": "stderr",
     "output_type": "stream",
     "text": [
      "/Users/Livi/opt/anaconda3/envs/springboard/lib/python3.7/site-packages/numpy/lib/arraysetops.py:569: FutureWarning: elementwise comparison failed; returning scalar instead, but in the future will perform elementwise comparison\n",
      "  mask |= (ar1 == a)\n"
     ]
    }
   ],
   "source": [
    "df = pd.read_csv('../data/interim/features_and_target2_pre_get_dummies.csv', index_col=0)\n",
    "y = df.payrate_level\n",
    "X = pd.get_dummies(df.drop(columns='payrate_level'))"
   ]
  },
  {
   "cell_type": "markdown",
   "metadata": {},
   "source": [
    "### Using best way of scaling from preprocessing: only continous features not binary columns"
   ]
  },
  {
   "cell_type": "code",
   "execution_count": 5,
   "metadata": {},
   "outputs": [
    {
     "name": "stdout",
     "output_type": "stream",
     "text": [
      "Time scaled: 0.6124389330546062 minutes.\n"
     ]
    }
   ],
   "source": [
    "from sklearn.preprocessing import PowerTransformer\n",
    "import time\n",
    "\n",
    "start= time.time()\n",
    "\n",
    "scaler = PowerTransformer()\n",
    "\n",
    "X_scaled=X.copy()\n",
    "\n",
    "for col in X.columns:\n",
    "    if col =='entity_code_I':\n",
    "        break\n",
    "    else:\n",
    "        scaler.fit(np.array(X[col]).reshape(-1,1))\n",
    "        i_scaled = scaler.transform(np.array(X[col]).reshape(-1,1))\n",
    "        X[col] = i_scaled\n",
    "        \n",
    "        \n",
    "end= time.time()\n",
    "\n",
    "print('Time scaled:', (end-start)/60, 'minutes.')"
   ]
  },
  {
   "cell_type": "code",
   "execution_count": 6,
   "metadata": {},
   "outputs": [
    {
     "data": {
      "text/html": [
       "<div>\n",
       "<style scoped>\n",
       "    .dataframe tbody tr th:only-of-type {\n",
       "        vertical-align: middle;\n",
       "    }\n",
       "\n",
       "    .dataframe tbody tr th {\n",
       "        vertical-align: top;\n",
       "    }\n",
       "\n",
       "    .dataframe thead th {\n",
       "        text-align: right;\n",
       "    }\n",
       "</style>\n",
       "<table border=\"1\" class=\"dataframe\">\n",
       "  <thead>\n",
       "    <tr style=\"text-align: right;\">\n",
       "      <th></th>\n",
       "      <th>number_of_hcpcs</th>\n",
       "      <th>number_of_services</th>\n",
       "      <th>total_beneficiaries</th>\n",
       "      <th>total_submitted_charges</th>\n",
       "      <th>avg_beneficiary_age</th>\n",
       "      <th>avg_hcc_risk_score</th>\n",
       "      <th>submitted_charges_per_person</th>\n",
       "      <th>services_per_person</th>\n",
       "      <th>submitted_charges_per_service</th>\n",
       "      <th>total_pop</th>\n",
       "      <th>...</th>\n",
       "      <th>subregion_Pacific</th>\n",
       "      <th>subregion_South Atlantic</th>\n",
       "      <th>subregion_West North Central</th>\n",
       "      <th>subregion_West South Central</th>\n",
       "      <th>majority_majority_asian</th>\n",
       "      <th>majority_majority_black</th>\n",
       "      <th>majority_majority_hispanic</th>\n",
       "      <th>majority_majority_native_amer</th>\n",
       "      <th>majority_majority_white</th>\n",
       "      <th>majority_no_majority</th>\n",
       "    </tr>\n",
       "  </thead>\n",
       "  <tbody>\n",
       "    <tr>\n",
       "      <th>0</th>\n",
       "      <td>-0.003948</td>\n",
       "      <td>0.540055</td>\n",
       "      <td>0.851671</td>\n",
       "      <td>1.196155</td>\n",
       "      <td>0.998501</td>\n",
       "      <td>1.105662</td>\n",
       "      <td>0.871076</td>\n",
       "      <td>-0.119979</td>\n",
       "      <td>1.063762</td>\n",
       "      <td>0.781846</td>\n",
       "      <td>...</td>\n",
       "      <td>0</td>\n",
       "      <td>1</td>\n",
       "      <td>0</td>\n",
       "      <td>0</td>\n",
       "      <td>0</td>\n",
       "      <td>0</td>\n",
       "      <td>0</td>\n",
       "      <td>0</td>\n",
       "      <td>1</td>\n",
       "      <td>0</td>\n",
       "    </tr>\n",
       "    <tr>\n",
       "      <th>1</th>\n",
       "      <td>-0.170174</td>\n",
       "      <td>0.576787</td>\n",
       "      <td>1.015528</td>\n",
       "      <td>0.573919</td>\n",
       "      <td>2.139463</td>\n",
       "      <td>0.994263</td>\n",
       "      <td>-0.276118</td>\n",
       "      <td>-0.317600</td>\n",
       "      <td>0.179416</td>\n",
       "      <td>-0.074416</td>\n",
       "      <td>...</td>\n",
       "      <td>0</td>\n",
       "      <td>1</td>\n",
       "      <td>0</td>\n",
       "      <td>0</td>\n",
       "      <td>0</td>\n",
       "      <td>0</td>\n",
       "      <td>0</td>\n",
       "      <td>0</td>\n",
       "      <td>1</td>\n",
       "      <td>0</td>\n",
       "    </tr>\n",
       "    <tr>\n",
       "      <th>2</th>\n",
       "      <td>-1.402499</td>\n",
       "      <td>-1.478753</td>\n",
       "      <td>-2.032970</td>\n",
       "      <td>-2.079729</td>\n",
       "      <td>-1.181247</td>\n",
       "      <td>-1.398919</td>\n",
       "      <td>-1.041626</td>\n",
       "      <td>0.565058</td>\n",
       "      <td>-1.326987</td>\n",
       "      <td>-0.413310</td>\n",
       "      <td>...</td>\n",
       "      <td>0</td>\n",
       "      <td>1</td>\n",
       "      <td>0</td>\n",
       "      <td>0</td>\n",
       "      <td>0</td>\n",
       "      <td>1</td>\n",
       "      <td>0</td>\n",
       "      <td>0</td>\n",
       "      <td>0</td>\n",
       "      <td>0</td>\n",
       "    </tr>\n",
       "    <tr>\n",
       "      <th>3</th>\n",
       "      <td>0.447350</td>\n",
       "      <td>1.158778</td>\n",
       "      <td>1.311877</td>\n",
       "      <td>1.152199</td>\n",
       "      <td>1.833739</td>\n",
       "      <td>-0.416924</td>\n",
       "      <td>0.242840</td>\n",
       "      <td>0.442297</td>\n",
       "      <td>0.106138</td>\n",
       "      <td>0.795532</td>\n",
       "      <td>...</td>\n",
       "      <td>0</td>\n",
       "      <td>1</td>\n",
       "      <td>0</td>\n",
       "      <td>0</td>\n",
       "      <td>0</td>\n",
       "      <td>0</td>\n",
       "      <td>0</td>\n",
       "      <td>0</td>\n",
       "      <td>0</td>\n",
       "      <td>1</td>\n",
       "    </tr>\n",
       "    <tr>\n",
       "      <th>4</th>\n",
       "      <td>0.139490</td>\n",
       "      <td>-0.443103</td>\n",
       "      <td>-0.613947</td>\n",
       "      <td>-0.657554</td>\n",
       "      <td>-0.706375</td>\n",
       "      <td>1.649911</td>\n",
       "      <td>-0.268393</td>\n",
       "      <td>0.241994</td>\n",
       "      <td>-0.223406</td>\n",
       "      <td>-0.679061</td>\n",
       "      <td>...</td>\n",
       "      <td>0</td>\n",
       "      <td>1</td>\n",
       "      <td>0</td>\n",
       "      <td>0</td>\n",
       "      <td>0</td>\n",
       "      <td>0</td>\n",
       "      <td>0</td>\n",
       "      <td>0</td>\n",
       "      <td>0</td>\n",
       "      <td>1</td>\n",
       "    </tr>\n",
       "  </tbody>\n",
       "</table>\n",
       "<p>5 rows × 188 columns</p>\n",
       "</div>"
      ],
      "text/plain": [
       "   number_of_hcpcs  number_of_services  total_beneficiaries  \\\n",
       "0        -0.003948            0.540055             0.851671   \n",
       "1        -0.170174            0.576787             1.015528   \n",
       "2        -1.402499           -1.478753            -2.032970   \n",
       "3         0.447350            1.158778             1.311877   \n",
       "4         0.139490           -0.443103            -0.613947   \n",
       "\n",
       "   total_submitted_charges  avg_beneficiary_age  avg_hcc_risk_score  \\\n",
       "0                 1.196155             0.998501            1.105662   \n",
       "1                 0.573919             2.139463            0.994263   \n",
       "2                -2.079729            -1.181247           -1.398919   \n",
       "3                 1.152199             1.833739           -0.416924   \n",
       "4                -0.657554            -0.706375            1.649911   \n",
       "\n",
       "   submitted_charges_per_person  services_per_person  \\\n",
       "0                      0.871076            -0.119979   \n",
       "1                     -0.276118            -0.317600   \n",
       "2                     -1.041626             0.565058   \n",
       "3                      0.242840             0.442297   \n",
       "4                     -0.268393             0.241994   \n",
       "\n",
       "   submitted_charges_per_service  total_pop  ...  subregion_Pacific  \\\n",
       "0                       1.063762   0.781846  ...                  0   \n",
       "1                       0.179416  -0.074416  ...                  0   \n",
       "2                      -1.326987  -0.413310  ...                  0   \n",
       "3                       0.106138   0.795532  ...                  0   \n",
       "4                      -0.223406  -0.679061  ...                  0   \n",
       "\n",
       "   subregion_South Atlantic  subregion_West North Central  \\\n",
       "0                         1                             0   \n",
       "1                         1                             0   \n",
       "2                         1                             0   \n",
       "3                         1                             0   \n",
       "4                         1                             0   \n",
       "\n",
       "   subregion_West South Central  majority_majority_asian  \\\n",
       "0                             0                        0   \n",
       "1                             0                        0   \n",
       "2                             0                        0   \n",
       "3                             0                        0   \n",
       "4                             0                        0   \n",
       "\n",
       "   majority_majority_black  majority_majority_hispanic  \\\n",
       "0                        0                           0   \n",
       "1                        0                           0   \n",
       "2                        1                           0   \n",
       "3                        0                           0   \n",
       "4                        0                           0   \n",
       "\n",
       "   majority_majority_native_amer  majority_majority_white  \\\n",
       "0                              0                        1   \n",
       "1                              0                        1   \n",
       "2                              0                        0   \n",
       "3                              0                        0   \n",
       "4                              0                        0   \n",
       "\n",
       "   majority_no_majority  \n",
       "0                     0  \n",
       "1                     0  \n",
       "2                     0  \n",
       "3                     1  \n",
       "4                     1  \n",
       "\n",
       "[5 rows x 188 columns]"
      ]
     },
     "execution_count": 6,
     "metadata": {},
     "output_type": "execute_result"
    }
   ],
   "source": [
    "X.head()"
   ]
  },
  {
   "cell_type": "markdown",
   "metadata": {},
   "source": [
    "### Splitting data"
   ]
  },
  {
   "cell_type": "code",
   "execution_count": 7,
   "metadata": {},
   "outputs": [],
   "source": [
    "from sklearn.model_selection import train_test_split\n",
    "\n",
    "X_train, X_test, y_train, y_test = train_test_split(X, y.values.ravel(), test_size = 0.2, random_state=2)"
   ]
  },
  {
   "cell_type": "code",
   "execution_count": 8,
   "metadata": {},
   "outputs": [
    {
     "data": {
      "text/plain": [
       "((857713, 188), (857713,))"
      ]
     },
     "execution_count": 8,
     "metadata": {},
     "output_type": "execute_result"
    }
   ],
   "source": [
    "X_train.shape, y_train.shape"
   ]
  },
  {
   "cell_type": "markdown",
   "metadata": {},
   "source": [
    "### Training on All Data"
   ]
  },
  {
   "cell_type": "markdown",
   "metadata": {},
   "source": [
    "#### Random Forest"
   ]
  },
  {
   "cell_type": "code",
   "execution_count": 15,
   "metadata": {},
   "outputs": [
    {
     "name": "stdout",
     "output_type": "stream",
     "text": [
      "RF F1 Score: 0.6569304490198083\n",
      "Time: 0.3454479813575745 minutes\n"
     ]
    }
   ],
   "source": [
    "import time\n",
    "from sklearn.ensemble import RandomForestClassifier\n",
    "from sklearn.metrics import f1_score\n",
    "\n",
    "rf = RandomForestClassifier(n_jobs=-1)\n",
    "\n",
    "start = time.time()\n",
    "\n",
    "rf.fit(X_train, y_train)\n",
    "ypred_rf = rf.predict(X_test)\n",
    "\n",
    "end= time.time()\n",
    "total = end - start\n",
    "\n",
    "f1_rf = f1_score(y_test, ypred_rf, average='weighted')\n",
    "print('RF F1 Score:', f1_rf)\n",
    "print(\"Time:\", total/60, \"minutes\")"
   ]
  },
  {
   "cell_type": "markdown",
   "metadata": {},
   "source": [
    "#### Logistic Regression"
   ]
  },
  {
   "cell_type": "code",
   "execution_count": 35,
   "metadata": {},
   "outputs": [
    {
     "name": "stdout",
     "output_type": "stream",
     "text": [
      "RF F1 Score: 0.622272977808401\n",
      "Time: 0.33096450169881186 minutes\n"
     ]
    }
   ],
   "source": [
    "import time\n",
    "from sklearn.linear_model import LogisticRegression\n",
    "\n",
    "lr = LogisticRegression(n_jobs=-1)\n",
    "\n",
    "start = time.time()\n",
    "\n",
    "lr.fit(X_train, y_train)\n",
    "ypred_lr = lr.predict(X_test)\n",
    "\n",
    "end= time.time()\n",
    "total = end - start\n",
    "\n",
    "f1_lr = f1_score(y_test, ypred_lr, average='weighted')\n",
    "print('RF F1 Score:', f1_lr)\n",
    "print(\"Time:\", total/60, \"minutes\")"
   ]
  },
  {
   "cell_type": "code",
   "execution_count": 36,
   "metadata": {},
   "outputs": [
    {
     "data": {
      "text/html": [
       "<div>\n",
       "<style scoped>\n",
       "    .dataframe tbody tr th:only-of-type {\n",
       "        vertical-align: middle;\n",
       "    }\n",
       "\n",
       "    .dataframe tbody tr th {\n",
       "        vertical-align: top;\n",
       "    }\n",
       "\n",
       "    .dataframe thead th {\n",
       "        text-align: right;\n",
       "    }\n",
       "</style>\n",
       "<table border=\"1\" class=\"dataframe\">\n",
       "  <thead>\n",
       "    <tr style=\"text-align: right;\">\n",
       "      <th></th>\n",
       "      <th>models</th>\n",
       "      <th>F1 Scores</th>\n",
       "    </tr>\n",
       "  </thead>\n",
       "  <tbody>\n",
       "    <tr>\n",
       "      <th>0</th>\n",
       "      <td>Random Forest</td>\n",
       "      <td>0.656930</td>\n",
       "    </tr>\n",
       "    <tr>\n",
       "      <th>1</th>\n",
       "      <td>Logistic Regression</td>\n",
       "      <td>0.622273</td>\n",
       "    </tr>\n",
       "  </tbody>\n",
       "</table>\n",
       "</div>"
      ],
      "text/plain": [
       "                models  F1 Scores\n",
       "0        Random Forest   0.656930\n",
       "1  Logistic Regression   0.622273"
      ]
     },
     "execution_count": 36,
     "metadata": {},
     "output_type": "execute_result"
    }
   ],
   "source": [
    "scores = pd.DataFrame({'models':['Random Forest', 'Logistic Regression'],\n",
    "             'F1 Scores': [f1_rf, f1_lr],\n",
    "                      })\n",
    "scores"
   ]
  },
  {
   "cell_type": "markdown",
   "metadata": {},
   "source": [
    "# Tuning"
   ]
  },
  {
   "cell_type": "code",
   "execution_count": 58,
   "metadata": {},
   "outputs": [
    {
     "data": {
      "image/png": "[encoded data removed]",
      "text/plain": [
       "<Figure size 432x288 with 1 Axes>"
      ]
     },
     "metadata": {
      "needs_background": "light"
     },
     "output_type": "display_data"
    },
    {
     "name": "stdout",
     "output_type": "stream",
     "text": [
      "time: 9.47630048195521 minutes\n"
     ]
    }
   ],
   "source": [
    "from sklearn.metrics import f1_score\n",
    "import time\n",
    "\n",
    "start = time.time()\n",
    "\n",
    "max_depths = np.arange(1, 111, 10)\n",
    "x_train = X_train\n",
    "y_train = y_train\n",
    "x_test = X_test\n",
    "y_test = y_test\n",
    "train_results = []\n",
    "test_results = []\n",
    "for max_depth in max_depths:\n",
    "    model = RandomForestClassifier(max_depth=max_depth)\n",
    "    model.fit(x_train, y_train)\n",
    "    train_pred = model.predict(x_train)\n",
    "    f1 = f1_score(y_train, train_pred, average = 'weighted')\n",
    "    train_results.append(f1)\n",
    "    y_pred = model.predict(x_test)\n",
    "    f1 = f1_score(y_test, y_pred,average = 'weighted')\n",
    "    test_results.append(f1)\n",
    "from matplotlib.legend_handler import HandlerLine2D\n",
    "line1, = plt.plot(max_depths, train_results, 'b', label='Train F1')\n",
    "line2, = plt.plot(max_depths, test_results, 'r', label='Test F1')\n",
    "plt.legend(handler_map={line1: HandlerLine2D(numpoints=2)})\n",
    "plt.ylabel('F1 score')\n",
    "plt.xlabel('max_depths')\n",
    "plt.show()\n",
    "\n",
    "end =time.time()\n",
    "print(\"time:\", (end-start)/60, 'minutes')"
   ]
  },
  {
   "cell_type": "code",
   "execution_count": 59,
   "metadata": {},
   "outputs": [
    {
     "data": {
      "image/png": "[encoded data removed]",
      "text/plain": [
       "<Figure size 432x288 with 1 Axes>"
      ]
     },
     "metadata": {
      "needs_background": "light"
     },
     "output_type": "display_data"
    },
    {
     "name": "stdout",
     "output_type": "stream",
     "text": [
      "time: 8.373383716742199 minutes\n"
     ]
    }
   ],
   "source": [
    "start = time.time()\n",
    "\n",
    "x_train = X_train\n",
    "y_train = y_train\n",
    "x_test = X_test\n",
    "y_test = y_test\n",
    "\n",
    "n_estimators = [1, 20, 40, 60, 80, 100, 120, 150, 200]\n",
    "train_results = []\n",
    "test_results = []\n",
    "for n_estimator in n_estimators:\n",
    "    model = RandomForestClassifier(n_estimators=n_estimator)\n",
    "    model.fit(x_train, y_train)\n",
    "    train_pred = model.predict(x_train)\n",
    "    f1 = f1_score(y_train, train_pred,average = 'weighted')\n",
    "    train_results.append(f1)\n",
    "    y_pred = model.predict(x_test)\n",
    "    f1 = f1_score(y_test, y_pred,average = 'weighted')\n",
    "    test_results.append(f1)\n",
    "from matplotlib.legend_handler import HandlerLine2D\n",
    "line1, = plt.plot(n_estimators, train_results, 'b', label='Train F1')\n",
    "line2, = plt.plot(n_estimators, test_results, 'r', label='Test F1')\n",
    "plt.legend(handler_map={line1: HandlerLine2D(numpoints=2)})\n",
    "plt.ylabel('F1 score')\n",
    "plt.xlabel('n_estimators')\n",
    "plt.show()\n",
    "\n",
    "end =time.time()\n",
    "print(\"time:\", (end-start)/60, 'minutes')"
   ]
  },
  {
   "cell_type": "code",
   "execution_count": 54,
   "metadata": {},
   "outputs": [
    {
     "data": {
      "image/png": "[encoded data removed]",
      "text/plain": [
       "<Figure size 432x288 with 1 Axes>"
      ]
     },
     "metadata": {
      "needs_background": "light"
     },
     "output_type": "display_data"
    }
   ],
   "source": [
    "start = time.time()\n",
    "\n",
    "x_train = X_train\n",
    "y_train = y_train\n",
    "x_test = X_test\n",
    "y_test = y_test\n",
    "\n",
    "\n",
    "max_features = list(range(1,100))\n",
    "train_results = []\n",
    "test_results = []\n",
    "for max_feature in max_features:\n",
    "    model = RandomForestClassifier(max_features=max_feature)\n",
    "    model.fit(x_train, y_train)\n",
    "    train_pred = model.predict(x_train)\n",
    "    f1 = f1_score(y_train, train_pred,average = 'weighted')\n",
    "    train_results.append(f1)\n",
    "    y_pred = model.predict(x_test)\n",
    "    f1 = f1_score(y_test, y_pred,average = 'weighted')\n",
    "    test_results.append(f1)\n",
    "from matplotlib.legend_handler import HandlerLine2D\n",
    "line1, = plt.plot(max_features, train_results, 'b', label='Train')\n",
    "line2, = plt.plot(max_features, test_results, 'r', label='Test')\n",
    "plt.legend(handler_map={line1: HandlerLine2D(numpoints=2)})\n",
    "plt.ylabel('F1 score')\n",
    "plt.xlabel('max features')\n",
    "plt.show()\n",
    "\n",
    "end = time.time()\n",
    "print('time:', (end-start)/60, 'minutes')"
   ]
  },
  {
   "cell_type": "code",
   "execution_count": 17,
   "metadata": {
    "scrolled": true
   },
   "outputs": [
    {
     "name": "stdout",
     "output_type": "stream",
     "text": [
      "Best: 0.654309 using {'max_depth': 40, 'max_features': 25, 'n_estimators': 100}\n",
      "time: 67.17298282838334 minutes\n"
     ]
    }
   ],
   "source": [
    "from sklearn.ensemble import RandomForestClassifier\n",
    "from sklearn.model_selection import GridSearchCV\n",
    "\n",
    "from timeit import default_timer as timer\n",
    "\n",
    "X_train, X_test, y_train, y_test = train_test_split(X[:100000], y.values.ravel()[:100000], test_size = 0.2, random_state=2)\n",
    "\n",
    "\n",
    "start = timer()\n",
    "model = RandomForestClassifier()\n",
    "max_depth = [10, 20, 30, 40, 50]\n",
    "#criterion=['gini','entropy']\n",
    "n_estimators = [20, 40, 60, 80, 100]\n",
    "max_features= [5, 10, 15, 20, 25]\n",
    "#class_weight=['balanced']\n",
    "\n",
    "grid = dict(max_depth=max_depth, n_estimators=n_estimators, max_features=max_features)\n",
    "scorer = make_scorer(f1_score, average = 'weighted')\n",
    "grid_search = GridSearchCV(estimator=model, param_grid=grid, n_jobs=-1, cv=5, scoring=scorer)\n",
    "grid_result = grid_search.fit(X_train, y_train)\n",
    "\n",
    "print(\"Best: %f using %s\" % (grid_result.best_score_, grid_result.best_params_))\n",
    "\n",
    "end = timer()\n",
    "print(\"time:\", (end - start)/60, 'minutes')"
   ]
  },
  {
   "cell_type": "code",
   "execution_count": 18,
   "metadata": {},
   "outputs": [
    {
     "name": "stdout",
     "output_type": "stream",
     "text": [
      "0.65207857898609 : {'max_depth': 50, 'max_features': 15, 'n_estimators': 80}\n",
      "0.6520848755143331 : {'max_depth': 40, 'max_features': 20, 'n_estimators': 100}\n",
      "0.6522703562941385 : {'max_depth': 50, 'max_features': 20, 'n_estimators': 60}\n",
      "0.6523626804213183 : {'max_depth': 30, 'max_features': 25, 'n_estimators': 100}\n",
      "0.6524151724972379 : {'max_depth': 50, 'max_features': 25, 'n_estimators': 80}\n",
      "0.6532250599267112 : {'max_depth': 50, 'max_features': 20, 'n_estimators': 80}\n",
      "0.6534896889819745 : {'max_depth': 50, 'max_features': 20, 'n_estimators': 100}\n",
      "0.6535197700351276 : {'max_depth': 50, 'max_features': 15, 'n_estimators': 100}\n",
      "0.6537553854635244 : {'max_depth': 50, 'max_features': 25, 'n_estimators': 100}\n",
      "0.6543088241792201 : {'max_depth': 40, 'max_features': 25, 'n_estimators': 100}\n"
     ]
    }
   ],
   "source": [
    "means = grid_result.cv_results_['mean_test_score']\n",
    "stds = grid_result.cv_results_['std_test_score']\n",
    "params = grid_result.cv_results_['params']\n",
    "\n",
    "scores=[]\n",
    "parameters=[]\n",
    "\n",
    "for mean, stdev, param in zip(means, stds, params):\n",
    "    scores.append(mean)\n",
    "    parameters.append(param)\n",
    "    \n",
    "scores= np.array(scores)\n",
    "params=np.array(params)\n",
    "scores.argsort()[-10:]\n",
    "\n",
    "ps = params[scores.argsort()[-10:]]\n",
    "ss = scores[scores.argsort()[-10:]]\n",
    "\n",
    "for p, s in zip(ps, ss):\n",
    "    print(s, ':', p)"
   ]
  },
  {
   "cell_type": "markdown",
   "metadata": {},
   "source": [
    "##### Using suggested metrics #1"
   ]
  },
  {
   "cell_type": "code",
   "execution_count": 29,
   "metadata": {},
   "outputs": [],
   "source": [
    "X_train, X_test, y_train, y_test = train_test_split(X[:100000], y.values.ravel()[:100000], test_size = 0.2, random_state=2)"
   ]
  },
  {
   "cell_type": "code",
   "execution_count": 30,
   "metadata": {},
   "outputs": [
    {
     "name": "stdout",
     "output_type": "stream",
     "text": [
      "RF F1 Score: 0.6585952019064046\n",
      "Time: 0.5856198827425639 minutes\n"
     ]
    }
   ],
   "source": [
    "import time\n",
    "from sklearn.ensemble import RandomForestClassifier\n",
    "from sklearn.metrics import f1_score\n",
    "\n",
    "rf_tune1 = RandomForestClassifier(n_jobs=-1, max_depth=40, max_features=25, n_estimators=100)\n",
    "\n",
    "start = time.time()\n",
    "\n",
    "rf_tune1.fit(X_train, y_train)\n",
    "ypred_rf_tune1 = rf_tune1.predict(X_test)\n",
    "f1_rf_tune1 = f1_score(y_test, ypred_rf_tune1, average='weighted')\n",
    "\n",
    "\n",
    "end= time.time()\n",
    "total = end - start\n",
    "\n",
    "print('RF F1 Score:', f1_rf_tune1)\n",
    "print(\"Time:\", total/60, \"minutes\")"
   ]
  },
  {
   "cell_type": "markdown",
   "metadata": {},
   "source": [
    "##### Using suggested metrics #2"
   ]
  },
  {
   "cell_type": "code",
   "execution_count": 31,
   "metadata": {},
   "outputs": [
    {
     "name": "stdout",
     "output_type": "stream",
     "text": [
      "RF F1 Score: 0.6564721232495719\n",
      "Time: 0.4936505715052287 minutes\n"
     ]
    }
   ],
   "source": [
    "import time\n",
    "from sklearn.ensemble import RandomForestClassifier\n",
    "from sklearn.metrics import f1_score\n",
    "\n",
    "rf_tune2 = RandomForestClassifier(n_jobs=-1, max_depth=50, max_features=25, n_estimators=100)\n",
    "\n",
    "start = time.time()\n",
    "\n",
    "rf_tune2.fit(X_train, y_train)\n",
    "ypred_rf_tune2 = rf_tune2.predict(X_test)\n",
    "f1_rf_tune2 = f1_score(y_test, ypred_rf_tune2, average='weighted')\n",
    "\n",
    "end= time.time()\n",
    "total = end - start\n",
    "\n",
    "print('RF F1 Score:', f1_rf_tune2)\n",
    "print(\"Time:\", total/60, \"minutes\")"
   ]
  },
  {
   "cell_type": "markdown",
   "metadata": {},
   "source": [
    "##### Using suggested parameters #3"
   ]
  },
  {
   "cell_type": "code",
   "execution_count": 32,
   "metadata": {},
   "outputs": [
    {
     "name": "stdout",
     "output_type": "stream",
     "text": [
      "RF F1 Score: 0.6553763465961988\n",
      "Time: 0.42471795082092284 minutes\n"
     ]
    }
   ],
   "source": [
    "import time\n",
    "from sklearn.ensemble import RandomForestClassifier\n",
    "from sklearn.metrics import f1_score\n",
    "\n",
    "start = time.time()\n",
    "\n",
    "rf_tune3 = RandomForestClassifier(n_jobs=-1, max_depth=50, max_features=15, n_estimators=100)\n",
    "rf_tune3.fit(X_train, y_train)\n",
    "ypred_rf_tune3 = rf_tune3.predict(X_test)\n",
    "f1_rf_tune3 = f1_score(y_test, ypred_rf_tune3, average='weighted')\n",
    "\n",
    "end= time.time()\n",
    "total = end - start\n",
    "\n",
    "print('RF F1 Score:', f1_rf_tune3)\n",
    "print(\"Time:\", total/60, \"minutes\")"
   ]
  },
  {
   "cell_type": "markdown",
   "metadata": {},
   "source": [
    "##### Using suggested parameters #4"
   ]
  },
  {
   "cell_type": "code",
   "execution_count": 33,
   "metadata": {},
   "outputs": [
    {
     "name": "stdout",
     "output_type": "stream",
     "text": [
      "RF F1 Score: 0.6577537997932067\n",
      "Time: 0.4137455463409424 minutes\n"
     ]
    }
   ],
   "source": [
    "import time\n",
    "from sklearn.ensemble import RandomForestClassifier\n",
    "from sklearn.metrics import f1_score\n",
    "\n",
    "start = time.time()\n",
    "\n",
    "rf_tune4 = RandomForestClassifier(n_jobs=-1, max_depth=50, max_features=20, n_estimators=100)\n",
    "rf_tune4.fit(X_train, y_train)\n",
    "ypred_rf_tune4 = rf_tune4.predict(X_test)\n",
    "f1_rf_tune4 = f1_score(y_test, ypred_rf_tune4, average='weighted')\n",
    "\n",
    "end= time.time()\n",
    "total = end - start\n",
    "\n",
    "print('RF F1 Score:', f1_rf_tune4)\n",
    "print(\"Time:\", total/60, \"minutes\")"
   ]
  },
  {
   "cell_type": "markdown",
   "metadata": {},
   "source": [
    "##### Using Randomized Search CV"
   ]
  },
  {
   "cell_type": "code",
   "execution_count": 92,
   "metadata": {},
   "outputs": [],
   "source": [
    "X_train, X_test, y_train, y_test = train_test_split(X, y.values.ravel(), test_size = 0.2, random_state=2)"
   ]
  },
  {
   "cell_type": "code",
   "execution_count": 93,
   "metadata": {},
   "outputs": [
    {
     "name": "stdout",
     "output_type": "stream",
     "text": [
      "time: 237.54684102932612 minutes\n",
      "best params: {'criterion': 'gini', 'max_depth': 35, 'max_features': 17, 'n_estimators': 73}\n",
      "best score: 0.6448718097819596\n"
     ]
    }
   ],
   "source": [
    "from scipy.stats import randint\n",
    "from sklearn.model_selection import RandomizedSearchCV\n",
    "\n",
    "start = time.time()\n",
    "\n",
    "params = {'max_depth':randint(1,50),\n",
    "         'max_features':randint(1,40),\n",
    "          'n_estimators':randint(10,100),\n",
    "         'criterion':['gini']}\n",
    "\n",
    "rf = RandomForestClassifier()\n",
    "\n",
    "scorer = make_scorer(f1_score, average = 'weighted')\n",
    "\n",
    "randomized_rf = RandomizedSearchCV(rf, params, cv=5, scoring=scorer)\n",
    "\n",
    "randomized_rf.fit(X_train, y_train)\n",
    "\n",
    "\n",
    "end=time.time()\n",
    "print('time:', (end-start)/60, 'minutes')\n",
    "print('best params:', randomized_rf.best_params_)\n",
    "print('best score:', randomized_rf.best_score_)"
   ]
  },
  {
   "cell_type": "markdown",
   "metadata": {},
   "source": [
    "#### Using Suggested Parameters #5"
   ]
  },
  {
   "cell_type": "code",
   "execution_count": 95,
   "metadata": {},
   "outputs": [
    {
     "name": "stdout",
     "output_type": "stream",
     "text": [
      "RF F1 Score: 0.6551223008101259\n",
      "Time: 0.2654785672823588 minutes\n"
     ]
    }
   ],
   "source": [
    "import time\n",
    "from sklearn.ensemble import RandomForestClassifier\n",
    "from sklearn.metrics import f1_score\n",
    "\n",
    "X_train, X_test, y_train, y_test = train_test_split(X[:100000], y.values.ravel()[:100000], test_size = 0.2, random_state=2)\n",
    "\n",
    "start = time.time()\n",
    "\n",
    "rf_tune5 = RandomForestClassifier(n_jobs=-1, max_depth=35, max_features=17, n_estimators=73)\n",
    "rf_tune5.fit(X_train, y_train)\n",
    "ypred_rf_tune5 = rf_tune5.predict(X_test)\n",
    "f1_rf_tune5 = f1_score(y_test, ypred_rf_tune5, average='weighted')\n",
    "\n",
    "end= time.time()\n",
    "total = end - start\n",
    "\n",
    "print('RF F1 Score:', f1_rf_tune5)\n",
    "print(\"Time:\", total/60, \"minutes\")"
   ]
  },
  {
   "cell_type": "markdown",
   "metadata": {},
   "source": [
    "Model Metrics Table"
   ]
  },
  {
   "cell_type": "code",
   "execution_count": 96,
   "metadata": {},
   "outputs": [
    {
     "data": {
      "text/html": [
       "<div>\n",
       "<style scoped>\n",
       "    .dataframe tbody tr th:only-of-type {\n",
       "        vertical-align: middle;\n",
       "    }\n",
       "\n",
       "    .dataframe tbody tr th {\n",
       "        vertical-align: top;\n",
       "    }\n",
       "\n",
       "    .dataframe thead th {\n",
       "        text-align: right;\n",
       "    }\n",
       "</style>\n",
       "<table border=\"1\" class=\"dataframe\">\n",
       "  <thead>\n",
       "    <tr style=\"text-align: right;\">\n",
       "      <th></th>\n",
       "      <th>models</th>\n",
       "      <th>F1 Scores, out-of-box</th>\n",
       "      <th>F1 Scores, Tune1</th>\n",
       "      <th>F1 Scores, Tune2</th>\n",
       "      <th>F1 Scores, Tune3</th>\n",
       "      <th>F1 Scores, Tune4</th>\n",
       "      <th>F1 Scores, Tune5</th>\n",
       "    </tr>\n",
       "  </thead>\n",
       "  <tbody>\n",
       "    <tr>\n",
       "      <th>0</th>\n",
       "      <td>Random Forest</td>\n",
       "      <td>0.656930</td>\n",
       "      <td>0.658595</td>\n",
       "      <td>0.656472</td>\n",
       "      <td>0.655376</td>\n",
       "      <td>0.657754</td>\n",
       "      <td>0.655122</td>\n",
       "    </tr>\n",
       "    <tr>\n",
       "      <th>1</th>\n",
       "      <td>Logistic Regression</td>\n",
       "      <td>0.622273</td>\n",
       "      <td>--</td>\n",
       "      <td>--</td>\n",
       "      <td>--</td>\n",
       "      <td>--</td>\n",
       "      <td>--</td>\n",
       "    </tr>\n",
       "  </tbody>\n",
       "</table>\n",
       "</div>"
      ],
      "text/plain": [
       "                models  F1 Scores, out-of-box F1 Scores, Tune1  \\\n",
       "0        Random Forest               0.656930         0.658595   \n",
       "1  Logistic Regression               0.622273               --   \n",
       "\n",
       "  F1 Scores, Tune2 F1 Scores, Tune3 F1 Scores, Tune4 F1 Scores, Tune5  \n",
       "0         0.656472         0.655376         0.657754         0.655122  \n",
       "1               --               --               --               --  "
      ]
     },
     "execution_count": 96,
     "metadata": {},
     "output_type": "execute_result"
    }
   ],
   "source": [
    "scores = pd.DataFrame({'models':['Random Forest', 'Logistic Regression'],\n",
    "             'F1 Scores, out-of-box': [f1_rf.mean(), f1_lr.mean()],\n",
    "                      'F1 Scores, Tune1':[f1_rf_tune1.mean(), '--'],\n",
    "                      'F1 Scores, Tune2': [f1_rf_tune2.mean(), '--'],\n",
    "                      'F1 Scores, Tune3': [f1_rf_tune3.mean(), '--'],\n",
    "                      'F1 Scores, Tune4': [f1_rf_tune4.mean(), '--'],\n",
    "                      'F1 Scores, Tune5': [f1_rf_tune5.mean(), '--']})\n",
    "scores"
   ]
  },
  {
   "cell_type": "code",
   "execution_count": 41,
   "metadata": {},
   "outputs": [],
   "source": [
    "scores.to_csv('../reports/figures/model_scores.csv')"
   ]
  },
  {
   "cell_type": "markdown",
   "metadata": {},
   "source": [
    "#### Training Best Model on all the Data:"
   ]
  },
  {
   "cell_type": "code",
   "execution_count": 9,
   "metadata": {},
   "outputs": [
    {
     "name": "stdout",
     "output_type": "stream",
     "text": [
      "RF F1 Score: 0.6497838132468272\n",
      "Time: 32.82812073628108 minutes\n"
     ]
    }
   ],
   "source": [
    "import time\n",
    "from sklearn.ensemble import RandomForestClassifier\n",
    "from sklearn.metrics import f1_score\n",
    "from sklearn.model_selection import train_test_split\n",
    "\n",
    "X_train, X_test, y_train, y_test = train_test_split(X, y.values.ravel(), test_size = 0.2, random_state=2)\n",
    "\n",
    "rf_best = RandomForestClassifier(n_jobs=-1, max_depth=40, max_features=25, n_estimators=100)\n",
    "\n",
    "start = time.time()\n",
    "\n",
    "rf_best.fit(X_train, y_train)\n",
    "ypred_rf_best = rf_best.predict(X_test)\n",
    "f1_rf_best = f1_score(y_test, ypred_rf_best, average='weighted')\n",
    "\n",
    "\n",
    "end= time.time()\n",
    "total = end - start\n",
    "\n",
    "print('RF F1 Score:', f1_rf_best)\n",
    "print(\"Time:\", total/60, \"minutes\")"
   ]
  },
  {
   "cell_type": "markdown",
   "metadata": {},
   "source": [
    "#### Showing confusion matrix of best performing model:"
   ]
  },
  {
   "cell_type": "code",
   "execution_count": 62,
   "metadata": {},
   "outputs": [
    {
     "name": "stdout",
     "output_type": "stream",
     "text": [
      "Time: 0.20809108416239422 minutes\n"
     ]
    },
    {
     "data": {
      "text/plain": [
       "<sklearn.metrics._plot.confusion_matrix.ConfusionMatrixDisplay at 0x7f8e117db390>"
      ]
     },
     "execution_count": 62,
     "metadata": {},
     "output_type": "execute_result"
    },
    {
     "data": {
      "text/plain": [
       "<Figure size 1440x1440 with 0 Axes>"
      ]
     },
     "metadata": {},
     "output_type": "display_data"
    },
    {
     "data": {
      "image/png": "[encoded data removed]",
      "text/plain": [
       "<Figure size 432x288 with 2 Axes>"
      ]
     },
     "metadata": {
      "needs_background": "light"
     },
     "output_type": "display_data"
    }
   ],
   "source": [
    "from sklearn.metrics import plot_confusion_matrix\n",
    "\n",
    "start = time.time()\n",
    "\n",
    "plt.figure(figsize=(20,20))\n",
    "z = plot_confusion_matrix(rf_best, X_test, y_test, labels=['very low','low','medium','high','very high'])\n",
    "plt.savefig('confusion_matrix_RF_best.png')\n",
    "\n",
    "end=time.time()\n",
    "\n",
    "print('Time:', (end-start)/60, 'minutes')\n",
    "z"
   ]
  },
  {
   "cell_type": "markdown",
   "metadata": {},
   "source": [
    "#### Most important features of best performing model:"
   ]
  },
  {
   "cell_type": "code",
   "execution_count": 63,
   "metadata": {},
   "outputs": [
    {
     "data": {
      "text/html": [
       "<div>\n",
       "<style scoped>\n",
       "    .dataframe tbody tr th:only-of-type {\n",
       "        vertical-align: middle;\n",
       "    }\n",
       "\n",
       "    .dataframe tbody tr th {\n",
       "        vertical-align: top;\n",
       "    }\n",
       "\n",
       "    .dataframe thead th {\n",
       "        text-align: right;\n",
       "    }\n",
       "</style>\n",
       "<table border=\"1\" class=\"dataframe\">\n",
       "  <thead>\n",
       "    <tr style=\"text-align: right;\">\n",
       "      <th></th>\n",
       "      <th>Features</th>\n",
       "      <th>Importances</th>\n",
       "    </tr>\n",
       "  </thead>\n",
       "  <tbody>\n",
       "    <tr>\n",
       "      <th>6</th>\n",
       "      <td>submitted_charges_per_person</td>\n",
       "      <td>0.090531</td>\n",
       "    </tr>\n",
       "    <tr>\n",
       "      <th>5</th>\n",
       "      <td>avg_hcc_risk_score</td>\n",
       "      <td>0.073834</td>\n",
       "    </tr>\n",
       "    <tr>\n",
       "      <th>8</th>\n",
       "      <td>submitted_charges_per_service</td>\n",
       "      <td>0.061953</td>\n",
       "    </tr>\n",
       "    <tr>\n",
       "      <th>3</th>\n",
       "      <td>total_submitted_charges</td>\n",
       "      <td>0.061168</td>\n",
       "    </tr>\n",
       "    <tr>\n",
       "      <th>7</th>\n",
       "      <td>services_per_person</td>\n",
       "      <td>0.055767</td>\n",
       "    </tr>\n",
       "    <tr>\n",
       "      <th>1</th>\n",
       "      <td>number_of_services</td>\n",
       "      <td>0.049064</td>\n",
       "    </tr>\n",
       "    <tr>\n",
       "      <th>2</th>\n",
       "      <td>total_beneficiaries</td>\n",
       "      <td>0.044112</td>\n",
       "    </tr>\n",
       "    <tr>\n",
       "      <th>0</th>\n",
       "      <td>number_of_hcpcs</td>\n",
       "      <td>0.043498</td>\n",
       "    </tr>\n",
       "    <tr>\n",
       "      <th>15</th>\n",
       "      <td>percent_asian</td>\n",
       "      <td>0.033756</td>\n",
       "    </tr>\n",
       "    <tr>\n",
       "      <th>16</th>\n",
       "      <td>percent_two_or_more_races</td>\n",
       "      <td>0.033311</td>\n",
       "    </tr>\n",
       "    <tr>\n",
       "      <th>9</th>\n",
       "      <td>total_pop</td>\n",
       "      <td>0.033273</td>\n",
       "    </tr>\n",
       "    <tr>\n",
       "      <th>4</th>\n",
       "      <td>avg_beneficiary_age</td>\n",
       "      <td>0.033096</td>\n",
       "    </tr>\n",
       "    <tr>\n",
       "      <th>13</th>\n",
       "      <td>percent_hispanic</td>\n",
       "      <td>0.033004</td>\n",
       "    </tr>\n",
       "    <tr>\n",
       "      <th>10</th>\n",
       "      <td>percent_black</td>\n",
       "      <td>0.032702</td>\n",
       "    </tr>\n",
       "    <tr>\n",
       "      <th>11</th>\n",
       "      <td>percent_white</td>\n",
       "      <td>0.032151</td>\n",
       "    </tr>\n",
       "    <tr>\n",
       "      <th>12</th>\n",
       "      <td>percent_native_amer</td>\n",
       "      <td>0.030337</td>\n",
       "    </tr>\n",
       "    <tr>\n",
       "      <th>14</th>\n",
       "      <td>percent_other</td>\n",
       "      <td>0.027938</td>\n",
       "    </tr>\n",
       "    <tr>\n",
       "      <th>17</th>\n",
       "      <td>entity_code_I</td>\n",
       "      <td>0.019515</td>\n",
       "    </tr>\n",
       "    <tr>\n",
       "      <th>18</th>\n",
       "      <td>entity_code_O</td>\n",
       "      <td>0.016897</td>\n",
       "    </tr>\n",
       "    <tr>\n",
       "      <th>118</th>\n",
       "      <td>provider_type_Mass Immunizer Roster Biller</td>\n",
       "      <td>0.011026</td>\n",
       "    </tr>\n",
       "  </tbody>\n",
       "</table>\n",
       "</div>"
      ],
      "text/plain": [
       "                                       Features  Importances\n",
       "6                  submitted_charges_per_person     0.090531\n",
       "5                            avg_hcc_risk_score     0.073834\n",
       "8                 submitted_charges_per_service     0.061953\n",
       "3                       total_submitted_charges     0.061168\n",
       "7                           services_per_person     0.055767\n",
       "1                            number_of_services     0.049064\n",
       "2                           total_beneficiaries     0.044112\n",
       "0                               number_of_hcpcs     0.043498\n",
       "15                                percent_asian     0.033756\n",
       "16                    percent_two_or_more_races     0.033311\n",
       "9                                     total_pop     0.033273\n",
       "4                           avg_beneficiary_age     0.033096\n",
       "13                             percent_hispanic     0.033004\n",
       "10                                percent_black     0.032702\n",
       "11                                percent_white     0.032151\n",
       "12                          percent_native_amer     0.030337\n",
       "14                                percent_other     0.027938\n",
       "17                                entity_code_I     0.019515\n",
       "18                                entity_code_O     0.016897\n",
       "118  provider_type_Mass Immunizer Roster Biller     0.011026"
      ]
     },
     "execution_count": 63,
     "metadata": {},
     "output_type": "execute_result"
    }
   ],
   "source": [
    "pd.DataFrame({\n",
    "    'Features': X.columns,\n",
    "    'Importances':rf_best.feature_importances_\n",
    "            }).sort_values('Importances', ascending=False).head(20)"
   ]
  },
  {
   "cell_type": "markdown",
   "metadata": {},
   "source": [
    "#### Saving Feature Importances RF"
   ]
  },
  {
   "cell_type": "code",
   "execution_count": 11,
   "metadata": {},
   "outputs": [],
   "source": [
    "rf_imp = pd.DataFrame({\n",
    "    'Features': X.columns,\n",
    "    'Importances':rf_best.feature_importances_\n",
    "            }).sort_values('Importances', ascending=False)\n",
    "\n",
    "rf_imp.to_csv('../references/rf_best_feature_imp.csv')"
   ]
  },
  {
   "cell_type": "markdown",
   "metadata": {},
   "source": [
    "#### Most Extreme Errors from Best Model"
   ]
  },
  {
   "cell_type": "code",
   "execution_count": 82,
   "metadata": {},
   "outputs": [
    {
     "name": "stderr",
     "output_type": "stream",
     "text": [
      "/Users/Livi/opt/anaconda3/lib/python3.7/site-packages/numpy/lib/arraysetops.py:569: FutureWarning: elementwise comparison failed; returning scalar instead, but in the future will perform elementwise comparison\n",
      "  mask |= (ar1 == a)\n"
     ]
    }
   ],
   "source": [
    "idx = X_test.index\n",
    "examine_errors = pd.read_csv('../data/interim/merged_medicare_before_dropping.csv',index_col=0).loc[idx]\n",
    "examine_errors = pd.concat([examine_errors.reset_index(drop=True),\n",
    "                                    pd.Series(ypred_rf_best).rename('ypred'),\n",
    "                                    pd.Series(y_test).rename('ytest')], axis=1)"
   ]
  },
  {
   "cell_type": "code",
   "execution_count": null,
   "metadata": {},
   "outputs": [],
   "source": [
    "examine_errors.columns"
   ]
  },
  {
   "cell_type": "markdown",
   "metadata": {},
   "source": [
    "#### I really wanted to see if the payment model is not supporting racial minorities. Let's look at \"very high\" predictions that were actually \"very low\""
   ]
  },
  {
   "cell_type": "code",
   "execution_count": 85,
   "metadata": {},
   "outputs": [],
   "source": [
    "false_very_high = examine_errors[\n",
    "    (examine_errors.ypred == 'very high') & (examine_errors.ytest == 'very low')]\n",
    "\n",
    "false_very_high = false_very_high[['entity_code','state','provider_type','number_of_services','number_of_hcpcs','total_beneficiaries','total_allowed_payment','avg_hcc_risk_score','allowed_payment_per_person','services_per_person','allowed_payment_per_service','region','subregion','total_pop','majority','ytest','ypred']]"
   ]
  },
  {
   "cell_type": "code",
   "execution_count": 86,
   "metadata": {},
   "outputs": [
    {
     "data": {
      "text/html": [
       "<div>\n",
       "<style scoped>\n",
       "    .dataframe tbody tr th:only-of-type {\n",
       "        vertical-align: middle;\n",
       "    }\n",
       "\n",
       "    .dataframe tbody tr th {\n",
       "        vertical-align: top;\n",
       "    }\n",
       "\n",
       "    .dataframe thead th {\n",
       "        text-align: right;\n",
       "    }\n",
       "</style>\n",
       "<table border=\"1\" class=\"dataframe\">\n",
       "  <thead>\n",
       "    <tr style=\"text-align: right;\">\n",
       "      <th></th>\n",
       "      <th>entity_code</th>\n",
       "      <th>state</th>\n",
       "      <th>provider_type</th>\n",
       "      <th>number_of_services</th>\n",
       "      <th>number_of_hcpcs</th>\n",
       "      <th>total_beneficiaries</th>\n",
       "      <th>total_submitted_charges</th>\n",
       "      <th>avg_hcc_risk_score</th>\n",
       "      <th>submitted_charges_per_person</th>\n",
       "      <th>services_per_person</th>\n",
       "      <th>submitted_charges_per_service</th>\n",
       "      <th>region</th>\n",
       "      <th>subregion</th>\n",
       "      <th>total_pop</th>\n",
       "      <th>majority</th>\n",
       "      <th>ytest</th>\n",
       "      <th>ypred</th>\n",
       "    </tr>\n",
       "  </thead>\n",
       "  <tbody>\n",
       "    <tr>\n",
       "      <th>918</th>\n",
       "      <td>I</td>\n",
       "      <td>NM</td>\n",
       "      <td>Diagnostic Radiology</td>\n",
       "      <td>29.0</td>\n",
       "      <td>17</td>\n",
       "      <td>15</td>\n",
       "      <td>726.00</td>\n",
       "      <td>1.6680</td>\n",
       "      <td>48.40</td>\n",
       "      <td>1.93</td>\n",
       "      <td>25.03</td>\n",
       "      <td>West</td>\n",
       "      <td>Mountain</td>\n",
       "      <td>24123.0</td>\n",
       "      <td>no_majority</td>\n",
       "      <td>very low</td>\n",
       "      <td>very high</td>\n",
       "    </tr>\n",
       "    <tr>\n",
       "      <th>2562</th>\n",
       "      <td>I</td>\n",
       "      <td>SD</td>\n",
       "      <td>Certified Nurse Midwife</td>\n",
       "      <td>16.0</td>\n",
       "      <td>4</td>\n",
       "      <td>15</td>\n",
       "      <td>903.00</td>\n",
       "      <td>0.8483</td>\n",
       "      <td>60.20</td>\n",
       "      <td>1.07</td>\n",
       "      <td>56.44</td>\n",
       "      <td>Midwest</td>\n",
       "      <td>West North Central</td>\n",
       "      <td>22501.0</td>\n",
       "      <td>majority_white</td>\n",
       "      <td>very low</td>\n",
       "      <td>very high</td>\n",
       "    </tr>\n",
       "    <tr>\n",
       "      <th>2789</th>\n",
       "      <td>I</td>\n",
       "      <td>KY</td>\n",
       "      <td>Nurse Practitioner</td>\n",
       "      <td>310.0</td>\n",
       "      <td>32</td>\n",
       "      <td>119</td>\n",
       "      <td>7781.04</td>\n",
       "      <td>1.5591</td>\n",
       "      <td>65.39</td>\n",
       "      <td>2.61</td>\n",
       "      <td>25.10</td>\n",
       "      <td>South</td>\n",
       "      <td>East South Central</td>\n",
       "      <td>6507.0</td>\n",
       "      <td>majority_white</td>\n",
       "      <td>very low</td>\n",
       "      <td>very high</td>\n",
       "    </tr>\n",
       "    <tr>\n",
       "      <th>5942</th>\n",
       "      <td>I</td>\n",
       "      <td>AR</td>\n",
       "      <td>Nurse Practitioner</td>\n",
       "      <td>39.0</td>\n",
       "      <td>12</td>\n",
       "      <td>15</td>\n",
       "      <td>1165.80</td>\n",
       "      <td>1.3619</td>\n",
       "      <td>77.72</td>\n",
       "      <td>2.60</td>\n",
       "      <td>29.89</td>\n",
       "      <td>South</td>\n",
       "      <td>West South Central</td>\n",
       "      <td>56445.0</td>\n",
       "      <td>no_majority</td>\n",
       "      <td>very low</td>\n",
       "      <td>very high</td>\n",
       "    </tr>\n",
       "    <tr>\n",
       "      <th>6948</th>\n",
       "      <td>I</td>\n",
       "      <td>MI</td>\n",
       "      <td>Family Practice</td>\n",
       "      <td>80.0</td>\n",
       "      <td>6</td>\n",
       "      <td>20</td>\n",
       "      <td>1936.00</td>\n",
       "      <td>1.4554</td>\n",
       "      <td>96.80</td>\n",
       "      <td>4.00</td>\n",
       "      <td>24.20</td>\n",
       "      <td>Midwest</td>\n",
       "      <td>East North Central</td>\n",
       "      <td>8479.0</td>\n",
       "      <td>majority_white</td>\n",
       "      <td>very low</td>\n",
       "      <td>very high</td>\n",
       "    </tr>\n",
       "    <tr>\n",
       "      <th>...</th>\n",
       "      <td>...</td>\n",
       "      <td>...</td>\n",
       "      <td>...</td>\n",
       "      <td>...</td>\n",
       "      <td>...</td>\n",
       "      <td>...</td>\n",
       "      <td>...</td>\n",
       "      <td>...</td>\n",
       "      <td>...</td>\n",
       "      <td>...</td>\n",
       "      <td>...</td>\n",
       "      <td>...</td>\n",
       "      <td>...</td>\n",
       "      <td>...</td>\n",
       "      <td>...</td>\n",
       "      <td>...</td>\n",
       "      <td>...</td>\n",
       "    </tr>\n",
       "    <tr>\n",
       "      <th>210794</th>\n",
       "      <td>I</td>\n",
       "      <td>FL</td>\n",
       "      <td>Family Practice</td>\n",
       "      <td>32.0</td>\n",
       "      <td>2</td>\n",
       "      <td>27</td>\n",
       "      <td>1175.00</td>\n",
       "      <td>1.2948</td>\n",
       "      <td>43.52</td>\n",
       "      <td>1.19</td>\n",
       "      <td>36.72</td>\n",
       "      <td>South</td>\n",
       "      <td>South Atlantic</td>\n",
       "      <td>19986.0</td>\n",
       "      <td>no_majority</td>\n",
       "      <td>very low</td>\n",
       "      <td>very high</td>\n",
       "    </tr>\n",
       "    <tr>\n",
       "      <th>211041</th>\n",
       "      <td>I</td>\n",
       "      <td>CA</td>\n",
       "      <td>Internal Medicine</td>\n",
       "      <td>16.0</td>\n",
       "      <td>3</td>\n",
       "      <td>11</td>\n",
       "      <td>193.00</td>\n",
       "      <td>1.8882</td>\n",
       "      <td>17.55</td>\n",
       "      <td>1.45</td>\n",
       "      <td>12.06</td>\n",
       "      <td>West</td>\n",
       "      <td>Pacific</td>\n",
       "      <td>46261.0</td>\n",
       "      <td>majority_white</td>\n",
       "      <td>very low</td>\n",
       "      <td>very high</td>\n",
       "    </tr>\n",
       "    <tr>\n",
       "      <th>211196</th>\n",
       "      <td>I</td>\n",
       "      <td>KY</td>\n",
       "      <td>Nurse Practitioner</td>\n",
       "      <td>959.0</td>\n",
       "      <td>30</td>\n",
       "      <td>216</td>\n",
       "      <td>18672.00</td>\n",
       "      <td>1.1510</td>\n",
       "      <td>86.44</td>\n",
       "      <td>4.44</td>\n",
       "      <td>19.47</td>\n",
       "      <td>South</td>\n",
       "      <td>East South Central</td>\n",
       "      <td>4879.0</td>\n",
       "      <td>majority_white</td>\n",
       "      <td>very low</td>\n",
       "      <td>very high</td>\n",
       "    </tr>\n",
       "    <tr>\n",
       "      <th>212055</th>\n",
       "      <td>I</td>\n",
       "      <td>CA</td>\n",
       "      <td>Family Practice</td>\n",
       "      <td>18.0</td>\n",
       "      <td>4</td>\n",
       "      <td>14</td>\n",
       "      <td>524.00</td>\n",
       "      <td>1.0729</td>\n",
       "      <td>37.43</td>\n",
       "      <td>1.29</td>\n",
       "      <td>29.11</td>\n",
       "      <td>West</td>\n",
       "      <td>Pacific</td>\n",
       "      <td>44686.0</td>\n",
       "      <td>majority_white</td>\n",
       "      <td>very low</td>\n",
       "      <td>very high</td>\n",
       "    </tr>\n",
       "    <tr>\n",
       "      <th>213042</th>\n",
       "      <td>I</td>\n",
       "      <td>IN</td>\n",
       "      <td>Nurse Practitioner</td>\n",
       "      <td>34.0</td>\n",
       "      <td>12</td>\n",
       "      <td>19</td>\n",
       "      <td>1347.00</td>\n",
       "      <td>1.3521</td>\n",
       "      <td>70.89</td>\n",
       "      <td>1.79</td>\n",
       "      <td>39.62</td>\n",
       "      <td>Midwest</td>\n",
       "      <td>East North Central</td>\n",
       "      <td>31810.0</td>\n",
       "      <td>majority_white</td>\n",
       "      <td>very low</td>\n",
       "      <td>very high</td>\n",
       "    </tr>\n",
       "  </tbody>\n",
       "</table>\n",
       "<p>95 rows × 17 columns</p>\n",
       "</div>"
      ],
      "text/plain": [
       "       entity_code state            provider_type  number_of_services  \\\n",
       "918              I    NM     Diagnostic Radiology                29.0   \n",
       "2562             I    SD  Certified Nurse Midwife                16.0   \n",
       "2789             I    KY       Nurse Practitioner               310.0   \n",
       "5942             I    AR       Nurse Practitioner                39.0   \n",
       "6948             I    MI          Family Practice                80.0   \n",
       "...            ...   ...                      ...                 ...   \n",
       "210794           I    FL          Family Practice                32.0   \n",
       "211041           I    CA        Internal Medicine                16.0   \n",
       "211196           I    KY       Nurse Practitioner               959.0   \n",
       "212055           I    CA          Family Practice                18.0   \n",
       "213042           I    IN       Nurse Practitioner                34.0   \n",
       "\n",
       "        number_of_hcpcs  total_beneficiaries  total_submitted_charges  \\\n",
       "918                  17                   15                   726.00   \n",
       "2562                  4                   15                   903.00   \n",
       "2789                 32                  119                  7781.04   \n",
       "5942                 12                   15                  1165.80   \n",
       "6948                  6                   20                  1936.00   \n",
       "...                 ...                  ...                      ...   \n",
       "210794                2                   27                  1175.00   \n",
       "211041                3                   11                   193.00   \n",
       "211196               30                  216                 18672.00   \n",
       "212055                4                   14                   524.00   \n",
       "213042               12                   19                  1347.00   \n",
       "\n",
       "        avg_hcc_risk_score  submitted_charges_per_person  services_per_person  \\\n",
       "918                 1.6680                         48.40                 1.93   \n",
       "2562                0.8483                         60.20                 1.07   \n",
       "2789                1.5591                         65.39                 2.61   \n",
       "5942                1.3619                         77.72                 2.60   \n",
       "6948                1.4554                         96.80                 4.00   \n",
       "...                    ...                           ...                  ...   \n",
       "210794              1.2948                         43.52                 1.19   \n",
       "211041              1.8882                         17.55                 1.45   \n",
       "211196              1.1510                         86.44                 4.44   \n",
       "212055              1.0729                         37.43                 1.29   \n",
       "213042              1.3521                         70.89                 1.79   \n",
       "\n",
       "        submitted_charges_per_service   region           subregion  total_pop  \\\n",
       "918                             25.03     West            Mountain    24123.0   \n",
       "2562                            56.44  Midwest  West North Central    22501.0   \n",
       "2789                            25.10    South  East South Central     6507.0   \n",
       "5942                            29.89    South  West South Central    56445.0   \n",
       "6948                            24.20  Midwest  East North Central     8479.0   \n",
       "...                               ...      ...                 ...        ...   \n",
       "210794                          36.72    South      South Atlantic    19986.0   \n",
       "211041                          12.06     West             Pacific    46261.0   \n",
       "211196                          19.47    South  East South Central     4879.0   \n",
       "212055                          29.11     West             Pacific    44686.0   \n",
       "213042                          39.62  Midwest  East North Central    31810.0   \n",
       "\n",
       "              majority     ytest      ypred  \n",
       "918        no_majority  very low  very high  \n",
       "2562    majority_white  very low  very high  \n",
       "2789    majority_white  very low  very high  \n",
       "5942       no_majority  very low  very high  \n",
       "6948    majority_white  very low  very high  \n",
       "...                ...       ...        ...  \n",
       "210794     no_majority  very low  very high  \n",
       "211041  majority_white  very low  very high  \n",
       "211196  majority_white  very low  very high  \n",
       "212055  majority_white  very low  very high  \n",
       "213042  majority_white  very low  very high  \n",
       "\n",
       "[95 rows x 17 columns]"
      ]
     },
     "execution_count": 86,
     "metadata": {},
     "output_type": "execute_result"
    }
   ],
   "source": [
    "false_very_high"
   ]
  },
  {
   "cell_type": "code",
   "execution_count": 88,
   "metadata": {},
   "outputs": [
    {
     "data": {
      "text/html": [
       "<div>\n",
       "<style scoped>\n",
       "    .dataframe tbody tr th:only-of-type {\n",
       "        vertical-align: middle;\n",
       "    }\n",
       "\n",
       "    .dataframe tbody tr th {\n",
       "        vertical-align: top;\n",
       "    }\n",
       "\n",
       "    .dataframe thead th {\n",
       "        text-align: right;\n",
       "    }\n",
       "</style>\n",
       "<table border=\"1\" class=\"dataframe\">\n",
       "  <thead>\n",
       "    <tr style=\"text-align: right;\">\n",
       "      <th></th>\n",
       "      <th>entity_code</th>\n",
       "      <th>state</th>\n",
       "      <th>provider_type</th>\n",
       "      <th>number_of_services</th>\n",
       "      <th>number_of_hcpcs</th>\n",
       "      <th>total_beneficiaries</th>\n",
       "      <th>total_submitted_charges</th>\n",
       "      <th>avg_hcc_risk_score</th>\n",
       "      <th>submitted_charges_per_person</th>\n",
       "      <th>services_per_person</th>\n",
       "      <th>submitted_charges_per_service</th>\n",
       "      <th>region</th>\n",
       "      <th>subregion</th>\n",
       "      <th>total_pop</th>\n",
       "      <th>majority</th>\n",
       "      <th>ytest</th>\n",
       "      <th>ypred</th>\n",
       "    </tr>\n",
       "  </thead>\n",
       "  <tbody>\n",
       "    <tr>\n",
       "      <th>2394</th>\n",
       "      <td>I</td>\n",
       "      <td>MS</td>\n",
       "      <td>Nurse Practitioner</td>\n",
       "      <td>108.0</td>\n",
       "      <td>28</td>\n",
       "      <td>44</td>\n",
       "      <td>4970.10</td>\n",
       "      <td>1.1361</td>\n",
       "      <td>112.96</td>\n",
       "      <td>2.45</td>\n",
       "      <td>46.02</td>\n",
       "      <td>South</td>\n",
       "      <td>East South Central</td>\n",
       "      <td>27109.0</td>\n",
       "      <td>no_majority</td>\n",
       "      <td>low</td>\n",
       "      <td>very high</td>\n",
       "    </tr>\n",
       "    <tr>\n",
       "      <th>6000</th>\n",
       "      <td>I</td>\n",
       "      <td>NY</td>\n",
       "      <td>Nurse Practitioner</td>\n",
       "      <td>25.0</td>\n",
       "      <td>2</td>\n",
       "      <td>13</td>\n",
       "      <td>470.00</td>\n",
       "      <td>0.9095</td>\n",
       "      <td>36.15</td>\n",
       "      <td>1.92</td>\n",
       "      <td>18.80</td>\n",
       "      <td>Northeast</td>\n",
       "      <td>Middle Atlantic</td>\n",
       "      <td>49068.0</td>\n",
       "      <td>no_majority</td>\n",
       "      <td>low</td>\n",
       "      <td>very high</td>\n",
       "    </tr>\n",
       "    <tr>\n",
       "      <th>9321</th>\n",
       "      <td>I</td>\n",
       "      <td>OK</td>\n",
       "      <td>Family Practice</td>\n",
       "      <td>1096.0</td>\n",
       "      <td>25</td>\n",
       "      <td>443</td>\n",
       "      <td>28018.00</td>\n",
       "      <td>1.0019</td>\n",
       "      <td>63.25</td>\n",
       "      <td>2.47</td>\n",
       "      <td>25.56</td>\n",
       "      <td>South</td>\n",
       "      <td>West South Central</td>\n",
       "      <td>6213.0</td>\n",
       "      <td>majority_white</td>\n",
       "      <td>low</td>\n",
       "      <td>very high</td>\n",
       "    </tr>\n",
       "    <tr>\n",
       "      <th>14825</th>\n",
       "      <td>I</td>\n",
       "      <td>VA</td>\n",
       "      <td>Family Practice</td>\n",
       "      <td>64.0</td>\n",
       "      <td>13</td>\n",
       "      <td>45</td>\n",
       "      <td>1594.68</td>\n",
       "      <td>1.1833</td>\n",
       "      <td>35.44</td>\n",
       "      <td>1.42</td>\n",
       "      <td>24.92</td>\n",
       "      <td>South</td>\n",
       "      <td>South Atlantic</td>\n",
       "      <td>30478.0</td>\n",
       "      <td>majority_white</td>\n",
       "      <td>low</td>\n",
       "      <td>very high</td>\n",
       "    </tr>\n",
       "    <tr>\n",
       "      <th>15209</th>\n",
       "      <td>I</td>\n",
       "      <td>WA</td>\n",
       "      <td>Nurse Practitioner</td>\n",
       "      <td>44.0</td>\n",
       "      <td>8</td>\n",
       "      <td>29</td>\n",
       "      <td>1611.67</td>\n",
       "      <td>1.3272</td>\n",
       "      <td>55.57</td>\n",
       "      <td>1.52</td>\n",
       "      <td>36.63</td>\n",
       "      <td>West</td>\n",
       "      <td>Pacific</td>\n",
       "      <td>12445.0</td>\n",
       "      <td>majority_white</td>\n",
       "      <td>low</td>\n",
       "      <td>very high</td>\n",
       "    </tr>\n",
       "  </tbody>\n",
       "</table>\n",
       "</div>"
      ],
      "text/plain": [
       "      entity_code state       provider_type  number_of_services  \\\n",
       "2394            I    MS  Nurse Practitioner               108.0   \n",
       "6000            I    NY  Nurse Practitioner                25.0   \n",
       "9321            I    OK     Family Practice              1096.0   \n",
       "14825           I    VA     Family Practice                64.0   \n",
       "15209           I    WA  Nurse Practitioner                44.0   \n",
       "\n",
       "       number_of_hcpcs  total_beneficiaries  total_submitted_charges  \\\n",
       "2394                28                   44                  4970.10   \n",
       "6000                 2                   13                   470.00   \n",
       "9321                25                  443                 28018.00   \n",
       "14825               13                   45                  1594.68   \n",
       "15209                8                   29                  1611.67   \n",
       "\n",
       "       avg_hcc_risk_score  submitted_charges_per_person  services_per_person  \\\n",
       "2394               1.1361                        112.96                 2.45   \n",
       "6000               0.9095                         36.15                 1.92   \n",
       "9321               1.0019                         63.25                 2.47   \n",
       "14825              1.1833                         35.44                 1.42   \n",
       "15209              1.3272                         55.57                 1.52   \n",
       "\n",
       "       submitted_charges_per_service     region           subregion  \\\n",
       "2394                           46.02      South  East South Central   \n",
       "6000                           18.80  Northeast     Middle Atlantic   \n",
       "9321                           25.56      South  West South Central   \n",
       "14825                          24.92      South      South Atlantic   \n",
       "15209                          36.63       West             Pacific   \n",
       "\n",
       "       total_pop        majority ytest      ypred  \n",
       "2394     27109.0     no_majority   low  very high  \n",
       "6000     49068.0     no_majority   low  very high  \n",
       "9321      6213.0  majority_white   low  very high  \n",
       "14825    30478.0  majority_white   low  very high  \n",
       "15209    12445.0  majority_white   low  very high  "
      ]
     },
     "execution_count": 88,
     "metadata": {},
     "output_type": "execute_result"
    }
   ],
   "source": [
    "false_high = examine_errors[\n",
    "    (examine_errors.ypred == 'very high') & (examine_errors.ytest == 'low')]\n",
    "\n",
    "false_high = false_high[['entity_code','state','provider_type','number_of_services','number_of_hcpcs','total_beneficiaries','total_submitted_charges','avg_hcc_risk_score','submitted_charges_per_person','services_per_person','submitted_charges_per_service','region','subregion','total_pop','majority','ytest','ypred']]\n",
    "false_high.head()"
   ]
  },
  {
   "cell_type": "code",
   "execution_count": 89,
   "metadata": {},
   "outputs": [
    {
     "data": {
      "text/plain": [
       "majority_white          65\n",
       "no_majority             24\n",
       "majority_hispanic       10\n",
       "majority_black           5\n",
       "majority_native_amer     1\n",
       "Name: majority, dtype: int64"
      ]
     },
     "execution_count": 89,
     "metadata": {},
     "output_type": "execute_result"
    }
   ],
   "source": [
    "false_high.majority.value_counts()"
   ]
  },
  {
   "cell_type": "code",
   "execution_count": 90,
   "metadata": {},
   "outputs": [
    {
     "data": {
      "text/plain": [
       "majority_white          66\n",
       "no_majority             16\n",
       "majority_black           7\n",
       "majority_hispanic        4\n",
       "majority_native_amer     2\n",
       "Name: majority, dtype: int64"
      ]
     },
     "execution_count": 90,
     "metadata": {},
     "output_type": "execute_result"
    }
   ],
   "source": [
    "false_very_high.majority.value_counts()"
   ]
  },
  {
   "cell_type": "code",
   "execution_count": 91,
   "metadata": {},
   "outputs": [],
   "source": [
    "#falselow.to_csv('../references/falselow.csv')\n",
    "false_very_high.to_csv('../references/falseveryhigh.csv')\n",
    "false_high.to_csv('../references/falsehigh.csv')"
   ]
  },
  {
   "cell_type": "code",
   "execution_count": null,
   "metadata": {},
   "outputs": [],
   "source": [
    "dfi.export(false_very_high, 'false_veryhigh_table.png')"
   ]
  }
 ],
 "metadata": {
  "kernelspec": {
   "display_name": "Python 3",
   "language": "python",
   "name": "python3"
  },
  "language_info": {
   "codemirror_mode": {
    "name": "ipython",
    "version": 3
   },
   "file_extension": ".py",
   "mimetype": "text/x-python",
   "name": "python",
   "nbconvert_exporter": "python",
   "pygments_lexer": "ipython3",
   "version": "3.7.7"
  }
 },
 "nbformat": 4,
 "nbformat_minor": 4
}
