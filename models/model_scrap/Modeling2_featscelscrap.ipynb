{
 "cells": [
  {
   "cell_type": "markdown",
   "metadata": {},
   "source": [
    "After all, the fundamental reason we build predictive machine learning models is typically to model what would happen under a particular set of circumstances which have either not yet occurred or have occurred but for which we do not know the actual result.\n",
    "\n",
    "\tHyperparameter tuning?\n",
    "\tShould I do BOTH data_with_paymentcols and data_without_paymentcols?\n",
    "\tLook at feature importances:\n",
    "        barchart for top x features or all features with coefficient > y. \n",
    "        How can I find the p-value for features? Is that only in regression?\n",
    "\tDo Ridge Regression and Lasso Regression.\n",
    "\t\tBarchart for top features\n",
    "\tMake DataFrame with top features for my model, Lasso Regression, and Ridge Regression (or model and Ridge)\n",
    "\tMake inferences: \n",
    "\t\tDoes race show up in these features? Where?\n",
    "\t\tHow do I interpret differences in RATES distinct from differences in CHARGES? A city doctor should CHARGE more, but should his rate b higher?\n",
    "        Or should a rural (lowpop) doctor have higher rates bc he might charge less?\n",
    "        Or might city doctors be cheap Public Health providers /Flu shots, thus paid in full?\n",
    "\n",
    "    Look at extreme mistakes:\n",
    "    Providers marked low but actually v high. Providers marked v high but actually low: barcharts of types of providers, racial majority, regions, subregions, histogram of submitted charges OR medicare payments, histogram of payment/service, histogram of payment/person. Boxplots of percent black / white / hispanic / asian for false very-highs and for false-lows\n",
    "\n"
   ]
  },
  {
   "cell_type": "markdown",
   "metadata": {},
   "source": [
    "# Importing Modules and Checking Directory "
   ]
  },
  {
   "cell_type": "code",
   "execution_count": 1,
   "metadata": {},
   "outputs": [],
   "source": [
    "import os\n",
    "import pandas as pd\n",
    "import datetime\n",
    "import seaborn as sns\n",
    "import matplotlib.pyplot as plt\n",
    "import numpy as np\n",
    "%matplotlib inline"
   ]
  },
  {
   "cell_type": "code",
   "execution_count": 2,
   "metadata": {},
   "outputs": [
    {
     "data": {
      "text/plain": [
       "'1.1.5'"
      ]
     },
     "execution_count": 2,
     "metadata": {},
     "output_type": "execute_result"
    }
   ],
   "source": [
    "pd.__version__"
   ]
  },
  {
   "cell_type": "code",
   "execution_count": 3,
   "metadata": {},
   "outputs": [
    {
     "data": {
      "text/plain": [
       "'/Users/Livi/Projects/Black_mental_health/models'"
      ]
     },
     "execution_count": 3,
     "metadata": {},
     "output_type": "execute_result"
    }
   ],
   "source": [
    "os.getcwd()\n"
   ]
  },
  {
   "cell_type": "code",
   "execution_count": 4,
   "metadata": {},
   "outputs": [
    {
     "name": "stderr",
     "output_type": "stream",
     "text": [
      "/Users/Livi/opt/anaconda3/envs/springboard/lib/python3.7/site-packages/numpy/lib/arraysetops.py:569: FutureWarning: elementwise comparison failed; returning scalar instead, but in the future will perform elementwise comparison\n",
      "  mask |= (ar1 == a)\n"
     ]
    },
    {
     "data": {
      "text/html": [
       "<div>\n",
       "<style scoped>\n",
       "    .dataframe tbody tr th:only-of-type {\n",
       "        vertical-align: middle;\n",
       "    }\n",
       "\n",
       "    .dataframe tbody tr th {\n",
       "        vertical-align: top;\n",
       "    }\n",
       "\n",
       "    .dataframe thead th {\n",
       "        text-align: right;\n",
       "    }\n",
       "</style>\n",
       "<table border=\"1\" class=\"dataframe\">\n",
       "  <thead>\n",
       "    <tr style=\"text-align: right;\">\n",
       "      <th></th>\n",
       "      <th>number_of_hcpcs</th>\n",
       "      <th>number_of_services</th>\n",
       "      <th>total_beneficiaries</th>\n",
       "      <th>total_submitted_charges</th>\n",
       "      <th>avg_beneficiary_age</th>\n",
       "      <th>avg_hcc_risk_score</th>\n",
       "      <th>submitted_charges_per_person</th>\n",
       "      <th>services_per_person</th>\n",
       "      <th>submitted_charges_per_service</th>\n",
       "      <th>total_pop</th>\n",
       "      <th>...</th>\n",
       "      <th>subregion_Pacific</th>\n",
       "      <th>subregion_South Atlantic</th>\n",
       "      <th>subregion_West North Central</th>\n",
       "      <th>subregion_West South Central</th>\n",
       "      <th>majority_asian</th>\n",
       "      <th>majority_black</th>\n",
       "      <th>majority_hispanic</th>\n",
       "      <th>majority_native_amer</th>\n",
       "      <th>majority_white</th>\n",
       "      <th>no_majority</th>\n",
       "    </tr>\n",
       "  </thead>\n",
       "  <tbody>\n",
       "    <tr>\n",
       "      <th>0</th>\n",
       "      <td>-0.003948</td>\n",
       "      <td>0.540055</td>\n",
       "      <td>0.851671</td>\n",
       "      <td>1.196155</td>\n",
       "      <td>0.998501</td>\n",
       "      <td>1.105662</td>\n",
       "      <td>0.871076</td>\n",
       "      <td>-0.119979</td>\n",
       "      <td>1.063762</td>\n",
       "      <td>0.781846</td>\n",
       "      <td>...</td>\n",
       "      <td>-0.378901</td>\n",
       "      <td>2.036056</td>\n",
       "      <td>-0.285347</td>\n",
       "      <td>-0.331112</td>\n",
       "      <td>-0.0744</td>\n",
       "      <td>-0.225179</td>\n",
       "      <td>-0.234267</td>\n",
       "      <td>-0.033669</td>\n",
       "      <td>0.585053</td>\n",
       "      <td>-0.416918</td>\n",
       "    </tr>\n",
       "    <tr>\n",
       "      <th>1</th>\n",
       "      <td>-0.170174</td>\n",
       "      <td>0.576787</td>\n",
       "      <td>1.015528</td>\n",
       "      <td>0.573919</td>\n",
       "      <td>2.139463</td>\n",
       "      <td>0.994263</td>\n",
       "      <td>-0.276118</td>\n",
       "      <td>-0.317600</td>\n",
       "      <td>0.179416</td>\n",
       "      <td>-0.074416</td>\n",
       "      <td>...</td>\n",
       "      <td>-0.378901</td>\n",
       "      <td>2.036056</td>\n",
       "      <td>-0.285347</td>\n",
       "      <td>-0.331112</td>\n",
       "      <td>-0.0744</td>\n",
       "      <td>-0.225179</td>\n",
       "      <td>-0.234267</td>\n",
       "      <td>-0.033669</td>\n",
       "      <td>0.585053</td>\n",
       "      <td>-0.416918</td>\n",
       "    </tr>\n",
       "    <tr>\n",
       "      <th>2</th>\n",
       "      <td>-1.402499</td>\n",
       "      <td>-1.478753</td>\n",
       "      <td>-2.032970</td>\n",
       "      <td>-2.079729</td>\n",
       "      <td>-1.181247</td>\n",
       "      <td>-1.398919</td>\n",
       "      <td>-1.041626</td>\n",
       "      <td>0.565058</td>\n",
       "      <td>-1.326987</td>\n",
       "      <td>-0.413310</td>\n",
       "      <td>...</td>\n",
       "      <td>-0.378901</td>\n",
       "      <td>2.036056</td>\n",
       "      <td>-0.285347</td>\n",
       "      <td>-0.331112</td>\n",
       "      <td>-0.0744</td>\n",
       "      <td>4.440915</td>\n",
       "      <td>-0.234267</td>\n",
       "      <td>-0.033669</td>\n",
       "      <td>-1.709248</td>\n",
       "      <td>-0.416918</td>\n",
       "    </tr>\n",
       "    <tr>\n",
       "      <th>3</th>\n",
       "      <td>0.447350</td>\n",
       "      <td>1.158778</td>\n",
       "      <td>1.311877</td>\n",
       "      <td>1.152199</td>\n",
       "      <td>1.833739</td>\n",
       "      <td>-0.416924</td>\n",
       "      <td>0.242840</td>\n",
       "      <td>0.442297</td>\n",
       "      <td>0.106138</td>\n",
       "      <td>0.795532</td>\n",
       "      <td>...</td>\n",
       "      <td>-0.378901</td>\n",
       "      <td>2.036056</td>\n",
       "      <td>-0.285347</td>\n",
       "      <td>-0.331112</td>\n",
       "      <td>-0.0744</td>\n",
       "      <td>-0.225179</td>\n",
       "      <td>-0.234267</td>\n",
       "      <td>-0.033669</td>\n",
       "      <td>-1.709248</td>\n",
       "      <td>2.398553</td>\n",
       "    </tr>\n",
       "    <tr>\n",
       "      <th>4</th>\n",
       "      <td>0.139490</td>\n",
       "      <td>-0.443103</td>\n",
       "      <td>-0.613947</td>\n",
       "      <td>-0.657554</td>\n",
       "      <td>-0.706375</td>\n",
       "      <td>1.649911</td>\n",
       "      <td>-0.268393</td>\n",
       "      <td>0.241994</td>\n",
       "      <td>-0.223406</td>\n",
       "      <td>-0.679061</td>\n",
       "      <td>...</td>\n",
       "      <td>-0.378901</td>\n",
       "      <td>2.036056</td>\n",
       "      <td>-0.285347</td>\n",
       "      <td>-0.331112</td>\n",
       "      <td>-0.0744</td>\n",
       "      <td>-0.225179</td>\n",
       "      <td>-0.234267</td>\n",
       "      <td>-0.033669</td>\n",
       "      <td>-1.709248</td>\n",
       "      <td>2.398553</td>\n",
       "    </tr>\n",
       "  </tbody>\n",
       "</table>\n",
       "<p>5 rows × 190 columns</p>\n",
       "</div>"
      ],
      "text/plain": [
       "   number_of_hcpcs  number_of_services  total_beneficiaries  \\\n",
       "0        -0.003948            0.540055             0.851671   \n",
       "1        -0.170174            0.576787             1.015528   \n",
       "2        -1.402499           -1.478753            -2.032970   \n",
       "3         0.447350            1.158778             1.311877   \n",
       "4         0.139490           -0.443103            -0.613947   \n",
       "\n",
       "   total_submitted_charges  avg_beneficiary_age  avg_hcc_risk_score  \\\n",
       "0                 1.196155             0.998501            1.105662   \n",
       "1                 0.573919             2.139463            0.994263   \n",
       "2                -2.079729            -1.181247           -1.398919   \n",
       "3                 1.152199             1.833739           -0.416924   \n",
       "4                -0.657554            -0.706375            1.649911   \n",
       "\n",
       "   submitted_charges_per_person  services_per_person  \\\n",
       "0                      0.871076            -0.119979   \n",
       "1                     -0.276118            -0.317600   \n",
       "2                     -1.041626             0.565058   \n",
       "3                      0.242840             0.442297   \n",
       "4                     -0.268393             0.241994   \n",
       "\n",
       "   submitted_charges_per_service  total_pop  ...  subregion_Pacific  \\\n",
       "0                       1.063762   0.781846  ...          -0.378901   \n",
       "1                       0.179416  -0.074416  ...          -0.378901   \n",
       "2                      -1.326987  -0.413310  ...          -0.378901   \n",
       "3                       0.106138   0.795532  ...          -0.378901   \n",
       "4                      -0.223406  -0.679061  ...          -0.378901   \n",
       "\n",
       "   subregion_South Atlantic  subregion_West North Central  \\\n",
       "0                  2.036056                     -0.285347   \n",
       "1                  2.036056                     -0.285347   \n",
       "2                  2.036056                     -0.285347   \n",
       "3                  2.036056                     -0.285347   \n",
       "4                  2.036056                     -0.285347   \n",
       "\n",
       "   subregion_West South Central  majority_asian  majority_black  \\\n",
       "0                     -0.331112         -0.0744       -0.225179   \n",
       "1                     -0.331112         -0.0744       -0.225179   \n",
       "2                     -0.331112         -0.0744        4.440915   \n",
       "3                     -0.331112         -0.0744       -0.225179   \n",
       "4                     -0.331112         -0.0744       -0.225179   \n",
       "\n",
       "   majority_hispanic  majority_native_amer  majority_white  no_majority  \n",
       "0          -0.234267             -0.033669        0.585053    -0.416918  \n",
       "1          -0.234267             -0.033669        0.585053    -0.416918  \n",
       "2          -0.234267             -0.033669       -1.709248    -0.416918  \n",
       "3          -0.234267             -0.033669       -1.709248     2.398553  \n",
       "4          -0.234267             -0.033669       -1.709248     2.398553  \n",
       "\n",
       "[5 rows x 190 columns]"
      ]
     },
     "execution_count": 4,
     "metadata": {},
     "output_type": "execute_result"
    }
   ],
   "source": [
    "X = pd.read_csv('../data/processed/feature_matrix_scaled_PT.csv', index_col=0)\n",
    "X.head()"
   ]
  },
  {
   "cell_type": "code",
   "execution_count": 5,
   "metadata": {},
   "outputs": [
    {
     "name": "stderr",
     "output_type": "stream",
     "text": [
      "/Users/Livi/opt/anaconda3/envs/springboard/lib/python3.7/site-packages/numpy/lib/arraysetops.py:569: FutureWarning: elementwise comparison failed; returning scalar instead, but in the future will perform elementwise comparison\n",
      "  mask |= (ar1 == a)\n"
     ]
    },
    {
     "data": {
      "text/html": [
       "<div>\n",
       "<style scoped>\n",
       "    .dataframe tbody tr th:only-of-type {\n",
       "        vertical-align: middle;\n",
       "    }\n",
       "\n",
       "    .dataframe tbody tr th {\n",
       "        vertical-align: top;\n",
       "    }\n",
       "\n",
       "    .dataframe thead th {\n",
       "        text-align: right;\n",
       "    }\n",
       "</style>\n",
       "<table border=\"1\" class=\"dataframe\">\n",
       "  <thead>\n",
       "    <tr style=\"text-align: right;\">\n",
       "      <th></th>\n",
       "      <th>payrate_level</th>\n",
       "    </tr>\n",
       "  </thead>\n",
       "  <tbody>\n",
       "    <tr>\n",
       "      <th>0</th>\n",
       "      <td>high</td>\n",
       "    </tr>\n",
       "    <tr>\n",
       "      <th>1</th>\n",
       "      <td>high</td>\n",
       "    </tr>\n",
       "    <tr>\n",
       "      <th>2</th>\n",
       "      <td>very low</td>\n",
       "    </tr>\n",
       "    <tr>\n",
       "      <th>3</th>\n",
       "      <td>low</td>\n",
       "    </tr>\n",
       "    <tr>\n",
       "      <th>4</th>\n",
       "      <td>low</td>\n",
       "    </tr>\n",
       "  </tbody>\n",
       "</table>\n",
       "</div>"
      ],
      "text/plain": [
       "  payrate_level\n",
       "0          high\n",
       "1          high\n",
       "2      very low\n",
       "3           low\n",
       "4           low"
      ]
     },
     "execution_count": 5,
     "metadata": {},
     "output_type": "execute_result"
    }
   ],
   "source": [
    "y = pd.read_csv('../data/processed/target_array_2.csv', index_col=0)\n",
    "y.head()"
   ]
  },
  {
   "cell_type": "code",
   "execution_count": 6,
   "metadata": {},
   "outputs": [
    {
     "data": {
      "text/plain": [
       "((1072142, 190), (1072142, 1))"
      ]
     },
     "execution_count": 6,
     "metadata": {},
     "output_type": "execute_result"
    }
   ],
   "source": [
    "X.shape, y.shape"
   ]
  },
  {
   "cell_type": "markdown",
   "metadata": {},
   "source": [
    "    The best performing models in my Preprocessing step were SVM (only when data was scaled) and Logistic Regression (a little better performance also when data was scaled).\n",
    "    I'll be including both of these in this Modeling notebook to compare the important features."
   ]
  },
  {
   "cell_type": "code",
   "execution_count": 57,
   "metadata": {},
   "outputs": [],
   "source": [
    "from sklearn.model_selection import train_test_split\n",
    "\n",
    "X_train, X_test, y_train, y_test = train_test_split(X, y.values.ravel(), test_size = 0.2, random_state=2)"
   ]
  },
  {
   "cell_type": "code",
   "execution_count": 26,
   "metadata": {},
   "outputs": [
    {
     "data": {
      "text/plain": [
       "((857713, 190), (857713,))"
      ]
     },
     "execution_count": 26,
     "metadata": {},
     "output_type": "execute_result"
    }
   ],
   "source": [
    "X_train.shape, y_train.shape"
   ]
  },
  {
   "cell_type": "code",
   "execution_count": 18,
   "metadata": {},
   "outputs": [],
   "source": [
    "import time\n",
    "from sklearn.model_selection import cross_val_score\n",
    "from sklearn.metrics import f1_score, make_scorer, precision_score, recall_score\n"
   ]
  },
  {
   "cell_type": "code",
   "execution_count": 19,
   "metadata": {},
   "outputs": [
    {
     "name": "stdout",
     "output_type": "stream",
     "text": [
      "Time: 0.570490316549937 minutes\n"
     ]
    }
   ],
   "source": [
    "import time\n",
    "from sklearn.ensemble import RandomForestClassifier\n",
    "from sklearn.metrics import f1_score\n",
    "\n",
    "rf = RandomForestClassifier(n_jobs=-1)\n",
    "\n",
    "start = time.time()\n",
    "\n",
    "rf.fit(X_train[:100000], y_train[:100000])\n",
    "\n",
    "end= time.time()\n",
    "total = end - start\n",
    "\n",
    "print(\"Time:\", total/60, \"minutes\")"
   ]
  },
  {
   "cell_type": "code",
   "execution_count": 20,
   "metadata": {},
   "outputs": [
    {
     "name": "stdout",
     "output_type": "stream",
     "text": [
      "Time: 0.11450720230738322 minutes\n"
     ]
    }
   ],
   "source": [
    "start = time.time()\n",
    "\n",
    "ypred_rf = rf.predict(X_test)\n",
    "\n",
    "end = time.time()\n",
    "print('Time:',(end-start)/60, 'minutes')"
   ]
  },
  {
   "cell_type": "code",
   "execution_count": 21,
   "metadata": {},
   "outputs": [
    {
     "name": "stdout",
     "output_type": "stream",
     "text": [
      "RF F1 Score: 0.6203087205788654\n",
      "Time: 0.17797584931055704 minutes\n"
     ]
    },
    {
     "data": {
      "text/plain": [
       "<sklearn.metrics._plot.confusion_matrix.ConfusionMatrixDisplay at 0x7f8d4d548950>"
      ]
     },
     "execution_count": 21,
     "metadata": {},
     "output_type": "execute_result"
    },
    {
     "data": {
      "text/plain": [
       "<Figure size 1440x1440 with 0 Axes>"
      ]
     },
     "metadata": {},
     "output_type": "display_data"
    },
    {
     "data": {
      "image/png": "[encoded data removed]",
      "text/plain": [
       "<Figure size 432x288 with 2 Axes>"
      ]
     },
     "metadata": {
      "needs_background": "light"
     },
     "output_type": "display_data"
    }
   ],
   "source": [
    "from sklearn.metrics import plot_confusion_matrix\n",
    "\n",
    "start = time.time()\n",
    "\n",
    "plt.figure(figsize=(20,20))\n",
    "z = plot_confusion_matrix(rf, X_test, y_test, labels=['very low','low','medium','high','very high'])\n",
    "#plt.savefig('confusion_matrix_RF.png')\n",
    "f1_rf = f1_score(y_test, ypred_rf, average='weighted')\n",
    "\n",
    "end=time.time()\n",
    "\n",
    "print('RF F1 Score:', f1_rf)\n",
    "print('Time:', (end-start)/60, 'minutes')\n",
    "z"
   ]
  },
  {
   "cell_type": "code",
   "execution_count": 22,
   "metadata": {},
   "outputs": [
    {
     "name": "stdout",
     "output_type": "stream",
     "text": [
      "RF F1 Score: 0.6203087205788654 RF Recall Score: 0.6406596122725937 RF Precision Score: 0.6308437534256355\n"
     ]
    }
   ],
   "source": [
    "recall_rf = recall_score(y_test, ypred_rf, average='weighted')\n",
    "precision_rf = precision_score(y_test, ypred_rf, average='weighted')\n",
    "\n",
    "print('RF F1 Score:', f1_rf, 'RF Recall Score:', recall_rf, 'RF Precision Score:', precision_rf)"
   ]
  },
  {
   "cell_type": "code",
   "execution_count": 23,
   "metadata": {},
   "outputs": [
    {
     "data": {
      "text/html": [
       "<div>\n",
       "<style scoped>\n",
       "    .dataframe tbody tr th:only-of-type {\n",
       "        vertical-align: middle;\n",
       "    }\n",
       "\n",
       "    .dataframe tbody tr th {\n",
       "        vertical-align: top;\n",
       "    }\n",
       "\n",
       "    .dataframe thead th {\n",
       "        text-align: right;\n",
       "    }\n",
       "</style>\n",
       "<table border=\"1\" class=\"dataframe\">\n",
       "  <thead>\n",
       "    <tr style=\"text-align: right;\">\n",
       "      <th></th>\n",
       "      <th>models</th>\n",
       "      <th>F1 Scores</th>\n",
       "      <th>Recall Scores</th>\n",
       "      <th>Precision Scores</th>\n",
       "    </tr>\n",
       "  </thead>\n",
       "  <tbody>\n",
       "    <tr>\n",
       "      <th>0</th>\n",
       "      <td>Random Forest</td>\n",
       "      <td>0.620309</td>\n",
       "      <td>0.64066</td>\n",
       "      <td>0.630844</td>\n",
       "    </tr>\n",
       "  </tbody>\n",
       "</table>\n",
       "</div>"
      ],
      "text/plain": [
       "          models  F1 Scores  Recall Scores  Precision Scores\n",
       "0  Random Forest   0.620309        0.64066          0.630844"
      ]
     },
     "execution_count": 23,
     "metadata": {},
     "output_type": "execute_result"
    }
   ],
   "source": [
    "scores = pd.DataFrame({'models':['Random Forest'],\n",
    "             'F1 Scores': [f1_rf],\n",
    "             'Recall Scores': [recall_rf],\n",
    "             'Precision Scores':[precision_rf]})\n",
    "scores"
   ]
  },
  {
   "cell_type": "markdown",
   "metadata": {},
   "source": [
    "# Tuning"
   ]
  },
  {
   "cell_type": "code",
   "execution_count": 58,
   "metadata": {},
   "outputs": [
    {
     "data": {
      "image/png": "[encoded data removed]",
      "text/plain": [
       "<Figure size 432x288 with 1 Axes>"
      ]
     },
     "metadata": {
      "needs_background": "light"
     },
     "output_type": "display_data"
    },
    {
     "name": "stdout",
     "output_type": "stream",
     "text": [
      "time: 9.47630048195521 minutes\n"
     ]
    }
   ],
   "source": [
    "from sklearn.metrics import f1_score\n",
    "import time\n",
    "\n",
    "start = time.time()\n",
    "\n",
    "max_depths = np.arange(1, 111, 10)\n",
    "x_train = X_train[:100000]\n",
    "y_train = y_train[:100000]\n",
    "x_test = X_test[:100000]\n",
    "y_test = y_test[:100000]\n",
    "train_results = []\n",
    "test_results = []\n",
    "for max_depth in max_depths:\n",
    "    model = RandomForestClassifier(max_depth=max_depth)\n",
    "    model.fit(x_train, y_train)\n",
    "    train_pred = model.predict(x_train)\n",
    "    f1 = f1_score(y_train, train_pred, average = 'weighted')\n",
    "    train_results.append(f1)\n",
    "    y_pred = model.predict(x_test)\n",
    "    f1 = f1_score(y_test, y_pred,average = 'weighted')\n",
    "    test_results.append(f1)\n",
    "from matplotlib.legend_handler import HandlerLine2D\n",
    "line1, = plt.plot(max_depths, train_results, 'b', label='Train F1')\n",
    "line2, = plt.plot(max_depths, test_results, 'r', label='Test F1')\n",
    "plt.legend(handler_map={line1: HandlerLine2D(numpoints=2)})\n",
    "plt.ylabel('F1 score')\n",
    "plt.xlabel('max_depths')\n",
    "plt.show()\n",
    "\n",
    "end =time.time()\n",
    "print(\"time:\", (end-start)/60, 'minutes')"
   ]
  },
  {
   "cell_type": "code",
   "execution_count": 59,
   "metadata": {},
   "outputs": [
    {
     "data": {
      "image/png": "[encoded data removed]",
      "text/plain": [
       "<Figure size 432x288 with 1 Axes>"
      ]
     },
     "metadata": {
      "needs_background": "light"
     },
     "output_type": "display_data"
    },
    {
     "name": "stdout",
     "output_type": "stream",
     "text": [
      "time: 8.373383716742199 minutes\n"
     ]
    }
   ],
   "source": [
    "start = time.time()\n",
    "\n",
    "x_train = X_train[:100000]\n",
    "y_train = y_train[:100000]\n",
    "x_test = X_test[:100000]\n",
    "y_test = y_test[:100000]\n",
    "\n",
    "n_estimators = [1, 20, 40, 60, 80, 100, 120, 150, 200]\n",
    "train_results = []\n",
    "test_results = []\n",
    "for n_estimator in n_estimators:\n",
    "    model = RandomForestClassifier(n_estimators=n_estimator)\n",
    "    model.fit(x_train, y_train)\n",
    "    train_pred = model.predict(x_train)\n",
    "    f1 = f1_score(y_train, train_pred,average = 'weighted')\n",
    "    train_results.append(f1)\n",
    "    y_pred = model.predict(x_test)\n",
    "    f1 = f1_score(y_test, y_pred,average = 'weighted')\n",
    "    test_results.append(f1)\n",
    "from matplotlib.legend_handler import HandlerLine2D\n",
    "line1, = plt.plot(n_estimators, train_results, 'b', label='Train F1')\n",
    "line2, = plt.plot(n_estimators, test_results, 'r', label='Test F1')\n",
    "plt.legend(handler_map={line1: HandlerLine2D(numpoints=2)})\n",
    "plt.ylabel('F1 score')\n",
    "plt.xlabel('n_estimators')\n",
    "plt.show()\n",
    "\n",
    "end =time.time()\n",
    "print(\"time:\", (end-start)/60, 'minutes')"
   ]
  },
  {
   "cell_type": "code",
   "execution_count": 54,
   "metadata": {},
   "outputs": [
    {
     "data": {
      "image/png": "[encoded data removed]",
      "text/plain": [
       "<Figure size 432x288 with 1 Axes>"
      ]
     },
     "metadata": {
      "needs_background": "light"
     },
     "output_type": "display_data"
    }
   ],
   "source": [
    "start = time.time()\n",
    "\n",
    "x_train = X_train[:100000]\n",
    "y_train = y_train[:100000]\n",
    "x_test = X_test[:100000]\n",
    "y_test = y_test[:100000]\n",
    "\n",
    "\n",
    "max_features = list(range(1,100))\n",
    "train_results = []\n",
    "test_results = []\n",
    "for max_feature in max_features:\n",
    "    model = RandomForestClassifier(max_features=max_feature)\n",
    "    model.fit(x_train, y_train)\n",
    "    train_pred = model.predict(x_train)\n",
    "    f1 = f1_score(y_train, train_pred,average = 'weighted')\n",
    "    train_results.append(f1)\n",
    "    y_pred = model.predict(x_test)\n",
    "    f1 = f1_score(y_test, y_pred,average = 'weighted')\n",
    "    test_results.append(f1)\n",
    "from matplotlib.legend_handler import HandlerLine2D\n",
    "line1, = plt.plot(max_features, train_results, 'b', label='Train')\n",
    "line2, = plt.plot(max_features, test_results, 'r', label='Test')\n",
    "plt.legend(handler_map={line1: HandlerLine2D(numpoints=2)})\n",
    "plt.ylabel('F1 score')\n",
    "plt.xlabel('max features')\n",
    "plt.show()\n",
    "\n",
    "end = time.time()\n",
    "print('time:', (end-start)/60, 'minutes')"
   ]
  },
  {
   "cell_type": "code",
   "execution_count": 64,
   "metadata": {
    "scrolled": true
   },
   "outputs": [
    {
     "name": "stdout",
     "output_type": "stream",
     "text": [
      "Best: 0.607461 using {'max_depth': 40, 'max_features': 25, 'n_estimators': 60}\n",
      "time: 7.858538088433367 minutes\n"
     ]
    }
   ],
   "source": [
    "from sklearn.ensemble import RandomForestClassifier\n",
    "from sklearn.model_selection import GridSearchCV\n",
    "\n",
    "from timeit import default_timer as timer\n",
    "\n",
    "X_train, X_test, y_train, y_test = train_test_split(X, y.values.ravel(), test_size = 0.2, random_state=2)\n",
    "\n",
    "X_train = X_train[:10000]\n",
    "y_train = y_train[:10000]\n",
    "x_test = X_test[:10000]\n",
    "y_test = y_test[:10000]\n",
    "\n",
    "\n",
    "start = timer()\n",
    "model = RandomForestClassifier()\n",
    "max_depth = [10, 20, 30, 40, 50]\n",
    "#criterion=['gini','entropy']\n",
    "n_estimators = [20, 40, 60, 80, 100]\n",
    "max_features= [5, 10, 15, 20, 25]\n",
    "#class_weight=['balanced']\n",
    "\n",
    "grid = dict(max_depth=max_depth, n_estimators=n_estimators, max_features=max_features)\n",
    "scorer = make_scorer(f1_score, average = 'weighted')\n",
    "grid_search = GridSearchCV(estimator=model, param_grid=grid, n_jobs=-1, cv=5, scoring=scorer)\n",
    "grid_result = grid_search.fit(X_train, y_train)\n",
    "\n",
    "print(\"Best: %f using %s\" % (grid_result.best_score_, grid_result.best_params_))\n",
    "\n",
    "end = timer()\n",
    "print(\"time:\", (end - start)/60, 'minutes')"
   ]
  },
  {
   "cell_type": "code",
   "execution_count": 65,
   "metadata": {},
   "outputs": [
    {
     "name": "stdout",
     "output_type": "stream",
     "text": [
      "0.6037686825546906 : {'max_depth': 50, 'max_features': 25, 'n_estimators': 80}\n",
      "0.603817502431791 : {'max_depth': 20, 'max_features': 20, 'n_estimators': 100}\n",
      "0.6040638808428967 : {'max_depth': 40, 'max_features': 20, 'n_estimators': 60}\n",
      "0.6044374170546003 : {'max_depth': 20, 'max_features': 25, 'n_estimators': 80}\n",
      "0.6046059739407701 : {'max_depth': 30, 'max_features': 20, 'n_estimators': 60}\n",
      "0.6047098487168999 : {'max_depth': 20, 'max_features': 25, 'n_estimators': 60}\n",
      "0.6047139298353741 : {'max_depth': 40, 'max_features': 25, 'n_estimators': 100}\n",
      "0.6064279497496242 : {'max_depth': 50, 'max_features': 25, 'n_estimators': 100}\n",
      "0.6071253487862985 : {'max_depth': 40, 'max_features': 20, 'n_estimators': 80}\n",
      "0.6074606126557285 : {'max_depth': 40, 'max_features': 25, 'n_estimators': 60}\n"
     ]
    }
   ],
   "source": [
    "means = grid_result.cv_results_['mean_test_score']\n",
    "stds = grid_result.cv_results_['std_test_score']\n",
    "params = grid_result.cv_results_['params']\n",
    "\n",
    "scores=[]\n",
    "parameters=[]\n",
    "\n",
    "for mean, stdev, param in zip(means, stds, params):\n",
    "    scores.append(mean)\n",
    "    parameters.append(param)\n",
    "    \n",
    "scores= np.array(scores)\n",
    "params=np.array(params)\n",
    "scores.argsort()[-10:]\n",
    "\n",
    "ps = params[scores.argsort()[-10:]]\n",
    "ss = scores[scores.argsort()[-10:]]\n",
    "\n",
    "for p, s in zip(ps, ss):\n",
    "    print(s, ':', p)"
   ]
  },
  {
   "cell_type": "markdown",
   "metadata": {},
   "source": [
    "##### Using suggested metrics"
   ]
  },
  {
   "cell_type": "code",
   "execution_count": 69,
   "metadata": {},
   "outputs": [
    {
     "name": "stdout",
     "output_type": "stream",
     "text": [
      "Time: 0.43638649384180705 minutes\n"
     ]
    }
   ],
   "source": [
    "import time\n",
    "from sklearn.ensemble import RandomForestClassifier\n",
    "from sklearn.metrics import f1_score\n",
    "\n",
    "X_train, X_test, y_train, y_test = train_test_split(X, y.values.ravel(), test_size = 0.2, random_state=2)\n",
    "\n",
    "\n",
    "rf_tune1 = RandomForestClassifier(n_jobs=-1, max_depth=40, max_features=2, n_estimators=60)\n",
    "\n",
    "start = time.time()\n",
    "\n",
    "rf_tune1.fit(X_train[:100000], y_train[:100000])\n",
    "ypred_rf_tune1 = rf_tune1.predict(X_test)\n",
    "f1_rf_tune1 = f1_score(y_test, ypred_rf_tune1, average='weighted')\n",
    "\n",
    "\n",
    "end= time.time()\n",
    "total = end - start\n",
    "\n",
    "print('RF F1 Score:', f1_rf_tune1)\n",
    "print(\"Time:\", total/60, \"minutes\")"
   ]
  },
  {
   "cell_type": "code",
   "execution_count": 72,
   "metadata": {},
   "outputs": [
    {
     "name": "stdout",
     "output_type": "stream",
     "text": [
      "RF F1 Score: 0.6229051185250478\n",
      "Time: 0.04270068804423014 minutes\n"
     ]
    },
    {
     "data": {
      "text/plain": [
       "<Figure size 1440x1440 with 0 Axes>"
      ]
     },
     "metadata": {},
     "output_type": "display_data"
    }
   ],
   "source": [
    "#plt.figure(figsize=(20,20))\n",
    "#z = plot_confusion_matrix(rf_tune1, X_test, y_test, labels=['very low','low','medium','high','very high'])\n",
    "#plt.savefig('confusion_matrix_RF.png')\n",
    "#z"
   ]
  },
  {
   "cell_type": "code",
   "execution_count": 73,
   "metadata": {},
   "outputs": [
    {
     "name": "stdout",
     "output_type": "stream",
     "text": [
      "RF F1 Score: 0.6222025840609103\n",
      "Time: 0.6454835653305053 minutes\n"
     ]
    }
   ],
   "source": [
    "import time\n",
    "from sklearn.ensemble import RandomForestClassifier\n",
    "from sklearn.metrics import f1_score\n",
    "\n",
    "X_train, X_test, y_train, y_test = train_test_split(X, y.values.ravel(), test_size = 0.2, random_state=2)\n",
    "\n",
    "\n",
    "rf_tune2 = RandomForestClassifier(n_jobs=-1, max_depth=40, max_features=20, n_estimators=80)\n",
    "\n",
    "start = time.time()\n",
    "\n",
    "rf_tune2.fit(X_train[:100000], y_train[:100000])\n",
    "ypred_rf_tune2 = rf_tune2.predict(X_test)\n",
    "f1_rf_tune2 = f1_score(y_test, ypred_rf_tune2, average='weighted')\n",
    "\n",
    "end= time.time()\n",
    "total = end - start\n",
    "\n",
    "print('RF F1 Score:', f1_rf_tune2)\n",
    "print(\"Time:\", total/60, \"minutes\")"
   ]
  },
  {
   "cell_type": "code",
   "execution_count": 74,
   "metadata": {},
   "outputs": [
    {
     "name": "stdout",
     "output_type": "stream",
     "text": [
      "RF F1 Score: 0.6238192652933058\n",
      "Time: 1.0376463810602823 minutes\n"
     ]
    }
   ],
   "source": [
    "import time\n",
    "from sklearn.ensemble import RandomForestClassifier\n",
    "from sklearn.metrics import f1_score\n",
    "\n",
    "start = time.time()\n",
    "\n",
    "X_train, X_test, y_train, y_test = train_test_split(X, y.values.ravel(), test_size = 0.2, random_state=2)\n",
    "rf_tune3 = RandomForestClassifier(n_jobs=-1, max_depth=50, max_features=25, n_estimators=100)\n",
    "rf_tune3.fit(X_train[:100000], y_train[:100000])\n",
    "ypred_rf_tune3 = rf_tune3.predict(X_test)\n",
    "f1_rf_tune3 = f1_score(y_test, ypred_rf_tune3, average='weighted')\n",
    "\n",
    "end= time.time()\n",
    "total = end - start\n",
    "\n",
    "print('RF F1 Score:', f1_rf_tune3)\n",
    "print(\"Time:\", total/60, \"minutes\")"
   ]
  },
  {
   "cell_type": "code",
   "execution_count": 75,
   "metadata": {},
   "outputs": [
    {
     "name": "stdout",
     "output_type": "stream",
     "text": [
      "RF F1 Score: 0.6241083908163775\n",
      "Time: 1.1664363781611125 minutes\n"
     ]
    }
   ],
   "source": [
    "import time\n",
    "from sklearn.ensemble import RandomForestClassifier\n",
    "from sklearn.metrics import f1_score\n",
    "\n",
    "start = time.time()\n",
    "\n",
    "X_train, X_test, y_train, y_test = train_test_split(X, y.values.ravel(), test_size = 0.2, random_state=2)\n",
    "rf_tune4 = RandomForestClassifier(n_jobs=-1, max_depth=40, max_features=25, n_estimators=100)\n",
    "rf_tune4.fit(X_train[:100000], y_train[:100000])\n",
    "ypred_rf_tune4 = rf_tune4.predict(X_test)\n",
    "f1_rf_tune4 = f1_score(y_test, ypred_rf_tune4, average='weighted')\n",
    "\n",
    "end= time.time()\n",
    "total = end - start\n",
    "\n",
    "print('RF F1 Score:', f1_rf_tune4)\n",
    "print(\"Time:\", total/60, \"minutes\")"
   ]
  },
  {
   "cell_type": "markdown",
   "metadata": {},
   "source": [
    "##### Using Randomized Search CV"
   ]
  },
  {
   "cell_type": "code",
   "execution_count": 86,
   "metadata": {},
   "outputs": [
    {
     "name": "stdout",
     "output_type": "stream",
     "text": [
      "time: 19.99403643210729 minutes\n",
      "best params: {'criterion': 'gini', 'max_depth': 40, 'max_features': 35, 'n_estimators': 80}\n",
      "best score: 0.6219702043294586\n"
     ]
    }
   ],
   "source": [
    "from scipy.stats import randint\n",
    "from sklearn.model_selection import RandomizedSearchCV\n",
    "\n",
    "start = time.time()\n",
    "\n",
    "params = {'max_depth':randint(1,50),\n",
    "         'max_features':randint(1,40),\n",
    "          'n_estimators':randint(10,100),\n",
    "         'criterion':['gini']}\n",
    "\n",
    "rf = RandomForestClassifier()\n",
    "\n",
    "scorer = make_scorer(f1_score, average = 'weighted')\n",
    "\n",
    "randomized_rf = RandomizedSearchCV(rf, params, cv=5, scoring=scorer)\n",
    "\n",
    "randomized_rf.fit(X_train[:100000], y_train[:100000])\n",
    "\n",
    "\n",
    "end=time.time()\n",
    "print('time:', (end-start)/60, 'minutes')\n",
    "print('best params:', randomized_rf.best_params_)\n",
    "print('best score:', randomized_rf.best_score_)"
   ]
  },
  {
   "cell_type": "code",
   "execution_count": 91,
   "metadata": {},
   "outputs": [
    {
     "name": "stdout",
     "output_type": "stream",
     "text": [
      "RF F1 Score: 0.6235888024216302\n",
      "Time: 1.06476598183314 minutes\n"
     ]
    }
   ],
   "source": [
    "import time\n",
    "from sklearn.ensemble import RandomForestClassifier\n",
    "from sklearn.metrics import f1_score\n",
    "\n",
    "start = time.time()\n",
    "\n",
    "X_train, X_test, y_train, y_test = train_test_split(X, y.values.ravel(), test_size = 0.2, random_state=2)\n",
    "rf_tune5 = RandomForestClassifier(n_jobs=-1, max_depth=40, max_features=35, n_estimators=80)\n",
    "rf_tune5.fit(X_train[:100000], y_train[:100000])\n",
    "ypred_rf_tune5 = rf_tune5.predict(X_test)\n",
    "f1_rf_tune5 = f1_score(y_test, ypred_rf_tune5, average='weighted')\n",
    "\n",
    "end= time.time()\n",
    "total = end - start\n",
    "\n",
    "print('RF F1 Score:', f1_rf_tune5)\n",
    "print(\"Time:\", total/60, \"minutes\")"
   ]
  },
  {
   "cell_type": "markdown",
   "metadata": {},
   "source": [
    "Saving Model Metrics Table"
   ]
  },
  {
   "cell_type": "code",
   "execution_count": 193,
   "metadata": {},
   "outputs": [],
   "source": [
    "import dataframe_image as dfi\n",
    "dfi.export(scores,\"model_metrics.png\")"
   ]
  },
  {
   "cell_type": "code",
   "execution_count": 194,
   "metadata": {},
   "outputs": [],
   "source": [
    "scores.to_csv('../reports/figures/model_scores.csv')"
   ]
  },
  {
   "cell_type": "markdown",
   "metadata": {},
   "source": [
    "Saving Feature Importances RF"
   ]
  },
  {
   "cell_type": "code",
   "execution_count": 203,
   "metadata": {},
   "outputs": [],
   "source": [
    "rf_imp = pd.DataFrame({'Features': X.columns, \n",
    "              'RF Feature Importances': [format(i, '8f') for i in rf.feature_importances_]}\n",
    "            ).sort_values('RF Feature Importances', ascending=False).head(20)\n",
    "rf_imp.to_csv('../references/rf_feature_imp.csv')"
   ]
  },
  {
   "cell_type": "code",
   "execution_count": 346,
   "metadata": {},
   "outputs": [
    {
     "data": {
      "text/html": [
       "<div>\n",
       "<style scoped>\n",
       "    .dataframe tbody tr th:only-of-type {\n",
       "        vertical-align: middle;\n",
       "    }\n",
       "\n",
       "    .dataframe tbody tr th {\n",
       "        vertical-align: top;\n",
       "    }\n",
       "\n",
       "    .dataframe thead th {\n",
       "        text-align: right;\n",
       "    }\n",
       "</style>\n",
       "<table border=\"1\" class=\"dataframe\">\n",
       "  <thead>\n",
       "    <tr style=\"text-align: right;\">\n",
       "      <th></th>\n",
       "      <th>Features</th>\n",
       "      <th>RF Feature Importances</th>\n",
       "    </tr>\n",
       "  </thead>\n",
       "  <tbody>\n",
       "    <tr>\n",
       "      <th>8</th>\n",
       "      <td>submitted_charges_per_service</td>\n",
       "      <td>0.166715</td>\n",
       "    </tr>\n",
       "    <tr>\n",
       "      <th>6</th>\n",
       "      <td>submitted_charges_per_person</td>\n",
       "      <td>0.082571</td>\n",
       "    </tr>\n",
       "    <tr>\n",
       "      <th>7</th>\n",
       "      <td>services_per_person</td>\n",
       "      <td>0.077495</td>\n",
       "    </tr>\n",
       "    <tr>\n",
       "      <th>3</th>\n",
       "      <td>total_submitted_charges</td>\n",
       "      <td>0.052601</td>\n",
       "    </tr>\n",
       "    <tr>\n",
       "      <th>0</th>\n",
       "      <td>number_of_hcpcs</td>\n",
       "      <td>0.043647</td>\n",
       "    </tr>\n",
       "    <tr>\n",
       "      <th>1</th>\n",
       "      <td>number_of_services</td>\n",
       "      <td>0.043515</td>\n",
       "    </tr>\n",
       "    <tr>\n",
       "      <th>5</th>\n",
       "      <td>avg_hcc_risk_score</td>\n",
       "      <td>0.039671</td>\n",
       "    </tr>\n",
       "    <tr>\n",
       "      <th>2</th>\n",
       "      <td>total_beneficiaries</td>\n",
       "      <td>0.032824</td>\n",
       "    </tr>\n",
       "    <tr>\n",
       "      <th>4</th>\n",
       "      <td>avg_beneficiary_age</td>\n",
       "      <td>0.028493</td>\n",
       "    </tr>\n",
       "    <tr>\n",
       "      <th>15</th>\n",
       "      <td>percent_asian</td>\n",
       "      <td>0.024522</td>\n",
       "    </tr>\n",
       "    <tr>\n",
       "      <th>9</th>\n",
       "      <td>total_pop</td>\n",
       "      <td>0.024181</td>\n",
       "    </tr>\n",
       "    <tr>\n",
       "      <th>13</th>\n",
       "      <td>percent_hispanic</td>\n",
       "      <td>0.023993</td>\n",
       "    </tr>\n",
       "    <tr>\n",
       "      <th>16</th>\n",
       "      <td>percent_two_or_more_races</td>\n",
       "      <td>0.023917</td>\n",
       "    </tr>\n",
       "    <tr>\n",
       "      <th>11</th>\n",
       "      <td>percent_white</td>\n",
       "      <td>0.023885</td>\n",
       "    </tr>\n",
       "    <tr>\n",
       "      <th>10</th>\n",
       "      <td>percent_black</td>\n",
       "      <td>0.023582</td>\n",
       "    </tr>\n",
       "    <tr>\n",
       "      <th>12</th>\n",
       "      <td>percent_native_amer</td>\n",
       "      <td>0.021924</td>\n",
       "    </tr>\n",
       "    <tr>\n",
       "      <th>14</th>\n",
       "      <td>percent_other</td>\n",
       "      <td>0.020212</td>\n",
       "    </tr>\n",
       "    <tr>\n",
       "      <th>17</th>\n",
       "      <td>entity_code_I</td>\n",
       "      <td>0.015034</td>\n",
       "    </tr>\n",
       "    <tr>\n",
       "      <th>18</th>\n",
       "      <td>entity_code_O</td>\n",
       "      <td>0.014328</td>\n",
       "    </tr>\n",
       "    <tr>\n",
       "      <th>118</th>\n",
       "      <td>provider_type_Mass Immunizer Roster Biller</td>\n",
       "      <td>0.013808</td>\n",
       "    </tr>\n",
       "  </tbody>\n",
       "</table>\n",
       "</div>"
      ],
      "text/plain": [
       "                                       Features RF Feature Importances\n",
       "8                 submitted_charges_per_service               0.166715\n",
       "6                  submitted_charges_per_person               0.082571\n",
       "7                           services_per_person               0.077495\n",
       "3                       total_submitted_charges               0.052601\n",
       "0                               number_of_hcpcs               0.043647\n",
       "1                            number_of_services               0.043515\n",
       "5                            avg_hcc_risk_score               0.039671\n",
       "2                           total_beneficiaries               0.032824\n",
       "4                           avg_beneficiary_age               0.028493\n",
       "15                                percent_asian               0.024522\n",
       "9                                     total_pop               0.024181\n",
       "13                             percent_hispanic               0.023993\n",
       "16                    percent_two_or_more_races               0.023917\n",
       "11                                percent_white               0.023885\n",
       "10                                percent_black               0.023582\n",
       "12                          percent_native_amer               0.021924\n",
       "14                                percent_other               0.020212\n",
       "17                                entity_code_I               0.015034\n",
       "18                                entity_code_O               0.014328\n",
       "118  provider_type_Mass Immunizer Roster Biller               0.013808"
      ]
     },
     "execution_count": 346,
     "metadata": {},
     "output_type": "execute_result"
    }
   ],
   "source": [
    "rf_imp.head(20)"
   ]
  },
  {
   "cell_type": "markdown",
   "metadata": {},
   "source": [
    "Saving Errors from Random Forest Models as a CSV. I want to see which doctors are mislabeled and project why?"
   ]
  },
  {
   "cell_type": "code",
   "execution_count": 38,
   "metadata": {},
   "outputs": [
    {
     "name": "stderr",
     "output_type": "stream",
     "text": [
      "/Users/Livi/opt/anaconda3/envs/springboard/lib/python3.7/site-packages/numpy/lib/arraysetops.py:569: FutureWarning: elementwise comparison failed; returning scalar instead, but in the future will perform elementwise comparison\n",
      "  mask |= (ar1 == a)\n"
     ]
    }
   ],
   "source": [
    "idx = X_test.index\n",
    "examine_errors = pd.read_csv('../data/interim/merged_medicare_before_dropping.csv',index_col=0).iloc[idx]\n",
    "examine_errors = pd.concat([examine_errors.reset_index(drop=True),\n",
    "                                   pd.Series(ypred_rf).rename('ypred_rf'),\n",
    "                                   pd.Series(y_test).rename('ytest')], axis=1)"
   ]
  },
  {
   "cell_type": "markdown",
   "metadata": {},
   "source": [
    "Here I'm saving the most extreme errors."
   ]
  },
  {
   "cell_type": "code",
   "execution_count": 46,
   "metadata": {},
   "outputs": [
    {
     "data": {
      "text/plain": [
       "((60, 17), (109, 17))"
      ]
     },
     "execution_count": 46,
     "metadata": {},
     "output_type": "execute_result"
    }
   ],
   "source": [
    "import dataframe_image as dfi\n",
    "\n",
    "falselow = examine_errors[\n",
    "    (examine_errors.ypred_rf == 'very low') & (examine_errors.ytest == 'very high')]\n",
    "\n",
    "falsehigh = examine_errors[\n",
    "    (examine_errors.ypred_rf == 'very high') & (examine_errors.ytest == 'very low')]\n",
    "\n",
    "falselow = falselow[['entity_code','state','provider_type','number_of_services','number_of_hcpcs','total_beneficiaries','total_submitted_charges','avg_hcc_risk_score','submitted_charges_per_person','services_per_person','submitted_charges_per_service','region','subregion','total_pop','majority','ytest','ypred_rf']]\n",
    "falsehigh = falsehigh[['entity_code','state','provider_type','number_of_services','number_of_hcpcs','total_beneficiaries','total_submitted_charges','avg_hcc_risk_score','submitted_charges_per_person','services_per_person','submitted_charges_per_service','region','subregion','total_pop','majority','ytest','ypred_rf']]\n",
    "\n",
    "\n",
    "\n",
    "\n",
    "falselow.shape, falsehigh.shape"
   ]
  },
  {
   "cell_type": "code",
   "execution_count": 47,
   "metadata": {},
   "outputs": [
    {
     "data": {
      "text/html": [
       "<div>\n",
       "<style scoped>\n",
       "    .dataframe tbody tr th:only-of-type {\n",
       "        vertical-align: middle;\n",
       "    }\n",
       "\n",
       "    .dataframe tbody tr th {\n",
       "        vertical-align: top;\n",
       "    }\n",
       "\n",
       "    .dataframe thead th {\n",
       "        text-align: right;\n",
       "    }\n",
       "</style>\n",
       "<table border=\"1\" class=\"dataframe\">\n",
       "  <thead>\n",
       "    <tr style=\"text-align: right;\">\n",
       "      <th></th>\n",
       "      <th>entity_code</th>\n",
       "      <th>state</th>\n",
       "      <th>provider_type</th>\n",
       "      <th>number_of_services</th>\n",
       "      <th>number_of_hcpcs</th>\n",
       "      <th>total_beneficiaries</th>\n",
       "      <th>total_submitted_charges</th>\n",
       "      <th>avg_hcc_risk_score</th>\n",
       "      <th>submitted_charges_per_person</th>\n",
       "      <th>services_per_person</th>\n",
       "      <th>submitted_charges_per_service</th>\n",
       "      <th>region</th>\n",
       "      <th>subregion</th>\n",
       "      <th>total_pop</th>\n",
       "      <th>majority</th>\n",
       "      <th>ytest</th>\n",
       "      <th>ypred_rf</th>\n",
       "    </tr>\n",
       "  </thead>\n",
       "  <tbody>\n",
       "    <tr>\n",
       "      <th>3730</th>\n",
       "      <td>I</td>\n",
       "      <td>CA</td>\n",
       "      <td>Family Practice</td>\n",
       "      <td>102.0</td>\n",
       "      <td>8</td>\n",
       "      <td>26</td>\n",
       "      <td>4210.00</td>\n",
       "      <td>1.9780</td>\n",
       "      <td>161.92</td>\n",
       "      <td>3.92</td>\n",
       "      <td>41.27</td>\n",
       "      <td>West</td>\n",
       "      <td>Pacific</td>\n",
       "      <td>71422.0</td>\n",
       "      <td>no_majority</td>\n",
       "      <td>very high</td>\n",
       "      <td>very low</td>\n",
       "    </tr>\n",
       "    <tr>\n",
       "      <th>5546</th>\n",
       "      <td>I</td>\n",
       "      <td>FL</td>\n",
       "      <td>Nurse Practitioner</td>\n",
       "      <td>28.0</td>\n",
       "      <td>10</td>\n",
       "      <td>14</td>\n",
       "      <td>2860.00</td>\n",
       "      <td>0.6400</td>\n",
       "      <td>204.29</td>\n",
       "      <td>2.00</td>\n",
       "      <td>102.14</td>\n",
       "      <td>South</td>\n",
       "      <td>South Atlantic</td>\n",
       "      <td>21807.0</td>\n",
       "      <td>majority_white</td>\n",
       "      <td>very high</td>\n",
       "      <td>very low</td>\n",
       "    </tr>\n",
       "    <tr>\n",
       "      <th>22823</th>\n",
       "      <td>I</td>\n",
       "      <td>MS</td>\n",
       "      <td>Family Practice</td>\n",
       "      <td>366.0</td>\n",
       "      <td>12</td>\n",
       "      <td>114</td>\n",
       "      <td>12720.34</td>\n",
       "      <td>1.0595</td>\n",
       "      <td>111.58</td>\n",
       "      <td>3.21</td>\n",
       "      <td>34.76</td>\n",
       "      <td>South</td>\n",
       "      <td>East South Central</td>\n",
       "      <td>30050.0</td>\n",
       "      <td>majority_white</td>\n",
       "      <td>very high</td>\n",
       "      <td>very low</td>\n",
       "    </tr>\n",
       "    <tr>\n",
       "      <th>23207</th>\n",
       "      <td>I</td>\n",
       "      <td>WA</td>\n",
       "      <td>Family Practice</td>\n",
       "      <td>31.0</td>\n",
       "      <td>7</td>\n",
       "      <td>25</td>\n",
       "      <td>1711.00</td>\n",
       "      <td>1.1905</td>\n",
       "      <td>68.44</td>\n",
       "      <td>1.24</td>\n",
       "      <td>55.19</td>\n",
       "      <td>West</td>\n",
       "      <td>Pacific</td>\n",
       "      <td>43285.0</td>\n",
       "      <td>majority_white</td>\n",
       "      <td>very high</td>\n",
       "      <td>very low</td>\n",
       "    </tr>\n",
       "    <tr>\n",
       "      <th>23339</th>\n",
       "      <td>I</td>\n",
       "      <td>DE</td>\n",
       "      <td>Certified Nurse Midwife</td>\n",
       "      <td>38.0</td>\n",
       "      <td>6</td>\n",
       "      <td>28</td>\n",
       "      <td>2683.00</td>\n",
       "      <td>0.6956</td>\n",
       "      <td>95.82</td>\n",
       "      <td>1.36</td>\n",
       "      <td>70.61</td>\n",
       "      <td>South</td>\n",
       "      <td>South Atlantic</td>\n",
       "      <td>25134.0</td>\n",
       "      <td>majority_white</td>\n",
       "      <td>very high</td>\n",
       "      <td>very low</td>\n",
       "    </tr>\n",
       "  </tbody>\n",
       "</table>\n",
       "</div>"
      ],
      "text/plain": [
       "      entity_code state            provider_type  number_of_services  \\\n",
       "3730            I    CA          Family Practice               102.0   \n",
       "5546            I    FL       Nurse Practitioner                28.0   \n",
       "22823           I    MS          Family Practice               366.0   \n",
       "23207           I    WA          Family Practice                31.0   \n",
       "23339           I    DE  Certified Nurse Midwife                38.0   \n",
       "\n",
       "       number_of_hcpcs  total_beneficiaries  total_submitted_charges  \\\n",
       "3730                 8                   26                  4210.00   \n",
       "5546                10                   14                  2860.00   \n",
       "22823               12                  114                 12720.34   \n",
       "23207                7                   25                  1711.00   \n",
       "23339                6                   28                  2683.00   \n",
       "\n",
       "       avg_hcc_risk_score  submitted_charges_per_person  services_per_person  \\\n",
       "3730               1.9780                        161.92                 3.92   \n",
       "5546               0.6400                        204.29                 2.00   \n",
       "22823              1.0595                        111.58                 3.21   \n",
       "23207              1.1905                         68.44                 1.24   \n",
       "23339              0.6956                         95.82                 1.36   \n",
       "\n",
       "       submitted_charges_per_service region           subregion  total_pop  \\\n",
       "3730                           41.27   West             Pacific    71422.0   \n",
       "5546                          102.14  South      South Atlantic    21807.0   \n",
       "22823                          34.76  South  East South Central    30050.0   \n",
       "23207                          55.19   West             Pacific    43285.0   \n",
       "23339                          70.61  South      South Atlantic    25134.0   \n",
       "\n",
       "             majority      ytest  ypred_rf  \n",
       "3730      no_majority  very high  very low  \n",
       "5546   majority_white  very high  very low  \n",
       "22823  majority_white  very high  very low  \n",
       "23207  majority_white  very high  very low  \n",
       "23339  majority_white  very high  very low  "
      ]
     },
     "execution_count": 47,
     "metadata": {},
     "output_type": "execute_result"
    }
   ],
   "source": [
    "falselow.head()"
   ]
  },
  {
   "cell_type": "code",
   "execution_count": 48,
   "metadata": {},
   "outputs": [
    {
     "data": {
      "text/html": [
       "<div>\n",
       "<style scoped>\n",
       "    .dataframe tbody tr th:only-of-type {\n",
       "        vertical-align: middle;\n",
       "    }\n",
       "\n",
       "    .dataframe tbody tr th {\n",
       "        vertical-align: top;\n",
       "    }\n",
       "\n",
       "    .dataframe thead th {\n",
       "        text-align: right;\n",
       "    }\n",
       "</style>\n",
       "<table border=\"1\" class=\"dataframe\">\n",
       "  <thead>\n",
       "    <tr style=\"text-align: right;\">\n",
       "      <th></th>\n",
       "      <th>entity_code</th>\n",
       "      <th>state</th>\n",
       "      <th>provider_type</th>\n",
       "      <th>number_of_services</th>\n",
       "      <th>number_of_hcpcs</th>\n",
       "      <th>total_beneficiaries</th>\n",
       "      <th>total_submitted_charges</th>\n",
       "      <th>avg_hcc_risk_score</th>\n",
       "      <th>submitted_charges_per_person</th>\n",
       "      <th>services_per_person</th>\n",
       "      <th>submitted_charges_per_service</th>\n",
       "      <th>region</th>\n",
       "      <th>subregion</th>\n",
       "      <th>total_pop</th>\n",
       "      <th>majority</th>\n",
       "      <th>ytest</th>\n",
       "      <th>ypred_rf</th>\n",
       "    </tr>\n",
       "  </thead>\n",
       "  <tbody>\n",
       "    <tr>\n",
       "      <th>558</th>\n",
       "      <td>I</td>\n",
       "      <td>MS</td>\n",
       "      <td>Nurse Practitioner</td>\n",
       "      <td>151.0</td>\n",
       "      <td>22</td>\n",
       "      <td>65</td>\n",
       "      <td>6362.00</td>\n",
       "      <td>1.2124</td>\n",
       "      <td>97.88</td>\n",
       "      <td>2.32</td>\n",
       "      <td>42.13</td>\n",
       "      <td>South</td>\n",
       "      <td>East South Central</td>\n",
       "      <td>14874.0</td>\n",
       "      <td>majority_white</td>\n",
       "      <td>very low</td>\n",
       "      <td>very high</td>\n",
       "    </tr>\n",
       "    <tr>\n",
       "      <th>1296</th>\n",
       "      <td>I</td>\n",
       "      <td>CA</td>\n",
       "      <td>Pediatric Medicine</td>\n",
       "      <td>46.0</td>\n",
       "      <td>7</td>\n",
       "      <td>38</td>\n",
       "      <td>1461.82</td>\n",
       "      <td>1.2552</td>\n",
       "      <td>38.47</td>\n",
       "      <td>1.21</td>\n",
       "      <td>31.78</td>\n",
       "      <td>West</td>\n",
       "      <td>Pacific</td>\n",
       "      <td>65016.0</td>\n",
       "      <td>majority_hispanic</td>\n",
       "      <td>very low</td>\n",
       "      <td>very high</td>\n",
       "    </tr>\n",
       "    <tr>\n",
       "      <th>1427</th>\n",
       "      <td>I</td>\n",
       "      <td>OH</td>\n",
       "      <td>Registered Dietitian or Nutrition Professional</td>\n",
       "      <td>78.0</td>\n",
       "      <td>3</td>\n",
       "      <td>49</td>\n",
       "      <td>6682.00</td>\n",
       "      <td>1.2227</td>\n",
       "      <td>136.37</td>\n",
       "      <td>1.59</td>\n",
       "      <td>85.67</td>\n",
       "      <td>Midwest</td>\n",
       "      <td>East North Central</td>\n",
       "      <td>27011.0</td>\n",
       "      <td>majority_white</td>\n",
       "      <td>very low</td>\n",
       "      <td>very high</td>\n",
       "    </tr>\n",
       "    <tr>\n",
       "      <th>2789</th>\n",
       "      <td>I</td>\n",
       "      <td>KY</td>\n",
       "      <td>Nurse Practitioner</td>\n",
       "      <td>310.0</td>\n",
       "      <td>32</td>\n",
       "      <td>119</td>\n",
       "      <td>7781.04</td>\n",
       "      <td>1.5591</td>\n",
       "      <td>65.39</td>\n",
       "      <td>2.61</td>\n",
       "      <td>25.10</td>\n",
       "      <td>South</td>\n",
       "      <td>East South Central</td>\n",
       "      <td>6507.0</td>\n",
       "      <td>majority_white</td>\n",
       "      <td>very low</td>\n",
       "      <td>very high</td>\n",
       "    </tr>\n",
       "    <tr>\n",
       "      <th>3373</th>\n",
       "      <td>I</td>\n",
       "      <td>WA</td>\n",
       "      <td>Physician Assistant</td>\n",
       "      <td>125.0</td>\n",
       "      <td>14</td>\n",
       "      <td>76</td>\n",
       "      <td>4747.78</td>\n",
       "      <td>1.1872</td>\n",
       "      <td>62.47</td>\n",
       "      <td>1.64</td>\n",
       "      <td>37.98</td>\n",
       "      <td>West</td>\n",
       "      <td>Pacific</td>\n",
       "      <td>43078.0</td>\n",
       "      <td>majority_white</td>\n",
       "      <td>very low</td>\n",
       "      <td>very high</td>\n",
       "    </tr>\n",
       "  </tbody>\n",
       "</table>\n",
       "</div>"
      ],
      "text/plain": [
       "     entity_code state                                   provider_type  \\\n",
       "558            I    MS                              Nurse Practitioner   \n",
       "1296           I    CA                              Pediatric Medicine   \n",
       "1427           I    OH  Registered Dietitian or Nutrition Professional   \n",
       "2789           I    KY                              Nurse Practitioner   \n",
       "3373           I    WA                             Physician Assistant   \n",
       "\n",
       "      number_of_services  number_of_hcpcs  total_beneficiaries  \\\n",
       "558                151.0               22                   65   \n",
       "1296                46.0                7                   38   \n",
       "1427                78.0                3                   49   \n",
       "2789               310.0               32                  119   \n",
       "3373               125.0               14                   76   \n",
       "\n",
       "      total_submitted_charges  avg_hcc_risk_score  \\\n",
       "558                   6362.00              1.2124   \n",
       "1296                  1461.82              1.2552   \n",
       "1427                  6682.00              1.2227   \n",
       "2789                  7781.04              1.5591   \n",
       "3373                  4747.78              1.1872   \n",
       "\n",
       "      submitted_charges_per_person  services_per_person  \\\n",
       "558                          97.88                 2.32   \n",
       "1296                         38.47                 1.21   \n",
       "1427                        136.37                 1.59   \n",
       "2789                         65.39                 2.61   \n",
       "3373                         62.47                 1.64   \n",
       "\n",
       "      submitted_charges_per_service   region           subregion  total_pop  \\\n",
       "558                           42.13    South  East South Central    14874.0   \n",
       "1296                          31.78     West             Pacific    65016.0   \n",
       "1427                          85.67  Midwest  East North Central    27011.0   \n",
       "2789                          25.10    South  East South Central     6507.0   \n",
       "3373                          37.98     West             Pacific    43078.0   \n",
       "\n",
       "               majority     ytest   ypred_rf  \n",
       "558      majority_white  very low  very high  \n",
       "1296  majority_hispanic  very low  very high  \n",
       "1427     majority_white  very low  very high  \n",
       "2789     majority_white  very low  very high  \n",
       "3373     majority_white  very low  very high  "
      ]
     },
     "execution_count": 48,
     "metadata": {},
     "output_type": "execute_result"
    }
   ],
   "source": [
    "falsehigh.head()"
   ]
  },
  {
   "cell_type": "markdown",
   "metadata": {},
   "source": [
    "\n",
    "falselow.to_csv('../references/falselow.csv')\n",
    "falsehigh.to_csv('../references//falsehigh.csv')"
   ]
  },
  {
   "cell_type": "code",
   "execution_count": null,
   "metadata": {},
   "outputs": [],
   "source": []
  }
 ],
 "metadata": {
  "kernelspec": {
   "display_name": "Python 3",
   "language": "python",
   "name": "python3"
  },
  "language_info": {
   "codemirror_mode": {
    "name": "ipython",
    "version": 3
   },
   "file_extension": ".py",
   "mimetype": "text/x-python",
   "name": "python",
   "nbconvert_exporter": "python",
   "pygments_lexer": "ipython3",
   "version": "3.7.7"
  }
 },
 "nbformat": 4,
 "nbformat_minor": 4
}
