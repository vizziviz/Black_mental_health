{
 "cells": [
  {
   "cell_type": "code",
   "execution_count": 87,
   "metadata": {},
   "outputs": [
    {
     "name": "stdout",
     "output_type": "stream",
     "text": [
      "/Users/Livi/opt/anaconda3/envs/springboard/bin/python\n"
     ]
    }
   ],
   "source": [
    "import sys\n",
    "print(sys.executable)"
   ]
  },
  {
   "cell_type": "markdown",
   "metadata": {},
   "source": [
    "Data Wrangling\n",
    "Data Collection\n",
    "Locating the data\n",
    "Data loading\n",
    "Data joining\n",
    "Data Organization\n",
    "File structure\n",
    "Git & Github\n",
    "Data Definition\n",
    "Column names\n",
    "Data types (numeric, categorical, timestamp, etc.)\n",
    "Description of the columns\n",
    "Count or percent per unique values or codes (including NA)\n",
    "The range of values or codes\n",
    "Data Cleaning\n",
    "NA or missing data\n",
    "Duplicates"
   ]
  },
  {
   "cell_type": "markdown",
   "metadata": {},
   "source": [
    "Data Acquisition (manual intervention?)\n",
    "\n",
    "Data quality (zipcodes in right form, can sales/units be 0 or neg?, differentiate cities w same name, num/cat variables take on expected boundaires\n",
    "\n",
    "Deal w missing data\n",
    "\n",
    "Dealing w small or large data\n",
    "\n",
    "Blending multiple datasets "
   ]
  },
  {
   "cell_type": "code",
   "execution_count": 88,
   "metadata": {},
   "outputs": [],
   "source": [
    "import os\n",
    "import pandas as pd\n",
    "import datetime\n",
    "import seaborn as sns\n",
    "import matplotlib.pyplot as plt\n",
    "import numpy as np\n",
    "%matplotlib inline"
   ]
  },
  {
   "cell_type": "code",
   "execution_count": 89,
   "metadata": {},
   "outputs": [
    {
     "data": {
      "text/plain": [
       "'1.1.5'"
      ]
     },
     "execution_count": 89,
     "metadata": {},
     "output_type": "execute_result"
    }
   ],
   "source": [
    "pd.__version__"
   ]
  },
  {
   "cell_type": "code",
   "execution_count": 90,
   "metadata": {},
   "outputs": [
    {
     "data": {
      "text/plain": [
       "'/Users/Livi/Projects/capstone2/notebooks'"
      ]
     },
     "execution_count": 90,
     "metadata": {},
     "output_type": "execute_result"
    }
   ],
   "source": [
    "os.getcwd()\n"
   ]
  },
  {
   "cell_type": "code",
   "execution_count": 91,
   "metadata": {},
   "outputs": [
    {
     "name": "stderr",
     "output_type": "stream",
     "text": [
      "/Users/Livi/opt/anaconda3/envs/springboard/lib/python3.7/site-packages/IPython/core/interactiveshell.py:3063: DtypeWarning: Columns (10) have mixed types.Specify dtype option on import or set low_memory=False.\n",
      "  interactivity=interactivity, compiler=compiler, result=result)\n"
     ]
    }
   ],
   "source": [
    "med = pd.read_csv(\"../data/raw/Medicare_Physician_and_Other_Supplier_National_Provider_Identifier__NPI__Aggregate_Report__Calendar_Year_2012.csv\")"
   ]
  },
  {
   "cell_type": "code",
   "execution_count": 92,
   "metadata": {},
   "outputs": [
    {
     "data": {
      "text/plain": [
       "(925328, 67)"
      ]
     },
     "execution_count": 92,
     "metadata": {},
     "output_type": "execute_result"
    }
   ],
   "source": [
    "med.shape"
   ]
  },
  {
   "cell_type": "code",
   "execution_count": 93,
   "metadata": {},
   "outputs": [
    {
     "data": {
      "text/html": [
       "<div>\n",
       "<style scoped>\n",
       "    .dataframe tbody tr th:only-of-type {\n",
       "        vertical-align: middle;\n",
       "    }\n",
       "\n",
       "    .dataframe tbody tr th {\n",
       "        vertical-align: top;\n",
       "    }\n",
       "\n",
       "    .dataframe thead th {\n",
       "        text-align: right;\n",
       "    }\n",
       "</style>\n",
       "<table border=\"1\" class=\"dataframe\">\n",
       "  <thead>\n",
       "    <tr style=\"text-align: right;\">\n",
       "      <th></th>\n",
       "      <th>NPI</th>\n",
       "      <th>NPPES Provider Last Name / Organization Name</th>\n",
       "      <th>NPPES Provider First Name</th>\n",
       "      <th>NPPES Provider Middle Initial</th>\n",
       "      <th>NPPES Credentials</th>\n",
       "      <th>NPPES Provider Gender</th>\n",
       "      <th>NPPES Entity Code</th>\n",
       "      <th>NPPES Provider Street Address 1</th>\n",
       "      <th>NPPES Provider Street Address 2</th>\n",
       "      <th>NPPES Provider City</th>\n",
       "      <th>...</th>\n",
       "      <th>Percent (%) of Beneficiaries Identified With Diabetes</th>\n",
       "      <th>Percent (%) of Beneficiaries Identified With Heart Failure</th>\n",
       "      <th>Percent (%) of Beneficiaries Identified With Hyperlipidemia</th>\n",
       "      <th>Percent (%) of Beneficiaries Identified With Hypertension</th>\n",
       "      <th>Percent (%) of Beneficiaries Identified With Ischemic Heart Disease</th>\n",
       "      <th>Percent (%) of Beneficiaries Identified With Osteoporosis</th>\n",
       "      <th>Percent (%) of Beneficiaries Identified With Rheumatoid Arthritis / Osteoarthritis</th>\n",
       "      <th>Percent (%) of Beneficiaries Identified With Schizophrenia / Other Psychotic Disorders</th>\n",
       "      <th>Percent (%) of Beneficiaries Identified With Stroke</th>\n",
       "      <th>Average HCC Risk Score of Beneficiaries</th>\n",
       "    </tr>\n",
       "  </thead>\n",
       "  <tbody>\n",
       "    <tr>\n",
       "      <th>0</th>\n",
       "      <td>1003000126</td>\n",
       "      <td>ENKESHAFI</td>\n",
       "      <td>ARDALAN</td>\n",
       "      <td>NaN</td>\n",
       "      <td>M.D.</td>\n",
       "      <td>M</td>\n",
       "      <td>I</td>\n",
       "      <td>900 SETON DR</td>\n",
       "      <td>NaN</td>\n",
       "      <td>CUMBERLAND</td>\n",
       "      <td>...</td>\n",
       "      <td>51.0</td>\n",
       "      <td>53.0</td>\n",
       "      <td>65.0</td>\n",
       "      <td>75.0</td>\n",
       "      <td>66.0</td>\n",
       "      <td>14.0</td>\n",
       "      <td>47.0</td>\n",
       "      <td>14.0</td>\n",
       "      <td>19.0</td>\n",
       "      <td>2.2264</td>\n",
       "    </tr>\n",
       "    <tr>\n",
       "      <th>1</th>\n",
       "      <td>1003000134</td>\n",
       "      <td>CIBULL</td>\n",
       "      <td>THOMAS</td>\n",
       "      <td>L</td>\n",
       "      <td>M.D.</td>\n",
       "      <td>M</td>\n",
       "      <td>I</td>\n",
       "      <td>2650 RIDGE AVE</td>\n",
       "      <td>EVANSTON HOSPITAL</td>\n",
       "      <td>EVANSTON</td>\n",
       "      <td>...</td>\n",
       "      <td>21.0</td>\n",
       "      <td>13.0</td>\n",
       "      <td>55.0</td>\n",
       "      <td>59.0</td>\n",
       "      <td>31.0</td>\n",
       "      <td>8.0</td>\n",
       "      <td>36.0</td>\n",
       "      <td>2.0</td>\n",
       "      <td>4.0</td>\n",
       "      <td>1.0703</td>\n",
       "    </tr>\n",
       "    <tr>\n",
       "      <th>2</th>\n",
       "      <td>1003000142</td>\n",
       "      <td>KHALIL</td>\n",
       "      <td>RASHID</td>\n",
       "      <td>NaN</td>\n",
       "      <td>M.D.</td>\n",
       "      <td>M</td>\n",
       "      <td>I</td>\n",
       "      <td>4126 N HOLLAND SYLVANIA RD</td>\n",
       "      <td>SUITE 220</td>\n",
       "      <td>TOLEDO</td>\n",
       "      <td>...</td>\n",
       "      <td>50.0</td>\n",
       "      <td>31.0</td>\n",
       "      <td>63.0</td>\n",
       "      <td>75.0</td>\n",
       "      <td>47.0</td>\n",
       "      <td>13.0</td>\n",
       "      <td>75.0</td>\n",
       "      <td>NaN</td>\n",
       "      <td>NaN</td>\n",
       "      <td>1.8967</td>\n",
       "    </tr>\n",
       "    <tr>\n",
       "      <th>3</th>\n",
       "      <td>1003000381</td>\n",
       "      <td>BRAGANZA</td>\n",
       "      <td>LUTHER</td>\n",
       "      <td>Q</td>\n",
       "      <td>PT</td>\n",
       "      <td>M</td>\n",
       "      <td>I</td>\n",
       "      <td>134 N OLD DIXIE HWY</td>\n",
       "      <td>NaN</td>\n",
       "      <td>LADY LAKE</td>\n",
       "      <td>...</td>\n",
       "      <td>35.0</td>\n",
       "      <td>NaN</td>\n",
       "      <td>75.0</td>\n",
       "      <td>75.0</td>\n",
       "      <td>52.0</td>\n",
       "      <td>NaN</td>\n",
       "      <td>58.0</td>\n",
       "      <td>0.0</td>\n",
       "      <td>NaN</td>\n",
       "      <td>1.2687</td>\n",
       "    </tr>\n",
       "    <tr>\n",
       "      <th>4</th>\n",
       "      <td>1003000407</td>\n",
       "      <td>GIRARDI</td>\n",
       "      <td>DAVID</td>\n",
       "      <td>J</td>\n",
       "      <td>D.O.</td>\n",
       "      <td>M</td>\n",
       "      <td>I</td>\n",
       "      <td>456 MAGEE AVE</td>\n",
       "      <td>NaN</td>\n",
       "      <td>PATTON</td>\n",
       "      <td>...</td>\n",
       "      <td>39.0</td>\n",
       "      <td>51.0</td>\n",
       "      <td>65.0</td>\n",
       "      <td>75.0</td>\n",
       "      <td>65.0</td>\n",
       "      <td>20.0</td>\n",
       "      <td>41.0</td>\n",
       "      <td>21.0</td>\n",
       "      <td>12.0</td>\n",
       "      <td>1.8170</td>\n",
       "    </tr>\n",
       "  </tbody>\n",
       "</table>\n",
       "<p>5 rows × 67 columns</p>\n",
       "</div>"
      ],
      "text/plain": [
       "          NPI NPPES Provider Last Name / Organization Name  \\\n",
       "0  1003000126                                    ENKESHAFI   \n",
       "1  1003000134                                       CIBULL   \n",
       "2  1003000142                                       KHALIL   \n",
       "3  1003000381                                     BRAGANZA   \n",
       "4  1003000407                                      GIRARDI   \n",
       "\n",
       "  NPPES Provider First Name NPPES Provider Middle Initial NPPES Credentials  \\\n",
       "0                   ARDALAN                           NaN              M.D.   \n",
       "1                    THOMAS                             L              M.D.   \n",
       "2                    RASHID                           NaN              M.D.   \n",
       "3                    LUTHER                             Q                PT   \n",
       "4                     DAVID                             J              D.O.   \n",
       "\n",
       "  NPPES Provider Gender NPPES Entity Code NPPES Provider Street Address 1  \\\n",
       "0                     M                 I                    900 SETON DR   \n",
       "1                     M                 I                  2650 RIDGE AVE   \n",
       "2                     M                 I      4126 N HOLLAND SYLVANIA RD   \n",
       "3                     M                 I             134 N OLD DIXIE HWY   \n",
       "4                     M                 I                   456 MAGEE AVE   \n",
       "\n",
       "  NPPES Provider Street Address 2 NPPES Provider City  ...  \\\n",
       "0                             NaN          CUMBERLAND  ...   \n",
       "1               EVANSTON HOSPITAL            EVANSTON  ...   \n",
       "2                       SUITE 220              TOLEDO  ...   \n",
       "3                             NaN           LADY LAKE  ...   \n",
       "4                             NaN              PATTON  ...   \n",
       "\n",
       "  Percent (%) of Beneficiaries Identified With Diabetes  \\\n",
       "0                                                  51.0   \n",
       "1                                                  21.0   \n",
       "2                                                  50.0   \n",
       "3                                                  35.0   \n",
       "4                                                  39.0   \n",
       "\n",
       "  Percent (%) of Beneficiaries Identified With Heart Failure  \\\n",
       "0                                                       53.0   \n",
       "1                                                       13.0   \n",
       "2                                                       31.0   \n",
       "3                                                        NaN   \n",
       "4                                                       51.0   \n",
       "\n",
       "  Percent (%) of Beneficiaries Identified With Hyperlipidemia  \\\n",
       "0                                                        65.0   \n",
       "1                                                        55.0   \n",
       "2                                                        63.0   \n",
       "3                                                        75.0   \n",
       "4                                                        65.0   \n",
       "\n",
       "  Percent (%) of Beneficiaries Identified With Hypertension  \\\n",
       "0                                                      75.0   \n",
       "1                                                      59.0   \n",
       "2                                                      75.0   \n",
       "3                                                      75.0   \n",
       "4                                                      75.0   \n",
       "\n",
       "  Percent (%) of Beneficiaries Identified With Ischemic Heart Disease  \\\n",
       "0                                                                66.0   \n",
       "1                                                                31.0   \n",
       "2                                                                47.0   \n",
       "3                                                                52.0   \n",
       "4                                                                65.0   \n",
       "\n",
       "   Percent (%) of Beneficiaries Identified With Osteoporosis  \\\n",
       "0                                                       14.0   \n",
       "1                                                        8.0   \n",
       "2                                                       13.0   \n",
       "3                                                        NaN   \n",
       "4                                                       20.0   \n",
       "\n",
       "   Percent (%) of Beneficiaries Identified With Rheumatoid Arthritis / Osteoarthritis  \\\n",
       "0                                                                                47.0   \n",
       "1                                                                                36.0   \n",
       "2                                                                                75.0   \n",
       "3                                                                                58.0   \n",
       "4                                                                                41.0   \n",
       "\n",
       "   Percent (%) of Beneficiaries Identified With Schizophrenia / Other Psychotic Disorders  \\\n",
       "0                                                                                    14.0   \n",
       "1                                                                                     2.0   \n",
       "2                                                                                     NaN   \n",
       "3                                                                                     0.0   \n",
       "4                                                                                    21.0   \n",
       "\n",
       "   Percent (%) of Beneficiaries Identified With Stroke  \\\n",
       "0                                                 19.0   \n",
       "1                                                  4.0   \n",
       "2                                                  NaN   \n",
       "3                                                  NaN   \n",
       "4                                                 12.0   \n",
       "\n",
       "   Average HCC Risk Score of Beneficiaries  \n",
       "0                                   2.2264  \n",
       "1                                   1.0703  \n",
       "2                                   1.8967  \n",
       "3                                   1.2687  \n",
       "4                                   1.8170  \n",
       "\n",
       "[5 rows x 67 columns]"
      ]
     },
     "execution_count": 93,
     "metadata": {},
     "output_type": "execute_result"
    }
   ],
   "source": [
    "med.head()"
   ]
  },
  {
   "cell_type": "markdown",
   "metadata": {},
   "source": [
    "CHECKPOINT, SAVING ORIGINAL DF"
   ]
  },
  {
   "cell_type": "code",
   "execution_count": 94,
   "metadata": {},
   "outputs": [],
   "source": [
    "original_df = med.copy()"
   ]
  },
  {
   "cell_type": "code",
   "execution_count": 95,
   "metadata": {},
   "outputs": [],
   "source": [
    "pd.options.display.max_rows = 100\n",
    "pd.options.display.max_colwidth = 100"
   ]
  },
  {
   "cell_type": "markdown",
   "metadata": {},
   "source": [
    "I ONLY WANT TO LOOK AT MENTAL HEALTH PROVIDERS SO I WILL FILTER THE DF FOR THOSE PROVIDER AND THEN EXAMINE THE NULL VALUES"
   ]
  },
  {
   "cell_type": "code",
   "execution_count": 96,
   "metadata": {},
   "outputs": [
    {
     "data": {
      "text/plain": [
       "Index(['NPI', 'NPPES Provider Last Name / Organization Name',\n",
       "       'NPPES Provider First Name', 'NPPES Provider Middle Initial',\n",
       "       'NPPES Credentials', 'NPPES Provider Gender', 'NPPES Entity Code',\n",
       "       'NPPES Provider Street Address 1', 'NPPES Provider Street Address 2',\n",
       "       'NPPES Provider City', 'NPPES Provider Zip Code',\n",
       "       'NPPES Provider State', 'NPPES Provider Country', 'Provider Type',\n",
       "       'Medicare Participation Indicator', 'Number of HCPCS',\n",
       "       'Number of Services', 'Number of Unique Beneficiaries',\n",
       "       'Total Submitted Charges', 'Total Medicare Allowed Amount',\n",
       "       'Total Medicare Payment Amount', 'Drug Suppress Indicator',\n",
       "       'Number of HCPCS Associated With Drug Services',\n",
       "       'Number of Drug Services',\n",
       "       'Number of Unique Beneficiaries With Drug Services',\n",
       "       'Total Drug Submitted Charges', 'Total Drug Medicare Allowed Amount',\n",
       "       'Total Drug Medicare Payment Amount', 'Medical Suppress Indicator',\n",
       "       'Number of HCPCS Associated With Medical Services',\n",
       "       'Number of Medical Services',\n",
       "       'Number of Unique Beneficiaries With Medical Services',\n",
       "       'Total Medical Submitted Charges',\n",
       "       'Total Medical Medicare Allowed Amount',\n",
       "       'Total Medical Medicare Payment Amount', 'Average Age of Beneficiaries',\n",
       "       'Number of Beneficiaries Age Less than 65',\n",
       "       'Number of Beneficiaries Age 65 to 74',\n",
       "       'Number of Beneficiaries Age 75 to 84',\n",
       "       'Number of Beneficiaries Age Greater 84',\n",
       "       'Number of Female Beneficiaries', 'Number of Male Beneficiaries',\n",
       "       'Number of Non-Hispanic White Beneficiaries',\n",
       "       'Number of Black or African American Beneficiaries',\n",
       "       'Number of Asian Pacific Islander Beneficiaries',\n",
       "       'Number of Hispanic Beneficiaries',\n",
       "       'Number of American Indian/Alaska Native Beneficiaries',\n",
       "       'Number of Beneficiaries With Race Not Elsewhere Classified',\n",
       "       'Number of Beneficiaries With Medicare Only Entitlement',\n",
       "       'Number of Beneficiaries With Medicare & Medicaid Entitlement',\n",
       "       'Percent (%) of Beneficiaries Identified With Alzheimer’s Disease or Dementia',\n",
       "       'Percent (%) of Beneficiaries Identified With Asthma',\n",
       "       'Percent (%) of Beneficiaries Identified With Atrial Fibrillation',\n",
       "       'Percent (%) of Beneficiaries Identified With Cancer',\n",
       "       'Percent (%) of Beneficiaries Identified With Chronic Kidney Disease',\n",
       "       'Percent (%) of Beneficiaries Identified With Chronic Obstructive Pulmonary Disease',\n",
       "       'Percent (%) of Beneficiaries Identified With Depression',\n",
       "       'Percent (%) of Beneficiaries Identified With Diabetes',\n",
       "       'Percent (%) of Beneficiaries Identified With Heart Failure',\n",
       "       'Percent (%) of Beneficiaries Identified With Hyperlipidemia',\n",
       "       'Percent (%) of Beneficiaries Identified With Hypertension',\n",
       "       'Percent (%) of Beneficiaries Identified With Ischemic Heart Disease',\n",
       "       'Percent (%) of Beneficiaries Identified With Osteoporosis',\n",
       "       'Percent (%) of Beneficiaries Identified With Rheumatoid Arthritis / Osteoarthritis',\n",
       "       'Percent (%) of Beneficiaries Identified With Schizophrenia / Other Psychotic Disorders',\n",
       "       'Percent (%) of Beneficiaries Identified With Stroke',\n",
       "       'Average HCC Risk Score of Beneficiaries'],\n",
       "      dtype='object')"
      ]
     },
     "execution_count": 96,
     "metadata": {},
     "output_type": "execute_result"
    }
   ],
   "source": [
    "med.columns"
   ]
  },
  {
   "cell_type": "code",
   "execution_count": 97,
   "metadata": {},
   "outputs": [
    {
     "data": {
      "text/plain": [
       "0"
      ]
     },
     "execution_count": 97,
     "metadata": {},
     "output_type": "execute_result"
    }
   ],
   "source": [
    "med['NPPES Provider Zip Code'].isnull().sum()"
   ]
  },
  {
   "cell_type": "code",
   "execution_count": 98,
   "metadata": {},
   "outputs": [
    {
     "data": {
      "text/plain": [
       "0    21502\n",
       "1    60201\n",
       "2    43623\n",
       "3    32159\n",
       "4    16668\n",
       "Name: NPPES Provider Zip Code, dtype: object"
      ]
     },
     "execution_count": 98,
     "metadata": {},
     "output_type": "execute_result"
    }
   ],
   "source": [
    "med['NPPES Provider Zip Code'].astype('str').apply(lambda x: x[:5]).head()"
   ]
  },
  {
   "cell_type": "code",
   "execution_count": 99,
   "metadata": {},
   "outputs": [],
   "source": [
    "med['five_dig_zip']= med['NPPES Provider Zip Code'].astype('str').apply(lambda x: x[:5])"
   ]
  },
  {
   "cell_type": "code",
   "execution_count": 100,
   "metadata": {},
   "outputs": [],
   "source": [
    "med = med[med['NPPES Provider Country']=='US']"
   ]
  },
  {
   "cell_type": "code",
   "execution_count": 101,
   "metadata": {},
   "outputs": [],
   "source": [
    "med['five_dig_zip'] = med['five_dig_zip'].apply(lambda x: x.zfill(5))"
   ]
  },
  {
   "cell_type": "code",
   "execution_count": 102,
   "metadata": {},
   "outputs": [
    {
     "data": {
      "text/plain": [
       "305035"
      ]
     },
     "execution_count": 102,
     "metadata": {},
     "output_type": "execute_result"
    }
   ],
   "source": [
    "med['Number of Black or African American Beneficiaries'].notnull().sum()"
   ]
  },
  {
   "cell_type": "code",
   "execution_count": 109,
   "metadata": {},
   "outputs": [],
   "source": [
    "med = med[med['Number of Black or African American Beneficiaries'].notnull()]"
   ]
  },
  {
   "cell_type": "code",
   "execution_count": 112,
   "metadata": {},
   "outputs": [
    {
     "data": {
      "text/html": [
       "<div>\n",
       "<style scoped>\n",
       "    .dataframe tbody tr th:only-of-type {\n",
       "        vertical-align: middle;\n",
       "    }\n",
       "\n",
       "    .dataframe tbody tr th {\n",
       "        vertical-align: top;\n",
       "    }\n",
       "\n",
       "    .dataframe thead th {\n",
       "        text-align: right;\n",
       "    }\n",
       "</style>\n",
       "<table border=\"1\" class=\"dataframe\">\n",
       "  <thead>\n",
       "    <tr style=\"text-align: right;\">\n",
       "      <th></th>\n",
       "      <th>index</th>\n",
       "      <th>five_dig_zip</th>\n",
       "    </tr>\n",
       "  </thead>\n",
       "  <tbody>\n",
       "    <tr>\n",
       "      <th>7190</th>\n",
       "      <td>00601</td>\n",
       "      <td>6</td>\n",
       "    </tr>\n",
       "    <tr>\n",
       "      <th>6566</th>\n",
       "      <td>00602</td>\n",
       "      <td>7</td>\n",
       "    </tr>\n",
       "    <tr>\n",
       "      <th>4679</th>\n",
       "      <td>00603</td>\n",
       "      <td>12</td>\n",
       "    </tr>\n",
       "    <tr>\n",
       "      <th>6906</th>\n",
       "      <td>00605</td>\n",
       "      <td>6</td>\n",
       "    </tr>\n",
       "    <tr>\n",
       "      <th>5647</th>\n",
       "      <td>00610</td>\n",
       "      <td>9</td>\n",
       "    </tr>\n",
       "    <tr>\n",
       "      <th>...</th>\n",
       "      <td>...</td>\n",
       "      <td>...</td>\n",
       "    </tr>\n",
       "    <tr>\n",
       "      <th>17288</th>\n",
       "      <td>99830</td>\n",
       "      <td>1</td>\n",
       "    </tr>\n",
       "    <tr>\n",
       "      <th>4589</th>\n",
       "      <td>99835</td>\n",
       "      <td>12</td>\n",
       "    </tr>\n",
       "    <tr>\n",
       "      <th>5226</th>\n",
       "      <td>99901</td>\n",
       "      <td>10</td>\n",
       "    </tr>\n",
       "    <tr>\n",
       "      <th>14107</th>\n",
       "      <td>99921</td>\n",
       "      <td>1</td>\n",
       "    </tr>\n",
       "    <tr>\n",
       "      <th>13446</th>\n",
       "      <td>99925</td>\n",
       "      <td>1</td>\n",
       "    </tr>\n",
       "  </tbody>\n",
       "</table>\n",
       "<p>17997 rows × 2 columns</p>\n",
       "</div>"
      ],
      "text/plain": [
       "       index  five_dig_zip\n",
       "7190   00601             6\n",
       "6566   00602             7\n",
       "4679   00603            12\n",
       "6906   00605             6\n",
       "5647   00610             9\n",
       "...      ...           ...\n",
       "17288  99830             1\n",
       "4589   99835            12\n",
       "5226   99901            10\n",
       "14107  99921             1\n",
       "13446  99925             1\n",
       "\n",
       "[17997 rows x 2 columns]"
      ]
     },
     "execution_count": 112,
     "metadata": {},
     "output_type": "execute_result"
    }
   ],
   "source": [
    "## I want to see if any zip codes are 00000\n",
    "med['five_dig_zip'].value_counts().reset_index().sort_values('index')"
   ]
  },
  {
   "cell_type": "code",
   "execution_count": 107,
   "metadata": {},
   "outputs": [
    {
     "data": {
      "text/html": [
       "<div>\n",
       "<style scoped>\n",
       "    .dataframe tbody tr th:only-of-type {\n",
       "        vertical-align: middle;\n",
       "    }\n",
       "\n",
       "    .dataframe tbody tr th {\n",
       "        vertical-align: top;\n",
       "    }\n",
       "\n",
       "    .dataframe thead th {\n",
       "        text-align: right;\n",
       "    }\n",
       "</style>\n",
       "<table border=\"1\" class=\"dataframe\">\n",
       "  <thead>\n",
       "    <tr style=\"text-align: right;\">\n",
       "      <th></th>\n",
       "      <th>NPI</th>\n",
       "      <th>NPPES Provider Last Name / Organization Name</th>\n",
       "      <th>NPPES Provider First Name</th>\n",
       "      <th>NPPES Provider Middle Initial</th>\n",
       "      <th>NPPES Credentials</th>\n",
       "      <th>NPPES Provider Gender</th>\n",
       "      <th>NPPES Entity Code</th>\n",
       "      <th>NPPES Provider Street Address 1</th>\n",
       "      <th>NPPES Provider Street Address 2</th>\n",
       "      <th>NPPES Provider City</th>\n",
       "      <th>NPPES Provider Zip Code</th>\n",
       "      <th>NPPES Provider State</th>\n",
       "      <th>NPPES Provider Country</th>\n",
       "      <th>Provider Type</th>\n",
       "      <th>Medicare Participation Indicator</th>\n",
       "    </tr>\n",
       "  </thead>\n",
       "  <tbody>\n",
       "    <tr>\n",
       "      <th>103581</th>\n",
       "      <td>1114060506</td>\n",
       "      <td>PELLEGRINO</td>\n",
       "      <td>MICHAEL</td>\n",
       "      <td>A</td>\n",
       "      <td>D.O.</td>\n",
       "      <td>M</td>\n",
       "      <td>I</td>\n",
       "      <td>CHARLTON MEMORIAL HOSP</td>\n",
       "      <td>NaN</td>\n",
       "      <td>FALL RIVER</td>\n",
       "      <td>0</td>\n",
       "      <td>MA</td>\n",
       "      <td>US</td>\n",
       "      <td>Osteopathic Manipulative Medicine</td>\n",
       "      <td>Y</td>\n",
       "    </tr>\n",
       "  </tbody>\n",
       "</table>\n",
       "</div>"
      ],
      "text/plain": [
       "               NPI NPPES Provider Last Name / Organization Name  \\\n",
       "103581  1114060506                                   PELLEGRINO   \n",
       "\n",
       "       NPPES Provider First Name NPPES Provider Middle Initial  \\\n",
       "103581                   MICHAEL                             A   \n",
       "\n",
       "       NPPES Credentials NPPES Provider Gender NPPES Entity Code  \\\n",
       "103581              D.O.                     M                 I   \n",
       "\n",
       "       NPPES Provider Street Address 1 NPPES Provider Street Address 2  \\\n",
       "103581          CHARLTON MEMORIAL HOSP                             NaN   \n",
       "\n",
       "       NPPES Provider City NPPES Provider Zip Code NPPES Provider State  \\\n",
       "103581          FALL RIVER                       0                   MA   \n",
       "\n",
       "       NPPES Provider Country                      Provider Type  \\\n",
       "103581                     US  Osteopathic Manipulative Medicine   \n",
       "\n",
       "       Medicare Participation Indicator  \n",
       "103581                                Y  "
      ]
     },
     "execution_count": 107,
     "metadata": {},
     "output_type": "execute_result"
    }
   ],
   "source": [
    "med[med['five_dig_zip']=='00000'].iloc[:, :15]"
   ]
  },
  {
   "cell_type": "code",
   "execution_count": 108,
   "metadata": {},
   "outputs": [],
   "source": [
    "#I googled his NPI number to find his zip.\n",
    "med.loc[103581, \"five_dig_zip\"] = \"02720\""
   ]
  },
  {
   "cell_type": "markdown",
   "metadata": {},
   "source": [
    "# Aggregate whole DF by zip code "
   ]
  },
  {
   "cell_type": "code",
   "execution_count": 113,
   "metadata": {},
   "outputs": [],
   "source": [
    "grouping = med.groupby('five_dig_zip')"
   ]
  },
  {
   "cell_type": "code",
   "execution_count": 114,
   "metadata": {},
   "outputs": [
    {
     "data": {
      "text/plain": [
       "five_dig_zip\n",
       "00601     400\n",
       "00602     206\n",
       "00603     348\n",
       "00605     175\n",
       "00610     299\n",
       "         ... \n",
       "99830      83\n",
       "99835     966\n",
       "99901    2696\n",
       "99921      11\n",
       "99925      39\n",
       "Name: Number of Unique Beneficiaries, Length: 17997, dtype: int64"
      ]
     },
     "execution_count": 114,
     "metadata": {},
     "output_type": "execute_result"
    }
   ],
   "source": [
    "grouping['Number of Unique Beneficiaries'].sum()"
   ]
  },
  {
   "cell_type": "code",
   "execution_count": 115,
   "metadata": {},
   "outputs": [
    {
     "data": {
      "text/plain": [
       "17997"
      ]
     },
     "execution_count": 115,
     "metadata": {},
     "output_type": "execute_result"
    }
   ],
   "source": [
    "len(grouping)"
   ]
  },
  {
   "cell_type": "markdown",
   "metadata": {},
   "source": [
    "# Left to do:\n",
    "\n",
    "go back to med DF: \n",
    "\n",
    "see race counts, fill in \"race not identified\" for whatever doesn't add up\n",
    "\n",
    "see age counts, same\n",
    "\n",
    "see gender counts, decide whether to fill these in or not"
   ]
  },
  {
   "cell_type": "code",
   "execution_count": null,
   "metadata": {},
   "outputs": [],
   "source": []
  }
 ],
 "metadata": {
  "kernelspec": {
   "display_name": "Python 3",
   "language": "python",
   "name": "python3"
  },
  "language_info": {
   "codemirror_mode": {
    "name": "ipython",
    "version": 3
   },
   "file_extension": ".py",
   "mimetype": "text/x-python",
   "name": "python",
   "nbconvert_exporter": "python",
   "pygments_lexer": "ipython3",
   "version": "3.7.7"
  }
 },
 "nbformat": 4,
 "nbformat_minor": 4
}
