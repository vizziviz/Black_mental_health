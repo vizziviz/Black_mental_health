{
 "cells": [
  {
   "cell_type": "markdown",
   "metadata": {},
   "source": [
    "# Importing Modules and Checking Directory "
   ]
  },
  {
   "cell_type": "code",
   "execution_count": 1,
   "metadata": {},
   "outputs": [],
   "source": [
    "import os\n",
    "import pandas as pd\n",
    "import datetime\n",
    "import seaborn as sns\n",
    "import matplotlib.pyplot as plt\n",
    "import numpy as np\n",
    "%matplotlib inline"
   ]
  },
  {
   "cell_type": "code",
   "execution_count": 2,
   "metadata": {},
   "outputs": [
    {
     "data": {
      "text/plain": [
       "'1.1.5'"
      ]
     },
     "execution_count": 2,
     "metadata": {},
     "output_type": "execute_result"
    }
   ],
   "source": [
    "pd.__version__"
   ]
  },
  {
   "cell_type": "code",
   "execution_count": 3,
   "metadata": {},
   "outputs": [
    {
     "data": {
      "text/plain": [
       "'/Users/Livi/Projects/Black_mental_health/models'"
      ]
     },
     "execution_count": 3,
     "metadata": {},
     "output_type": "execute_result"
    }
   ],
   "source": [
    "os.getcwd()\n"
   ]
  },
  {
   "cell_type": "code",
   "execution_count": 4,
   "metadata": {},
   "outputs": [
    {
     "name": "stderr",
     "output_type": "stream",
     "text": [
      "/Users/Livi/opt/anaconda3/envs/springboard/lib/python3.7/site-packages/numpy/lib/arraysetops.py:569: FutureWarning: elementwise comparison failed; returning scalar instead, but in the future will perform elementwise comparison\n",
      "  mask |= (ar1 == a)\n"
     ]
    }
   ],
   "source": [
    "original_med = pd.read_csv('../data/processed/medicare18.csv', dtype={'full_zip':'object', 'npi':'object'}, index_col=0)"
   ]
  },
  {
   "cell_type": "code",
   "execution_count": 5,
   "metadata": {},
   "outputs": [
    {
     "name": "stdout",
     "output_type": "stream",
     "text": [
      "<class 'pandas.core.frame.DataFrame'>\n",
      "Int64Index: 1115360 entries, 0 to 1115359\n",
      "Data columns (total 24 columns):\n",
      " #   Column                               Non-Null Count    Dtype  \n",
      "---  ------                               --------------    -----  \n",
      " 0   npi                                  1115360 non-null  object \n",
      " 1   entity_code                          1115360 non-null  object \n",
      " 2   full_zip                             1115360 non-null  object \n",
      " 3   state                                1115360 non-null  object \n",
      " 4   country                              1115360 non-null  object \n",
      " 5   provider_type                        1115360 non-null  object \n",
      " 6   medicare_participation_indicator     1115360 non-null  object \n",
      " 7   number_of_hcpcs                      1115360 non-null  int64  \n",
      " 8   number_of_services                   1115360 non-null  float64\n",
      " 9   total_beneficiaries                  1115360 non-null  int64  \n",
      " 10  total_submitted_charges              1115360 non-null  float64\n",
      " 11  total_allowed_payment                1115360 non-null  float64\n",
      " 12  total_medicare_payment               1115360 non-null  float64\n",
      " 13  total_medicare_standardized_payment  1115360 non-null  float64\n",
      " 14  avg_beneficiary_age                  1115360 non-null  int64  \n",
      " 15  avg_hcc_risk_score                   1115360 non-null  float64\n",
      " 16  medicare_payment_per_person          1115360 non-null  float64\n",
      " 17  submitted_charges_per_person         1115360 non-null  float64\n",
      " 18  services_per_person                  1115360 non-null  float64\n",
      " 19  submitted_charges_per_service        1115360 non-null  float64\n",
      " 20  medicare_payment_per_service         1115360 non-null  float64\n",
      " 21  percentage_rate                      1115360 non-null  float64\n",
      " 22  region                               1115360 non-null  object \n",
      " 23  subregion                            1115360 non-null  object \n",
      "dtypes: float64(12), int64(3), object(9)\n",
      "memory usage: 212.7+ MB\n"
     ]
    }
   ],
   "source": [
    "original_med.info()"
   ]
  },
  {
   "cell_type": "code",
   "execution_count": 6,
   "metadata": {},
   "outputs": [
    {
     "data": {
      "text/plain": [
       "(1115360, 24)"
      ]
     },
     "execution_count": 6,
     "metadata": {},
     "output_type": "execute_result"
    }
   ],
   "source": [
    "original_med.shape"
   ]
  },
  {
   "cell_type": "code",
   "execution_count": 7,
   "metadata": {},
   "outputs": [],
   "source": [
    "census = pd.read_csv('../data/processed/2018pops.csv', index_col = 0, dtype={'geo_id':'str'}, parse_dates=['do_date'])"
   ]
  },
  {
   "cell_type": "code",
   "execution_count": 8,
   "metadata": {},
   "outputs": [
    {
     "name": "stdout",
     "output_type": "stream",
     "text": [
      "<class 'pandas.core.frame.DataFrame'>\n",
      "Int64Index: 32799 entries, 0 to 33119\n",
      "Data columns (total 18 columns):\n",
      " #   Column                     Non-Null Count  Dtype         \n",
      "---  ------                     --------------  -----         \n",
      " 0   geo_id                     32799 non-null  object        \n",
      " 1   total_pop                  32799 non-null  int64         \n",
      " 2   white_pop                  32799 non-null  int64         \n",
      " 3   black_pop                  32799 non-null  int64         \n",
      " 4   asian_pop                  32799 non-null  int64         \n",
      " 5   hispanic_pop               32799 non-null  int64         \n",
      " 6   amerindian_pop             32799 non-null  int64         \n",
      " 7   other_race_pop             32799 non-null  int64         \n",
      " 8   two_or_more_races_pop      32799 non-null  int64         \n",
      " 9   do_date                    32799 non-null  datetime64[ns]\n",
      " 10  percent_black              32799 non-null  float64       \n",
      " 11  percent_white              32799 non-null  float64       \n",
      " 12  percent_native_amer        32799 non-null  float64       \n",
      " 13  percent_hispanic           32799 non-null  float64       \n",
      " 14  percent_other              32799 non-null  float64       \n",
      " 15  percent_asian              32799 non-null  float64       \n",
      " 16  percent_two_or_more_races  32799 non-null  float64       \n",
      " 17  majority                   32799 non-null  object        \n",
      "dtypes: datetime64[ns](1), float64(7), int64(8), object(2)\n",
      "memory usage: 4.8+ MB\n"
     ]
    }
   ],
   "source": [
    "census.info()"
   ]
  },
  {
   "cell_type": "code",
   "execution_count": 9,
   "metadata": {},
   "outputs": [
    {
     "data": {
      "text/html": [
       "<div>\n",
       "<style scoped>\n",
       "    .dataframe tbody tr th:only-of-type {\n",
       "        vertical-align: middle;\n",
       "    }\n",
       "\n",
       "    .dataframe tbody tr th {\n",
       "        vertical-align: top;\n",
       "    }\n",
       "\n",
       "    .dataframe thead th {\n",
       "        text-align: right;\n",
       "    }\n",
       "</style>\n",
       "<table border=\"1\" class=\"dataframe\">\n",
       "  <thead>\n",
       "    <tr style=\"text-align: right;\">\n",
       "      <th></th>\n",
       "      <th>geo_id</th>\n",
       "      <th>total_pop</th>\n",
       "      <th>percent_black</th>\n",
       "      <th>percent_white</th>\n",
       "      <th>percent_native_amer</th>\n",
       "      <th>percent_hispanic</th>\n",
       "      <th>percent_other</th>\n",
       "      <th>percent_asian</th>\n",
       "      <th>percent_two_or_more_races</th>\n",
       "      <th>majority</th>\n",
       "    </tr>\n",
       "  </thead>\n",
       "  <tbody>\n",
       "    <tr>\n",
       "      <th>33115</th>\n",
       "      <td>35463</td>\n",
       "      <td>1794</td>\n",
       "      <td>0.323857</td>\n",
       "      <td>0.676143</td>\n",
       "      <td>0.000000</td>\n",
       "      <td>0.000000</td>\n",
       "      <td>0.000000</td>\n",
       "      <td>0.000000</td>\n",
       "      <td>0.000000</td>\n",
       "      <td>majority_white</td>\n",
       "    </tr>\n",
       "    <tr>\n",
       "      <th>33116</th>\n",
       "      <td>77664</td>\n",
       "      <td>2667</td>\n",
       "      <td>0.079865</td>\n",
       "      <td>0.828271</td>\n",
       "      <td>0.000000</td>\n",
       "      <td>0.069366</td>\n",
       "      <td>0.000000</td>\n",
       "      <td>0.009374</td>\n",
       "      <td>0.013123</td>\n",
       "      <td>majority_white</td>\n",
       "    </tr>\n",
       "    <tr>\n",
       "      <th>33117</th>\n",
       "      <td>21822</td>\n",
       "      <td>2013</td>\n",
       "      <td>0.169399</td>\n",
       "      <td>0.710879</td>\n",
       "      <td>0.017387</td>\n",
       "      <td>0.065574</td>\n",
       "      <td>0.000000</td>\n",
       "      <td>0.021361</td>\n",
       "      <td>0.015400</td>\n",
       "      <td>majority_white</td>\n",
       "    </tr>\n",
       "    <tr>\n",
       "      <th>33118</th>\n",
       "      <td>07418</td>\n",
       "      <td>2304</td>\n",
       "      <td>0.044271</td>\n",
       "      <td>0.904080</td>\n",
       "      <td>0.000000</td>\n",
       "      <td>0.043403</td>\n",
       "      <td>0.000000</td>\n",
       "      <td>0.008247</td>\n",
       "      <td>0.000000</td>\n",
       "      <td>majority_white</td>\n",
       "    </tr>\n",
       "    <tr>\n",
       "      <th>33119</th>\n",
       "      <td>03036</td>\n",
       "      <td>5039</td>\n",
       "      <td>0.003969</td>\n",
       "      <td>0.936098</td>\n",
       "      <td>0.000000</td>\n",
       "      <td>0.027783</td>\n",
       "      <td>0.006152</td>\n",
       "      <td>0.022028</td>\n",
       "      <td>0.003969</td>\n",
       "      <td>majority_white</td>\n",
       "    </tr>\n",
       "  </tbody>\n",
       "</table>\n",
       "</div>"
      ],
      "text/plain": [
       "      geo_id  total_pop  percent_black  percent_white  percent_native_amer  \\\n",
       "33115  35463       1794       0.323857       0.676143             0.000000   \n",
       "33116  77664       2667       0.079865       0.828271             0.000000   \n",
       "33117  21822       2013       0.169399       0.710879             0.017387   \n",
       "33118  07418       2304       0.044271       0.904080             0.000000   \n",
       "33119  03036       5039       0.003969       0.936098             0.000000   \n",
       "\n",
       "       percent_hispanic  percent_other  percent_asian  \\\n",
       "33115          0.000000       0.000000       0.000000   \n",
       "33116          0.069366       0.000000       0.009374   \n",
       "33117          0.065574       0.000000       0.021361   \n",
       "33118          0.043403       0.000000       0.008247   \n",
       "33119          0.027783       0.006152       0.022028   \n",
       "\n",
       "       percent_two_or_more_races        majority  \n",
       "33115                   0.000000  majority_white  \n",
       "33116                   0.013123  majority_white  \n",
       "33117                   0.015400  majority_white  \n",
       "33118                   0.000000  majority_white  \n",
       "33119                   0.003969  majority_white  "
      ]
     },
     "execution_count": 9,
     "metadata": {},
     "output_type": "execute_result"
    }
   ],
   "source": [
    "cols = ['geo_id', 'total_pop', 'percent_black', 'percent_white','percent_native_amer', \n",
    "        'percent_hispanic', 'percent_other','percent_asian', 'percent_two_or_more_races', 'majority']\n",
    "keep_only = census.loc[:, cols]\n",
    "keep_only.tail()"
   ]
  },
  {
   "cell_type": "code",
   "execution_count": 10,
   "metadata": {},
   "outputs": [
    {
     "data": {
      "text/plain": [
       "(5    1115360\n",
       " Name: full_zip, dtype: int64,\n",
       " 5    32799\n",
       " Name: geo_id, dtype: int64)"
      ]
     },
     "execution_count": 10,
     "metadata": {},
     "output_type": "execute_result"
    }
   ],
   "source": [
    "original_med.full_zip.apply(len).value_counts(), census.geo_id.apply(len).value_counts()"
   ]
  },
  {
   "cell_type": "code",
   "execution_count": 11,
   "metadata": {},
   "outputs": [],
   "source": [
    "med = pd.merge(original_med, keep_only, how='left', left_on='full_zip', right_on='geo_id').drop(columns = 'geo_id')"
   ]
  },
  {
   "cell_type": "code",
   "execution_count": 12,
   "metadata": {},
   "outputs": [
    {
     "data": {
      "text/plain": [
       "((1115360, 24), (1115360, 33))"
      ]
     },
     "execution_count": 12,
     "metadata": {},
     "output_type": "execute_result"
    }
   ],
   "source": [
    "original_med.shape, med.shape"
   ]
  },
  {
   "cell_type": "code",
   "execution_count": 13,
   "metadata": {},
   "outputs": [
    {
     "data": {
      "text/html": [
       "<div>\n",
       "<style scoped>\n",
       "    .dataframe tbody tr th:only-of-type {\n",
       "        vertical-align: middle;\n",
       "    }\n",
       "\n",
       "    .dataframe tbody tr th {\n",
       "        vertical-align: top;\n",
       "    }\n",
       "\n",
       "    .dataframe thead th {\n",
       "        text-align: right;\n",
       "    }\n",
       "</style>\n",
       "<table border=\"1\" class=\"dataframe\">\n",
       "  <thead>\n",
       "    <tr style=\"text-align: right;\">\n",
       "      <th></th>\n",
       "      <th>npi</th>\n",
       "      <th>entity_code</th>\n",
       "      <th>full_zip</th>\n",
       "      <th>state</th>\n",
       "      <th>country</th>\n",
       "      <th>provider_type</th>\n",
       "      <th>medicare_participation_indicator</th>\n",
       "      <th>number_of_hcpcs</th>\n",
       "      <th>number_of_services</th>\n",
       "      <th>total_beneficiaries</th>\n",
       "      <th>...</th>\n",
       "      <th>subregion</th>\n",
       "      <th>total_pop</th>\n",
       "      <th>percent_black</th>\n",
       "      <th>percent_white</th>\n",
       "      <th>percent_native_amer</th>\n",
       "      <th>percent_hispanic</th>\n",
       "      <th>percent_other</th>\n",
       "      <th>percent_asian</th>\n",
       "      <th>percent_two_or_more_races</th>\n",
       "      <th>majority</th>\n",
       "    </tr>\n",
       "  </thead>\n",
       "  <tbody>\n",
       "    <tr>\n",
       "      <th>0</th>\n",
       "      <td>1003000126</td>\n",
       "      <td>I</td>\n",
       "      <td>21502</td>\n",
       "      <td>MD</td>\n",
       "      <td>US</td>\n",
       "      <td>Internal Medicine</td>\n",
       "      <td>Y</td>\n",
       "      <td>19</td>\n",
       "      <td>1218.0</td>\n",
       "      <td>445</td>\n",
       "      <td>...</td>\n",
       "      <td>South Atlantic</td>\n",
       "      <td>42583.0</td>\n",
       "      <td>0.109645</td>\n",
       "      <td>0.839772</td>\n",
       "      <td>0.001573</td>\n",
       "      <td>0.018834</td>\n",
       "      <td>0.001127</td>\n",
       "      <td>0.007327</td>\n",
       "      <td>0.021464</td>\n",
       "      <td>majority_white</td>\n",
       "    </tr>\n",
       "    <tr>\n",
       "      <th>1</th>\n",
       "      <td>1003006586</td>\n",
       "      <td>I</td>\n",
       "      <td>20832</td>\n",
       "      <td>MD</td>\n",
       "      <td>US</td>\n",
       "      <td>Internal Medicine</td>\n",
       "      <td>Y</td>\n",
       "      <td>16</td>\n",
       "      <td>1293.0</td>\n",
       "      <td>546</td>\n",
       "      <td>...</td>\n",
       "      <td>South Atlantic</td>\n",
       "      <td>26448.0</td>\n",
       "      <td>0.108553</td>\n",
       "      <td>0.612523</td>\n",
       "      <td>0.003932</td>\n",
       "      <td>0.106360</td>\n",
       "      <td>0.006579</td>\n",
       "      <td>0.123299</td>\n",
       "      <td>0.038755</td>\n",
       "      <td>majority_white</td>\n",
       "    </tr>\n",
       "    <tr>\n",
       "      <th>2</th>\n",
       "      <td>1003006800</td>\n",
       "      <td>I</td>\n",
       "      <td>21202</td>\n",
       "      <td>MD</td>\n",
       "      <td>US</td>\n",
       "      <td>Physician Assistant</td>\n",
       "      <td>Y</td>\n",
       "      <td>4</td>\n",
       "      <td>58.0</td>\n",
       "      <td>12</td>\n",
       "      <td>...</td>\n",
       "      <td>South Atlantic</td>\n",
       "      <td>21010.0</td>\n",
       "      <td>0.579819</td>\n",
       "      <td>0.303475</td>\n",
       "      <td>0.002237</td>\n",
       "      <td>0.042075</td>\n",
       "      <td>0.006140</td>\n",
       "      <td>0.045740</td>\n",
       "      <td>0.017753</td>\n",
       "      <td>majority_black</td>\n",
       "    </tr>\n",
       "    <tr>\n",
       "      <th>3</th>\n",
       "      <td>1003007816</td>\n",
       "      <td>I</td>\n",
       "      <td>20910</td>\n",
       "      <td>MD</td>\n",
       "      <td>US</td>\n",
       "      <td>Ophthalmology</td>\n",
       "      <td>Y</td>\n",
       "      <td>30</td>\n",
       "      <td>3417.0</td>\n",
       "      <td>791</td>\n",
       "      <td>...</td>\n",
       "      <td>South Atlantic</td>\n",
       "      <td>42868.0</td>\n",
       "      <td>0.309042</td>\n",
       "      <td>0.448306</td>\n",
       "      <td>0.002659</td>\n",
       "      <td>0.135416</td>\n",
       "      <td>0.004689</td>\n",
       "      <td>0.067883</td>\n",
       "      <td>0.031539</td>\n",
       "      <td>no_majority</td>\n",
       "    </tr>\n",
       "    <tr>\n",
       "      <th>4</th>\n",
       "      <td>1003007824</td>\n",
       "      <td>I</td>\n",
       "      <td>21201</td>\n",
       "      <td>MD</td>\n",
       "      <td>US</td>\n",
       "      <td>Internal Medicine</td>\n",
       "      <td>Y</td>\n",
       "      <td>22</td>\n",
       "      <td>262.0</td>\n",
       "      <td>72</td>\n",
       "      <td>...</td>\n",
       "      <td>South Atlantic</td>\n",
       "      <td>17136.0</td>\n",
       "      <td>0.498833</td>\n",
       "      <td>0.337768</td>\n",
       "      <td>0.004260</td>\n",
       "      <td>0.039974</td>\n",
       "      <td>0.004785</td>\n",
       "      <td>0.079890</td>\n",
       "      <td>0.034022</td>\n",
       "      <td>no_majority</td>\n",
       "    </tr>\n",
       "  </tbody>\n",
       "</table>\n",
       "<p>5 rows × 33 columns</p>\n",
       "</div>"
      ],
      "text/plain": [
       "          npi entity_code full_zip state country        provider_type  \\\n",
       "0  1003000126           I    21502    MD      US    Internal Medicine   \n",
       "1  1003006586           I    20832    MD      US    Internal Medicine   \n",
       "2  1003006800           I    21202    MD      US  Physician Assistant   \n",
       "3  1003007816           I    20910    MD      US        Ophthalmology   \n",
       "4  1003007824           I    21201    MD      US    Internal Medicine   \n",
       "\n",
       "  medicare_participation_indicator  number_of_hcpcs  number_of_services  \\\n",
       "0                                Y               19              1218.0   \n",
       "1                                Y               16              1293.0   \n",
       "2                                Y                4                58.0   \n",
       "3                                Y               30              3417.0   \n",
       "4                                Y               22               262.0   \n",
       "\n",
       "   total_beneficiaries  ...       subregion  total_pop  percent_black  \\\n",
       "0                  445  ...  South Atlantic    42583.0       0.109645   \n",
       "1                  546  ...  South Atlantic    26448.0       0.108553   \n",
       "2                   12  ...  South Atlantic    21010.0       0.579819   \n",
       "3                  791  ...  South Atlantic    42868.0       0.309042   \n",
       "4                   72  ...  South Atlantic    17136.0       0.498833   \n",
       "\n",
       "   percent_white  percent_native_amer  percent_hispanic  percent_other  \\\n",
       "0       0.839772             0.001573          0.018834       0.001127   \n",
       "1       0.612523             0.003932          0.106360       0.006579   \n",
       "2       0.303475             0.002237          0.042075       0.006140   \n",
       "3       0.448306             0.002659          0.135416       0.004689   \n",
       "4       0.337768             0.004260          0.039974       0.004785   \n",
       "\n",
       "   percent_asian  percent_two_or_more_races        majority  \n",
       "0       0.007327                   0.021464  majority_white  \n",
       "1       0.123299                   0.038755  majority_white  \n",
       "2       0.045740                   0.017753  majority_black  \n",
       "3       0.067883                   0.031539     no_majority  \n",
       "4       0.079890                   0.034022     no_majority  \n",
       "\n",
       "[5 rows x 33 columns]"
      ]
     },
     "execution_count": 13,
     "metadata": {},
     "output_type": "execute_result"
    }
   ],
   "source": [
    "med.head()"
   ]
  },
  {
   "cell_type": "code",
   "execution_count": 14,
   "metadata": {},
   "outputs": [
    {
     "name": "stdout",
     "output_type": "stream",
     "text": [
      "<class 'pandas.core.frame.DataFrame'>\n",
      "Int64Index: 1115360 entries, 0 to 1115359\n",
      "Data columns (total 33 columns):\n",
      " #   Column                               Non-Null Count    Dtype  \n",
      "---  ------                               --------------    -----  \n",
      " 0   npi                                  1115360 non-null  object \n",
      " 1   entity_code                          1115360 non-null  object \n",
      " 2   full_zip                             1115360 non-null  object \n",
      " 3   state                                1115360 non-null  object \n",
      " 4   country                              1115360 non-null  object \n",
      " 5   provider_type                        1115360 non-null  object \n",
      " 6   medicare_participation_indicator     1115360 non-null  object \n",
      " 7   number_of_hcpcs                      1115360 non-null  int64  \n",
      " 8   number_of_services                   1115360 non-null  float64\n",
      " 9   total_beneficiaries                  1115360 non-null  int64  \n",
      " 10  total_submitted_charges              1115360 non-null  float64\n",
      " 11  total_allowed_payment                1115360 non-null  float64\n",
      " 12  total_medicare_payment               1115360 non-null  float64\n",
      " 13  total_medicare_standardized_payment  1115360 non-null  float64\n",
      " 14  avg_beneficiary_age                  1115360 non-null  int64  \n",
      " 15  avg_hcc_risk_score                   1115360 non-null  float64\n",
      " 16  medicare_payment_per_person          1115360 non-null  float64\n",
      " 17  submitted_charges_per_person         1115360 non-null  float64\n",
      " 18  services_per_person                  1115360 non-null  float64\n",
      " 19  submitted_charges_per_service        1115360 non-null  float64\n",
      " 20  medicare_payment_per_service         1115360 non-null  float64\n",
      " 21  percentage_rate                      1115360 non-null  float64\n",
      " 22  region                               1115360 non-null  object \n",
      " 23  subregion                            1115360 non-null  object \n",
      " 24  total_pop                            1072142 non-null  float64\n",
      " 25  percent_black                        1072142 non-null  float64\n",
      " 26  percent_white                        1072142 non-null  float64\n",
      " 27  percent_native_amer                  1072142 non-null  float64\n",
      " 28  percent_hispanic                     1072142 non-null  float64\n",
      " 29  percent_other                        1072142 non-null  float64\n",
      " 30  percent_asian                        1072142 non-null  float64\n",
      " 31  percent_two_or_more_races            1072142 non-null  float64\n",
      " 32  majority                             1072142 non-null  object \n",
      "dtypes: float64(20), int64(3), object(10)\n",
      "memory usage: 289.3+ MB\n"
     ]
    }
   ],
   "source": [
    "med.info()"
   ]
  },
  {
   "cell_type": "code",
   "execution_count": 15,
   "metadata": {},
   "outputs": [
    {
     "data": {
      "text/plain": [
       "0"
      ]
     },
     "execution_count": 15,
     "metadata": {},
     "output_type": "execute_result"
    }
   ],
   "source": [
    "census.geo_id.isin(\n",
    "    med[med.total_pop.isnull()].full_zip\n",
    "        ).sum()"
   ]
  },
  {
   "cell_type": "markdown",
   "metadata": {},
   "source": [
    "There may be new zip codes in 2018 Medicare that the 2018 Census estimates don't know about. Removing these rows with missing Census info."
   ]
  },
  {
   "cell_type": "code",
   "execution_count": 16,
   "metadata": {},
   "outputs": [
    {
     "data": {
      "text/plain": [
       "(1072142, 33)"
      ]
     },
     "execution_count": 16,
     "metadata": {},
     "output_type": "execute_result"
    }
   ],
   "source": [
    "idx = med[med.total_pop.isnull()].index\n",
    "med.drop(index = idx, inplace=True)\n",
    "med.shape"
   ]
  },
  {
   "cell_type": "markdown",
   "metadata": {},
   "source": [
    "Creating new classes based on 'percentage_rate' boxplot"
   ]
  },
  {
   "cell_type": "code",
   "execution_count": 17,
   "metadata": {},
   "outputs": [
    {
     "data": {
      "text/plain": [
       "<matplotlib.axes._subplots.AxesSubplot at 0x7fa769166110>"
      ]
     },
     "execution_count": 17,
     "metadata": {},
     "output_type": "execute_result"
    },
    {
     "data": {
      "image/png": "[encoded data removed]",
      "text/plain": [
       "<Figure size 432x288 with 1 Axes>"
      ]
     },
     "metadata": {
      "needs_background": "light"
     },
     "output_type": "display_data"
    }
   ],
   "source": [
    "import seaborn as sns\n",
    "sns.boxplot(med.percentage_rate)"
   ]
  },
  {
   "cell_type": "markdown",
   "metadata": {},
   "source": [
    "Here are the quartiles and maximum."
   ]
  },
  {
   "cell_type": "code",
   "execution_count": 18,
   "metadata": {},
   "outputs": [
    {
     "data": {
      "text/plain": [
       "0.7542883985915082"
      ]
     },
     "execution_count": 18,
     "metadata": {},
     "output_type": "execute_result"
    }
   ],
   "source": [
    "first = np.quantile(med.percentage_rate, 0.25)\n",
    "third = np.quantile(med.percentage_rate, 0.75)\n",
    "high_cutoff = third + 1.5 * (third - first)\n",
    "high_cutoff"
   ]
  },
  {
   "cell_type": "markdown",
   "metadata": {},
   "source": [
    "What do the \"Payments Per Service\" look like for high payrate doctors? I would guess they should be low, which might explain why Medicare would pay almost 100% of the charges."
   ]
  },
  {
   "cell_type": "code",
   "execution_count": 19,
   "metadata": {},
   "outputs": [
    {
     "data": {
      "text/plain": [
       "count    41116.000000\n",
       "mean        43.870311\n",
       "std        204.744295\n",
       "min          0.580000\n",
       "25%         35.880000\n",
       "50%         39.370000\n",
       "75%         44.210000\n",
       "max      40140.400000\n",
       "Name: medicare_payment_per_service, dtype: float64"
      ]
     },
     "execution_count": 19,
     "metadata": {},
     "output_type": "execute_result"
    }
   ],
   "source": [
    "med[med.percentage_rate > high_cutoff].medicare_payment_per_service.describe()"
   ]
  },
  {
   "cell_type": "markdown",
   "metadata": {},
   "source": [
    "Wow that is a very high maximum \"Payment per service.\" Let's look at other high-rate, high-payment-per-service providers."
   ]
  },
  {
   "cell_type": "code",
   "execution_count": 20,
   "metadata": {},
   "outputs": [
    {
     "data": {
      "text/html": [
       "<div>\n",
       "<style scoped>\n",
       "    .dataframe tbody tr th:only-of-type {\n",
       "        vertical-align: middle;\n",
       "    }\n",
       "\n",
       "    .dataframe tbody tr th {\n",
       "        vertical-align: top;\n",
       "    }\n",
       "\n",
       "    .dataframe thead th {\n",
       "        text-align: right;\n",
       "    }\n",
       "</style>\n",
       "<table border=\"1\" class=\"dataframe\">\n",
       "  <thead>\n",
       "    <tr style=\"text-align: right;\">\n",
       "      <th></th>\n",
       "      <th>npi</th>\n",
       "      <th>entity_code</th>\n",
       "      <th>full_zip</th>\n",
       "      <th>state</th>\n",
       "      <th>country</th>\n",
       "      <th>provider_type</th>\n",
       "      <th>medicare_participation_indicator</th>\n",
       "      <th>number_of_hcpcs</th>\n",
       "      <th>number_of_services</th>\n",
       "      <th>total_beneficiaries</th>\n",
       "      <th>...</th>\n",
       "      <th>subregion</th>\n",
       "      <th>total_pop</th>\n",
       "      <th>percent_black</th>\n",
       "      <th>percent_white</th>\n",
       "      <th>percent_native_amer</th>\n",
       "      <th>percent_hispanic</th>\n",
       "      <th>percent_other</th>\n",
       "      <th>percent_asian</th>\n",
       "      <th>percent_two_or_more_races</th>\n",
       "      <th>majority</th>\n",
       "    </tr>\n",
       "  </thead>\n",
       "  <tbody>\n",
       "    <tr>\n",
       "      <th>288265</th>\n",
       "      <td>1184870230</td>\n",
       "      <td>O</td>\n",
       "      <td>94303</td>\n",
       "      <td>CA</td>\n",
       "      <td>US</td>\n",
       "      <td>Clinical Laboratory</td>\n",
       "      <td>Y</td>\n",
       "      <td>1</td>\n",
       "      <td>29116.0</td>\n",
       "      <td>24027</td>\n",
       "      <td>...</td>\n",
       "      <td>Pacific</td>\n",
       "      <td>48039.0</td>\n",
       "      <td>0.072941</td>\n",
       "      <td>0.242137</td>\n",
       "      <td>0.000354</td>\n",
       "      <td>0.399883</td>\n",
       "      <td>0.003081</td>\n",
       "      <td>0.183767</td>\n",
       "      <td>0.031703</td>\n",
       "      <td>no_majority</td>\n",
       "    </tr>\n",
       "    <tr>\n",
       "      <th>290297</th>\n",
       "      <td>1215003603</td>\n",
       "      <td>O</td>\n",
       "      <td>94063</td>\n",
       "      <td>CA</td>\n",
       "      <td>US</td>\n",
       "      <td>Clinical Laboratory</td>\n",
       "      <td>Y</td>\n",
       "      <td>6</td>\n",
       "      <td>27852.0</td>\n",
       "      <td>27007</td>\n",
       "      <td>...</td>\n",
       "      <td>Pacific</td>\n",
       "      <td>34503.0</td>\n",
       "      <td>0.022520</td>\n",
       "      <td>0.191925</td>\n",
       "      <td>0.001246</td>\n",
       "      <td>0.672434</td>\n",
       "      <td>0.005130</td>\n",
       "      <td>0.080109</td>\n",
       "      <td>0.017448</td>\n",
       "      <td>majority_hispanic</td>\n",
       "    </tr>\n",
       "    <tr>\n",
       "      <th>332951</th>\n",
       "      <td>1689607384</td>\n",
       "      <td>O</td>\n",
       "      <td>94005</td>\n",
       "      <td>CA</td>\n",
       "      <td>US</td>\n",
       "      <td>Clinical Laboratory</td>\n",
       "      <td>Y</td>\n",
       "      <td>2</td>\n",
       "      <td>13332.0</td>\n",
       "      <td>6241</td>\n",
       "      <td>...</td>\n",
       "      <td>Pacific</td>\n",
       "      <td>4692.0</td>\n",
       "      <td>0.060102</td>\n",
       "      <td>0.438832</td>\n",
       "      <td>0.000000</td>\n",
       "      <td>0.188406</td>\n",
       "      <td>0.006181</td>\n",
       "      <td>0.277067</td>\n",
       "      <td>0.029412</td>\n",
       "      <td>no_majority</td>\n",
       "    </tr>\n",
       "    <tr>\n",
       "      <th>346069</th>\n",
       "      <td>1821253584</td>\n",
       "      <td>O</td>\n",
       "      <td>92618</td>\n",
       "      <td>CA</td>\n",
       "      <td>US</td>\n",
       "      <td>Clinical Laboratory</td>\n",
       "      <td>Y</td>\n",
       "      <td>2</td>\n",
       "      <td>3107.0</td>\n",
       "      <td>2710</td>\n",
       "      <td>...</td>\n",
       "      <td>Pacific</td>\n",
       "      <td>43316.0</td>\n",
       "      <td>0.026318</td>\n",
       "      <td>0.420191</td>\n",
       "      <td>0.001662</td>\n",
       "      <td>0.080525</td>\n",
       "      <td>0.005564</td>\n",
       "      <td>0.424070</td>\n",
       "      <td>0.041647</td>\n",
       "      <td>no_majority</td>\n",
       "    </tr>\n",
       "    <tr>\n",
       "      <th>532685</th>\n",
       "      <td>1144203613</td>\n",
       "      <td>I</td>\n",
       "      <td>11050</td>\n",
       "      <td>NY</td>\n",
       "      <td>US</td>\n",
       "      <td>Oral Surgery (Dentist only)</td>\n",
       "      <td>Y</td>\n",
       "      <td>2</td>\n",
       "      <td>25.0</td>\n",
       "      <td>17</td>\n",
       "      <td>...</td>\n",
       "      <td>Middle Atlantic</td>\n",
       "      <td>30132.0</td>\n",
       "      <td>0.015366</td>\n",
       "      <td>0.696535</td>\n",
       "      <td>0.001925</td>\n",
       "      <td>0.155283</td>\n",
       "      <td>0.001460</td>\n",
       "      <td>0.119673</td>\n",
       "      <td>0.009392</td>\n",
       "      <td>majority_white</td>\n",
       "    </tr>\n",
       "    <tr>\n",
       "      <th>687391</th>\n",
       "      <td>1922019561</td>\n",
       "      <td>O</td>\n",
       "      <td>48103</td>\n",
       "      <td>MI</td>\n",
       "      <td>US</td>\n",
       "      <td>Pharmacy</td>\n",
       "      <td>Y</td>\n",
       "      <td>11</td>\n",
       "      <td>286.2</td>\n",
       "      <td>37</td>\n",
       "      <td>...</td>\n",
       "      <td>East North Central</td>\n",
       "      <td>55403.0</td>\n",
       "      <td>0.046604</td>\n",
       "      <td>0.770410</td>\n",
       "      <td>0.005216</td>\n",
       "      <td>0.036857</td>\n",
       "      <td>0.001336</td>\n",
       "      <td>0.097648</td>\n",
       "      <td>0.041929</td>\n",
       "      <td>majority_white</td>\n",
       "    </tr>\n",
       "    <tr>\n",
       "      <th>803606</th>\n",
       "      <td>1508105024</td>\n",
       "      <td>O</td>\n",
       "      <td>98102</td>\n",
       "      <td>WA</td>\n",
       "      <td>US</td>\n",
       "      <td>Clinical Laboratory</td>\n",
       "      <td>Y</td>\n",
       "      <td>1</td>\n",
       "      <td>57.0</td>\n",
       "      <td>57</td>\n",
       "      <td>...</td>\n",
       "      <td>Pacific</td>\n",
       "      <td>25448.0</td>\n",
       "      <td>0.022124</td>\n",
       "      <td>0.738211</td>\n",
       "      <td>0.002240</td>\n",
       "      <td>0.044483</td>\n",
       "      <td>0.001611</td>\n",
       "      <td>0.127908</td>\n",
       "      <td>0.060083</td>\n",
       "      <td>majority_white</td>\n",
       "    </tr>\n",
       "    <tr>\n",
       "      <th>874560</th>\n",
       "      <td>1447774641</td>\n",
       "      <td>O</td>\n",
       "      <td>27709</td>\n",
       "      <td>NC</td>\n",
       "      <td>US</td>\n",
       "      <td>Clinical Laboratory</td>\n",
       "      <td>Y</td>\n",
       "      <td>1</td>\n",
       "      <td>42.0</td>\n",
       "      <td>42</td>\n",
       "      <td>...</td>\n",
       "      <td>South Atlantic</td>\n",
       "      <td>914.0</td>\n",
       "      <td>0.214442</td>\n",
       "      <td>0.657549</td>\n",
       "      <td>0.000000</td>\n",
       "      <td>0.015317</td>\n",
       "      <td>0.000000</td>\n",
       "      <td>0.053611</td>\n",
       "      <td>0.059081</td>\n",
       "      <td>majority_white</td>\n",
       "    </tr>\n",
       "    <tr>\n",
       "      <th>911524</th>\n",
       "      <td>1548476252</td>\n",
       "      <td>I</td>\n",
       "      <td>38664</td>\n",
       "      <td>MS</td>\n",
       "      <td>US</td>\n",
       "      <td>Family Practice</td>\n",
       "      <td>Y</td>\n",
       "      <td>20</td>\n",
       "      <td>124.0</td>\n",
       "      <td>41</td>\n",
       "      <td>...</td>\n",
       "      <td>East South Central</td>\n",
       "      <td>3074.0</td>\n",
       "      <td>0.787573</td>\n",
       "      <td>0.158100</td>\n",
       "      <td>0.000000</td>\n",
       "      <td>0.016916</td>\n",
       "      <td>0.000000</td>\n",
       "      <td>0.037411</td>\n",
       "      <td>0.000000</td>\n",
       "      <td>majority_black</td>\n",
       "    </tr>\n",
       "    <tr>\n",
       "      <th>985666</th>\n",
       "      <td>1518982479</td>\n",
       "      <td>O</td>\n",
       "      <td>68901</td>\n",
       "      <td>NE</td>\n",
       "      <td>US</td>\n",
       "      <td>Pharmacy</td>\n",
       "      <td>Y</td>\n",
       "      <td>1</td>\n",
       "      <td>74.0</td>\n",
       "      <td>26</td>\n",
       "      <td>...</td>\n",
       "      <td>West North Central</td>\n",
       "      <td>26203.0</td>\n",
       "      <td>0.006640</td>\n",
       "      <td>0.844025</td>\n",
       "      <td>0.002786</td>\n",
       "      <td>0.116208</td>\n",
       "      <td>0.000000</td>\n",
       "      <td>0.013510</td>\n",
       "      <td>0.016487</td>\n",
       "      <td>majority_white</td>\n",
       "    </tr>\n",
       "  </tbody>\n",
       "</table>\n",
       "<p>10 rows × 33 columns</p>\n",
       "</div>"
      ],
      "text/plain": [
       "               npi entity_code full_zip state country  \\\n",
       "288265  1184870230           O    94303    CA      US   \n",
       "290297  1215003603           O    94063    CA      US   \n",
       "332951  1689607384           O    94005    CA      US   \n",
       "346069  1821253584           O    92618    CA      US   \n",
       "532685  1144203613           I    11050    NY      US   \n",
       "687391  1922019561           O    48103    MI      US   \n",
       "803606  1508105024           O    98102    WA      US   \n",
       "874560  1447774641           O    27709    NC      US   \n",
       "911524  1548476252           I    38664    MS      US   \n",
       "985666  1518982479           O    68901    NE      US   \n",
       "\n",
       "                      provider_type medicare_participation_indicator  \\\n",
       "288265          Clinical Laboratory                                Y   \n",
       "290297          Clinical Laboratory                                Y   \n",
       "332951          Clinical Laboratory                                Y   \n",
       "346069          Clinical Laboratory                                Y   \n",
       "532685  Oral Surgery (Dentist only)                                Y   \n",
       "687391                     Pharmacy                                Y   \n",
       "803606          Clinical Laboratory                                Y   \n",
       "874560          Clinical Laboratory                                Y   \n",
       "911524              Family Practice                                Y   \n",
       "985666                     Pharmacy                                Y   \n",
       "\n",
       "        number_of_hcpcs  number_of_services  total_beneficiaries  ...  \\\n",
       "288265                1             29116.0                24027  ...   \n",
       "290297                6             27852.0                27007  ...   \n",
       "332951                2             13332.0                 6241  ...   \n",
       "346069                2              3107.0                 2710  ...   \n",
       "532685                2                25.0                   17  ...   \n",
       "687391               11               286.2                   37  ...   \n",
       "803606                1                57.0                   57  ...   \n",
       "874560                1                42.0                   42  ...   \n",
       "911524               20               124.0                   41  ...   \n",
       "985666                1                74.0                   26  ...   \n",
       "\n",
       "                 subregion  total_pop  percent_black  percent_white  \\\n",
       "288265             Pacific    48039.0       0.072941       0.242137   \n",
       "290297             Pacific    34503.0       0.022520       0.191925   \n",
       "332951             Pacific     4692.0       0.060102       0.438832   \n",
       "346069             Pacific    43316.0       0.026318       0.420191   \n",
       "532685     Middle Atlantic    30132.0       0.015366       0.696535   \n",
       "687391  East North Central    55403.0       0.046604       0.770410   \n",
       "803606             Pacific    25448.0       0.022124       0.738211   \n",
       "874560      South Atlantic      914.0       0.214442       0.657549   \n",
       "911524  East South Central     3074.0       0.787573       0.158100   \n",
       "985666  West North Central    26203.0       0.006640       0.844025   \n",
       "\n",
       "        percent_native_amer  percent_hispanic  percent_other  percent_asian  \\\n",
       "288265             0.000354          0.399883       0.003081       0.183767   \n",
       "290297             0.001246          0.672434       0.005130       0.080109   \n",
       "332951             0.000000          0.188406       0.006181       0.277067   \n",
       "346069             0.001662          0.080525       0.005564       0.424070   \n",
       "532685             0.001925          0.155283       0.001460       0.119673   \n",
       "687391             0.005216          0.036857       0.001336       0.097648   \n",
       "803606             0.002240          0.044483       0.001611       0.127908   \n",
       "874560             0.000000          0.015317       0.000000       0.053611   \n",
       "911524             0.000000          0.016916       0.000000       0.037411   \n",
       "985666             0.002786          0.116208       0.000000       0.013510   \n",
       "\n",
       "        percent_two_or_more_races           majority  \n",
       "288265                   0.031703        no_majority  \n",
       "290297                   0.017448  majority_hispanic  \n",
       "332951                   0.029412        no_majority  \n",
       "346069                   0.041647        no_majority  \n",
       "532685                   0.009392     majority_white  \n",
       "687391                   0.041929     majority_white  \n",
       "803606                   0.060083     majority_white  \n",
       "874560                   0.059081     majority_white  \n",
       "911524                   0.000000     majority_black  \n",
       "985666                   0.016487     majority_white  \n",
       "\n",
       "[10 rows x 33 columns]"
      ]
     },
     "execution_count": 20,
     "metadata": {},
     "output_type": "execute_result"
    }
   ],
   "source": [
    "idx = med[med.percentage_rate > high_cutoff].index\n",
    "med.loc[idx][med.loc[idx].medicare_payment_per_service > 1000]"
   ]
  },
  {
   "cell_type": "markdown",
   "metadata": {},
   "source": [
    "Interesting. A few California-based Clinical Laboratories and some other provders. A few white-majority zip codes. "
   ]
  },
  {
   "cell_type": "markdown",
   "metadata": {},
   "source": [
    "Creating payrate_level classes. Low is in the first quartile. Medium is in the IQR. High is in the fourth quartile. Very High includes the high outliers."
   ]
  },
  {
   "cell_type": "code",
   "execution_count": 21,
   "metadata": {},
   "outputs": [],
   "source": [
    "med['payrate_level'] = 'xx'\n",
    "med.loc[med.percentage_rate < first, 'payrate_level'] = 'low'\n",
    "med.loc[med.percentage_rate >= first, 'payrate_level'] = 'medium'\n",
    "med.loc[med.percentage_rate >= third, 'payrate_level'] = 'high'\n",
    "med.loc[med.percentage_rate >= high_cutoff, 'payrate_level'] = 'very high'"
   ]
  },
  {
   "cell_type": "code",
   "execution_count": 22,
   "metadata": {},
   "outputs": [
    {
     "data": {
      "text/plain": [
       "medium       536070\n",
       "low          268036\n",
       "high         226920\n",
       "very high     41116\n",
       "Name: payrate_level, dtype: int64"
      ]
     },
     "execution_count": 22,
     "metadata": {},
     "output_type": "execute_result"
    }
   ],
   "source": [
    "med.payrate_level.value_counts()"
   ]
  },
  {
   "cell_type": "code",
   "execution_count": 23,
   "metadata": {},
   "outputs": [
    {
     "data": {
      "text/plain": [
       "Index(['npi', 'entity_code', 'full_zip', 'state', 'country', 'provider_type',\n",
       "       'medicare_participation_indicator', 'number_of_hcpcs',\n",
       "       'number_of_services', 'total_beneficiaries', 'total_submitted_charges',\n",
       "       'total_allowed_payment', 'total_medicare_payment',\n",
       "       'total_medicare_standardized_payment', 'avg_beneficiary_age',\n",
       "       'avg_hcc_risk_score', 'medicare_payment_per_person',\n",
       "       'submitted_charges_per_person', 'services_per_person',\n",
       "       'submitted_charges_per_service', 'medicare_payment_per_service',\n",
       "       'percentage_rate', 'region', 'subregion', 'total_pop', 'percent_black',\n",
       "       'percent_white', 'percent_native_amer', 'percent_hispanic',\n",
       "       'percent_other', 'percent_asian', 'percent_two_or_more_races',\n",
       "       'majority', 'payrate_level'],\n",
       "      dtype='object')"
      ]
     },
     "execution_count": 23,
     "metadata": {},
     "output_type": "execute_result"
    }
   ],
   "source": [
    "med.columns"
   ]
  },
  {
   "cell_type": "markdown",
   "metadata": {},
   "source": [
    "Determining Collinearity Between Features. Not important for classification, but it might affect my interpretation of results."
   ]
  },
  {
   "cell_type": "markdown",
   "metadata": {},
   "source": [
    "f, (ax1,ax2,ax3, ax4, ax5) = plt.subplots(1,5, sharey=True, figsize=(20, 10))\n",
    "ax1.scatter('total_allowed_payment', 'percentage_rate', data=med, color='red', label='black');\n",
    "\n",
    "ax2.scatter('total_medicare_payment', 'percentage_rate', data=med, color='blue', label='white');\n",
    "ax3.scatter('total_medicare_standardized_payment', 'percentage_rate', data=med, color='blue', label='white');\n",
    "ax4.scatter('medicare_payment_per_person', 'percentage_rate', data=med, color='blue', label='white');\n",
    "ax5.scatter('medicare_payment_per_service', 'percentage_rate', data=med, color='blue', label='white');\n",
    "\n",
    "\n",
    "\n",
    "\n",
    "f.suptitle('Determining Collinearity between Percentage_rate and Medicare Payment Features');\n",
    "#ax1.set(xlabel='Black Deaths',ylabel='Total Deaths');\n",
    "#ax2.set(xlabel='White Deaths')\n",
    "#ax3.set(xlabel = 'Hispanic Deaths')\n",
    "plt.show()"
   ]
  },
  {
   "cell_type": "markdown",
   "metadata": {},
   "source": [
    "I want to focus only on the percentage Medicare paid of the submitted charges to look for patterns in this rate that may have unintended correlations with demographics. Leaving actual payments in will make the model too good at predicting payrates."
   ]
  },
  {
   "cell_type": "code",
   "execution_count": 24,
   "metadata": {},
   "outputs": [
    {
     "data": {
      "text/plain": [
       "Index(['medicare_participation_indicator', 'total_medicare_payment',\n",
       "       'total_medicare_standardized_payment', 'medicare_payment_per_person',\n",
       "       'medicare_payment_per_service'],\n",
       "      dtype='object')"
      ]
     },
     "execution_count": 24,
     "metadata": {},
     "output_type": "execute_result"
    }
   ],
   "source": [
    "med.columns[med.columns.str.contains('medicare')]"
   ]
  },
  {
   "cell_type": "code",
   "execution_count": 25,
   "metadata": {},
   "outputs": [
    {
     "data": {
      "text/plain": [
       "Index(['entity_code', 'full_zip', 'state', 'provider_type',\n",
       "       'medicare_participation_indicator', 'number_of_hcpcs',\n",
       "       'number_of_services', 'total_beneficiaries', 'total_submitted_charges',\n",
       "       'total_allowed_payment', 'avg_beneficiary_age', 'avg_hcc_risk_score',\n",
       "       'submitted_charges_per_person', 'services_per_person',\n",
       "       'submitted_charges_per_service', 'region', 'subregion', 'total_pop',\n",
       "       'percent_black', 'percent_white', 'percent_native_amer',\n",
       "       'percent_hispanic', 'percent_other', 'percent_asian',\n",
       "       'percent_two_or_more_races', 'majority', 'payrate_level'],\n",
       "      dtype='object')"
      ]
     },
     "execution_count": 25,
     "metadata": {},
     "output_type": "execute_result"
    }
   ],
   "source": [
    "cols = list(med.columns[med.columns.str.contains('medicare')][1:])\n",
    "cols = cols + ['npi','country', 'percentage_rate']\n",
    "df = med.drop(columns = cols)\n",
    "df.columns"
   ]
  },
  {
   "cell_type": "markdown",
   "metadata": {},
   "source": [
    "Taking out zips before I one-hot-encode. Keeping them in may be useful for controlling for location / cost of living, but will also increase performance time."
   ]
  },
  {
   "cell_type": "code",
   "execution_count": 32,
   "metadata": {},
   "outputs": [],
   "source": [
    "y = df['payrate_level']\n",
    "X = pd.get_dummies(df.drop(columns=['payrate_level','full_zip']))"
   ]
  },
  {
   "cell_type": "code",
   "execution_count": 33,
   "metadata": {},
   "outputs": [
    {
     "data": {
      "text/plain": [
       "Index(['number_of_hcpcs', 'number_of_services', 'total_beneficiaries',\n",
       "       'total_submitted_charges', 'total_allowed_payment',\n",
       "       'avg_beneficiary_age', 'avg_hcc_risk_score',\n",
       "       'submitted_charges_per_person', 'services_per_person',\n",
       "       'submitted_charges_per_service',\n",
       "       ...\n",
       "       'subregion_Pacific', 'subregion_South Atlantic',\n",
       "       'subregion_West North Central', 'subregion_West South Central',\n",
       "       'majority_asian', 'majority_black', 'majority_hispanic',\n",
       "       'majority_native_amer', 'majority_white', 'no_majority'],\n",
       "      dtype='object', length=191)"
      ]
     },
     "execution_count": 33,
     "metadata": {},
     "output_type": "execute_result"
    }
   ],
   "source": [
    "X.columns = X.columns.str.replace('majority_majority_', 'majority_').str.replace('majority_no_', 'no_')\n",
    "X.columns"
   ]
  },
  {
   "cell_type": "markdown",
   "metadata": {},
   "source": [
    "Scaling Using PowerTransformer"
   ]
  },
  {
   "cell_type": "code",
   "execution_count": 36,
   "metadata": {},
   "outputs": [
    {
     "name": "stderr",
     "output_type": "stream",
     "text": [
      "/Users/Livi/opt/anaconda3/envs/springboard/lib/python3.7/site-packages/numpy/core/_methods.py:195: RuntimeWarning: overflow encountered in multiply\n",
      "  x = um.multiply(x, x, out=x)\n",
      "/Users/Livi/opt/anaconda3/envs/springboard/lib/python3.7/site-packages/numpy/core/_methods.py:199: RuntimeWarning: overflow encountered in reduce\n",
      "  ret = umr_sum(x, axis, dtype, out, keepdims)\n"
     ]
    },
    {
     "name": "stdout",
     "output_type": "stream",
     "text": [
      "Time scaled: 6.407042686144511 minutes.\n"
     ]
    }
   ],
   "source": [
    "from sklearn.preprocessing import PowerTransformer\n",
    "import time\n",
    "\n",
    "start= time.time()\n",
    "\n",
    "scaler = PowerTransformer()\n",
    "scaler.fit(X)\n",
    "X_scaled = scaler.transform(X)\n",
    "\n",
    "end= time.time()\n",
    "\n",
    "print('Time scaled:', (end-start)/60, 'minutes.')"
   ]
  },
  {
   "cell_type": "code",
   "execution_count": 37,
   "metadata": {},
   "outputs": [],
   "source": [
    "from sklearn.model_selection import train_test_split\n",
    "\n",
    "X_train, X_test, y_train, y_test = train_test_split(X_scaled, y, test_size = 0.2, random_state=42)"
   ]
  },
  {
   "cell_type": "code",
   "execution_count": 38,
   "metadata": {},
   "outputs": [
    {
     "name": "stdout",
     "output_type": "stream",
     "text": [
      "CV F1 Score: [0.7564916  0.75218784 0.75704988 0.7433745  0.76496922]\n",
      "Time: 0.25896074771881106 minutes\n"
     ]
    }
   ],
   "source": [
    "import time\n",
    "from sklearn.model_selection import cross_val_score\n",
    "from sklearn.ensemble import RandomForestClassifier\n",
    "from sklearn.metrics import f1_score, make_scorer\n",
    "\n",
    "rf = RandomForestClassifier(n_jobs=-1)\n",
    "\n",
    "start = time.time()\n",
    "\n",
    "scorer = make_scorer(f1_score, average = 'weighted')\n",
    "rf_cv = cross_val_score(rf, X_train[:10000], y_train[:10000], cv=5, scoring=scorer)\n",
    "\n",
    "end= time.time()\n",
    "total = end - start\n",
    "\n",
    "print('CV F1 Score:', rf_cv)\n",
    "print(\"Time:\", total/60, \"minutes\")"
   ]
  },
  {
   "cell_type": "code",
   "execution_count": 39,
   "metadata": {},
   "outputs": [],
   "source": [
    "# With 100,000 samples in X_train: CV F1 Score: [0.81761714 0.81615792 0.82171095 0.82214405 0.8191265 ]"
   ]
  },
  {
   "cell_type": "markdown",
   "metadata": {},
   "source": [
    "Gradient Boosting"
   ]
  },
  {
   "cell_type": "code",
   "execution_count": 40,
   "metadata": {},
   "outputs": [
    {
     "name": "stdout",
     "output_type": "stream",
     "text": [
      "CV F1 Scores: [0.83391175 0.82486315 0.81490031 0.81538831 0.8346409 ]\n",
      "Time: 2.5259636362393696\n"
     ]
    }
   ],
   "source": [
    "from sklearn.ensemble import GradientBoostingClassifier\n",
    "\n",
    "start = time.time()\n",
    "\n",
    "gbc = GradientBoostingClassifier()\n",
    "scorer = make_scorer(f1_score, average = 'weighted')\n",
    "cv_scores_gbc= cross_val_score(gbc,X_train[:10000],y_train[:10000],cv=5,scoring=scorer, n_jobs=-1)\n",
    "\n",
    "\n",
    "end = time.time()\n",
    "\n",
    "print ('CV F1 Scores:', cv_scores_gbc)\n",
    "print('Time:', (end-start)/60)"
   ]
  },
  {
   "cell_type": "markdown",
   "metadata": {},
   "source": [
    "Logistic Regression"
   ]
  },
  {
   "cell_type": "code",
   "execution_count": 41,
   "metadata": {},
   "outputs": [
    {
     "name": "stdout",
     "output_type": "stream",
     "text": [
      "CV F1 Scores: [0.91320422 0.90491786 0.9092947  0.91186888 0.91329927]\n",
      "Time: 2.7656346837679546\n"
     ]
    }
   ],
   "source": [
    "from sklearn.linear_model import LogisticRegression\n",
    "\n",
    "lr = LogisticRegression(n_jobs=-1)\n",
    "scorer = make_scorer(f1_score, average = 'weighted')\n",
    "cv_scores_lr = cross_val_score(lr,X_train[:10000],y_train[:10000],cv=5,scoring=scorer, n_jobs=-1)\n",
    "\n",
    "end = time.time()\n",
    "\n",
    "print ('CV F1 Scores:', cv_scores_lr)\n",
    "print('Time:', (end-start)/60)"
   ]
  },
  {
   "cell_type": "markdown",
   "metadata": {},
   "source": [
    "SVC"
   ]
  },
  {
   "cell_type": "code",
   "execution_count": 45,
   "metadata": {},
   "outputs": [
    {
     "name": "stdout",
     "output_type": "stream",
     "text": [
      "[0.92442681 0.91116273 0.92450098 0.922528   0.925454  ]\n",
      "Time: 0.6016693830490112 minutes\n"
     ]
    }
   ],
   "source": [
    "from sklearn.svm import SVC\n",
    "from sklearn.model_selection import cross_val_score\n",
    "from sklearn.model_selection import train_test_split\n",
    "import time\n",
    "\n",
    "start = time.time()\n",
    "\n",
    "svc = SVC(kernel='linear')\n",
    "scorer = make_scorer(f1_score, average = 'weighted')\n",
    "svc_cv = cross_val_score(svc, X_train[:10000], y_train[:10000], cv=5, scoring = scorer, n_jobs=-1)\n",
    "\n",
    "end = time.time()\n",
    "\n",
    "print(svc_cv)\n",
    "print('Time:', (end-start)/60, 'minutes')\n"
   ]
  },
  {
   "cell_type": "code",
   "execution_count": 46,
   "metadata": {},
   "outputs": [
    {
     "data": {
      "text/html": [
       "<div>\n",
       "<style scoped>\n",
       "    .dataframe tbody tr th:only-of-type {\n",
       "        vertical-align: middle;\n",
       "    }\n",
       "\n",
       "    .dataframe tbody tr th {\n",
       "        vertical-align: top;\n",
       "    }\n",
       "\n",
       "    .dataframe thead th {\n",
       "        text-align: right;\n",
       "    }\n",
       "</style>\n",
       "<table border=\"1\" class=\"dataframe\">\n",
       "  <thead>\n",
       "    <tr style=\"text-align: right;\">\n",
       "      <th></th>\n",
       "      <th>models</th>\n",
       "      <th>Mean CV F1 Scores</th>\n",
       "    </tr>\n",
       "  </thead>\n",
       "  <tbody>\n",
       "    <tr>\n",
       "      <th>0</th>\n",
       "      <td>Random Forest</td>\n",
       "      <td>0.754815</td>\n",
       "    </tr>\n",
       "    <tr>\n",
       "      <th>1</th>\n",
       "      <td>Gradient Boosting</td>\n",
       "      <td>0.824741</td>\n",
       "    </tr>\n",
       "    <tr>\n",
       "      <th>2</th>\n",
       "      <td>Logistic Regression</td>\n",
       "      <td>0.910517</td>\n",
       "    </tr>\n",
       "    <tr>\n",
       "      <th>3</th>\n",
       "      <td>SVM</td>\n",
       "      <td>0.921615</td>\n",
       "    </tr>\n",
       "  </tbody>\n",
       "</table>\n",
       "</div>"
      ],
      "text/plain": [
       "                models  Mean CV F1 Scores\n",
       "0        Random Forest           0.754815\n",
       "1    Gradient Boosting           0.824741\n",
       "2  Logistic Regression           0.910517\n",
       "3                  SVM           0.921615"
      ]
     },
     "execution_count": 46,
     "metadata": {},
     "output_type": "execute_result"
    }
   ],
   "source": [
    "pd.DataFrame({'models':['Random Forest','Gradient Boosting','Logistic Regression', 'SVM'],\n",
    "             'Mean CV F1 Scores': [rf_cv.mean(), cv_scores_gbc.mean(), cv_scores_lr.mean(), svc_cv.mean()]})"
   ]
  },
  {
   "cell_type": "markdown",
   "metadata": {},
   "source": [
    "Without any hyperparameter tuning my best model was the Logistic Regression with 90%. In another preprocessing notebook, the Logistic Regression model also performed best with addition Medicare-Payment columns (which I left out here because of possible collinearity) at 99%. \n",
    "\n",
    "Because the ratio of Medicare payment to Submitted charges actually tells whether the client is low rate, medium rate or high rate, I prefer to leave these out. I'm not sure if the models can \"figure out\" that relationship or not. \n",
    "\n",
    "My goal is actually to have a pretty good model that has a few mistakes because these mistakes are just as telling as the ability of the model to correctly identify classes. \n",
    "\n",
    "On that note, I am interested in the F1 Score particularly for the \"very high\" class and \"low\" class because I want to know whether the model falsely labels high-rate providers as low or vice versa. That said, maybe I don't want to optimize for \"low\" class F1 Score but rather the OVERALL F1 score. If a model is generally very accurate but still mislabels some outliers, those outliers may be worth re-examining. \n",
    "\n",
    "Overall, my modeling notebook will focus most heavily of feature importances and tables that contain the extreme outliers: low rate providers labeled as 'very high' and very high rate providers labeled as very low. I want to see if these providers show a pattern. \n",
    "\n",
    "If they do seem fishy, a final iteration of modeling may be one that labels these outliers as \"wrongly compensated\" and trains on the data to look for other potential \"wrongly compensated\" providers. "
   ]
  },
  {
   "cell_type": "markdown",
   "metadata": {},
   "source": [
    "I didn't scale my date before modeling here, both because I may want to say that for the \"modeling\" stage since my initial performances were good and because the combination of binary and continuous variables may complicate that process. "
   ]
  },
  {
   "cell_type": "code",
   "execution_count": 52,
   "metadata": {},
   "outputs": [],
   "source": [
    "temp = pd.DataFrame(X_scaled, columns=X.columns)\n",
    "temp.to_csv('../data/processed/feature_matrix_scaled_PT.csv')"
   ]
  },
  {
   "cell_type": "code",
   "execution_count": 53,
   "metadata": {},
   "outputs": [
    {
     "data": {
      "text/plain": [
       "(1072142, 191)"
      ]
     },
     "execution_count": 53,
     "metadata": {},
     "output_type": "execute_result"
    }
   ],
   "source": [
    "X_scaled.shape"
   ]
  },
  {
   "cell_type": "code",
   "execution_count": 54,
   "metadata": {},
   "outputs": [
    {
     "data": {
      "text/plain": [
       "(1072142, 191)"
      ]
     },
     "execution_count": 54,
     "metadata": {},
     "output_type": "execute_result"
    }
   ],
   "source": [
    "temp.shape"
   ]
  },
  {
   "cell_type": "code",
   "execution_count": 55,
   "metadata": {},
   "outputs": [
    {
     "data": {
      "text/plain": [
       "(1072142,)"
      ]
     },
     "execution_count": 55,
     "metadata": {},
     "output_type": "execute_result"
    }
   ],
   "source": [
    "y.values.ravel().shape"
   ]
  },
  {
   "cell_type": "code",
   "execution_count": 56,
   "metadata": {},
   "outputs": [
    {
     "data": {
      "text/plain": [
       "(1072142,)"
      ]
     },
     "execution_count": 56,
     "metadata": {},
     "output_type": "execute_result"
    }
   ],
   "source": [
    "y.values.shape"
   ]
  },
  {
   "cell_type": "code",
   "execution_count": null,
   "metadata": {},
   "outputs": [],
   "source": [
    "y.shape"
   ]
  },
  {
   "cell_type": "code",
   "execution_count": null,
   "metadata": {},
   "outputs": [],
   "source": []
  }
 ],
 "metadata": {
  "kernelspec": {
   "display_name": "Python 3",
   "language": "python",
   "name": "python3"
  },
  "language_info": {
   "codemirror_mode": {
    "name": "ipython",
    "version": 3
   },
   "file_extension": ".py",
   "mimetype": "text/x-python",
   "name": "python",
   "nbconvert_exporter": "python",
   "pygments_lexer": "ipython3",
   "version": "3.7.7"
  }
 },
 "nbformat": 4,
 "nbformat_minor": 4
}
