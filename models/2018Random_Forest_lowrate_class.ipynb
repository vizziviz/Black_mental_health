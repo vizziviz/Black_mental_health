{
 "cells": [
  {
   "cell_type": "markdown",
   "metadata": {},
   "source": [
    "# Importing Modules and Checking Directory "
   ]
  },
  {
   "cell_type": "code",
   "execution_count": 1,
   "metadata": {},
   "outputs": [],
   "source": [
    "import os\n",
    "import pandas as pd\n",
    "import datetime\n",
    "import seaborn as sns\n",
    "import matplotlib.pyplot as plt\n",
    "import numpy as np\n",
    "%matplotlib inline"
   ]
  },
  {
   "cell_type": "code",
   "execution_count": 2,
   "metadata": {},
   "outputs": [
    {
     "data": {
      "text/plain": [
       "'1.1.5'"
      ]
     },
     "execution_count": 2,
     "metadata": {},
     "output_type": "execute_result"
    }
   ],
   "source": [
    "pd.__version__"
   ]
  },
  {
   "cell_type": "code",
   "execution_count": 3,
   "metadata": {},
   "outputs": [
    {
     "data": {
      "text/plain": [
       "'/Users/Livi/Projects/Black_mental_health/models'"
      ]
     },
     "execution_count": 3,
     "metadata": {},
     "output_type": "execute_result"
    }
   ],
   "source": [
    "os.getcwd()\n"
   ]
  },
  {
   "cell_type": "code",
   "execution_count": 5,
   "metadata": {},
   "outputs": [
    {
     "name": "stderr",
     "output_type": "stream",
     "text": [
      "/Users/Livi/opt/anaconda3/envs/springboard/lib/python3.7/site-packages/numpy/lib/arraysetops.py:569: FutureWarning: elementwise comparison failed; returning scalar instead, but in the future will perform elementwise comparison\n",
      "  mask |= (ar1 == a)\n"
     ]
    }
   ],
   "source": [
    "med = pd.read_csv('../data/processed/medicare18.csv', index_col=0)"
   ]
  },
  {
   "cell_type": "code",
   "execution_count": 6,
   "metadata": {},
   "outputs": [
    {
     "data": {
      "text/plain": [
       "Index(['npi', 'entity_code', 'full_zip', 'state', 'country', 'provider_type',\n",
       "       'medicare_participation_indicator', 'number_of_hcpcs',\n",
       "       'number_of_services', 'total_beneficiaries', 'total_submitted_charges',\n",
       "       'total_allowed_payment', 'total_medicare_payment',\n",
       "       'total_medicare_standardized_payment', 'avg_beneficiary_age',\n",
       "       'avg_hcc_risk_score', 'medicare_payment_per_person',\n",
       "       'submitted_charges_per_person', 'services_per_person',\n",
       "       'submitted_charges_per_service', 'medicare_payment_per_service',\n",
       "       'region', 'subregion'],\n",
       "      dtype='object')"
      ]
     },
     "execution_count": 6,
     "metadata": {},
     "output_type": "execute_result"
    }
   ],
   "source": [
    "med.columns"
   ]
  },
  {
   "cell_type": "code",
   "execution_count": 7,
   "metadata": {},
   "outputs": [],
   "source": [
    "med['percentage_rate'] = med.total_medicare_payment/ med.total_submitted_charges"
   ]
  },
  {
   "cell_type": "code",
   "execution_count": 10,
   "metadata": {},
   "outputs": [
    {
     "data": {
      "text/plain": [
       "<matplotlib.axes._subplots.AxesSubplot at 0x7fe48dd8e750>"
      ]
     },
     "execution_count": 10,
     "metadata": {},
     "output_type": "execute_result"
    },
    {
     "data": {
      "image/png": "[encoded data removed]",
      "text/plain": [
       "<Figure size 432x288 with 1 Axes>"
      ]
     },
     "metadata": {
      "needs_background": "light"
     },
     "output_type": "display_data"
    }
   ],
   "source": [
    "import seaborn as sns\n",
    "sns.boxplot(med.percentage_rate)"
   ]
  },
  {
   "cell_type": "code",
   "execution_count": 11,
   "metadata": {},
   "outputs": [
    {
     "data": {
      "text/plain": [
       "0.7487269310793354"
      ]
     },
     "execution_count": 11,
     "metadata": {},
     "output_type": "execute_result"
    }
   ],
   "source": [
    "first = np.quantile(med.percentage_rate, 0.25)\n",
    "third = np.quantile(med.percentage_rate, 0.75)\n",
    "high_cutoff = third + 1.5 * (third - first)\n",
    "high_cutoff"
   ]
  },
  {
   "cell_type": "code",
   "execution_count": 15,
   "metadata": {},
   "outputs": [
    {
     "data": {
      "text/plain": [
       "count    42027.000000\n",
       "mean        44.470219\n",
       "std        202.896964\n",
       "min          0.580000\n",
       "25%         35.890000\n",
       "50%         39.430000\n",
       "75%         44.440000\n",
       "max      40140.400000\n",
       "Name: medicare_payment_per_service, dtype: float64"
      ]
     },
     "execution_count": 15,
     "metadata": {},
     "output_type": "execute_result"
    }
   ],
   "source": [
    "med[med.percentage_rate > high_cutoff].medicare_payment_per_service.describe()"
   ]
  },
  {
   "cell_type": "code",
   "execution_count": 33,
   "metadata": {},
   "outputs": [
    {
     "data": {
      "text/html": [
       "<div>\n",
       "<style scoped>\n",
       "    .dataframe tbody tr th:only-of-type {\n",
       "        vertical-align: middle;\n",
       "    }\n",
       "\n",
       "    .dataframe tbody tr th {\n",
       "        vertical-align: top;\n",
       "    }\n",
       "\n",
       "    .dataframe thead th {\n",
       "        text-align: right;\n",
       "    }\n",
       "</style>\n",
       "<table border=\"1\" class=\"dataframe\">\n",
       "  <thead>\n",
       "    <tr style=\"text-align: right;\">\n",
       "      <th></th>\n",
       "      <th>npi</th>\n",
       "      <th>entity_code</th>\n",
       "      <th>full_zip</th>\n",
       "      <th>state</th>\n",
       "      <th>country</th>\n",
       "      <th>provider_type</th>\n",
       "      <th>medicare_participation_indicator</th>\n",
       "      <th>number_of_hcpcs</th>\n",
       "      <th>number_of_services</th>\n",
       "      <th>total_beneficiaries</th>\n",
       "      <th>...</th>\n",
       "      <th>avg_beneficiary_age</th>\n",
       "      <th>avg_hcc_risk_score</th>\n",
       "      <th>medicare_payment_per_person</th>\n",
       "      <th>submitted_charges_per_person</th>\n",
       "      <th>services_per_person</th>\n",
       "      <th>submitted_charges_per_service</th>\n",
       "      <th>medicare_payment_per_service</th>\n",
       "      <th>region</th>\n",
       "      <th>subregion</th>\n",
       "      <th>percentage_rate</th>\n",
       "    </tr>\n",
       "  </thead>\n",
       "  <tbody>\n",
       "    <tr>\n",
       "      <th>288265</th>\n",
       "      <td>1184870230</td>\n",
       "      <td>O</td>\n",
       "      <td>94303</td>\n",
       "      <td>CA</td>\n",
       "      <td>US</td>\n",
       "      <td>Clinical Laboratory</td>\n",
       "      <td>Y</td>\n",
       "      <td>1</td>\n",
       "      <td>29116.0</td>\n",
       "      <td>24027</td>\n",
       "      <td>...</td>\n",
       "      <td>70</td>\n",
       "      <td>1.1722</td>\n",
       "      <td>1245.95</td>\n",
       "      <td>1508.70</td>\n",
       "      <td>1.21</td>\n",
       "      <td>1245.00</td>\n",
       "      <td>1028.18</td>\n",
       "      <td>West</td>\n",
       "      <td>Pacific</td>\n",
       "      <td>0.825846</td>\n",
       "    </tr>\n",
       "    <tr>\n",
       "      <th>290297</th>\n",
       "      <td>1215003603</td>\n",
       "      <td>O</td>\n",
       "      <td>94063</td>\n",
       "      <td>CA</td>\n",
       "      <td>US</td>\n",
       "      <td>Clinical Laboratory</td>\n",
       "      <td>Y</td>\n",
       "      <td>6</td>\n",
       "      <td>27852.0</td>\n",
       "      <td>27007</td>\n",
       "      <td>...</td>\n",
       "      <td>71</td>\n",
       "      <td>0.8760</td>\n",
       "      <td>3641.42</td>\n",
       "      <td>4647.37</td>\n",
       "      <td>1.03</td>\n",
       "      <td>4506.38</td>\n",
       "      <td>3530.94</td>\n",
       "      <td>West</td>\n",
       "      <td>Pacific</td>\n",
       "      <td>0.783544</td>\n",
       "    </tr>\n",
       "    <tr>\n",
       "      <th>332951</th>\n",
       "      <td>1689607384</td>\n",
       "      <td>O</td>\n",
       "      <td>94005</td>\n",
       "      <td>CA</td>\n",
       "      <td>US</td>\n",
       "      <td>Clinical Laboratory</td>\n",
       "      <td>Y</td>\n",
       "      <td>2</td>\n",
       "      <td>13332.0</td>\n",
       "      <td>6241</td>\n",
       "      <td>...</td>\n",
       "      <td>58</td>\n",
       "      <td>4.9397</td>\n",
       "      <td>6250.93</td>\n",
       "      <td>8163.42</td>\n",
       "      <td>2.14</td>\n",
       "      <td>3821.47</td>\n",
       "      <td>2926.20</td>\n",
       "      <td>West</td>\n",
       "      <td>Pacific</td>\n",
       "      <td>0.765724</td>\n",
       "    </tr>\n",
       "    <tr>\n",
       "      <th>346069</th>\n",
       "      <td>1821253584</td>\n",
       "      <td>O</td>\n",
       "      <td>92618</td>\n",
       "      <td>CA</td>\n",
       "      <td>US</td>\n",
       "      <td>Clinical Laboratory</td>\n",
       "      <td>Y</td>\n",
       "      <td>2</td>\n",
       "      <td>3107.0</td>\n",
       "      <td>2710</td>\n",
       "      <td>...</td>\n",
       "      <td>71</td>\n",
       "      <td>0.8808</td>\n",
       "      <td>3917.67</td>\n",
       "      <td>4359.08</td>\n",
       "      <td>1.15</td>\n",
       "      <td>3802.09</td>\n",
       "      <td>3417.09</td>\n",
       "      <td>West</td>\n",
       "      <td>Pacific</td>\n",
       "      <td>0.898739</td>\n",
       "    </tr>\n",
       "    <tr>\n",
       "      <th>532685</th>\n",
       "      <td>1144203613</td>\n",
       "      <td>I</td>\n",
       "      <td>11050</td>\n",
       "      <td>NY</td>\n",
       "      <td>US</td>\n",
       "      <td>Oral Surgery (Dentist only)</td>\n",
       "      <td>Y</td>\n",
       "      <td>2</td>\n",
       "      <td>25.0</td>\n",
       "      <td>17</td>\n",
       "      <td>...</td>\n",
       "      <td>74</td>\n",
       "      <td>0.7018</td>\n",
       "      <td>1733.66</td>\n",
       "      <td>2250.59</td>\n",
       "      <td>1.47</td>\n",
       "      <td>1530.40</td>\n",
       "      <td>1178.89</td>\n",
       "      <td>Northeast</td>\n",
       "      <td>Middle Atlantic</td>\n",
       "      <td>0.770313</td>\n",
       "    </tr>\n",
       "    <tr>\n",
       "      <th>687391</th>\n",
       "      <td>1922019561</td>\n",
       "      <td>O</td>\n",
       "      <td>48103</td>\n",
       "      <td>MI</td>\n",
       "      <td>US</td>\n",
       "      <td>Pharmacy</td>\n",
       "      <td>Y</td>\n",
       "      <td>11</td>\n",
       "      <td>286.2</td>\n",
       "      <td>37</td>\n",
       "      <td>...</td>\n",
       "      <td>50</td>\n",
       "      <td>3.1931</td>\n",
       "      <td>310491.39</td>\n",
       "      <td>397618.82</td>\n",
       "      <td>7.74</td>\n",
       "      <td>51404.25</td>\n",
       "      <td>40140.40</td>\n",
       "      <td>Midwest</td>\n",
       "      <td>East North Central</td>\n",
       "      <td>0.780877</td>\n",
       "    </tr>\n",
       "    <tr>\n",
       "      <th>803606</th>\n",
       "      <td>1508105024</td>\n",
       "      <td>O</td>\n",
       "      <td>98102</td>\n",
       "      <td>WA</td>\n",
       "      <td>US</td>\n",
       "      <td>Clinical Laboratory</td>\n",
       "      <td>Y</td>\n",
       "      <td>1</td>\n",
       "      <td>57.0</td>\n",
       "      <td>57</td>\n",
       "      <td>...</td>\n",
       "      <td>66</td>\n",
       "      <td>3.2236</td>\n",
       "      <td>6733.03</td>\n",
       "      <td>7200.00</td>\n",
       "      <td>1.00</td>\n",
       "      <td>7200.00</td>\n",
       "      <td>6733.03</td>\n",
       "      <td>West</td>\n",
       "      <td>Pacific</td>\n",
       "      <td>0.935143</td>\n",
       "    </tr>\n",
       "    <tr>\n",
       "      <th>874560</th>\n",
       "      <td>1447774641</td>\n",
       "      <td>O</td>\n",
       "      <td>27709</td>\n",
       "      <td>NC</td>\n",
       "      <td>US</td>\n",
       "      <td>Clinical Laboratory</td>\n",
       "      <td>Y</td>\n",
       "      <td>1</td>\n",
       "      <td>42.0</td>\n",
       "      <td>42</td>\n",
       "      <td>...</td>\n",
       "      <td>70</td>\n",
       "      <td>0.7909</td>\n",
       "      <td>3097.78</td>\n",
       "      <td>3900.00</td>\n",
       "      <td>1.00</td>\n",
       "      <td>3900.00</td>\n",
       "      <td>3097.78</td>\n",
       "      <td>South</td>\n",
       "      <td>South Atlantic</td>\n",
       "      <td>0.794303</td>\n",
       "    </tr>\n",
       "    <tr>\n",
       "      <th>911524</th>\n",
       "      <td>1548476252</td>\n",
       "      <td>I</td>\n",
       "      <td>38664</td>\n",
       "      <td>MS</td>\n",
       "      <td>US</td>\n",
       "      <td>Family Practice</td>\n",
       "      <td>Y</td>\n",
       "      <td>20</td>\n",
       "      <td>124.0</td>\n",
       "      <td>41</td>\n",
       "      <td>...</td>\n",
       "      <td>71</td>\n",
       "      <td>1.0554</td>\n",
       "      <td>4985.64</td>\n",
       "      <td>6503.92</td>\n",
       "      <td>3.02</td>\n",
       "      <td>2150.49</td>\n",
       "      <td>1648.48</td>\n",
       "      <td>South</td>\n",
       "      <td>East South Central</td>\n",
       "      <td>0.766560</td>\n",
       "    </tr>\n",
       "    <tr>\n",
       "      <th>985666</th>\n",
       "      <td>1518982479</td>\n",
       "      <td>O</td>\n",
       "      <td>68901</td>\n",
       "      <td>NE</td>\n",
       "      <td>US</td>\n",
       "      <td>Pharmacy</td>\n",
       "      <td>Y</td>\n",
       "      <td>1</td>\n",
       "      <td>74.0</td>\n",
       "      <td>26</td>\n",
       "      <td>...</td>\n",
       "      <td>67</td>\n",
       "      <td>2.2714</td>\n",
       "      <td>3694.70</td>\n",
       "      <td>4802.91</td>\n",
       "      <td>2.85</td>\n",
       "      <td>1687.51</td>\n",
       "      <td>1298.14</td>\n",
       "      <td>Midwest</td>\n",
       "      <td>West North Central</td>\n",
       "      <td>0.769262</td>\n",
       "    </tr>\n",
       "    <tr>\n",
       "      <th>1070533</th>\n",
       "      <td>1811168164</td>\n",
       "      <td>O</td>\n",
       "      <td>2893</td>\n",
       "      <td>RI</td>\n",
       "      <td>US</td>\n",
       "      <td>Ambulatory Surgical Center</td>\n",
       "      <td>Y</td>\n",
       "      <td>38</td>\n",
       "      <td>321.0</td>\n",
       "      <td>187</td>\n",
       "      <td>...</td>\n",
       "      <td>70</td>\n",
       "      <td>0.8476</td>\n",
       "      <td>1930.03</td>\n",
       "      <td>2562.55</td>\n",
       "      <td>1.72</td>\n",
       "      <td>1492.82</td>\n",
       "      <td>1124.35</td>\n",
       "      <td>Northeast</td>\n",
       "      <td>New England</td>\n",
       "      <td>0.753168</td>\n",
       "    </tr>\n",
       "    <tr>\n",
       "      <th>1109204</th>\n",
       "      <td>1184660151</td>\n",
       "      <td>O</td>\n",
       "      <td>57201</td>\n",
       "      <td>SD</td>\n",
       "      <td>US</td>\n",
       "      <td>Ambulatory Surgical Center</td>\n",
       "      <td>Y</td>\n",
       "      <td>18</td>\n",
       "      <td>441.0</td>\n",
       "      <td>224</td>\n",
       "      <td>...</td>\n",
       "      <td>74</td>\n",
       "      <td>1.2002</td>\n",
       "      <td>2645.88</td>\n",
       "      <td>3530.40</td>\n",
       "      <td>1.97</td>\n",
       "      <td>1793.22</td>\n",
       "      <td>1343.94</td>\n",
       "      <td>Midwest</td>\n",
       "      <td>West North Central</td>\n",
       "      <td>0.749456</td>\n",
       "    </tr>\n",
       "  </tbody>\n",
       "</table>\n",
       "<p>12 rows × 24 columns</p>\n",
       "</div>"
      ],
      "text/plain": [
       "                npi entity_code  full_zip state country  \\\n",
       "288265   1184870230           O     94303    CA      US   \n",
       "290297   1215003603           O     94063    CA      US   \n",
       "332951   1689607384           O     94005    CA      US   \n",
       "346069   1821253584           O     92618    CA      US   \n",
       "532685   1144203613           I     11050    NY      US   \n",
       "687391   1922019561           O     48103    MI      US   \n",
       "803606   1508105024           O     98102    WA      US   \n",
       "874560   1447774641           O     27709    NC      US   \n",
       "911524   1548476252           I     38664    MS      US   \n",
       "985666   1518982479           O     68901    NE      US   \n",
       "1070533  1811168164           O      2893    RI      US   \n",
       "1109204  1184660151           O     57201    SD      US   \n",
       "\n",
       "                       provider_type medicare_participation_indicator  \\\n",
       "288265           Clinical Laboratory                                Y   \n",
       "290297           Clinical Laboratory                                Y   \n",
       "332951           Clinical Laboratory                                Y   \n",
       "346069           Clinical Laboratory                                Y   \n",
       "532685   Oral Surgery (Dentist only)                                Y   \n",
       "687391                      Pharmacy                                Y   \n",
       "803606           Clinical Laboratory                                Y   \n",
       "874560           Clinical Laboratory                                Y   \n",
       "911524               Family Practice                                Y   \n",
       "985666                      Pharmacy                                Y   \n",
       "1070533   Ambulatory Surgical Center                                Y   \n",
       "1109204   Ambulatory Surgical Center                                Y   \n",
       "\n",
       "         number_of_hcpcs  number_of_services  total_beneficiaries  ...  \\\n",
       "288265                 1             29116.0                24027  ...   \n",
       "290297                 6             27852.0                27007  ...   \n",
       "332951                 2             13332.0                 6241  ...   \n",
       "346069                 2              3107.0                 2710  ...   \n",
       "532685                 2                25.0                   17  ...   \n",
       "687391                11               286.2                   37  ...   \n",
       "803606                 1                57.0                   57  ...   \n",
       "874560                 1                42.0                   42  ...   \n",
       "911524                20               124.0                   41  ...   \n",
       "985666                 1                74.0                   26  ...   \n",
       "1070533               38               321.0                  187  ...   \n",
       "1109204               18               441.0                  224  ...   \n",
       "\n",
       "         avg_beneficiary_age  avg_hcc_risk_score  medicare_payment_per_person  \\\n",
       "288265                    70              1.1722                      1245.95   \n",
       "290297                    71              0.8760                      3641.42   \n",
       "332951                    58              4.9397                      6250.93   \n",
       "346069                    71              0.8808                      3917.67   \n",
       "532685                    74              0.7018                      1733.66   \n",
       "687391                    50              3.1931                    310491.39   \n",
       "803606                    66              3.2236                      6733.03   \n",
       "874560                    70              0.7909                      3097.78   \n",
       "911524                    71              1.0554                      4985.64   \n",
       "985666                    67              2.2714                      3694.70   \n",
       "1070533                   70              0.8476                      1930.03   \n",
       "1109204                   74              1.2002                      2645.88   \n",
       "\n",
       "         submitted_charges_per_person  services_per_person  \\\n",
       "288265                        1508.70                 1.21   \n",
       "290297                        4647.37                 1.03   \n",
       "332951                        8163.42                 2.14   \n",
       "346069                        4359.08                 1.15   \n",
       "532685                        2250.59                 1.47   \n",
       "687391                      397618.82                 7.74   \n",
       "803606                        7200.00                 1.00   \n",
       "874560                        3900.00                 1.00   \n",
       "911524                        6503.92                 3.02   \n",
       "985666                        4802.91                 2.85   \n",
       "1070533                       2562.55                 1.72   \n",
       "1109204                       3530.40                 1.97   \n",
       "\n",
       "         submitted_charges_per_service  medicare_payment_per_service  \\\n",
       "288265                         1245.00                       1028.18   \n",
       "290297                         4506.38                       3530.94   \n",
       "332951                         3821.47                       2926.20   \n",
       "346069                         3802.09                       3417.09   \n",
       "532685                         1530.40                       1178.89   \n",
       "687391                        51404.25                      40140.40   \n",
       "803606                         7200.00                       6733.03   \n",
       "874560                         3900.00                       3097.78   \n",
       "911524                         2150.49                       1648.48   \n",
       "985666                         1687.51                       1298.14   \n",
       "1070533                        1492.82                       1124.35   \n",
       "1109204                        1793.22                       1343.94   \n",
       "\n",
       "            region           subregion  percentage_rate  \n",
       "288265        West             Pacific         0.825846  \n",
       "290297        West             Pacific         0.783544  \n",
       "332951        West             Pacific         0.765724  \n",
       "346069        West             Pacific         0.898739  \n",
       "532685   Northeast     Middle Atlantic         0.770313  \n",
       "687391     Midwest  East North Central         0.780877  \n",
       "803606        West             Pacific         0.935143  \n",
       "874560       South      South Atlantic         0.794303  \n",
       "911524       South  East South Central         0.766560  \n",
       "985666     Midwest  West North Central         0.769262  \n",
       "1070533  Northeast         New England         0.753168  \n",
       "1109204    Midwest  West North Central         0.749456  \n",
       "\n",
       "[12 rows x 24 columns]"
      ]
     },
     "execution_count": 33,
     "metadata": {},
     "output_type": "execute_result"
    }
   ],
   "source": [
    "idx = med[med.percentage_rate > high_cutoff].index\n",
    "med.loc[idx][med.loc[idx].medicare_payment_per_service > 1000]"
   ]
  },
  {
   "cell_type": "code",
   "execution_count": 38,
   "metadata": {},
   "outputs": [],
   "source": [
    "med['payrate_level'] = 'xx'\n",
    "med.loc[med.percentage_rate < first, 'payrate_level'] = 'low'\n",
    "med.loc[med.percentage_rate >= first, 'payrate_level'] = 'medium'\n",
    "med.loc[med.percentage_rate >= third, 'payrate_level'] = 'high'\n",
    "med.loc[med.percentage_rate >= high_cutoff, 'payrate_level'] = 'very high'"
   ]
  },
  {
   "cell_type": "code",
   "execution_count": 39,
   "metadata": {},
   "outputs": [
    {
     "data": {
      "text/plain": [
       "medium       557680\n",
       "low          278840\n",
       "high         236813\n",
       "very high     42027\n",
       "Name: payrate_level, dtype: int64"
      ]
     },
     "execution_count": 39,
     "metadata": {},
     "output_type": "execute_result"
    }
   ],
   "source": [
    "med.payrate_level.value_counts()"
   ]
  },
  {
   "cell_type": "code",
   "execution_count": 40,
   "metadata": {},
   "outputs": [
    {
     "data": {
      "text/plain": [
       "Index(['npi', 'entity_code', 'full_zip', 'state', 'country', 'provider_type',\n",
       "       'medicare_participation_indicator', 'number_of_hcpcs',\n",
       "       'number_of_services', 'total_beneficiaries', 'total_submitted_charges',\n",
       "       'total_allowed_payment', 'total_medicare_payment',\n",
       "       'total_medicare_standardized_payment', 'avg_beneficiary_age',\n",
       "       'avg_hcc_risk_score', 'medicare_payment_per_person',\n",
       "       'submitted_charges_per_person', 'services_per_person',\n",
       "       'submitted_charges_per_service', 'medicare_payment_per_service',\n",
       "       'region', 'subregion', 'percentage_rate', 'payrate_level'],\n",
       "      dtype='object')"
      ]
     },
     "execution_count": 40,
     "metadata": {},
     "output_type": "execute_result"
    }
   ],
   "source": [
    "med.columns"
   ]
  },
  {
   "cell_type": "code",
   "execution_count": 41,
   "metadata": {},
   "outputs": [
    {
     "data": {
      "text/plain": [
       "Index(['medicare_participation_indicator', 'total_medicare_payment',\n",
       "       'total_medicare_standardized_payment', 'medicare_payment_per_person',\n",
       "       'medicare_payment_per_service'],\n",
       "      dtype='object')"
      ]
     },
     "execution_count": 41,
     "metadata": {},
     "output_type": "execute_result"
    }
   ],
   "source": [
    "med.columns[med.columns.str.contains('medicare')]"
   ]
  },
  {
   "cell_type": "code",
   "execution_count": 48,
   "metadata": {},
   "outputs": [
    {
     "data": {
      "text/plain": [
       "Index(['total_medicare_paymentnpi',\n",
       "       'total_medicare_standardized_paymentcountry',\n",
       "       'medicare_payment_per_personpercentage_rate',\n",
       "       'medicare_payment_per_servicetotal_allowed_payment'],\n",
       "      dtype='object')"
      ]
     },
     "execution_count": 48,
     "metadata": {},
     "output_type": "execute_result"
    }
   ],
   "source": [
    "cols"
   ]
  },
  {
   "cell_type": "markdown",
   "metadata": {},
   "source": [
    "#sns.scatterplot(x='total_allowed_payment', y='total_medicare_payment', data = med)\n",
    "I removed \"Total Allowed Payment\" because it corresponds highly to Total Medicare Payment. Not sure if this is useful or not."
   ]
  },
  {
   "cell_type": "code",
   "execution_count": 62,
   "metadata": {},
   "outputs": [
    {
     "data": {
      "text/plain": [
       "['total_medicare_payment',\n",
       " 'total_medicare_standardized_payment',\n",
       " 'medicare_payment_per_person',\n",
       " 'medicare_payment_per_service',\n",
       " 'npi',\n",
       " 'country',\n",
       " 'percentage_rate',\n",
       " 'total_allowed_payment']"
      ]
     },
     "execution_count": 62,
     "metadata": {},
     "output_type": "execute_result"
    }
   ],
   "source": [
    "cols = list(med.columns[med.columns.str.contains('medicare')][1:])\n",
    "cols = cols + ['npi','country', 'percentage_rate', 'total_allowed_payment']\n",
    "df = med.drop(columns = cols)\n",
    "cols"
   ]
  },
  {
   "cell_type": "code",
   "execution_count": 63,
   "metadata": {},
   "outputs": [
    {
     "data": {
      "text/plain": [
       "Index(['entity_code', 'full_zip', 'state', 'provider_type',\n",
       "       'medicare_participation_indicator', 'number_of_hcpcs',\n",
       "       'number_of_services', 'total_beneficiaries', 'total_submitted_charges',\n",
       "       'avg_beneficiary_age', 'avg_hcc_risk_score',\n",
       "       'submitted_charges_per_person', 'services_per_person',\n",
       "       'submitted_charges_per_service', 'region', 'subregion',\n",
       "       'payrate_level'],\n",
       "      dtype='object')"
      ]
     },
     "execution_count": 63,
     "metadata": {},
     "output_type": "execute_result"
    }
   ],
   "source": [
    "df.columns"
   ]
  },
  {
   "cell_type": "markdown",
   "metadata": {},
   "source": [
    "I'll try another version of this with zip code, but for time sake, I'm take out zips before I one-hot-encode."
   ]
  },
  {
   "cell_type": "code",
   "execution_count": 64,
   "metadata": {},
   "outputs": [],
   "source": [
    "y = df['payrate_level']\n",
    "X = pd.get_dummies(df.drop(columns='payrate_level'))"
   ]
  },
  {
   "cell_type": "code",
   "execution_count": 66,
   "metadata": {},
   "outputs": [
    {
     "data": {
      "text/plain": [
       "Index(['full_zip', 'number_of_hcpcs', 'number_of_services',\n",
       "       'total_beneficiaries', 'total_submitted_charges', 'avg_beneficiary_age',\n",
       "       'avg_hcc_risk_score', 'submitted_charges_per_person',\n",
       "       'services_per_person', 'submitted_charges_per_service',\n",
       "       ...\n",
       "       'region_West', 'subregion_East North Central',\n",
       "       'subregion_East South Central', 'subregion_Middle Atlantic',\n",
       "       'subregion_Mountain', 'subregion_New England', 'subregion_Pacific',\n",
       "       'subregion_South Atlantic', 'subregion_West North Central',\n",
       "       'subregion_West South Central'],\n",
       "      dtype='object', length=177)"
      ]
     },
     "execution_count": 66,
     "metadata": {},
     "output_type": "execute_result"
    }
   ],
   "source": [
    "X.columns"
   ]
  },
  {
   "cell_type": "code",
   "execution_count": 67,
   "metadata": {},
   "outputs": [],
   "source": [
    "from sklearn.model_selection import train_test_split\n",
    "\n",
    "X_train, X_test, y_train, y_test = train_test_split(X, y, test_size = 0.2, random_state=42)"
   ]
  },
  {
   "cell_type": "code",
   "execution_count": 68,
   "metadata": {},
   "outputs": [
    {
     "name": "stdout",
     "output_type": "stream",
     "text": [
      "Time: 6.686127483844757 minutes\n"
     ]
    }
   ],
   "source": [
    "import time\n",
    "from sklearn.ensemble import RandomForestClassifier\n",
    "rf = RandomForestClassifier(n_jobs=-1)\n",
    "\n",
    "start = time.time()\n",
    "\n",
    "rf.fit(X_train, y_train)\n",
    "\n",
    "end= time.time()\n",
    "total = end - start\n",
    "print(\"Time:\", total/60, \"minutes\")"
   ]
  },
  {
   "cell_type": "code",
   "execution_count": 69,
   "metadata": {},
   "outputs": [
    {
     "name": "stdout",
     "output_type": "stream",
     "text": [
      "Time: 0.24231106837590535 minutes\n"
     ]
    }
   ],
   "source": [
    "start = time.time()\n",
    "\n",
    "ypred = rf.predict(X_test)\n",
    "\n",
    "end= time.time()\n",
    "total = end - start\n",
    "print(\"Time:\", total/60, \"minutes\")"
   ]
  },
  {
   "cell_type": "code",
   "execution_count": 70,
   "metadata": {},
   "outputs": [
    {
     "name": "stdout",
     "output_type": "stream",
     "text": [
      "Time: 0.3193891485532125 minutes\n"
     ]
    },
    {
     "data": {
      "image/png": "[encoded data removed]",
      "text/plain": [
       "<Figure size 720x720 with 2 Axes>"
      ]
     },
     "metadata": {
      "needs_background": "light"
     },
     "output_type": "display_data"
    }
   ],
   "source": [
    "from sklearn.metrics import plot_confusion_matrix\n",
    "\n",
    "start = time.time()\n",
    "\n",
    "fig, ax = plt.subplots(figsize=(10,10))\n",
    "plot_confusion_matrix(rf, X_test, y_test, ax=ax)\n",
    "\n",
    "end= time.time()\n",
    "total = end - start\n",
    "print(\"Time:\", total/60, \"minutes\")"
   ]
  },
  {
   "cell_type": "code",
   "execution_count": 77,
   "metadata": {},
   "outputs": [
    {
     "ename": "NameError",
     "evalue": "name 'index' is not defined",
     "output_type": "error",
     "traceback": [
      "\u001b[0;31m---------------------------------------------------------------------------\u001b[0m",
      "\u001b[0;31mNameError\u001b[0m                                 Traceback (most recent call last)",
      "\u001b[0;32m<ipython-input-77-166e591b8f93>\u001b[0m in \u001b[0;36m<module>\u001b[0;34m\u001b[0m\n\u001b[0;32m----> 1\u001b[0;31m \u001b[0mX_test\u001b[0m\u001b[0;34m.\u001b[0m\u001b[0mjoin\u001b[0m\u001b[0;34m(\u001b[0m\u001b[0mpd\u001b[0m\u001b[0;34m.\u001b[0m\u001b[0mSeries\u001b[0m\u001b[0;34m(\u001b[0m\u001b[0mypred\u001b[0m\u001b[0;34m)\u001b[0m\u001b[0;34m.\u001b[0m\u001b[0mrename\u001b[0m\u001b[0;34m(\u001b[0m\u001b[0;34m'ypred'\u001b[0m\u001b[0;34m)\u001b[0m\u001b[0;34m,\u001b[0m \u001b[0mon\u001b[0m\u001b[0;34m=\u001b[0m\u001b[0mindex\u001b[0m\u001b[0;34m)\u001b[0m\u001b[0;34m\u001b[0m\u001b[0;34m\u001b[0m\u001b[0m\n\u001b[0m",
      "\u001b[0;31mNameError\u001b[0m: name 'index' is not defined"
     ]
    }
   ],
   "source": [
    "X_test.join(pd.Series(ypred).rename('ypred'))"
   ]
  },
  {
   "cell_type": "code",
   "execution_count": 78,
   "metadata": {},
   "outputs": [
    {
     "data": {
      "text/html": [
       "<div>\n",
       "<style scoped>\n",
       "    .dataframe tbody tr th:only-of-type {\n",
       "        vertical-align: middle;\n",
       "    }\n",
       "\n",
       "    .dataframe tbody tr th {\n",
       "        vertical-align: top;\n",
       "    }\n",
       "\n",
       "    .dataframe thead th {\n",
       "        text-align: right;\n",
       "    }\n",
       "</style>\n",
       "<table border=\"1\" class=\"dataframe\">\n",
       "  <thead>\n",
       "    <tr style=\"text-align: right;\">\n",
       "      <th></th>\n",
       "      <th>full_zip</th>\n",
       "      <th>number_of_hcpcs</th>\n",
       "      <th>number_of_services</th>\n",
       "      <th>total_beneficiaries</th>\n",
       "      <th>total_submitted_charges</th>\n",
       "      <th>avg_beneficiary_age</th>\n",
       "      <th>avg_hcc_risk_score</th>\n",
       "      <th>submitted_charges_per_person</th>\n",
       "      <th>services_per_person</th>\n",
       "      <th>submitted_charges_per_service</th>\n",
       "      <th>...</th>\n",
       "      <th>subregion_East South Central</th>\n",
       "      <th>subregion_Middle Atlantic</th>\n",
       "      <th>subregion_Mountain</th>\n",
       "      <th>subregion_New England</th>\n",
       "      <th>subregion_Pacific</th>\n",
       "      <th>subregion_South Atlantic</th>\n",
       "      <th>subregion_West North Central</th>\n",
       "      <th>subregion_West South Central</th>\n",
       "      <th>y_test</th>\n",
       "      <th>ypred</th>\n",
       "    </tr>\n",
       "  </thead>\n",
       "  <tbody>\n",
       "    <tr>\n",
       "      <th>0</th>\n",
       "      <td>21502.0</td>\n",
       "      <td>19.0</td>\n",
       "      <td>1218.0</td>\n",
       "      <td>445.0</td>\n",
       "      <td>692640.00</td>\n",
       "      <td>76.0</td>\n",
       "      <td>2.2948</td>\n",
       "      <td>1556.49</td>\n",
       "      <td>2.74</td>\n",
       "      <td>568.67</td>\n",
       "      <td>...</td>\n",
       "      <td>0.0</td>\n",
       "      <td>0.0</td>\n",
       "      <td>0.0</td>\n",
       "      <td>0.0</td>\n",
       "      <td>0.0</td>\n",
       "      <td>1.0</td>\n",
       "      <td>0.0</td>\n",
       "      <td>0.0</td>\n",
       "      <td>low</td>\n",
       "      <td>low</td>\n",
       "    </tr>\n",
       "    <tr>\n",
       "      <th>1</th>\n",
       "      <td>NaN</td>\n",
       "      <td>NaN</td>\n",
       "      <td>NaN</td>\n",
       "      <td>NaN</td>\n",
       "      <td>NaN</td>\n",
       "      <td>NaN</td>\n",
       "      <td>NaN</td>\n",
       "      <td>NaN</td>\n",
       "      <td>NaN</td>\n",
       "      <td>NaN</td>\n",
       "      <td>...</td>\n",
       "      <td>NaN</td>\n",
       "      <td>NaN</td>\n",
       "      <td>NaN</td>\n",
       "      <td>NaN</td>\n",
       "      <td>NaN</td>\n",
       "      <td>NaN</td>\n",
       "      <td>NaN</td>\n",
       "      <td>NaN</td>\n",
       "      <td>NaN</td>\n",
       "      <td>high</td>\n",
       "    </tr>\n",
       "    <tr>\n",
       "      <th>2</th>\n",
       "      <td>21202.0</td>\n",
       "      <td>4.0</td>\n",
       "      <td>58.0</td>\n",
       "      <td>12.0</td>\n",
       "      <td>2728.42</td>\n",
       "      <td>65.0</td>\n",
       "      <td>0.8597</td>\n",
       "      <td>227.37</td>\n",
       "      <td>4.83</td>\n",
       "      <td>47.04</td>\n",
       "      <td>...</td>\n",
       "      <td>0.0</td>\n",
       "      <td>0.0</td>\n",
       "      <td>0.0</td>\n",
       "      <td>0.0</td>\n",
       "      <td>0.0</td>\n",
       "      <td>1.0</td>\n",
       "      <td>0.0</td>\n",
       "      <td>0.0</td>\n",
       "      <td>medium</td>\n",
       "      <td>low</td>\n",
       "    </tr>\n",
       "    <tr>\n",
       "      <th>3</th>\n",
       "      <td>NaN</td>\n",
       "      <td>NaN</td>\n",
       "      <td>NaN</td>\n",
       "      <td>NaN</td>\n",
       "      <td>NaN</td>\n",
       "      <td>NaN</td>\n",
       "      <td>NaN</td>\n",
       "      <td>NaN</td>\n",
       "      <td>NaN</td>\n",
       "      <td>NaN</td>\n",
       "      <td>...</td>\n",
       "      <td>NaN</td>\n",
       "      <td>NaN</td>\n",
       "      <td>NaN</td>\n",
       "      <td>NaN</td>\n",
       "      <td>NaN</td>\n",
       "      <td>NaN</td>\n",
       "      <td>NaN</td>\n",
       "      <td>NaN</td>\n",
       "      <td>NaN</td>\n",
       "      <td>high</td>\n",
       "    </tr>\n",
       "    <tr>\n",
       "      <th>4</th>\n",
       "      <td>NaN</td>\n",
       "      <td>NaN</td>\n",
       "      <td>NaN</td>\n",
       "      <td>NaN</td>\n",
       "      <td>NaN</td>\n",
       "      <td>NaN</td>\n",
       "      <td>NaN</td>\n",
       "      <td>NaN</td>\n",
       "      <td>NaN</td>\n",
       "      <td>NaN</td>\n",
       "      <td>...</td>\n",
       "      <td>NaN</td>\n",
       "      <td>NaN</td>\n",
       "      <td>NaN</td>\n",
       "      <td>NaN</td>\n",
       "      <td>NaN</td>\n",
       "      <td>NaN</td>\n",
       "      <td>NaN</td>\n",
       "      <td>NaN</td>\n",
       "      <td>NaN</td>\n",
       "      <td>medium</td>\n",
       "    </tr>\n",
       "  </tbody>\n",
       "</table>\n",
       "<p>5 rows × 179 columns</p>\n",
       "</div>"
      ],
      "text/plain": [
       "   full_zip  number_of_hcpcs  number_of_services  total_beneficiaries  \\\n",
       "0   21502.0             19.0              1218.0                445.0   \n",
       "1       NaN              NaN                 NaN                  NaN   \n",
       "2   21202.0              4.0                58.0                 12.0   \n",
       "3       NaN              NaN                 NaN                  NaN   \n",
       "4       NaN              NaN                 NaN                  NaN   \n",
       "\n",
       "   total_submitted_charges  avg_beneficiary_age  avg_hcc_risk_score  \\\n",
       "0                692640.00                 76.0              2.2948   \n",
       "1                      NaN                  NaN                 NaN   \n",
       "2                  2728.42                 65.0              0.8597   \n",
       "3                      NaN                  NaN                 NaN   \n",
       "4                      NaN                  NaN                 NaN   \n",
       "\n",
       "   submitted_charges_per_person  services_per_person  \\\n",
       "0                       1556.49                 2.74   \n",
       "1                           NaN                  NaN   \n",
       "2                        227.37                 4.83   \n",
       "3                           NaN                  NaN   \n",
       "4                           NaN                  NaN   \n",
       "\n",
       "   submitted_charges_per_service  ...  subregion_East South Central  \\\n",
       "0                         568.67  ...                           0.0   \n",
       "1                            NaN  ...                           NaN   \n",
       "2                          47.04  ...                           0.0   \n",
       "3                            NaN  ...                           NaN   \n",
       "4                            NaN  ...                           NaN   \n",
       "\n",
       "   subregion_Middle Atlantic  subregion_Mountain  subregion_New England  \\\n",
       "0                        0.0                 0.0                    0.0   \n",
       "1                        NaN                 NaN                    NaN   \n",
       "2                        0.0                 0.0                    0.0   \n",
       "3                        NaN                 NaN                    NaN   \n",
       "4                        NaN                 NaN                    NaN   \n",
       "\n",
       "   subregion_Pacific  subregion_South Atlantic  subregion_West North Central  \\\n",
       "0                0.0                       1.0                           0.0   \n",
       "1                NaN                       NaN                           NaN   \n",
       "2                0.0                       1.0                           0.0   \n",
       "3                NaN                       NaN                           NaN   \n",
       "4                NaN                       NaN                           NaN   \n",
       "\n",
       "   subregion_West South Central  y_test   ypred  \n",
       "0                           0.0     low     low  \n",
       "1                           NaN     NaN    high  \n",
       "2                           0.0  medium     low  \n",
       "3                           NaN     NaN    high  \n",
       "4                           NaN     NaN  medium  \n",
       "\n",
       "[5 rows x 179 columns]"
      ]
     },
     "execution_count": 78,
     "metadata": {},
     "output_type": "execute_result"
    }
   ],
   "source": [
    "temp = pd.concat([X_test, pd.Series(y_test).rename('y_test'), pd.Series(ypred).rename('ypred')], axis=1)\n",
    "temp.head()"
   ]
  },
  {
   "cell_type": "markdown",
   "metadata": {},
   "source": [
    "Examining actual Very High rates that were predicted to be lower"
   ]
  },
  {
   "cell_type": "code",
   "execution_count": null,
   "metadata": {},
   "outputs": [],
   "source": [
    "temp[temp.y_test == 'very high') & (temp.y_test != temp.ypred)]"
   ]
  },
  {
   "cell_type": "markdown",
   "metadata": {},
   "source": [
    "Examining actual Low rates that were predicted to be higher"
   ]
  },
  {
   "cell_type": "code",
   "execution_count": null,
   "metadata": {},
   "outputs": [],
   "source": [
    "temp[temp.y_test == 'low') & (temp.y_test != temp.ypred)]"
   ]
  },
  {
   "cell_type": "markdown",
   "metadata": {},
   "source": [
    "Examining predicted Low rates that are actually higher"
   ]
  },
  {
   "cell_type": "code",
   "execution_count": null,
   "metadata": {},
   "outputs": [],
   "source": [
    "temp[temp.y_pred == 'low') & (temp.y_test != temp.ypred)]"
   ]
  },
  {
   "cell_type": "code",
   "execution_count": null,
   "metadata": {},
   "outputs": [],
   "source": []
  }
 ],
 "metadata": {
  "kernelspec": {
   "display_name": "Python 3",
   "language": "python",
   "name": "python3"
  },
  "language_info": {
   "codemirror_mode": {
    "name": "ipython",
    "version": 3
   },
   "file_extension": ".py",
   "mimetype": "text/x-python",
   "name": "python",
   "nbconvert_exporter": "python",
   "pygments_lexer": "ipython3",
   "version": "3.7.7"
  }
 },
 "nbformat": 4,
 "nbformat_minor": 4
}
