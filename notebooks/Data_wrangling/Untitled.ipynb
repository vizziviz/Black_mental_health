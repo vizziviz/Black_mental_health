{
 "cells": [
  {
   "cell_type": "code",
   "execution_count": 1,
   "metadata": {},
   "outputs": [],
   "source": [
    "import pandas as pd"
   ]
  },
  {
   "cell_type": "code",
   "execution_count": 4,
   "metadata": {},
   "outputs": [],
   "source": [
    "df = pd.read_csv('../../data/processed/final2012MEDICAREwithBlackben.csv', index_col = 0)"
   ]
  },
  {
   "cell_type": "code",
   "execution_count": 5,
   "metadata": {},
   "outputs": [
    {
     "name": "stdout",
     "output_type": "stream",
     "text": [
      "<class 'pandas.core.frame.DataFrame'>\n",
      "Int64Index: 302011 entries, 0 to 302010\n",
      "Data columns (total 27 columns):\n",
      " #   Column                            Non-Null Count   Dtype  \n",
      "---  ------                            --------------   -----  \n",
      " 0   npi                               302011 non-null  int64  \n",
      " 1   entity_code                       302011 non-null  object \n",
      " 2   address                           302011 non-null  object \n",
      " 3   city                              302011 non-null  object \n",
      " 4   full_zip                          302011 non-null  int64  \n",
      " 5   state                             302011 non-null  object \n",
      " 6   country                           302011 non-null  object \n",
      " 7   provider_type                     302011 non-null  object \n",
      " 8   medicare_participation_indicator  302011 non-null  object \n",
      " 9   number_of_hcpcs                   302011 non-null  int64  \n",
      " 10  number_of_services                302011 non-null  int64  \n",
      " 11  total_beneficiaries               302011 non-null  int64  \n",
      " 12  total_submitted_charges           302011 non-null  float64\n",
      " 13  total_allowed_payment             302011 non-null  float64\n",
      " 14  total_medicare_payment            302011 non-null  float64\n",
      " 15  avg_beneficiary_age               302011 non-null  int64  \n",
      " 16  number_black_beneficiaries        302011 non-null  float64\n",
      " 17  avg_hcc_risk_score                302011 non-null  float64\n",
      " 18  services_per_capita               299913 non-null  float64\n",
      " 19  allowed_payment_per_capita        299913 non-null  float64\n",
      " 20  medicare_payment_per_capita       299913 non-null  float64\n",
      " 21  submitted_charges_per_capita      299913 non-null  float64\n",
      " 22  percent_black_patients            302011 non-null  float64\n",
      " 23  State Code                        302011 non-null  object \n",
      " 24  Region                            302011 non-null  object \n",
      " 25  Division                          302011 non-null  object \n",
      " 26  doctor_category                   302011 non-null  object \n",
      "dtypes: float64(10), int64(6), object(11)\n",
      "memory usage: 64.5+ MB\n"
     ]
    }
   ],
   "source": [
    "df.info()"
   ]
  },
  {
   "cell_type": "code",
   "execution_count": null,
   "metadata": {},
   "outputs": [],
   "source": []
  }
 ],
 "metadata": {
  "kernelspec": {
   "display_name": "Python 3",
   "language": "python",
   "name": "python3"
  },
  "language_info": {
   "codemirror_mode": {
    "name": "ipython",
    "version": 3
   },
   "file_extension": ".py",
   "mimetype": "text/x-python",
   "name": "python",
   "nbconvert_exporter": "python",
   "pygments_lexer": "ipython3",
   "version": "3.7.7"
  }
 },
 "nbformat": 4,
 "nbformat_minor": 4
}
