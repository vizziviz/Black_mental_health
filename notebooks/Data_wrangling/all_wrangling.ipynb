{
 "cells": [
  {
   "cell_type": "code",
   "execution_count": 139,
   "metadata": {},
   "outputs": [],
   "source": [
    "import pandas as pd"
   ]
  },
  {
   "cell_type": "code",
   "execution_count": 140,
   "metadata": {},
   "outputs": [],
   "source": [
    "df = pd.read_csv('../../data/processed/2012black_medicare_census.csv', index_col=0)\n",
    "df2 = pd.read_csv('../../data/processed/2013black_medicare_census.csv', index_col=0)\n",
    "df3 = pd.read_csv('../../data/processed/2014black_medicare_census.csv', index_col=0)\n",
    "df4 = pd.read_csv('../../data/processed/2015black_medicare_census.csv', index_col=0)\n",
    "df5 = pd.read_csv('../../data/processed/2016black_medicare_census.csv', index_col=0)\n",
    "df6 = pd.read_csv('../../data/processed/2017black_medicare_census.csv', index_col=0)\n",
    "df7 = pd.read_csv('../../data/processed/2018black_medicare_census.csv', index_col=0)"
   ]
  },
  {
   "cell_type": "code",
   "execution_count": 141,
   "metadata": {},
   "outputs": [],
   "source": [
    "df['year'] = '2012'\n",
    "df2['year'] = '2013'\n",
    "df3['year'] = '2014'\n",
    "df4['year'] = '2015'\n",
    "df5['year'] = '2016'\n",
    "df6['year'] = '2017'\n",
    "df7['year'] = '2018'"
   ]
  },
  {
   "cell_type": "code",
   "execution_count": 142,
   "metadata": {},
   "outputs": [],
   "source": [
    "all_years_black = pd.concat([df, df2, df3, df4, df5, df6, df7], ignore_index=True)"
   ]
  },
  {
   "cell_type": "code",
   "execution_count": 145,
   "metadata": {},
   "outputs": [
    {
     "data": {
      "text/plain": [
       "do_date                              74357\n",
       "pop_divorced                         49967\n",
       "pop_widowed                          49967\n",
       "pop_separated                        49967\n",
       "pop_now_married                      49967\n",
       "pop_never_married                    49967\n",
       "pop_15_and_over                      49967\n",
       "speak_spanish_at_home                37694\n",
       "speak_spanish_at_home_low_english    37694\n",
       "speak_only_english_at_home           37694\n",
       "pop_5_years_over                     37694\n",
       "amerindian_including_hispanic        12594\n",
       "commute_35_39_mins                   12594\n",
       "commute_5_9_mins                     12594\n",
       "asian_including_hispanic             12594\n",
       "black_including_hispanic             12594\n",
       "white_including_hispanic             12594\n",
       "commute_60_89_mins                   12594\n",
       "commute_40_44_mins                   12594\n",
       "households_retirement_income         12594\n",
       "commute_90_more_mins                 12594\n",
       "male_60_61                           12594\n",
       "male_62_64                           12594\n",
       "occupied_housing_units                   0\n",
       "dwellings_1_units_attached               0\n",
       "dtype: int64"
      ]
     },
     "execution_count": 145,
     "metadata": {},
     "output_type": "execute_result"
    }
   ],
   "source": [
    "all_years_black.isnull().sum().sort_values(ascending=False).head(25)"
   ]
  },
  {
   "cell_type": "code",
   "execution_count": 146,
   "metadata": {},
   "outputs": [
    {
     "data": {
      "text/plain": [
       "array(['2015', '2016', '2017', '2018'], dtype=object)"
      ]
     },
     "execution_count": 146,
     "metadata": {},
     "output_type": "execute_result"
    }
   ],
   "source": [
    "all_years_black[all_years_black.pop_divorced.isnull()].year.unique()"
   ]
  },
  {
   "cell_type": "code",
   "execution_count": 154,
   "metadata": {},
   "outputs": [
    {
     "data": {
      "text/plain": [
       "Index(['do_date', 'pop_divorced', 'pop_widowed', 'pop_separated',\n",
       "       'pop_now_married', 'pop_never_married', 'pop_15_and_over',\n",
       "       'speak_spanish_at_home', 'speak_spanish_at_home_low_english',\n",
       "       'speak_only_english_at_home', 'pop_5_years_over'],\n",
       "      dtype='object')"
      ]
     },
     "execution_count": 154,
     "metadata": {},
     "output_type": "execute_result"
    }
   ],
   "source": [
    "all_years_black.isnull().sum().sort_values(ascending=False)[:11].index"
   ]
  },
  {
   "cell_type": "markdown",
   "metadata": {},
   "source": [
    "#### Since these missing values span multiple years, I will remove these columns altogether "
   ]
  },
  {
   "cell_type": "code",
   "execution_count": 155,
   "metadata": {},
   "outputs": [],
   "source": [
    "cols = all_years_black.isnull().sum().sort_values(ascending=False)[:11].index\n",
    "all_years_black.drop(columns = cols, inplace=True)"
   ]
  },
  {
   "cell_type": "code",
   "execution_count": 157,
   "metadata": {},
   "outputs": [
    {
     "data": {
      "text/plain": [
       "commute_90_more_mins             12594\n",
       "commute_60_89_mins               12594\n",
       "white_including_hispanic         12594\n",
       "black_including_hispanic         12594\n",
       "amerindian_including_hispanic    12594\n",
       "asian_including_hispanic         12594\n",
       "commute_5_9_mins                 12594\n",
       "commute_35_39_mins               12594\n",
       "commute_40_44_mins               12594\n",
       "male_60_61                       12594\n",
       "male_62_64                       12594\n",
       "households_retirement_income     12594\n",
       "occupied_housing_units               0\n",
       "dwellings_2_units                    0\n",
       "dwellings_3_to_4_units               0\n",
       "dtype: int64"
      ]
     },
     "execution_count": 157,
     "metadata": {},
     "output_type": "execute_result"
    }
   ],
   "source": [
    "all_years_black.isnull().sum().sort_values(ascending=False).head(15)"
   ]
  },
  {
   "cell_type": "code",
   "execution_count": 144,
   "metadata": {},
   "outputs": [
    {
     "data": {
      "text/plain": [
       "array(['2018'], dtype=object)"
      ]
     },
     "execution_count": 144,
     "metadata": {},
     "output_type": "execute_result"
    }
   ],
   "source": [
    "all_years_black[all_years_black.male_60_61.isnull()].year.unique()"
   ]
  },
  {
   "cell_type": "markdown",
   "metadata": {},
   "source": [
    "## Only 2018 is missing these gender-age bins. I'll need to either take out ALL gender-age bins or remove 2018 data from this study. "
   ]
  },
  {
   "cell_type": "markdown",
   "metadata": {},
   "source": [
    "Removing 2018 data, I can revisit this decision if I find out that gender-age bins have little use for modeling or statistical analysis."
   ]
  },
  {
   "cell_type": "code",
   "execution_count": 160,
   "metadata": {},
   "outputs": [],
   "source": [
    "all_years_black = all_years_black[all_years_black.year != '2018']"
   ]
  },
  {
   "cell_type": "code",
   "execution_count": 161,
   "metadata": {},
   "outputs": [],
   "source": [
    "all_years_black.to_csv('../../data/processed/all_years_black_medicare.csv')"
   ]
  },
  {
   "cell_type": "markdown",
   "metadata": {},
   "source": [
    "# Merging all_medicare DFs from 2012-2018"
   ]
  },
  {
   "cell_type": "code",
   "execution_count": 162,
   "metadata": {},
   "outputs": [],
   "source": [
    "df = pd.read_csv('../../data/processed/2012all_races_medicare_census.csv', index_col=0)\n",
    "df2 = pd.read_csv('../../data/processed/2013all_races_medicare_census.csv', index_col=0)\n",
    "df3 = pd.read_csv('../../data/processed/2014all_races_medicare_census.csv', index_col=0)\n",
    "df4 = pd.read_csv('../../data/processed/2015all_races_medicare_census.csv', index_col=0)\n",
    "df5 = pd.read_csv('../../data/processed/2016all_races_medicare_census.csv', index_col=0)\n",
    "df6 = pd.read_csv('../../data/processed/2017all_races_medicare_census.csv', index_col=0)\n",
    "df7 = pd.read_csv('../../data/processed/2018all_races_medicare_census.csv', index_col=0)"
   ]
  },
  {
   "cell_type": "code",
   "execution_count": 163,
   "metadata": {},
   "outputs": [],
   "source": [
    "df['year'] = '2012'\n",
    "df2['year'] = '2013'\n",
    "df3['year'] = '2014'\n",
    "df4['year'] = '2015'\n",
    "df5['year'] = '2016'\n",
    "df6['year'] = '2017'\n",
    "df7['year'] = '2018'"
   ]
  },
  {
   "cell_type": "code",
   "execution_count": 164,
   "metadata": {},
   "outputs": [],
   "source": [
    "all_years_all_races = pd.concat([df, df2, df3, df4, df5, df6, df7], ignore_index=True)"
   ]
  },
  {
   "cell_type": "code",
   "execution_count": 166,
   "metadata": {},
   "outputs": [
    {
     "data": {
      "text/plain": [
       "do_date                              32600\n",
       "pop_divorced                         21614\n",
       "pop_widowed                          21614\n",
       "pop_separated                        21614\n",
       "pop_now_married                      21614\n",
       "pop_never_married                    21614\n",
       "pop_15_and_over                      21614\n",
       "speak_spanish_at_home_low_english    16215\n",
       "speak_spanish_at_home                16215\n",
       "speak_only_english_at_home           16215\n",
       "pop_5_years_over                     16215\n",
       "commute_5_9_mins                      5308\n",
       "commute_35_39_mins                    5308\n",
       "amerindian_including_hispanic         5308\n",
       "asian_including_hispanic              5308\n",
       "commute_60_89_mins                    5308\n",
       "commute_40_44_mins                    5308\n",
       "male_62_64                            5308\n",
       "commute_90_more_mins                  5308\n",
       "households_retirement_income          5308\n",
       "male_60_61                            5308\n",
       "white_including_hispanic              5308\n",
       "black_including_hispanic              5308\n",
       "married_households                       0\n",
       "income_200000_or_more                    0\n",
       "dtype: int64"
      ]
     },
     "execution_count": 166,
     "metadata": {},
     "output_type": "execute_result"
    }
   ],
   "source": [
    "all_years_all_races.isnull().sum().sort_values(ascending=False).head(25)"
   ]
  },
  {
   "cell_type": "code",
   "execution_count": 167,
   "metadata": {},
   "outputs": [
    {
     "data": {
      "text/plain": [
       "array(['2016', '2017', '2018'], dtype=object)"
      ]
     },
     "execution_count": 167,
     "metadata": {},
     "output_type": "execute_result"
    }
   ],
   "source": [
    "all_years_all_races[all_years_all_races.pop_5_years_over.isnull()].year.unique()"
   ]
  },
  {
   "cell_type": "code",
   "execution_count": 168,
   "metadata": {},
   "outputs": [
    {
     "data": {
      "text/plain": [
       "array(['2015', '2016', '2017', '2018'], dtype=object)"
      ]
     },
     "execution_count": 168,
     "metadata": {},
     "output_type": "execute_result"
    }
   ],
   "source": [
    "all_years_all_races[all_years_all_races.pop_15_and_over.isnull()].year.unique()"
   ]
  },
  {
   "cell_type": "code",
   "execution_count": 171,
   "metadata": {},
   "outputs": [
    {
     "data": {
      "text/plain": [
       "Index(['do_date', 'pop_divorced', 'pop_widowed', 'pop_separated',\n",
       "       'pop_now_married', 'pop_never_married', 'pop_15_and_over',\n",
       "       'speak_spanish_at_home_low_english', 'speak_spanish_at_home',\n",
       "       'speak_only_english_at_home', 'pop_5_years_over'],\n",
       "      dtype='object')"
      ]
     },
     "execution_count": 171,
     "metadata": {},
     "output_type": "execute_result"
    }
   ],
   "source": [
    "all_years_all_races.isnull().sum().sort_values(ascending=False)[:11].index"
   ]
  },
  {
   "cell_type": "code",
   "execution_count": 172,
   "metadata": {},
   "outputs": [],
   "source": [
    "cols = all_years_all_races.isnull().sum().sort_values(ascending=False)[:11].index\n",
    "all_years_all_races.drop(columns = cols, inplace=True)"
   ]
  },
  {
   "cell_type": "code",
   "execution_count": 173,
   "metadata": {},
   "outputs": [
    {
     "data": {
      "text/plain": [
       "commute_40_44_mins               5308\n",
       "commute_60_89_mins               5308\n",
       "white_including_hispanic         5308\n",
       "black_including_hispanic         5308\n",
       "amerindian_including_hispanic    5308\n",
       "asian_including_hispanic         5308\n",
       "commute_35_39_mins               5308\n",
       "commute_5_9_mins                 5308\n",
       "commute_90_more_mins             5308\n",
       "households_retirement_income     5308\n",
       "male_60_61                       5308\n",
       "male_62_64                       5308\n",
       "dwellings_1_units_detached          0\n",
       "income_125000_149999                0\n",
       "dwellings_1_units_attached          0\n",
       "dtype: int64"
      ]
     },
     "execution_count": 173,
     "metadata": {},
     "output_type": "execute_result"
    }
   ],
   "source": [
    "all_years_all_races.isnull().sum().sort_values(ascending=False).head(15)"
   ]
  },
  {
   "cell_type": "code",
   "execution_count": 174,
   "metadata": {},
   "outputs": [
    {
     "data": {
      "text/plain": [
       "array(['2018'], dtype=object)"
      ]
     },
     "execution_count": 174,
     "metadata": {},
     "output_type": "execute_result"
    }
   ],
   "source": [
    "all_years_all_races[all_years_all_races.commute_40_44_mins.isnull()].year.unique()"
   ]
  },
  {
   "cell_type": "markdown",
   "metadata": {},
   "source": [
    "Removing 2018 data, I can revisit this decision if I find out that gender-age bins have little use for modeling or statistical analysis."
   ]
  },
  {
   "cell_type": "code",
   "execution_count": 176,
   "metadata": {},
   "outputs": [],
   "source": [
    "all_years_all_races = all_years_all_races[all_years_all_races.year != '2018']"
   ]
  },
  {
   "cell_type": "code",
   "execution_count": 177,
   "metadata": {},
   "outputs": [],
   "source": [
    "all_years_all_races.to_csv('../../data/processed/all_years_all_medicare.csv')"
   ]
  },
  {
   "cell_type": "markdown",
   "metadata": {},
   "source": [
    "# Agg by Zip Code"
   ]
  },
  {
   "cell_type": "code",
   "execution_count": 186,
   "metadata": {},
   "outputs": [
    {
     "data": {
      "text/html": [
       "<div>\n",
       "<style scoped>\n",
       "    .dataframe tbody tr th:only-of-type {\n",
       "        vertical-align: middle;\n",
       "    }\n",
       "\n",
       "    .dataframe tbody tr th {\n",
       "        vertical-align: top;\n",
       "    }\n",
       "\n",
       "    .dataframe thead th {\n",
       "        text-align: right;\n",
       "    }\n",
       "</style>\n",
       "<table border=\"1\" class=\"dataframe\">\n",
       "  <thead>\n",
       "    <tr style=\"text-align: right;\">\n",
       "      <th></th>\n",
       "      <th>npi_2012</th>\n",
       "      <th>city_2012</th>\n",
       "      <th>full_zip_2012</th>\n",
       "      <th>state_2012</th>\n",
       "      <th>country_2012</th>\n",
       "      <th>provider_type_2012</th>\n",
       "      <th>total_beneficiaries_2012</th>\n",
       "      <th>total_medicare_payment_2012</th>\n",
       "      <th>avg_beneficiary_age_2012</th>\n",
       "      <th>num_white_2012</th>\n",
       "      <th>...</th>\n",
       "      <th>speak_only_english_at_home_2013</th>\n",
       "      <th>speak_spanish_at_home_2013</th>\n",
       "      <th>speak_spanish_at_home_low_english_2013</th>\n",
       "      <th>pop_15_and_over_2013</th>\n",
       "      <th>pop_never_married_2013</th>\n",
       "      <th>pop_now_married_2013</th>\n",
       "      <th>pop_separated_2013</th>\n",
       "      <th>pop_widowed_2013</th>\n",
       "      <th>pop_divorced_2013</th>\n",
       "      <th>year_2013</th>\n",
       "    </tr>\n",
       "  </thead>\n",
       "  <tbody>\n",
       "    <tr>\n",
       "      <th>0</th>\n",
       "      <td>1003011487</td>\n",
       "      <td>BELFAST</td>\n",
       "      <td>49156006</td>\n",
       "      <td>ME</td>\n",
       "      <td>US</td>\n",
       "      <td>Licensed Clinical Social Worker</td>\n",
       "      <td>17</td>\n",
       "      <td>13268.66</td>\n",
       "      <td>58</td>\n",
       "      <td>17.0</td>\n",
       "      <td>...</td>\n",
       "      <td>7625</td>\n",
       "      <td>98</td>\n",
       "      <td>57</td>\n",
       "      <td>6926</td>\n",
       "      <td>1822</td>\n",
       "      <td>3298</td>\n",
       "      <td>38</td>\n",
       "      <td>694</td>\n",
       "      <td>1026</td>\n",
       "      <td>2013</td>\n",
       "    </tr>\n",
       "    <tr>\n",
       "      <th>1</th>\n",
       "      <td>1003011487</td>\n",
       "      <td>BELFAST</td>\n",
       "      <td>49156006</td>\n",
       "      <td>ME</td>\n",
       "      <td>US</td>\n",
       "      <td>Licensed Clinical Social Worker</td>\n",
       "      <td>17</td>\n",
       "      <td>13268.66</td>\n",
       "      <td>58</td>\n",
       "      <td>17.0</td>\n",
       "      <td>...</td>\n",
       "      <td>7625</td>\n",
       "      <td>98</td>\n",
       "      <td>57</td>\n",
       "      <td>6926</td>\n",
       "      <td>1822</td>\n",
       "      <td>3298</td>\n",
       "      <td>38</td>\n",
       "      <td>694</td>\n",
       "      <td>1026</td>\n",
       "      <td>2013</td>\n",
       "    </tr>\n",
       "    <tr>\n",
       "      <th>2</th>\n",
       "      <td>1003011487</td>\n",
       "      <td>BELFAST</td>\n",
       "      <td>49156006</td>\n",
       "      <td>ME</td>\n",
       "      <td>US</td>\n",
       "      <td>Licensed Clinical Social Worker</td>\n",
       "      <td>17</td>\n",
       "      <td>13268.66</td>\n",
       "      <td>58</td>\n",
       "      <td>17.0</td>\n",
       "      <td>...</td>\n",
       "      <td>7625</td>\n",
       "      <td>98</td>\n",
       "      <td>57</td>\n",
       "      <td>6926</td>\n",
       "      <td>1822</td>\n",
       "      <td>3298</td>\n",
       "      <td>38</td>\n",
       "      <td>694</td>\n",
       "      <td>1026</td>\n",
       "      <td>2013</td>\n",
       "    </tr>\n",
       "    <tr>\n",
       "      <th>3</th>\n",
       "      <td>1013244011</td>\n",
       "      <td>BELFAST</td>\n",
       "      <td>49156029</td>\n",
       "      <td>ME</td>\n",
       "      <td>US</td>\n",
       "      <td>Licensed Clinical Social Worker</td>\n",
       "      <td>12</td>\n",
       "      <td>2336.58</td>\n",
       "      <td>48</td>\n",
       "      <td>12.0</td>\n",
       "      <td>...</td>\n",
       "      <td>7625</td>\n",
       "      <td>98</td>\n",
       "      <td>57</td>\n",
       "      <td>6926</td>\n",
       "      <td>1822</td>\n",
       "      <td>3298</td>\n",
       "      <td>38</td>\n",
       "      <td>694</td>\n",
       "      <td>1026</td>\n",
       "      <td>2013</td>\n",
       "    </tr>\n",
       "    <tr>\n",
       "      <th>4</th>\n",
       "      <td>1013244011</td>\n",
       "      <td>BELFAST</td>\n",
       "      <td>49156029</td>\n",
       "      <td>ME</td>\n",
       "      <td>US</td>\n",
       "      <td>Licensed Clinical Social Worker</td>\n",
       "      <td>12</td>\n",
       "      <td>2336.58</td>\n",
       "      <td>48</td>\n",
       "      <td>12.0</td>\n",
       "      <td>...</td>\n",
       "      <td>7625</td>\n",
       "      <td>98</td>\n",
       "      <td>57</td>\n",
       "      <td>6926</td>\n",
       "      <td>1822</td>\n",
       "      <td>3298</td>\n",
       "      <td>38</td>\n",
       "      <td>694</td>\n",
       "      <td>1026</td>\n",
       "      <td>2013</td>\n",
       "    </tr>\n",
       "    <tr>\n",
       "      <th>...</th>\n",
       "      <td>...</td>\n",
       "      <td>...</td>\n",
       "      <td>...</td>\n",
       "      <td>...</td>\n",
       "      <td>...</td>\n",
       "      <td>...</td>\n",
       "      <td>...</td>\n",
       "      <td>...</td>\n",
       "      <td>...</td>\n",
       "      <td>...</td>\n",
       "      <td>...</td>\n",
       "      <td>...</td>\n",
       "      <td>...</td>\n",
       "      <td>...</td>\n",
       "      <td>...</td>\n",
       "      <td>...</td>\n",
       "      <td>...</td>\n",
       "      <td>...</td>\n",
       "      <td>...</td>\n",
       "      <td>...</td>\n",
       "      <td>...</td>\n",
       "    </tr>\n",
       "    <tr>\n",
       "      <th>9707</th>\n",
       "      <td>1982612263</td>\n",
       "      <td>KISSIMMEE</td>\n",
       "      <td>347412344</td>\n",
       "      <td>FL</td>\n",
       "      <td>US</td>\n",
       "      <td>Psychiatry</td>\n",
       "      <td>70</td>\n",
       "      <td>5350.12</td>\n",
       "      <td>46</td>\n",
       "      <td>24.0</td>\n",
       "      <td>...</td>\n",
       "      <td>14515</td>\n",
       "      <td>21679</td>\n",
       "      <td>9658</td>\n",
       "      <td>33366</td>\n",
       "      <td>11928</td>\n",
       "      <td>13186</td>\n",
       "      <td>1665</td>\n",
       "      <td>1126</td>\n",
       "      <td>3310</td>\n",
       "      <td>2013</td>\n",
       "    </tr>\n",
       "    <tr>\n",
       "      <th>9708</th>\n",
       "      <td>1982724357</td>\n",
       "      <td>LITTLETON</td>\n",
       "      <td>35610000</td>\n",
       "      <td>NH</td>\n",
       "      <td>US</td>\n",
       "      <td>Psychiatry</td>\n",
       "      <td>21</td>\n",
       "      <td>12236.96</td>\n",
       "      <td>62</td>\n",
       "      <td>21.0</td>\n",
       "      <td>...</td>\n",
       "      <td>5196</td>\n",
       "      <td>115</td>\n",
       "      <td>71</td>\n",
       "      <td>4914</td>\n",
       "      <td>1309</td>\n",
       "      <td>2411</td>\n",
       "      <td>0</td>\n",
       "      <td>275</td>\n",
       "      <td>812</td>\n",
       "      <td>2013</td>\n",
       "    </tr>\n",
       "    <tr>\n",
       "      <th>9709</th>\n",
       "      <td>1982724357</td>\n",
       "      <td>LITTLETON</td>\n",
       "      <td>35610000</td>\n",
       "      <td>NH</td>\n",
       "      <td>US</td>\n",
       "      <td>Psychiatry</td>\n",
       "      <td>21</td>\n",
       "      <td>12236.96</td>\n",
       "      <td>62</td>\n",
       "      <td>21.0</td>\n",
       "      <td>...</td>\n",
       "      <td>5196</td>\n",
       "      <td>115</td>\n",
       "      <td>71</td>\n",
       "      <td>4914</td>\n",
       "      <td>1309</td>\n",
       "      <td>2411</td>\n",
       "      <td>0</td>\n",
       "      <td>275</td>\n",
       "      <td>812</td>\n",
       "      <td>2013</td>\n",
       "    </tr>\n",
       "    <tr>\n",
       "      <th>9710</th>\n",
       "      <td>1982724357</td>\n",
       "      <td>LITTLETON</td>\n",
       "      <td>35610000</td>\n",
       "      <td>NH</td>\n",
       "      <td>US</td>\n",
       "      <td>Psychiatry</td>\n",
       "      <td>21</td>\n",
       "      <td>12236.96</td>\n",
       "      <td>62</td>\n",
       "      <td>21.0</td>\n",
       "      <td>...</td>\n",
       "      <td>5196</td>\n",
       "      <td>115</td>\n",
       "      <td>71</td>\n",
       "      <td>4914</td>\n",
       "      <td>1309</td>\n",
       "      <td>2411</td>\n",
       "      <td>0</td>\n",
       "      <td>275</td>\n",
       "      <td>812</td>\n",
       "      <td>2013</td>\n",
       "    </tr>\n",
       "    <tr>\n",
       "      <th>9711</th>\n",
       "      <td>1992740252</td>\n",
       "      <td>TAMPA</td>\n",
       "      <td>336134706</td>\n",
       "      <td>FL</td>\n",
       "      <td>US</td>\n",
       "      <td>Psychiatry</td>\n",
       "      <td>37</td>\n",
       "      <td>8372.28</td>\n",
       "      <td>50</td>\n",
       "      <td>37.0</td>\n",
       "      <td>...</td>\n",
       "      <td>20521</td>\n",
       "      <td>6149</td>\n",
       "      <td>2820</td>\n",
       "      <td>26196</td>\n",
       "      <td>12990</td>\n",
       "      <td>7792</td>\n",
       "      <td>722</td>\n",
       "      <td>1520</td>\n",
       "      <td>2458</td>\n",
       "      <td>2013</td>\n",
       "    </tr>\n",
       "  </tbody>\n",
       "</table>\n",
       "<p>9712 rows × 526 columns</p>\n",
       "</div>"
      ],
      "text/plain": [
       "        npi_2012  city_2012  full_zip_2012 state_2012 country_2012  \\\n",
       "0     1003011487    BELFAST       49156006         ME           US   \n",
       "1     1003011487    BELFAST       49156006         ME           US   \n",
       "2     1003011487    BELFAST       49156006         ME           US   \n",
       "3     1013244011    BELFAST       49156029         ME           US   \n",
       "4     1013244011    BELFAST       49156029         ME           US   \n",
       "...          ...        ...            ...        ...          ...   \n",
       "9707  1982612263  KISSIMMEE      347412344         FL           US   \n",
       "9708  1982724357  LITTLETON       35610000         NH           US   \n",
       "9709  1982724357  LITTLETON       35610000         NH           US   \n",
       "9710  1982724357  LITTLETON       35610000         NH           US   \n",
       "9711  1992740252      TAMPA      336134706         FL           US   \n",
       "\n",
       "                   provider_type_2012  total_beneficiaries_2012  \\\n",
       "0     Licensed Clinical Social Worker                        17   \n",
       "1     Licensed Clinical Social Worker                        17   \n",
       "2     Licensed Clinical Social Worker                        17   \n",
       "3     Licensed Clinical Social Worker                        12   \n",
       "4     Licensed Clinical Social Worker                        12   \n",
       "...                               ...                       ...   \n",
       "9707                       Psychiatry                        70   \n",
       "9708                       Psychiatry                        21   \n",
       "9709                       Psychiatry                        21   \n",
       "9710                       Psychiatry                        21   \n",
       "9711                       Psychiatry                        37   \n",
       "\n",
       "      total_medicare_payment_2012  avg_beneficiary_age_2012  num_white_2012  \\\n",
       "0                        13268.66                        58            17.0   \n",
       "1                        13268.66                        58            17.0   \n",
       "2                        13268.66                        58            17.0   \n",
       "3                         2336.58                        48            12.0   \n",
       "4                         2336.58                        48            12.0   \n",
       "...                           ...                       ...             ...   \n",
       "9707                      5350.12                        46            24.0   \n",
       "9708                     12236.96                        62            21.0   \n",
       "9709                     12236.96                        62            21.0   \n",
       "9710                     12236.96                        62            21.0   \n",
       "9711                      8372.28                        50            37.0   \n",
       "\n",
       "      ...  speak_only_english_at_home_2013  speak_spanish_at_home_2013  \\\n",
       "0     ...                             7625                          98   \n",
       "1     ...                             7625                          98   \n",
       "2     ...                             7625                          98   \n",
       "3     ...                             7625                          98   \n",
       "4     ...                             7625                          98   \n",
       "...   ...                              ...                         ...   \n",
       "9707  ...                            14515                       21679   \n",
       "9708  ...                             5196                         115   \n",
       "9709  ...                             5196                         115   \n",
       "9710  ...                             5196                         115   \n",
       "9711  ...                            20521                        6149   \n",
       "\n",
       "      speak_spanish_at_home_low_english_2013  pop_15_and_over_2013  \\\n",
       "0                                         57                  6926   \n",
       "1                                         57                  6926   \n",
       "2                                         57                  6926   \n",
       "3                                         57                  6926   \n",
       "4                                         57                  6926   \n",
       "...                                      ...                   ...   \n",
       "9707                                    9658                 33366   \n",
       "9708                                      71                  4914   \n",
       "9709                                      71                  4914   \n",
       "9710                                      71                  4914   \n",
       "9711                                    2820                 26196   \n",
       "\n",
       "      pop_never_married_2013  pop_now_married_2013  pop_separated_2013  \\\n",
       "0                       1822                  3298                  38   \n",
       "1                       1822                  3298                  38   \n",
       "2                       1822                  3298                  38   \n",
       "3                       1822                  3298                  38   \n",
       "4                       1822                  3298                  38   \n",
       "...                      ...                   ...                 ...   \n",
       "9707                   11928                 13186                1665   \n",
       "9708                    1309                  2411                   0   \n",
       "9709                    1309                  2411                   0   \n",
       "9710                    1309                  2411                   0   \n",
       "9711                   12990                  7792                 722   \n",
       "\n",
       "      pop_widowed_2013  pop_divorced_2013  year_2013  \n",
       "0                  694               1026       2013  \n",
       "1                  694               1026       2013  \n",
       "2                  694               1026       2013  \n",
       "3                  694               1026       2013  \n",
       "4                  694               1026       2013  \n",
       "...                ...                ...        ...  \n",
       "9707              1126               3310       2013  \n",
       "9708               275                812       2013  \n",
       "9709               275                812       2013  \n",
       "9710               275                812       2013  \n",
       "9711              1520               2458       2013  \n",
       "\n",
       "[9712 rows x 526 columns]"
      ]
     },
     "execution_count": 186,
     "metadata": {},
     "output_type": "execute_result"
    }
   ],
   "source": []
  },
  {
   "cell_type": "code",
   "execution_count": null,
   "metadata": {},
   "outputs": [],
   "source": []
  }
 ],
 "metadata": {
  "kernelspec": {
   "display_name": "Python 3",
   "language": "python",
   "name": "python3"
  },
  "language_info": {
   "codemirror_mode": {
    "name": "ipython",
    "version": 3
   },
   "file_extension": ".py",
   "mimetype": "text/x-python",
   "name": "python",
   "nbconvert_exporter": "python",
   "pygments_lexer": "ipython3",
   "version": "3.7.7"
  }
 },
 "nbformat": 4,
 "nbformat_minor": 4
}
