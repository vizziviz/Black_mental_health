{
 "cells": [
  {
   "cell_type": "markdown",
   "metadata": {},
   "source": [
    "# Importing Modules and Checking Directory "
   ]
  },
  {
   "cell_type": "code",
   "execution_count": 40,
   "metadata": {},
   "outputs": [],
   "source": [
    "import os\n",
    "import pandas as pd\n",
    "import datetime\n",
    "import seaborn as sns\n",
    "import matplotlib.pyplot as plt\n",
    "import numpy as np\n",
    "%matplotlib inline"
   ]
  },
  {
   "cell_type": "code",
   "execution_count": 41,
   "metadata": {},
   "outputs": [
    {
     "data": {
      "text/plain": [
       "'1.1.5'"
      ]
     },
     "execution_count": 41,
     "metadata": {},
     "output_type": "execute_result"
    }
   ],
   "source": [
    "pd.__version__"
   ]
  },
  {
   "cell_type": "code",
   "execution_count": 42,
   "metadata": {},
   "outputs": [
    {
     "data": {
      "text/plain": [
       "'/Users/Livi/Projects/Black_mental_health/notebooks/Data_wrangling'"
      ]
     },
     "execution_count": 42,
     "metadata": {},
     "output_type": "execute_result"
    }
   ],
   "source": [
    "os.getcwd()\n"
   ]
  },
  {
   "cell_type": "markdown",
   "metadata": {},
   "source": [
    "# Uploading Data "
   ]
  },
  {
   "cell_type": "code",
   "execution_count": 43,
   "metadata": {},
   "outputs": [],
   "source": [
    "census = pd.read_csv('../../data/raw/2012census.csv')"
   ]
  },
  {
   "cell_type": "code",
   "execution_count": 44,
   "metadata": {},
   "outputs": [
    {
     "data": {
      "text/html": [
       "<div>\n",
       "<style scoped>\n",
       "    .dataframe tbody tr th:only-of-type {\n",
       "        vertical-align: middle;\n",
       "    }\n",
       "\n",
       "    .dataframe tbody tr th {\n",
       "        vertical-align: top;\n",
       "    }\n",
       "\n",
       "    .dataframe thead th {\n",
       "        text-align: right;\n",
       "    }\n",
       "</style>\n",
       "<table border=\"1\" class=\"dataframe\">\n",
       "  <thead>\n",
       "    <tr style=\"text-align: right;\">\n",
       "      <th></th>\n",
       "      <th>geo_id</th>\n",
       "      <th>nonfamily_households</th>\n",
       "      <th>family_households</th>\n",
       "      <th>median_year_structure_built</th>\n",
       "      <th>rent_burden_not_computed</th>\n",
       "      <th>rent_over_50_percent</th>\n",
       "      <th>rent_40_to_50_percent</th>\n",
       "      <th>rent_35_to_40_percent</th>\n",
       "      <th>rent_30_to_35_percent</th>\n",
       "      <th>rent_25_to_30_percent</th>\n",
       "      <th>...</th>\n",
       "      <th>speak_only_english_at_home</th>\n",
       "      <th>speak_spanish_at_home</th>\n",
       "      <th>speak_spanish_at_home_low_english</th>\n",
       "      <th>pop_15_and_over</th>\n",
       "      <th>pop_never_married</th>\n",
       "      <th>pop_now_married</th>\n",
       "      <th>pop_separated</th>\n",
       "      <th>pop_widowed</th>\n",
       "      <th>pop_divorced</th>\n",
       "      <th>do_date</th>\n",
       "    </tr>\n",
       "  </thead>\n",
       "  <tbody>\n",
       "    <tr>\n",
       "      <th>0</th>\n",
       "      <td>91046</td>\n",
       "      <td>116</td>\n",
       "      <td>13</td>\n",
       "      <td>1987.0</td>\n",
       "      <td>0</td>\n",
       "      <td>117</td>\n",
       "      <td>0</td>\n",
       "      <td>12</td>\n",
       "      <td>0</td>\n",
       "      <td>0</td>\n",
       "      <td>...</td>\n",
       "      <td>11</td>\n",
       "      <td>0</td>\n",
       "      <td>0</td>\n",
       "      <td>141</td>\n",
       "      <td>11</td>\n",
       "      <td>25</td>\n",
       "      <td>0</td>\n",
       "      <td>0</td>\n",
       "      <td>0</td>\n",
       "      <td>20082012</td>\n",
       "    </tr>\n",
       "    <tr>\n",
       "      <th>1</th>\n",
       "      <td>20317</td>\n",
       "      <td>232</td>\n",
       "      <td>0</td>\n",
       "      <td>1949.0</td>\n",
       "      <td>0</td>\n",
       "      <td>139</td>\n",
       "      <td>40</td>\n",
       "      <td>24</td>\n",
       "      <td>0</td>\n",
       "      <td>14</td>\n",
       "      <td>...</td>\n",
       "      <td>348</td>\n",
       "      <td>0</td>\n",
       "      <td>0</td>\n",
       "      <td>348</td>\n",
       "      <td>55</td>\n",
       "      <td>84</td>\n",
       "      <td>14</td>\n",
       "      <td>87</td>\n",
       "      <td>79</td>\n",
       "      <td>20082012</td>\n",
       "    </tr>\n",
       "    <tr>\n",
       "      <th>2</th>\n",
       "      <td>95915</td>\n",
       "      <td>31</td>\n",
       "      <td>17</td>\n",
       "      <td>1939.0</td>\n",
       "      <td>0</td>\n",
       "      <td>17</td>\n",
       "      <td>20</td>\n",
       "      <td>0</td>\n",
       "      <td>0</td>\n",
       "      <td>0</td>\n",
       "      <td>...</td>\n",
       "      <td>59</td>\n",
       "      <td>0</td>\n",
       "      <td>0</td>\n",
       "      <td>48</td>\n",
       "      <td>17</td>\n",
       "      <td>0</td>\n",
       "      <td>0</td>\n",
       "      <td>0</td>\n",
       "      <td>31</td>\n",
       "      <td>20082012</td>\n",
       "    </tr>\n",
       "    <tr>\n",
       "      <th>3</th>\n",
       "      <td>14881</td>\n",
       "      <td>100</td>\n",
       "      <td>0</td>\n",
       "      <td>1986.0</td>\n",
       "      <td>0</td>\n",
       "      <td>0</td>\n",
       "      <td>68</td>\n",
       "      <td>0</td>\n",
       "      <td>0</td>\n",
       "      <td>16</td>\n",
       "      <td>...</td>\n",
       "      <td>100</td>\n",
       "      <td>0</td>\n",
       "      <td>0</td>\n",
       "      <td>100</td>\n",
       "      <td>17</td>\n",
       "      <td>0</td>\n",
       "      <td>0</td>\n",
       "      <td>83</td>\n",
       "      <td>0</td>\n",
       "      <td>20082012</td>\n",
       "    </tr>\n",
       "    <tr>\n",
       "      <th>4</th>\n",
       "      <td>71345</td>\n",
       "      <td>52</td>\n",
       "      <td>26</td>\n",
       "      <td>1970.0</td>\n",
       "      <td>0</td>\n",
       "      <td>78</td>\n",
       "      <td>0</td>\n",
       "      <td>0</td>\n",
       "      <td>0</td>\n",
       "      <td>0</td>\n",
       "      <td>...</td>\n",
       "      <td>113</td>\n",
       "      <td>0</td>\n",
       "      <td>0</td>\n",
       "      <td>113</td>\n",
       "      <td>28</td>\n",
       "      <td>1</td>\n",
       "      <td>28</td>\n",
       "      <td>56</td>\n",
       "      <td>0</td>\n",
       "      <td>20082012</td>\n",
       "    </tr>\n",
       "  </tbody>\n",
       "</table>\n",
       "<p>5 rows × 252 columns</p>\n",
       "</div>"
      ],
      "text/plain": [
       "   geo_id  nonfamily_households  family_households  \\\n",
       "0   91046                   116                 13   \n",
       "1   20317                   232                  0   \n",
       "2   95915                    31                 17   \n",
       "3   14881                   100                  0   \n",
       "4   71345                    52                 26   \n",
       "\n",
       "   median_year_structure_built  rent_burden_not_computed  \\\n",
       "0                       1987.0                         0   \n",
       "1                       1949.0                         0   \n",
       "2                       1939.0                         0   \n",
       "3                       1986.0                         0   \n",
       "4                       1970.0                         0   \n",
       "\n",
       "   rent_over_50_percent  rent_40_to_50_percent  rent_35_to_40_percent  \\\n",
       "0                   117                      0                     12   \n",
       "1                   139                     40                     24   \n",
       "2                    17                     20                      0   \n",
       "3                     0                     68                      0   \n",
       "4                    78                      0                      0   \n",
       "\n",
       "   rent_30_to_35_percent  rent_25_to_30_percent  ...  \\\n",
       "0                      0                      0  ...   \n",
       "1                      0                     14  ...   \n",
       "2                      0                      0  ...   \n",
       "3                      0                     16  ...   \n",
       "4                      0                      0  ...   \n",
       "\n",
       "   speak_only_english_at_home  speak_spanish_at_home  \\\n",
       "0                          11                      0   \n",
       "1                         348                      0   \n",
       "2                          59                      0   \n",
       "3                         100                      0   \n",
       "4                         113                      0   \n",
       "\n",
       "   speak_spanish_at_home_low_english  pop_15_and_over  pop_never_married  \\\n",
       "0                                  0              141                 11   \n",
       "1                                  0              348                 55   \n",
       "2                                  0               48                 17   \n",
       "3                                  0              100                 17   \n",
       "4                                  0              113                 28   \n",
       "\n",
       "   pop_now_married  pop_separated  pop_widowed  pop_divorced   do_date  \n",
       "0               25              0            0             0  20082012  \n",
       "1               84             14           87            79  20082012  \n",
       "2                0              0            0            31  20082012  \n",
       "3                0              0           83             0  20082012  \n",
       "4                1             28           56             0  20082012  \n",
       "\n",
       "[5 rows x 252 columns]"
      ]
     },
     "execution_count": 44,
     "metadata": {},
     "output_type": "execute_result"
    }
   ],
   "source": [
    "census.head()"
   ]
  },
  {
   "cell_type": "markdown",
   "metadata": {},
   "source": [
    "checkpoint2"
   ]
  },
  {
   "cell_type": "code",
   "execution_count": 45,
   "metadata": {},
   "outputs": [],
   "source": [
    "checkpoint2 = census.copy()"
   ]
  },
  {
   "cell_type": "code",
   "execution_count": 46,
   "metadata": {},
   "outputs": [
    {
     "data": {
      "text/plain": [
       "['total_pop',\n",
       " 'male_pop',\n",
       " 'female_pop',\n",
       " 'white_pop',\n",
       " 'black_pop',\n",
       " 'asian_pop',\n",
       " 'hispanic_pop',\n",
       " 'amerindian_pop',\n",
       " 'other_race_pop',\n",
       " 'two_or_more_races_pop',\n",
       " 'not_hispanic_pop',\n",
       " 'employed_pop',\n",
       " 'unemployed_pop',\n",
       " 'pop_16_over',\n",
       " 'pop_in_labor_force',\n",
       " 'not_us_citizen_pop',\n",
       " 'pop_25_64',\n",
       " 'pop_determined_poverty_status',\n",
       " 'population_1_year_and_over',\n",
       " 'population_3_years_over',\n",
       " 'pop_25_years_over',\n",
       " 'pop_5_years_over',\n",
       " 'pop_15_and_over',\n",
       " 'pop_never_married',\n",
       " 'pop_now_married',\n",
       " 'pop_separated',\n",
       " 'pop_widowed',\n",
       " 'pop_divorced']"
      ]
     },
     "execution_count": 46,
     "metadata": {},
     "output_type": "execute_result"
    }
   ],
   "source": [
    "list(census.columns[census.columns.str.contains('pop')])"
   ]
  },
  {
   "cell_type": "code",
   "execution_count": 47,
   "metadata": {},
   "outputs": [
    {
     "data": {
      "text/plain": [
       "['rent_burden_not_computed',\n",
       " 'rent_over_50_percent',\n",
       " 'rent_40_to_50_percent',\n",
       " 'rent_35_to_40_percent',\n",
       " 'rent_30_to_35_percent',\n",
       " 'rent_25_to_30_percent',\n",
       " 'rent_20_to_25_percent',\n",
       " 'rent_15_to_20_percent',\n",
       " 'rent_10_to_15_percent',\n",
       " 'rent_under_10_percent',\n",
       " 'median_income',\n",
       " 'income_per_capita',\n",
       " 'vacant_housing_units_for_rent',\n",
       " 'median_rent',\n",
       " 'percent_income_spent_on_rent',\n",
       " 'two_parent_families_with_young_children',\n",
       " 'two_parents_in_labor_force_families_with_young_children',\n",
       " 'two_parents_father_in_labor_force_families_with_young_children',\n",
       " 'two_parents_mother_in_labor_force_families_with_young_children',\n",
       " 'two_parents_not_in_labor_force_families_with_young_children',\n",
       " 'one_parent_families_with_young_children',\n",
       " 'father_one_parent_families_with_young_children',\n",
       " 'father_in_labor_force_one_parent_families_with_young_children',\n",
       " 'income_less_10000',\n",
       " 'income_10000_14999',\n",
       " 'income_15000_19999',\n",
       " 'income_20000_24999',\n",
       " 'income_25000_29999',\n",
       " 'income_30000_34999',\n",
       " 'income_35000_39999',\n",
       " 'income_40000_44999',\n",
       " 'income_45000_49999',\n",
       " 'income_50000_59999',\n",
       " 'income_60000_74999',\n",
       " 'income_75000_99999',\n",
       " 'income_100000_124999',\n",
       " 'income_125000_149999',\n",
       " 'income_150000_199999',\n",
       " 'income_200000_or_more',\n",
       " 'renter_occupied_housing_units_paying_cash_median_gross_rent',\n",
       " 'housing_units_renter_occupied',\n",
       " 'households_retirement_income',\n",
       " 'different_house_year_ago_different_city',\n",
       " 'different_house_year_ago_same_city']"
      ]
     },
     "execution_count": 47,
     "metadata": {},
     "output_type": "execute_result"
    }
   ],
   "source": [
    "list(census.columns[census.columns.str.contains('rent|income', regex=True)])  'median_income', 'income_per_capita',\n",
    " 'median_rent',\n",
    "\n"
   ]
  },
  {
   "cell_type": "markdown",
   "metadata": {},
   "source": [
    "How many zips are missing aggregate information on income or rent that could help determine the cost of living per zip?"
   ]
  },
  {
   "cell_type": "code",
   "execution_count": 56,
   "metadata": {},
   "outputs": [
    {
     "data": {
      "text/plain": [
       "median_income         869\n",
       "income_per_capita     572\n",
       "median_rent          4482\n",
       "dtype: int64"
      ]
     },
     "execution_count": 56,
     "metadata": {},
     "output_type": "execute_result"
    }
   ],
   "source": [
    "cols = ['median_income', 'income_per_capita',\n",
    " 'median_rent',]\n",
    "census[cols].isnull().sum()"
   ]
  },
  {
   "cell_type": "code",
   "execution_count": 57,
   "metadata": {},
   "outputs": [],
   "source": [
    "cols =['geo_id','total_pop',\n",
    " 'white_pop',\n",
    " 'black_pop',\n",
    " 'asian_pop',\n",
    " 'hispanic_pop',\n",
    " 'amerindian_pop',\n",
    " 'other_race_pop',\n",
    " 'two_or_more_races_pop','do_date']"
   ]
  },
  {
   "cell_type": "code",
   "execution_count": 58,
   "metadata": {},
   "outputs": [],
   "source": [
    "census = census[cols]"
   ]
  },
  {
   "cell_type": "code",
   "execution_count": 59,
   "metadata": {},
   "outputs": [
    {
     "data": {
      "text/html": [
       "<div>\n",
       "<style scoped>\n",
       "    .dataframe tbody tr th:only-of-type {\n",
       "        vertical-align: middle;\n",
       "    }\n",
       "\n",
       "    .dataframe tbody tr th {\n",
       "        vertical-align: top;\n",
       "    }\n",
       "\n",
       "    .dataframe thead th {\n",
       "        text-align: right;\n",
       "    }\n",
       "</style>\n",
       "<table border=\"1\" class=\"dataframe\">\n",
       "  <thead>\n",
       "    <tr style=\"text-align: right;\">\n",
       "      <th></th>\n",
       "      <th>data type</th>\n",
       "      <th>non-null values</th>\n",
       "      <th>unique values</th>\n",
       "      <th>null values</th>\n",
       "    </tr>\n",
       "  </thead>\n",
       "  <tbody>\n",
       "    <tr>\n",
       "      <th>geo_id</th>\n",
       "      <td>int64</td>\n",
       "      <td>33120</td>\n",
       "      <td>33120</td>\n",
       "      <td>0</td>\n",
       "    </tr>\n",
       "    <tr>\n",
       "      <th>total_pop</th>\n",
       "      <td>int64</td>\n",
       "      <td>33120</td>\n",
       "      <td>15387</td>\n",
       "      <td>0</td>\n",
       "    </tr>\n",
       "    <tr>\n",
       "      <th>white_pop</th>\n",
       "      <td>int64</td>\n",
       "      <td>33120</td>\n",
       "      <td>13207</td>\n",
       "      <td>0</td>\n",
       "    </tr>\n",
       "    <tr>\n",
       "      <th>black_pop</th>\n",
       "      <td>int64</td>\n",
       "      <td>33120</td>\n",
       "      <td>5220</td>\n",
       "      <td>0</td>\n",
       "    </tr>\n",
       "    <tr>\n",
       "      <th>asian_pop</th>\n",
       "      <td>int64</td>\n",
       "      <td>33120</td>\n",
       "      <td>3243</td>\n",
       "      <td>0</td>\n",
       "    </tr>\n",
       "    <tr>\n",
       "      <th>hispanic_pop</th>\n",
       "      <td>int64</td>\n",
       "      <td>33120</td>\n",
       "      <td>5743</td>\n",
       "      <td>0</td>\n",
       "    </tr>\n",
       "    <tr>\n",
       "      <th>amerindian_pop</th>\n",
       "      <td>int64</td>\n",
       "      <td>33120</td>\n",
       "      <td>1045</td>\n",
       "      <td>0</td>\n",
       "    </tr>\n",
       "    <tr>\n",
       "      <th>other_race_pop</th>\n",
       "      <td>int64</td>\n",
       "      <td>33120</td>\n",
       "      <td>496</td>\n",
       "      <td>0</td>\n",
       "    </tr>\n",
       "    <tr>\n",
       "      <th>two_or_more_races_pop</th>\n",
       "      <td>int64</td>\n",
       "      <td>33120</td>\n",
       "      <td>1789</td>\n",
       "      <td>0</td>\n",
       "    </tr>\n",
       "    <tr>\n",
       "      <th>do_date</th>\n",
       "      <td>int64</td>\n",
       "      <td>33120</td>\n",
       "      <td>1</td>\n",
       "      <td>0</td>\n",
       "    </tr>\n",
       "  </tbody>\n",
       "</table>\n",
       "</div>"
      ],
      "text/plain": [
       "                      data type  non-null values  unique values  null values\n",
       "geo_id                    int64            33120          33120            0\n",
       "total_pop                 int64            33120          15387            0\n",
       "white_pop                 int64            33120          13207            0\n",
       "black_pop                 int64            33120           5220            0\n",
       "asian_pop                 int64            33120           3243            0\n",
       "hispanic_pop              int64            33120           5743            0\n",
       "amerindian_pop            int64            33120           1045            0\n",
       "other_race_pop            int64            33120            496            0\n",
       "two_or_more_races_pop     int64            33120           1789            0\n",
       "do_date                   int64            33120              1            0"
      ]
     },
     "execution_count": 59,
     "metadata": {},
     "output_type": "execute_result"
    }
   ],
   "source": [
    "info = pd.DataFrame(index=census.columns.values,\n",
    "                    data={'data type': census.dtypes, \\\n",
    "                          'non-null values': census.notnull().sum(),\n",
    "                          'unique values': census.nunique(), \\\n",
    "                          'null values': census.isnull().sum()})\n",
    "info.sort_values('non-null values').head(30)"
   ]
  },
  {
   "cell_type": "markdown",
   "metadata": {},
   "source": [
    "# Checking Data Types"
   ]
  },
  {
   "cell_type": "markdown",
   "metadata": {},
   "source": [
    "All columns in Census besides Geo_id should be 'int' or 'float.' I want to see what is listed as object."
   ]
  },
  {
   "cell_type": "code",
   "execution_count": 60,
   "metadata": {},
   "outputs": [
    {
     "data": {
      "text/html": [
       "<div>\n",
       "<style scoped>\n",
       "    .dataframe tbody tr th:only-of-type {\n",
       "        vertical-align: middle;\n",
       "    }\n",
       "\n",
       "    .dataframe tbody tr th {\n",
       "        vertical-align: top;\n",
       "    }\n",
       "\n",
       "    .dataframe thead th {\n",
       "        text-align: right;\n",
       "    }\n",
       "</style>\n",
       "<table border=\"1\" class=\"dataframe\">\n",
       "  <thead>\n",
       "    <tr style=\"text-align: right;\">\n",
       "      <th></th>\n",
       "    </tr>\n",
       "  </thead>\n",
       "  <tbody>\n",
       "    <tr>\n",
       "      <th>0</th>\n",
       "    </tr>\n",
       "  </tbody>\n",
       "</table>\n",
       "</div>"
      ],
      "text/plain": [
       "Empty DataFrame\n",
       "Columns: []\n",
       "Index: [0]"
      ]
     },
     "execution_count": 60,
     "metadata": {},
     "output_type": "execute_result"
    }
   ],
   "source": [
    "census.select_dtypes('object').head(1)"
   ]
  },
  {
   "cell_type": "markdown",
   "metadata": {},
   "source": [
    "There's a column called do_date that includes the years used to make the estimate Census measures. I'm going to keep that last four digits which represent the year being estimated."
   ]
  },
  {
   "cell_type": "code",
   "execution_count": 61,
   "metadata": {},
   "outputs": [
    {
     "name": "stderr",
     "output_type": "stream",
     "text": [
      "/Users/Livi/opt/anaconda3/envs/springboard/lib/python3.7/site-packages/pandas/core/generic.py:5170: SettingWithCopyWarning: \n",
      "A value is trying to be set on a copy of a slice from a DataFrame.\n",
      "Try using .loc[row_indexer,col_indexer] = value instead\n",
      "\n",
      "See the caveats in the documentation: https://pandas.pydata.org/pandas-docs/stable/user_guide/indexing.html#returning-a-view-versus-a-copy\n",
      "  self[name] = value\n"
     ]
    },
    {
     "data": {
      "text/plain": [
       "0       2012-01-01\n",
       "1       2012-01-01\n",
       "2       2012-01-01\n",
       "3       2012-01-01\n",
       "4       2012-01-01\n",
       "           ...    \n",
       "33115   2012-01-01\n",
       "33116   2012-01-01\n",
       "33117   2012-01-01\n",
       "33118   2012-01-01\n",
       "33119   2012-01-01\n",
       "Name: do_date, Length: 33120, dtype: datetime64[ns]"
      ]
     },
     "execution_count": 61,
     "metadata": {},
     "output_type": "execute_result"
    }
   ],
   "source": [
    "census.do_date = census.do_date.apply(lambda x: str(x)[-4:])\n",
    "census.do_date = pd.to_datetime(census.do_date, format='%Y')\n",
    "census.do_date"
   ]
  },
  {
   "cell_type": "code",
   "execution_count": 63,
   "metadata": {},
   "outputs": [],
   "source": [
    "census.to_csv('../../data/processed/2012pops.csv')"
   ]
  },
  {
   "cell_type": "code",
   "execution_count": null,
   "metadata": {},
   "outputs": [],
   "source": []
  }
 ],
 "metadata": {
  "kernelspec": {
   "display_name": "Python 3",
   "language": "python",
   "name": "python3"
  },
  "language_info": {
   "codemirror_mode": {
    "name": "ipython",
    "version": 3
   },
   "file_extension": ".py",
   "mimetype": "text/x-python",
   "name": "python",
   "nbconvert_exporter": "python",
   "pygments_lexer": "ipython3",
   "version": "3.7.7"
  }
 },
 "nbformat": 4,
 "nbformat_minor": 4
}
