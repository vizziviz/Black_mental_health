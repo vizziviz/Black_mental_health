{
 "cells": [
  {
   "cell_type": "markdown",
   "metadata": {},
   "source": [
    "After all, the fundamental reason we build predictive machine learning models is typically to model what would happen under a particular set of circumstances which have either not yet occurred or have occurred but for which we do not know the actual result.\n",
    "\n",
    "\tHyperparameter tuning?\n",
    "\tShould I do BOTH data_with_paymentcols and data_without_paymentcols?\n",
    "\tLook at feature importances:\n",
    "        barchart for top x features or all features with coefficient > y. \n",
    "        How can I find the p-value for features? Is that only in regression?\n",
    "\tDo Ridge Regression and Lasso Regression.\n",
    "\t\tBarchart for top features\n",
    "\tMake DataFrame with top features for my model, Lasso Regression, and Ridge Regression (or model and Ridge)\n",
    "\tMake inferences: \n",
    "\t\tDoes race show up in these features? Where?\n",
    "\t\tHow do I interpret differences in RATES distinct from differences in CHARGES? A city doctor should CHARGE more, but should his rate b higher?\n",
    "        Or should a rural (lowpop) doctor have higher rates bc he might charge less?\n",
    "        Or might city doctors be cheap Public Health providers /Flu shots, thus paid in full?\n",
    "\n",
    "    Look at extreme mistakes:\n",
    "    Providers marked low but actually v high. Providers marked v high but actually low: barcharts of types of providers, racial majority, regions, subregions, histogram of submitted charges OR medicare payments, histogram of payment/service, histogram of payment/person. Boxplots of percent black / white / hispanic / asian for false very-highs and for false-lows\n"
   ]
  },
  {
   "cell_type": "code",
   "execution_count": null,
   "metadata": {},
   "outputs": [],
   "source": []
  }
 ],
 "metadata": {
  "kernelspec": {
   "display_name": "Python 3",
   "language": "python",
   "name": "python3"
  },
  "language_info": {
   "codemirror_mode": {
    "name": "ipython",
    "version": 3
   },
   "file_extension": ".py",
   "mimetype": "text/x-python",
   "name": "python",
   "nbconvert_exporter": "python",
   "pygments_lexer": "ipython3",
   "version": "3.7.7"
  }
 },
 "nbformat": 4,
 "nbformat_minor": 4
}
