{
 "cells": [
  {
   "cell_type": "markdown",
   "metadata": {},
   "source": [
    "# Importing Modules and Checking Directory "
   ]
  },
  {
   "cell_type": "code",
   "execution_count": 1,
   "metadata": {},
   "outputs": [],
   "source": [
    "import os\n",
    "import pandas as pd\n",
    "import datetime\n",
    "import seaborn as sns\n",
    "import matplotlib.pyplot as plt\n",
    "import numpy as np\n",
    "%matplotlib inline"
   ]
  },
  {
   "cell_type": "code",
   "execution_count": 2,
   "metadata": {},
   "outputs": [
    {
     "data": {
      "text/plain": [
       "'1.1.5'"
      ]
     },
     "execution_count": 2,
     "metadata": {},
     "output_type": "execute_result"
    }
   ],
   "source": [
    "pd.__version__"
   ]
  },
  {
   "cell_type": "code",
   "execution_count": 3,
   "metadata": {},
   "outputs": [
    {
     "data": {
      "text/plain": [
       "'/Users/Livi/Projects/Black_mental_health/models'"
      ]
     },
     "execution_count": 3,
     "metadata": {},
     "output_type": "execute_result"
    }
   ],
   "source": [
    "os.getcwd()\n"
   ]
  },
  {
   "cell_type": "code",
   "execution_count": 4,
   "metadata": {},
   "outputs": [
    {
     "name": "stderr",
     "output_type": "stream",
     "text": [
      "/Users/Livi/opt/anaconda3/envs/springboard/lib/python3.7/site-packages/numpy/lib/arraysetops.py:569: FutureWarning: elementwise comparison failed; returning scalar instead, but in the future will perform elementwise comparison\n",
      "  mask |= (ar1 == a)\n"
     ]
    }
   ],
   "source": [
    "original_med = pd.read_csv('../data/processed/medicare18.csv', dtype={'full_zip':'object', 'npi':'object'}, index_col=0)"
   ]
  },
  {
   "cell_type": "code",
   "execution_count": 5,
   "metadata": {},
   "outputs": [
    {
     "name": "stdout",
     "output_type": "stream",
     "text": [
      "<class 'pandas.core.frame.DataFrame'>\n",
      "Int64Index: 1115360 entries, 0 to 1115359\n",
      "Data columns (total 24 columns):\n",
      " #   Column                               Non-Null Count    Dtype  \n",
      "---  ------                               --------------    -----  \n",
      " 0   npi                                  1115360 non-null  object \n",
      " 1   entity_code                          1115360 non-null  object \n",
      " 2   full_zip                             1115360 non-null  object \n",
      " 3   state                                1115360 non-null  object \n",
      " 4   country                              1115360 non-null  object \n",
      " 5   provider_type                        1115360 non-null  object \n",
      " 6   medicare_participation_indicator     1115360 non-null  object \n",
      " 7   number_of_hcpcs                      1115360 non-null  int64  \n",
      " 8   number_of_services                   1115360 non-null  float64\n",
      " 9   total_beneficiaries                  1115360 non-null  int64  \n",
      " 10  total_submitted_charges              1115360 non-null  float64\n",
      " 11  total_allowed_payment                1115360 non-null  float64\n",
      " 12  total_medicare_payment               1115360 non-null  float64\n",
      " 13  total_medicare_standardized_payment  1115360 non-null  float64\n",
      " 14  avg_beneficiary_age                  1115360 non-null  int64  \n",
      " 15  avg_hcc_risk_score                   1115360 non-null  float64\n",
      " 16  medicare_payment_per_person          1115360 non-null  float64\n",
      " 17  submitted_charges_per_person         1115360 non-null  float64\n",
      " 18  services_per_person                  1115360 non-null  float64\n",
      " 19  submitted_charges_per_service        1115360 non-null  float64\n",
      " 20  medicare_payment_per_service         1115360 non-null  float64\n",
      " 21  percentage_rate                      1115360 non-null  float64\n",
      " 22  region                               1115360 non-null  object \n",
      " 23  subregion                            1115360 non-null  object \n",
      "dtypes: float64(12), int64(3), object(9)\n",
      "memory usage: 212.7+ MB\n"
     ]
    }
   ],
   "source": [
    "original_med.info()"
   ]
  },
  {
   "cell_type": "code",
   "execution_count": 6,
   "metadata": {},
   "outputs": [
    {
     "data": {
      "text/plain": [
       "(1115360, 24)"
      ]
     },
     "execution_count": 6,
     "metadata": {},
     "output_type": "execute_result"
    }
   ],
   "source": [
    "original_med.shape"
   ]
  },
  {
   "cell_type": "code",
   "execution_count": 7,
   "metadata": {},
   "outputs": [],
   "source": [
    "census = pd.read_csv('../data/processed/2018pops.csv', index_col = 0, dtype={'geo_id':'str'}, parse_dates=['do_date'])"
   ]
  },
  {
   "cell_type": "code",
   "execution_count": 8,
   "metadata": {},
   "outputs": [
    {
     "name": "stdout",
     "output_type": "stream",
     "text": [
      "<class 'pandas.core.frame.DataFrame'>\n",
      "Int64Index: 32799 entries, 0 to 33119\n",
      "Data columns (total 18 columns):\n",
      " #   Column                     Non-Null Count  Dtype         \n",
      "---  ------                     --------------  -----         \n",
      " 0   geo_id                     32799 non-null  object        \n",
      " 1   total_pop                  32799 non-null  int64         \n",
      " 2   white_pop                  32799 non-null  int64         \n",
      " 3   black_pop                  32799 non-null  int64         \n",
      " 4   asian_pop                  32799 non-null  int64         \n",
      " 5   hispanic_pop               32799 non-null  int64         \n",
      " 6   amerindian_pop             32799 non-null  int64         \n",
      " 7   other_race_pop             32799 non-null  int64         \n",
      " 8   two_or_more_races_pop      32799 non-null  int64         \n",
      " 9   do_date                    32799 non-null  datetime64[ns]\n",
      " 10  percent_black              32799 non-null  float64       \n",
      " 11  percent_white              32799 non-null  float64       \n",
      " 12  percent_native_amer        32799 non-null  float64       \n",
      " 13  percent_hispanic           32799 non-null  float64       \n",
      " 14  percent_other              32799 non-null  float64       \n",
      " 15  percent_asian              32799 non-null  float64       \n",
      " 16  percent_two_or_more_races  32799 non-null  float64       \n",
      " 17  majority                   32799 non-null  object        \n",
      "dtypes: datetime64[ns](1), float64(7), int64(8), object(2)\n",
      "memory usage: 4.8+ MB\n"
     ]
    }
   ],
   "source": [
    "census.info()"
   ]
  },
  {
   "cell_type": "code",
   "execution_count": 9,
   "metadata": {},
   "outputs": [
    {
     "data": {
      "text/html": [
       "<div>\n",
       "<style scoped>\n",
       "    .dataframe tbody tr th:only-of-type {\n",
       "        vertical-align: middle;\n",
       "    }\n",
       "\n",
       "    .dataframe tbody tr th {\n",
       "        vertical-align: top;\n",
       "    }\n",
       "\n",
       "    .dataframe thead th {\n",
       "        text-align: right;\n",
       "    }\n",
       "</style>\n",
       "<table border=\"1\" class=\"dataframe\">\n",
       "  <thead>\n",
       "    <tr style=\"text-align: right;\">\n",
       "      <th></th>\n",
       "      <th>geo_id</th>\n",
       "      <th>total_pop</th>\n",
       "      <th>percent_black</th>\n",
       "      <th>percent_white</th>\n",
       "      <th>percent_native_amer</th>\n",
       "      <th>percent_hispanic</th>\n",
       "      <th>percent_other</th>\n",
       "      <th>percent_asian</th>\n",
       "      <th>percent_two_or_more_races</th>\n",
       "      <th>majority</th>\n",
       "    </tr>\n",
       "  </thead>\n",
       "  <tbody>\n",
       "    <tr>\n",
       "      <th>33115</th>\n",
       "      <td>35463</td>\n",
       "      <td>1794</td>\n",
       "      <td>0.323857</td>\n",
       "      <td>0.676143</td>\n",
       "      <td>0.000000</td>\n",
       "      <td>0.000000</td>\n",
       "      <td>0.000000</td>\n",
       "      <td>0.000000</td>\n",
       "      <td>0.000000</td>\n",
       "      <td>majority_white</td>\n",
       "    </tr>\n",
       "    <tr>\n",
       "      <th>33116</th>\n",
       "      <td>77664</td>\n",
       "      <td>2667</td>\n",
       "      <td>0.079865</td>\n",
       "      <td>0.828271</td>\n",
       "      <td>0.000000</td>\n",
       "      <td>0.069366</td>\n",
       "      <td>0.000000</td>\n",
       "      <td>0.009374</td>\n",
       "      <td>0.013123</td>\n",
       "      <td>majority_white</td>\n",
       "    </tr>\n",
       "    <tr>\n",
       "      <th>33117</th>\n",
       "      <td>21822</td>\n",
       "      <td>2013</td>\n",
       "      <td>0.169399</td>\n",
       "      <td>0.710879</td>\n",
       "      <td>0.017387</td>\n",
       "      <td>0.065574</td>\n",
       "      <td>0.000000</td>\n",
       "      <td>0.021361</td>\n",
       "      <td>0.015400</td>\n",
       "      <td>majority_white</td>\n",
       "    </tr>\n",
       "    <tr>\n",
       "      <th>33118</th>\n",
       "      <td>07418</td>\n",
       "      <td>2304</td>\n",
       "      <td>0.044271</td>\n",
       "      <td>0.904080</td>\n",
       "      <td>0.000000</td>\n",
       "      <td>0.043403</td>\n",
       "      <td>0.000000</td>\n",
       "      <td>0.008247</td>\n",
       "      <td>0.000000</td>\n",
       "      <td>majority_white</td>\n",
       "    </tr>\n",
       "    <tr>\n",
       "      <th>33119</th>\n",
       "      <td>03036</td>\n",
       "      <td>5039</td>\n",
       "      <td>0.003969</td>\n",
       "      <td>0.936098</td>\n",
       "      <td>0.000000</td>\n",
       "      <td>0.027783</td>\n",
       "      <td>0.006152</td>\n",
       "      <td>0.022028</td>\n",
       "      <td>0.003969</td>\n",
       "      <td>majority_white</td>\n",
       "    </tr>\n",
       "  </tbody>\n",
       "</table>\n",
       "</div>"
      ],
      "text/plain": [
       "      geo_id  total_pop  percent_black  percent_white  percent_native_amer  \\\n",
       "33115  35463       1794       0.323857       0.676143             0.000000   \n",
       "33116  77664       2667       0.079865       0.828271             0.000000   \n",
       "33117  21822       2013       0.169399       0.710879             0.017387   \n",
       "33118  07418       2304       0.044271       0.904080             0.000000   \n",
       "33119  03036       5039       0.003969       0.936098             0.000000   \n",
       "\n",
       "       percent_hispanic  percent_other  percent_asian  \\\n",
       "33115          0.000000       0.000000       0.000000   \n",
       "33116          0.069366       0.000000       0.009374   \n",
       "33117          0.065574       0.000000       0.021361   \n",
       "33118          0.043403       0.000000       0.008247   \n",
       "33119          0.027783       0.006152       0.022028   \n",
       "\n",
       "       percent_two_or_more_races        majority  \n",
       "33115                   0.000000  majority_white  \n",
       "33116                   0.013123  majority_white  \n",
       "33117                   0.015400  majority_white  \n",
       "33118                   0.000000  majority_white  \n",
       "33119                   0.003969  majority_white  "
      ]
     },
     "execution_count": 9,
     "metadata": {},
     "output_type": "execute_result"
    }
   ],
   "source": [
    "cols = ['geo_id', 'total_pop', 'percent_black', 'percent_white','percent_native_amer', \n",
    "        'percent_hispanic', 'percent_other','percent_asian', 'percent_two_or_more_races', 'majority']\n",
    "keep_only = census.loc[:, cols]\n",
    "keep_only.tail()"
   ]
  },
  {
   "cell_type": "code",
   "execution_count": 10,
   "metadata": {},
   "outputs": [
    {
     "data": {
      "text/plain": [
       "(5    1115360\n",
       " Name: full_zip, dtype: int64,\n",
       " 5    32799\n",
       " Name: geo_id, dtype: int64)"
      ]
     },
     "execution_count": 10,
     "metadata": {},
     "output_type": "execute_result"
    }
   ],
   "source": [
    "original_med.full_zip.apply(len).value_counts(), census.geo_id.apply(len).value_counts()"
   ]
  },
  {
   "cell_type": "code",
   "execution_count": 11,
   "metadata": {},
   "outputs": [],
   "source": [
    "med = pd.merge(original_med, keep_only, how='left', left_on='full_zip', right_on='geo_id').drop(columns = 'geo_id')"
   ]
  },
  {
   "cell_type": "code",
   "execution_count": 12,
   "metadata": {},
   "outputs": [
    {
     "data": {
      "text/plain": [
       "((1115360, 24), (1115360, 33))"
      ]
     },
     "execution_count": 12,
     "metadata": {},
     "output_type": "execute_result"
    }
   ],
   "source": [
    "original_med.shape, med.shape"
   ]
  },
  {
   "cell_type": "code",
   "execution_count": 13,
   "metadata": {},
   "outputs": [
    {
     "data": {
      "text/html": [
       "<div>\n",
       "<style scoped>\n",
       "    .dataframe tbody tr th:only-of-type {\n",
       "        vertical-align: middle;\n",
       "    }\n",
       "\n",
       "    .dataframe tbody tr th {\n",
       "        vertical-align: top;\n",
       "    }\n",
       "\n",
       "    .dataframe thead th {\n",
       "        text-align: right;\n",
       "    }\n",
       "</style>\n",
       "<table border=\"1\" class=\"dataframe\">\n",
       "  <thead>\n",
       "    <tr style=\"text-align: right;\">\n",
       "      <th></th>\n",
       "      <th>npi</th>\n",
       "      <th>entity_code</th>\n",
       "      <th>full_zip</th>\n",
       "      <th>state</th>\n",
       "      <th>country</th>\n",
       "      <th>provider_type</th>\n",
       "      <th>medicare_participation_indicator</th>\n",
       "      <th>number_of_hcpcs</th>\n",
       "      <th>number_of_services</th>\n",
       "      <th>total_beneficiaries</th>\n",
       "      <th>...</th>\n",
       "      <th>subregion</th>\n",
       "      <th>total_pop</th>\n",
       "      <th>percent_black</th>\n",
       "      <th>percent_white</th>\n",
       "      <th>percent_native_amer</th>\n",
       "      <th>percent_hispanic</th>\n",
       "      <th>percent_other</th>\n",
       "      <th>percent_asian</th>\n",
       "      <th>percent_two_or_more_races</th>\n",
       "      <th>majority</th>\n",
       "    </tr>\n",
       "  </thead>\n",
       "  <tbody>\n",
       "    <tr>\n",
       "      <th>0</th>\n",
       "      <td>1003000126</td>\n",
       "      <td>I</td>\n",
       "      <td>21502</td>\n",
       "      <td>MD</td>\n",
       "      <td>US</td>\n",
       "      <td>Internal Medicine</td>\n",
       "      <td>Y</td>\n",
       "      <td>19</td>\n",
       "      <td>1218.0</td>\n",
       "      <td>445</td>\n",
       "      <td>...</td>\n",
       "      <td>South Atlantic</td>\n",
       "      <td>42583.0</td>\n",
       "      <td>0.109645</td>\n",
       "      <td>0.839772</td>\n",
       "      <td>0.001573</td>\n",
       "      <td>0.018834</td>\n",
       "      <td>0.001127</td>\n",
       "      <td>0.007327</td>\n",
       "      <td>0.021464</td>\n",
       "      <td>majority_white</td>\n",
       "    </tr>\n",
       "    <tr>\n",
       "      <th>1</th>\n",
       "      <td>1003006586</td>\n",
       "      <td>I</td>\n",
       "      <td>20832</td>\n",
       "      <td>MD</td>\n",
       "      <td>US</td>\n",
       "      <td>Internal Medicine</td>\n",
       "      <td>Y</td>\n",
       "      <td>16</td>\n",
       "      <td>1293.0</td>\n",
       "      <td>546</td>\n",
       "      <td>...</td>\n",
       "      <td>South Atlantic</td>\n",
       "      <td>26448.0</td>\n",
       "      <td>0.108553</td>\n",
       "      <td>0.612523</td>\n",
       "      <td>0.003932</td>\n",
       "      <td>0.106360</td>\n",
       "      <td>0.006579</td>\n",
       "      <td>0.123299</td>\n",
       "      <td>0.038755</td>\n",
       "      <td>majority_white</td>\n",
       "    </tr>\n",
       "    <tr>\n",
       "      <th>2</th>\n",
       "      <td>1003006800</td>\n",
       "      <td>I</td>\n",
       "      <td>21202</td>\n",
       "      <td>MD</td>\n",
       "      <td>US</td>\n",
       "      <td>Physician Assistant</td>\n",
       "      <td>Y</td>\n",
       "      <td>4</td>\n",
       "      <td>58.0</td>\n",
       "      <td>12</td>\n",
       "      <td>...</td>\n",
       "      <td>South Atlantic</td>\n",
       "      <td>21010.0</td>\n",
       "      <td>0.579819</td>\n",
       "      <td>0.303475</td>\n",
       "      <td>0.002237</td>\n",
       "      <td>0.042075</td>\n",
       "      <td>0.006140</td>\n",
       "      <td>0.045740</td>\n",
       "      <td>0.017753</td>\n",
       "      <td>majority_black</td>\n",
       "    </tr>\n",
       "    <tr>\n",
       "      <th>3</th>\n",
       "      <td>1003007816</td>\n",
       "      <td>I</td>\n",
       "      <td>20910</td>\n",
       "      <td>MD</td>\n",
       "      <td>US</td>\n",
       "      <td>Ophthalmology</td>\n",
       "      <td>Y</td>\n",
       "      <td>30</td>\n",
       "      <td>3417.0</td>\n",
       "      <td>791</td>\n",
       "      <td>...</td>\n",
       "      <td>South Atlantic</td>\n",
       "      <td>42868.0</td>\n",
       "      <td>0.309042</td>\n",
       "      <td>0.448306</td>\n",
       "      <td>0.002659</td>\n",
       "      <td>0.135416</td>\n",
       "      <td>0.004689</td>\n",
       "      <td>0.067883</td>\n",
       "      <td>0.031539</td>\n",
       "      <td>no_majority</td>\n",
       "    </tr>\n",
       "    <tr>\n",
       "      <th>4</th>\n",
       "      <td>1003007824</td>\n",
       "      <td>I</td>\n",
       "      <td>21201</td>\n",
       "      <td>MD</td>\n",
       "      <td>US</td>\n",
       "      <td>Internal Medicine</td>\n",
       "      <td>Y</td>\n",
       "      <td>22</td>\n",
       "      <td>262.0</td>\n",
       "      <td>72</td>\n",
       "      <td>...</td>\n",
       "      <td>South Atlantic</td>\n",
       "      <td>17136.0</td>\n",
       "      <td>0.498833</td>\n",
       "      <td>0.337768</td>\n",
       "      <td>0.004260</td>\n",
       "      <td>0.039974</td>\n",
       "      <td>0.004785</td>\n",
       "      <td>0.079890</td>\n",
       "      <td>0.034022</td>\n",
       "      <td>no_majority</td>\n",
       "    </tr>\n",
       "  </tbody>\n",
       "</table>\n",
       "<p>5 rows × 33 columns</p>\n",
       "</div>"
      ],
      "text/plain": [
       "          npi entity_code full_zip state country        provider_type  \\\n",
       "0  1003000126           I    21502    MD      US    Internal Medicine   \n",
       "1  1003006586           I    20832    MD      US    Internal Medicine   \n",
       "2  1003006800           I    21202    MD      US  Physician Assistant   \n",
       "3  1003007816           I    20910    MD      US        Ophthalmology   \n",
       "4  1003007824           I    21201    MD      US    Internal Medicine   \n",
       "\n",
       "  medicare_participation_indicator  number_of_hcpcs  number_of_services  \\\n",
       "0                                Y               19              1218.0   \n",
       "1                                Y               16              1293.0   \n",
       "2                                Y                4                58.0   \n",
       "3                                Y               30              3417.0   \n",
       "4                                Y               22               262.0   \n",
       "\n",
       "   total_beneficiaries  ...       subregion  total_pop  percent_black  \\\n",
       "0                  445  ...  South Atlantic    42583.0       0.109645   \n",
       "1                  546  ...  South Atlantic    26448.0       0.108553   \n",
       "2                   12  ...  South Atlantic    21010.0       0.579819   \n",
       "3                  791  ...  South Atlantic    42868.0       0.309042   \n",
       "4                   72  ...  South Atlantic    17136.0       0.498833   \n",
       "\n",
       "   percent_white  percent_native_amer  percent_hispanic  percent_other  \\\n",
       "0       0.839772             0.001573          0.018834       0.001127   \n",
       "1       0.612523             0.003932          0.106360       0.006579   \n",
       "2       0.303475             0.002237          0.042075       0.006140   \n",
       "3       0.448306             0.002659          0.135416       0.004689   \n",
       "4       0.337768             0.004260          0.039974       0.004785   \n",
       "\n",
       "   percent_asian  percent_two_or_more_races        majority  \n",
       "0       0.007327                   0.021464  majority_white  \n",
       "1       0.123299                   0.038755  majority_white  \n",
       "2       0.045740                   0.017753  majority_black  \n",
       "3       0.067883                   0.031539     no_majority  \n",
       "4       0.079890                   0.034022     no_majority  \n",
       "\n",
       "[5 rows x 33 columns]"
      ]
     },
     "execution_count": 13,
     "metadata": {},
     "output_type": "execute_result"
    }
   ],
   "source": [
    "med.head()"
   ]
  },
  {
   "cell_type": "code",
   "execution_count": 14,
   "metadata": {},
   "outputs": [
    {
     "name": "stdout",
     "output_type": "stream",
     "text": [
      "<class 'pandas.core.frame.DataFrame'>\n",
      "Int64Index: 1115360 entries, 0 to 1115359\n",
      "Data columns (total 33 columns):\n",
      " #   Column                               Non-Null Count    Dtype  \n",
      "---  ------                               --------------    -----  \n",
      " 0   npi                                  1115360 non-null  object \n",
      " 1   entity_code                          1115360 non-null  object \n",
      " 2   full_zip                             1115360 non-null  object \n",
      " 3   state                                1115360 non-null  object \n",
      " 4   country                              1115360 non-null  object \n",
      " 5   provider_type                        1115360 non-null  object \n",
      " 6   medicare_participation_indicator     1115360 non-null  object \n",
      " 7   number_of_hcpcs                      1115360 non-null  int64  \n",
      " 8   number_of_services                   1115360 non-null  float64\n",
      " 9   total_beneficiaries                  1115360 non-null  int64  \n",
      " 10  total_submitted_charges              1115360 non-null  float64\n",
      " 11  total_allowed_payment                1115360 non-null  float64\n",
      " 12  total_medicare_payment               1115360 non-null  float64\n",
      " 13  total_medicare_standardized_payment  1115360 non-null  float64\n",
      " 14  avg_beneficiary_age                  1115360 non-null  int64  \n",
      " 15  avg_hcc_risk_score                   1115360 non-null  float64\n",
      " 16  medicare_payment_per_person          1115360 non-null  float64\n",
      " 17  submitted_charges_per_person         1115360 non-null  float64\n",
      " 18  services_per_person                  1115360 non-null  float64\n",
      " 19  submitted_charges_per_service        1115360 non-null  float64\n",
      " 20  medicare_payment_per_service         1115360 non-null  float64\n",
      " 21  percentage_rate                      1115360 non-null  float64\n",
      " 22  region                               1115360 non-null  object \n",
      " 23  subregion                            1115360 non-null  object \n",
      " 24  total_pop                            1072142 non-null  float64\n",
      " 25  percent_black                        1072142 non-null  float64\n",
      " 26  percent_white                        1072142 non-null  float64\n",
      " 27  percent_native_amer                  1072142 non-null  float64\n",
      " 28  percent_hispanic                     1072142 non-null  float64\n",
      " 29  percent_other                        1072142 non-null  float64\n",
      " 30  percent_asian                        1072142 non-null  float64\n",
      " 31  percent_two_or_more_races            1072142 non-null  float64\n",
      " 32  majority                             1072142 non-null  object \n",
      "dtypes: float64(20), int64(3), object(10)\n",
      "memory usage: 289.3+ MB\n"
     ]
    }
   ],
   "source": [
    "med.info()"
   ]
  },
  {
   "cell_type": "code",
   "execution_count": 15,
   "metadata": {},
   "outputs": [
    {
     "data": {
      "text/plain": [
       "0"
      ]
     },
     "execution_count": 15,
     "metadata": {},
     "output_type": "execute_result"
    }
   ],
   "source": [
    "census.geo_id.isin(\n",
    "    med[med.total_pop.isnull()].full_zip\n",
    "        ).sum()"
   ]
  },
  {
   "cell_type": "markdown",
   "metadata": {},
   "source": [
    "There may be new zip codes in 2018 Medicare that the 2018 Census estimates don't know about. Removing these rows with missing Census info."
   ]
  },
  {
   "cell_type": "code",
   "execution_count": 16,
   "metadata": {},
   "outputs": [
    {
     "data": {
      "text/plain": [
       "(1072142, 33)"
      ]
     },
     "execution_count": 16,
     "metadata": {},
     "output_type": "execute_result"
    }
   ],
   "source": [
    "idx = med[med.total_pop.isnull()].index\n",
    "med.drop(index = idx, inplace=True)\n",
    "med.shape"
   ]
  },
  {
   "cell_type": "code",
   "execution_count": 17,
   "metadata": {},
   "outputs": [],
   "source": [
    "med['percentage_rate'] = med['total_medicare_payment'] / med['total_allowed_payment']"
   ]
  },
  {
   "cell_type": "markdown",
   "metadata": {},
   "source": [
    "Creating new classes based on 'percentage_rate' boxplot"
   ]
  },
  {
   "cell_type": "code",
   "execution_count": 18,
   "metadata": {},
   "outputs": [
    {
     "data": {
      "text/plain": [
       "<matplotlib.axes._subplots.AxesSubplot at 0x7fc762e4ac50>"
      ]
     },
     "execution_count": 18,
     "metadata": {},
     "output_type": "execute_result"
    },
    {
     "data": {
      "image/png": "[encoded data removed]",
      "text/plain": [
       "<Figure size 432x288 with 1 Axes>"
      ]
     },
     "metadata": {
      "needs_background": "light"
     },
     "output_type": "display_data"
    }
   ],
   "source": [
    "import seaborn as sns\n",
    "sns.boxplot(med.percentage_rate)"
   ]
  },
  {
   "cell_type": "markdown",
   "metadata": {},
   "source": [
    "Here are the quartiles and maximum."
   ]
  },
  {
   "cell_type": "code",
   "execution_count": 19,
   "metadata": {},
   "outputs": [
    {
     "data": {
      "text/plain": [
       "(0.6362986583267458,\n",
       " 0.7204316820656049,\n",
       " 0.7765203645581776,\n",
       " 0.8606533882970366)"
      ]
     },
     "execution_count": 19,
     "metadata": {},
     "output_type": "execute_result"
    }
   ],
   "source": [
    "first = np.quantile(med.percentage_rate, 0.25)\n",
    "third = np.quantile(med.percentage_rate, 0.75)\n",
    "high_cutoff = third + 1.5 * (third - first)\n",
    "low_cutoff = first - 1.5 * (third - first)\n",
    "low_cutoff, first, third, high_cutoff"
   ]
  },
  {
   "cell_type": "markdown",
   "metadata": {},
   "source": [
    "Creating payrate_level classes. Low is in the first quartile. Medium is in the IQR. High is in the fourth quartile. Very High includes the high outliers."
   ]
  },
  {
   "cell_type": "code",
   "execution_count": 20,
   "metadata": {},
   "outputs": [],
   "source": [
    "med['payrate_level'] = 'xx'\n",
    "med.loc[med.percentage_rate < low_cutoff, 'payrate_level'] = 'very low'\n",
    "med.loc[med.percentage_rate >= low_cutoff, 'payrate_level'] = 'low'\n",
    "med.loc[med.percentage_rate >= first, 'payrate_level'] = 'medium'\n",
    "med.loc[med.percentage_rate >= third, 'payrate_level'] = 'high'\n",
    "med.loc[med.percentage_rate >= high_cutoff, 'payrate_level'] = 'very high'"
   ]
  },
  {
   "cell_type": "code",
   "execution_count": 21,
   "metadata": {},
   "outputs": [
    {
     "data": {
      "text/plain": [
       "medium       536070\n",
       "low          214559\n",
       "high         209248\n",
       "very high     58788\n",
       "very low      53477\n",
       "Name: payrate_level, dtype: int64"
      ]
     },
     "execution_count": 21,
     "metadata": {},
     "output_type": "execute_result"
    }
   ],
   "source": [
    "med.payrate_level.value_counts()"
   ]
  },
  {
   "cell_type": "code",
   "execution_count": 22,
   "metadata": {},
   "outputs": [
    {
     "data": {
      "text/plain": [
       "Index(['npi', 'entity_code', 'full_zip', 'state', 'country', 'provider_type',\n",
       "       'medicare_participation_indicator', 'number_of_hcpcs',\n",
       "       'number_of_services', 'total_beneficiaries', 'total_submitted_charges',\n",
       "       'total_allowed_payment', 'total_medicare_payment',\n",
       "       'total_medicare_standardized_payment', 'avg_beneficiary_age',\n",
       "       'avg_hcc_risk_score', 'medicare_payment_per_person',\n",
       "       'submitted_charges_per_person', 'services_per_person',\n",
       "       'submitted_charges_per_service', 'medicare_payment_per_service',\n",
       "       'percentage_rate', 'region', 'subregion', 'total_pop', 'percent_black',\n",
       "       'percent_white', 'percent_native_amer', 'percent_hispanic',\n",
       "       'percent_other', 'percent_asian', 'percent_two_or_more_races',\n",
       "       'majority', 'payrate_level'],\n",
       "      dtype='object')"
      ]
     },
     "execution_count": 22,
     "metadata": {},
     "output_type": "execute_result"
    }
   ],
   "source": [
    "med.columns"
   ]
  },
  {
   "cell_type": "markdown",
   "metadata": {},
   "source": [
    "I want to focus only on the percentage Medicare paid of the submitted charges to look for patterns in this rate that may have unintended correlations with demographics. Leaving actual payments in will make the model too good at predicting payrates."
   ]
  },
  {
   "cell_type": "code",
   "execution_count": 23,
   "metadata": {},
   "outputs": [
    {
     "data": {
      "text/plain": [
       "Index(['medicare_participation_indicator', 'total_medicare_payment',\n",
       "       'total_medicare_standardized_payment', 'medicare_payment_per_person',\n",
       "       'medicare_payment_per_service'],\n",
       "      dtype='object')"
      ]
     },
     "execution_count": 23,
     "metadata": {},
     "output_type": "execute_result"
    }
   ],
   "source": [
    "med.columns[med.columns.str.contains('medicare')]"
   ]
  },
  {
   "cell_type": "code",
   "execution_count": 24,
   "metadata": {},
   "outputs": [
    {
     "data": {
      "text/plain": [
       "Index(['entity_code', 'full_zip', 'state', 'provider_type',\n",
       "       'medicare_participation_indicator', 'number_of_hcpcs',\n",
       "       'number_of_services', 'total_beneficiaries', 'total_submitted_charges',\n",
       "       'avg_beneficiary_age', 'avg_hcc_risk_score',\n",
       "       'submitted_charges_per_person', 'services_per_person',\n",
       "       'submitted_charges_per_service', 'region', 'subregion', 'total_pop',\n",
       "       'percent_black', 'percent_white', 'percent_native_amer',\n",
       "       'percent_hispanic', 'percent_other', 'percent_asian',\n",
       "       'percent_two_or_more_races', 'majority', 'payrate_level'],\n",
       "      dtype='object')"
      ]
     },
     "execution_count": 24,
     "metadata": {},
     "output_type": "execute_result"
    }
   ],
   "source": [
    "cols = list(med.columns[med.columns.str.contains('medicare')][1:])\n",
    "cols = cols + ['npi','country', 'percentage_rate','total_allowed_payment']\n",
    "df = med.drop(columns = cols)\n",
    "df.columns"
   ]
  },
  {
   "cell_type": "markdown",
   "metadata": {},
   "source": [
    "Taking out zips before I one-hot-encode. Keeping them in may be useful for controlling for location / cost of living, but will also increase performance time."
   ]
  },
  {
   "cell_type": "code",
   "execution_count": 25,
   "metadata": {},
   "outputs": [],
   "source": [
    "y = df['payrate_level']\n",
    "X = pd.get_dummies(df.drop(columns=['payrate_level','full_zip']))"
   ]
  },
  {
   "cell_type": "code",
   "execution_count": 26,
   "metadata": {},
   "outputs": [
    {
     "data": {
      "text/plain": [
       "['entity_code',\n",
       " 'full_zip',\n",
       " 'state',\n",
       " 'provider_type',\n",
       " 'medicare_participation_indicator',\n",
       " 'region',\n",
       " 'subregion',\n",
       " 'majority',\n",
       " 'payrate_level']"
      ]
     },
     "execution_count": 26,
     "metadata": {},
     "output_type": "execute_result"
    }
   ],
   "source": [
    "list(df.select_dtypes('object').columns)"
   ]
  },
  {
   "cell_type": "markdown",
   "metadata": {},
   "source": [
    "##### Scaling and Trying Chi2 Test on Different Variables"
   ]
  },
  {
   "cell_type": "markdown",
   "metadata": {},
   "source": [
    "Should I scale % columns or not? They have high Chi2 either way."
   ]
  },
  {
   "cell_type": "code",
   "execution_count": 27,
   "metadata": {},
   "outputs": [],
   "source": [
    "from sklearn.preprocessing import MinMaxScaler\n",
    "scaler = MinMaxScaler()\n",
    "z = df.drop(columns = list(df.select_dtypes('object').columns))\n",
    "for i in z.columns:\n",
    "    z[i] = scaler.fit_transform(np.array(df[i]).reshape(-1,1))"
   ]
  },
  {
   "cell_type": "markdown",
   "metadata": {},
   "source": [
    "##### Doing Chi Square test for Z with dummy columns"
   ]
  },
  {
   "cell_type": "code",
   "execution_count": 28,
   "metadata": {},
   "outputs": [],
   "source": [
    "dum_cols = ['entity_code',\n",
    " 'state',\n",
    " 'provider_type',\n",
    " 'region',\n",
    " 'subregion',\n",
    " 'majority']"
   ]
  },
  {
   "cell_type": "code",
   "execution_count": 29,
   "metadata": {},
   "outputs": [
    {
     "data": {
      "text/plain": [
       "Index(['number_of_hcpcs', 'number_of_services', 'total_beneficiaries',\n",
       "       'total_submitted_charges', 'avg_beneficiary_age', 'avg_hcc_risk_score',\n",
       "       'submitted_charges_per_person', 'services_per_person',\n",
       "       'submitted_charges_per_service', 'total_pop', 'percent_black',\n",
       "       'percent_white', 'percent_native_amer', 'percent_hispanic',\n",
       "       'percent_other', 'percent_asian', 'percent_two_or_more_races'],\n",
       "      dtype='object')"
      ]
     },
     "execution_count": 29,
     "metadata": {},
     "output_type": "execute_result"
    }
   ],
   "source": [
    "z.columns"
   ]
  },
  {
   "cell_type": "code",
   "execution_count": 30,
   "metadata": {},
   "outputs": [],
   "source": [
    "z = pd.get_dummies(pd.concat([z, df[dum_cols]], axis=1))"
   ]
  },
  {
   "cell_type": "code",
   "execution_count": null,
   "metadata": {},
   "outputs": [],
   "source": [
    "from scipy.stats import chisquare\n",
    "chis = []\n",
    "for i in z.columns:\n",
    "    j = chisquare(np.array(z[i]).reshape(-1,1), y)\n",
    "    chis.append(j)"
   ]
  },
  {
   "cell_type": "code",
   "execution_count": null,
   "metadata": {},
   "outputs": [],
   "source": [
    "chis"
   ]
  },
  {
   "cell_type": "code",
   "execution_count": 33,
   "metadata": {},
   "outputs": [
    {
     "ename": "TypeError",
     "evalue": "'rv_frozen' object is not subscriptable",
     "output_type": "error",
     "traceback": [
      "\u001b[0;31m---------------------------------------------------------------------------\u001b[0m",
      "\u001b[0;31mTypeError\u001b[0m                                 Traceback (most recent call last)",
      "\u001b[0;32m<ipython-input-33-c63b9d6b849c>\u001b[0m in \u001b[0;36m<module>\u001b[0;34m\u001b[0m\n\u001b[1;32m      1\u001b[0m \u001b[0mpd\u001b[0m\u001b[0;34m.\u001b[0m\u001b[0moptions\u001b[0m\u001b[0;34m.\u001b[0m\u001b[0mdisplay\u001b[0m\u001b[0;34m.\u001b[0m\u001b[0mmax_rows\u001b[0m \u001b[0;34m=\u001b[0m \u001b[0;36m100\u001b[0m\u001b[0;34m\u001b[0m\u001b[0;34m\u001b[0m\u001b[0m\n\u001b[1;32m      2\u001b[0m pd.DataFrame({'features': list(z.columns),\n\u001b[0;32m----> 3\u001b[0;31m              \u001b[0;34m'chi2'\u001b[0m\u001b[0;34m:\u001b[0m \u001b[0;34m[\u001b[0m\u001b[0mi\u001b[0m\u001b[0;34m[\u001b[0m\u001b[0;36m0\u001b[0m\u001b[0;34m]\u001b[0m\u001b[0;34m[\u001b[0m\u001b[0;36m0\u001b[0m\u001b[0;34m]\u001b[0m \u001b[0;32mfor\u001b[0m \u001b[0mi\u001b[0m \u001b[0;32min\u001b[0m \u001b[0mchis\u001b[0m\u001b[0;34m]\u001b[0m\u001b[0;34m,\u001b[0m\u001b[0;34m\u001b[0m\u001b[0;34m\u001b[0m\u001b[0m\n\u001b[0m\u001b[1;32m      4\u001b[0m              \u001b[0;34m'p_values'\u001b[0m\u001b[0;34m:\u001b[0m \u001b[0;34m[\u001b[0m\u001b[0mi\u001b[0m\u001b[0;34m[\u001b[0m\u001b[0;36m1\u001b[0m\u001b[0;34m]\u001b[0m\u001b[0;34m[\u001b[0m\u001b[0;36m0\u001b[0m\u001b[0;34m]\u001b[0m \u001b[0;32mfor\u001b[0m \u001b[0mi\u001b[0m \u001b[0;32min\u001b[0m \u001b[0mchis\u001b[0m\u001b[0;34m]\u001b[0m\u001b[0;34m\u001b[0m\u001b[0;34m\u001b[0m\u001b[0m\n\u001b[1;32m      5\u001b[0m              }).sort_values('chi2', ascending=False).head(10)\n",
      "\u001b[0;32m<ipython-input-33-c63b9d6b849c>\u001b[0m in \u001b[0;36m<listcomp>\u001b[0;34m(.0)\u001b[0m\n\u001b[1;32m      1\u001b[0m \u001b[0mpd\u001b[0m\u001b[0;34m.\u001b[0m\u001b[0moptions\u001b[0m\u001b[0;34m.\u001b[0m\u001b[0mdisplay\u001b[0m\u001b[0;34m.\u001b[0m\u001b[0mmax_rows\u001b[0m \u001b[0;34m=\u001b[0m \u001b[0;36m100\u001b[0m\u001b[0;34m\u001b[0m\u001b[0;34m\u001b[0m\u001b[0m\n\u001b[1;32m      2\u001b[0m pd.DataFrame({'features': list(z.columns),\n\u001b[0;32m----> 3\u001b[0;31m              \u001b[0;34m'chi2'\u001b[0m\u001b[0;34m:\u001b[0m \u001b[0;34m[\u001b[0m\u001b[0mi\u001b[0m\u001b[0;34m[\u001b[0m\u001b[0;36m0\u001b[0m\u001b[0;34m]\u001b[0m\u001b[0;34m[\u001b[0m\u001b[0;36m0\u001b[0m\u001b[0;34m]\u001b[0m \u001b[0;32mfor\u001b[0m \u001b[0mi\u001b[0m \u001b[0;32min\u001b[0m \u001b[0mchis\u001b[0m\u001b[0;34m]\u001b[0m\u001b[0;34m,\u001b[0m\u001b[0;34m\u001b[0m\u001b[0;34m\u001b[0m\u001b[0m\n\u001b[0m\u001b[1;32m      4\u001b[0m              \u001b[0;34m'p_values'\u001b[0m\u001b[0;34m:\u001b[0m \u001b[0;34m[\u001b[0m\u001b[0mi\u001b[0m\u001b[0;34m[\u001b[0m\u001b[0;36m1\u001b[0m\u001b[0;34m]\u001b[0m\u001b[0;34m[\u001b[0m\u001b[0;36m0\u001b[0m\u001b[0;34m]\u001b[0m \u001b[0;32mfor\u001b[0m \u001b[0mi\u001b[0m \u001b[0;32min\u001b[0m \u001b[0mchis\u001b[0m\u001b[0;34m]\u001b[0m\u001b[0;34m\u001b[0m\u001b[0;34m\u001b[0m\u001b[0m\n\u001b[1;32m      5\u001b[0m              }).sort_values('chi2', ascending=False).head(10)\n",
      "\u001b[0;31mTypeError\u001b[0m: 'rv_frozen' object is not subscriptable"
     ]
    }
   ],
   "source": [
    "pd.options.display.max_rows = 100\n",
    "pd.DataFrame({'features': list(z.columns),\n",
    "             'chi2': [i[0][0] for i in chis],\n",
    "             'p_values': [i[1][0] for i in chis]\n",
    "             }).sort_values('chi2', ascending=False).head(10)"
   ]
  },
  {
   "cell_type": "markdown",
   "metadata": {},
   "source": [
    "##### Checking with Select K Best"
   ]
  },
  {
   "cell_type": "code",
   "execution_count": 37,
   "metadata": {},
   "outputs": [
    {
     "data": {
      "text/plain": [
       "Index(['provider_type_Mass Immunizer Roster Biller', 'entity_code_O',\n",
       "       'provider_type_Centralized Flu', 'provider_type_Optometry',\n",
       "       'provider_type_Certified Registered Nurse Anesthetist (CRNA)',\n",
       "       'provider_type_Chiropractic', 'provider_type_Anesthesiology',\n",
       "       'entity_code_I', 'provider_type_Clinical Laboratory',\n",
       "       'provider_type_Registered Dietitian or Nutrition Professional',\n",
       "       'provider_type_Physical Therapist in Private Practice',\n",
       "       'provider_type_Family Practice', 'provider_type_Pharmacy',\n",
       "       'provider_type_Nurse Practitioner',\n",
       "       'provider_type_Ambulance Service Provider',\n",
       "       'provider_type_Orthopedic Surgery', 'provider_type_Podiatry',\n",
       "       'provider_type_Dermatology', 'provider_type_Emergency Medicine',\n",
       "       'provider_type_General Surgery'],\n",
       "      dtype='object')"
      ]
     },
     "execution_count": 37,
     "metadata": {},
     "output_type": "execute_result"
    }
   ],
   "source": [
    "z_feats = SelectKBest(chi2, k=20).fit(z, y)\n",
    "z.columns[z_feats.scores_.argsort()[::-1]][:20]"
   ]
  },
  {
   "cell_type": "code",
   "execution_count": 94,
   "metadata": {},
   "outputs": [],
   "source": [
    "pd.Series(z.columns[z_feats.scores_.argsort()[::-1]][:20]).to_csv('../data/interim/kbest_features20.csv')\n",
    "pd.Series(z.columns[z_feats.scores_.argsort()[::-1]][:40]).to_csv('../data/interim/kbest_features40.csv')"
   ]
  },
  {
   "cell_type": "markdown",
   "metadata": {},
   "source": [
    "# Ridge Regression"
   ]
  },
  {
   "cell_type": "code",
   "execution_count": 75,
   "metadata": {},
   "outputs": [
    {
     "data": {
      "text/plain": [
       "Index(['number_of_hcpcs', 'number_of_services', 'total_beneficiaries',\n",
       "       'total_submitted_charges', 'avg_beneficiary_age', 'avg_hcc_risk_score',\n",
       "       'submitted_charges_per_person', 'services_per_person',\n",
       "       'submitted_charges_per_service', 'total_pop',\n",
       "       ...\n",
       "       'subregion_Pacific', 'subregion_South Atlantic',\n",
       "       'subregion_West North Central', 'subregion_West South Central',\n",
       "       'majority_majority_asian', 'majority_majority_black',\n",
       "       'majority_majority_hispanic', 'majority_majority_native_amer',\n",
       "       'majority_majority_white', 'majority_no_majority'],\n",
       "      dtype='object', length=190)"
      ]
     },
     "execution_count": 75,
     "metadata": {},
     "output_type": "execute_result"
    }
   ],
   "source": [
    "X.columns"
   ]
  },
  {
   "cell_type": "code",
   "execution_count": 79,
   "metadata": {},
   "outputs": [
    {
     "data": {
      "text/plain": [
       "0    0.780603\n",
       "1    0.777055\n",
       "2    0.531789\n",
       "3    0.714377\n",
       "4    0.695913\n",
       "dtype: float64"
      ]
     },
     "execution_count": 79,
     "metadata": {},
     "output_type": "execute_result"
    }
   ],
   "source": [
    "y = med.total_medicare_payment / med.total_allowed_payment\n",
    "y.head()"
   ]
  },
  {
   "cell_type": "code",
   "execution_count": 80,
   "metadata": {},
   "outputs": [
    {
     "data": {
      "text/plain": [
       "Text(0.5, 1.0, 'Feature Importances for Ridge Regression')"
      ]
     },
     "execution_count": 80,
     "metadata": {},
     "output_type": "execute_result"
    },
    {
     "data": {
      "image/png": "[encoded data removed]",
      "text/plain": [
       "<Figure size 1332x756 with 1 Axes>"
      ]
     },
     "metadata": {
      "needs_background": "light"
     },
     "output_type": "display_data"
    }
   ],
   "source": [
    "from sklearn.linear_model import Ridge\n",
    "\n",
    "ridge = Ridge(normalize=True)\n",
    "# Fit the regressor to the data\n",
    "ridge.fit(X,y)\n",
    "\n",
    "plt.figure(figsize=(50,50))\n",
    "\n",
    "\n",
    "feat_importances = pd.Series(ridge.coef_, index=X.columns)\n",
    "feat_importances.nlargest(20).sort_values().plot(kind='barh')\n",
    "\n",
    "fig = plt.gcf()\n",
    "fig.set_size_inches(18.5, 10.5)\n",
    "font = {'size'   : 15}\n",
    "plt.rc('ytick', labelsize=15) \n",
    "plt.rc('font', **font)\n",
    "plt.title('Feature Importances for Ridge Regression')\n",
    "#plt.savefig('../reports/figures/featurebarchart.png')\n"
   ]
  },
  {
   "cell_type": "code",
   "execution_count": 92,
   "metadata": {},
   "outputs": [
    {
     "data": {
      "text/plain": [
       "provider_type_Registered Dietitian or Nutrition Professional    0.090226\n",
       "provider_type_Medicare Diabetes Preventive Program              0.077150\n",
       "provider_type_Mass Immunizer Roster Biller                      0.076272\n",
       "provider_type_Centralized Flu                                   0.075123\n",
       "provider_type_Public Health or Welfare Agency                   0.074401\n",
       "provider_type_Pharmacy                                          0.067567\n",
       "provider_type_Mammography Center                                0.062118\n",
       "percent_other                                                   0.049017\n",
       "provider_type_Clinical Laboratory                               0.048345\n",
       "entity_code_O                                                   0.044596\n",
       "provider_type_All Other Suppliers                               0.043606\n",
       "provider_type_Clinic or Group Practice                          0.016563\n",
       "provider_type_Certified Registered Nurse Anesthetist (CRNA)     0.016373\n",
       "provider_type_Medical Genetics and Genomics                     0.015969\n",
       "provider_type_Certified Nurse Midwife                           0.015774\n",
       "provider_type_Anesthesiology Assistant                          0.015253\n",
       "provider_type_Anesthesiology                                    0.014109\n",
       "provider_type_Radiation Oncology                                0.013015\n",
       "provider_type_Unknown Supplier/Provider Specialty               0.011649\n",
       "provider_type_Pathology                                         0.010959\n",
       "dtype: float64"
      ]
     },
     "execution_count": 92,
     "metadata": {},
     "output_type": "execute_result"
    }
   ],
   "source": [
    "feat_importances = pd.Series(ridge.coef_, index=X.columns)\n",
    "feat_importances.nlargest(20).sort_values(ascending=False)"
   ]
  },
  {
   "cell_type": "code",
   "execution_count": 95,
   "metadata": {},
   "outputs": [],
   "source": [
    "feat_importances.nlargest(20).sort_values(ascending=False).to_csv('../data/interim/ridge_features20.csv')\n",
    "feat_importances.nlargest(40).sort_values(ascending=False).to_csv('../data/interim/ridge_features40.csv')"
   ]
  },
  {
   "cell_type": "code",
   "execution_count": 81,
   "metadata": {},
   "outputs": [
    {
     "data": {
      "text/plain": [
       "Text(0.5, 1.0, 'Feature Importances for Lasso Regression')"
      ]
     },
     "execution_count": 81,
     "metadata": {},
     "output_type": "execute_result"
    },
    {
     "data": {
      "image/png": "[encoded data removed]",
      "text/plain": [
       "<Figure size 1332x756 with 1 Axes>"
      ]
     },
     "metadata": {
      "needs_background": "light"
     },
     "output_type": "display_data"
    }
   ],
   "source": [
    "from sklearn.linear_model import Lasso\n",
    "\n",
    "lasso = Lasso()\n",
    "# Fit the regressor to the data\n",
    "lasso.fit(X,y)\n",
    "\n",
    "plt.figure(figsize=(50,50))\n",
    "\n",
    "\n",
    "feat_importances = pd.Series(lasso.coef_, index=X.columns)\n",
    "feat_importances.nlargest(20).sort_values().plot(kind='barh')\n",
    "\n",
    "fig = plt.gcf()\n",
    "fig.set_size_inches(18.5, 10.5)\n",
    "font = {'size'   : 15}\n",
    "plt.rc('ytick', labelsize=15) \n",
    "plt.rc('font', **font)\n",
    "plt.title('Feature Importances for Lasso Regression')\n",
    "#plt.savefig('../reports/figures/featurebarchart.png')\n",
    "\n"
   ]
  },
  {
   "cell_type": "code",
   "execution_count": null,
   "metadata": {},
   "outputs": [],
   "source": []
  }
 ],
 "metadata": {
  "kernelspec": {
   "display_name": "Python 3",
   "language": "python",
   "name": "python3"
  },
  "language_info": {
   "codemirror_mode": {
    "name": "ipython",
    "version": 3
   },
   "file_extension": ".py",
   "mimetype": "text/x-python",
   "name": "python",
   "nbconvert_exporter": "python",
   "pygments_lexer": "ipython3",
   "version": "3.7.7"
  }
 },
 "nbformat": 4,
 "nbformat_minor": 4
}
